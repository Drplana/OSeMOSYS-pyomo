{
 "cells": [
  {
   "cell_type": "code",
   "execution_count": 24,
   "id": "3b39e9a6",
   "metadata": {},
   "outputs": [],
   "source": [
    "import pandas as pd\n",
    "import matplotlib.pyplot as plt\n",
    "import numpy as np"
   ]
  },
  {
   "cell_type": "code",
   "execution_count": 87,
   "id": "e304b8f4",
   "metadata": {},
   "outputs": [
    {
     "data": {
      "text/html": [
       "<div>\n",
       "<style scoped>\n",
       "    .dataframe tbody tr th:only-of-type {\n",
       "        vertical-align: middle;\n",
       "    }\n",
       "\n",
       "    .dataframe tbody tr th {\n",
       "        vertical-align: top;\n",
       "    }\n",
       "\n",
       "    .dataframe thead th {\n",
       "        text-align: right;\n",
       "    }\n",
       "</style>\n",
       "<table border=\"1\" class=\"dataframe\">\n",
       "  <thead>\n",
       "    <tr style=\"text-align: right;\">\n",
       "      <th>YEAR</th>\n",
       "      <th>2015</th>\n",
       "      <th>2020</th>\n",
       "      <th>2025</th>\n",
       "      <th>2030</th>\n",
       "      <th>2040</th>\n",
       "      <th>2050</th>\n",
       "    </tr>\n",
       "  </thead>\n",
       "  <tbody>\n",
       "    <tr>\n",
       "      <th>LFO</th>\n",
       "      <td>15.89</td>\n",
       "      <td>14.75</td>\n",
       "      <td>15.43</td>\n",
       "      <td>17.25</td>\n",
       "      <td>20.43</td>\n",
       "      <td>23.61</td>\n",
       "    </tr>\n",
       "    <tr>\n",
       "      <th>HFO</th>\n",
       "      <td>9.56</td>\n",
       "      <td>8.87</td>\n",
       "      <td>9.28</td>\n",
       "      <td>10.38</td>\n",
       "      <td>12.29</td>\n",
       "      <td>14.20</td>\n",
       "    </tr>\n",
       "    <tr>\n",
       "      <th>NG</th>\n",
       "      <td>3.76</td>\n",
       "      <td>4.65</td>\n",
       "      <td>5.54</td>\n",
       "      <td>6.43</td>\n",
       "      <td>8.22</td>\n",
       "      <td>10.01</td>\n",
       "    </tr>\n",
       "  </tbody>\n",
       "</table>\n",
       "</div>"
      ],
      "text/plain": [
       "YEAR   2015   2020   2025   2030   2040   2050\n",
       "LFO   15.89  14.75  15.43  17.25  20.43  23.61\n",
       "HFO    9.56   8.87   9.28  10.38  12.29  14.20\n",
       "NG     3.76   4.65   5.54   6.43   8.22  10.01"
      ]
     },
     "execution_count": 87,
     "metadata": {},
     "output_type": "execute_result"
    }
   ],
   "source": [
    "\"Variable Costs\"\n",
    "data = {'YEAR':[2015, 2020, 2025, 2030, 2040, 2050],\n",
    "        'LFO':[15.89 , 14.75, 15.43, 17.25 ,20.43, 23.61],\n",
    "        'HFO':[9.56, 8.87, 9.28, 10.38, 12.29, 14.2],\n",
    "        'NG' :[3.76, 4.65, 5.54, 6.43, 8.22, 10.01]\n",
    "       \n",
    "       }\n",
    "data = pd.DataFrame(data)\n",
    "data.set_index('YEAR').T"
   ]
  },
  {
   "cell_type": "code",
   "execution_count": 88,
   "id": "4bbb869b",
   "metadata": {},
   "outputs": [
    {
     "data": {
      "text/plain": [
       "array([[0],\n",
       "       [1],\n",
       "       [2],\n",
       "       [3],\n",
       "       [4],\n",
       "       [5]], dtype=int64)"
      ]
     },
     "execution_count": 88,
     "metadata": {},
     "output_type": "execute_result"
    }
   ],
   "source": [
    "xf = data.index.values\n",
    "xf.reshape(-1,1) # (6,1) "
   ]
  },
  {
   "cell_type": "code",
   "execution_count": 89,
   "id": "a0769a6d",
   "metadata": {},
   "outputs": [
    {
     "data": {
      "image/png": "[encoded data removed]",
      "text/plain": [
       "<Figure size 640x480 with 1 Axes>"
      ]
     },
     "metadata": {},
     "output_type": "display_data"
    }
   ],
   "source": [
    "x = data[['YEAR']].values\n",
    "# x = xf.reshape(-1,1)\n",
    "LFO = data['LFO'].values\n",
    "HFO = data['HFO'].values\n",
    "plt.scatter(x,LFO)\n",
    "plt.show()"
   ]
  },
  {
   "cell_type": "code",
   "execution_count": 90,
   "id": "f7aafbe7",
   "metadata": {},
   "outputs": [
    {
     "data": {
      "text/plain": [
       "array([[2015],\n",
       "       [2020],\n",
       "       [2025],\n",
       "       [2030],\n",
       "       [2040],\n",
       "       [2050]], dtype=int64)"
      ]
     },
     "execution_count": 90,
     "metadata": {},
     "output_type": "execute_result"
    }
   ],
   "source": [
    "x"
   ]
  },
  {
   "cell_type": "code",
   "execution_count": 91,
   "id": "6df76437",
   "metadata": {},
   "outputs": [
    {
     "ename": "NameError",
     "evalue": "name 'y' is not defined",
     "output_type": "error",
     "traceback": [
      "\u001b[1;31m---------------------------------------------------------------------------\u001b[0m",
      "\u001b[1;31mNameError\u001b[0m                                 Traceback (most recent call last)",
      "Cell \u001b[1;32mIn[91], line 6\u001b[0m\n\u001b[0;32m      3\u001b[0m model\u001b[38;5;241m.\u001b[39mfit(x,LFO)\n\u001b[0;32m      4\u001b[0m y_pred \u001b[38;5;241m=\u001b[39m model\u001b[38;5;241m.\u001b[39mpredict(x)\n\u001b[1;32m----> 6\u001b[0m plt\u001b[38;5;241m.\u001b[39mscatter(x,\u001b[43my\u001b[49m,color \u001b[38;5;241m=\u001b[39m \u001b[38;5;124m'\u001b[39m\u001b[38;5;124mblue\u001b[39m\u001b[38;5;124m'\u001b[39m)\n\u001b[0;32m      7\u001b[0m plt\u001b[38;5;241m.\u001b[39mplot(x,y_pred, color\u001b[38;5;241m=\u001b[39m \u001b[38;5;124m'\u001b[39m\u001b[38;5;124mr\u001b[39m\u001b[38;5;124m'\u001b[39m)\n",
      "\u001b[1;31mNameError\u001b[0m: name 'y' is not defined"
     ]
    }
   ],
   "source": [
    "from sklearn.linear_model import LinearRegression\n",
    "model = LinearRegression()\n",
    "model.fit(x,LFO)\n",
    "y_pred = model.predict(x)\n",
    "\n",
    "plt.scatter(x,LFO,color = 'blue')\n",
    "plt.plot(x,y_pred, color= 'r')"
   ]
  },
  {
   "cell_type": "code",
   "execution_count": 92,
   "id": "f4f2e682",
   "metadata": {},
   "outputs": [
    {
     "data": {
      "image/png": "[encoded data removed]",
      "text/plain": [
       "<Figure size 640x480 with 1 Axes>"
      ]
     },
     "metadata": {},
     "output_type": "display_data"
    }
   ],
   "source": [
    "from sklearn.preprocessing import PolynomialFeatures\n",
    "\n",
    "poly = PolynomialFeatures(degree = 3)\n",
    "x_poly = poly.fit_transform(x)\n",
    "model1 = LinearRegression()\n",
    "model1.fit(x_poly, LFO)\n",
    "y_pred1 = model1.predict(x_poly)\n",
    "\n",
    "plt.scatter(x,LFO, color = 'blue')\n",
    "plt.plot(x, y_pred1, color = 'red')\n",
    "plt.show()"
   ]
  },
  {
   "cell_type": "code",
   "execution_count": 93,
   "id": "48c6a1bb",
   "metadata": {},
   "outputs": [
    {
     "data": {
      "text/plain": [
       "2.8947578764067825"
      ]
     },
     "execution_count": 93,
     "metadata": {},
     "output_type": "execute_result"
    }
   ],
   "source": [
    "model1.coef_[2]"
   ]
  },
  {
   "cell_type": "code",
   "execution_count": 94,
   "id": "c5911a1c",
   "metadata": {},
   "outputs": [
    {
     "name": "stdout",
     "output_type": "stream",
     "text": [
      "Equation of the Fitted Polynomial: y = 0.00 + -5896.002955x^1 + 2.894758x^2 + -0.000474x^3 + 4002716.35\n"
     ]
    }
   ],
   "source": [
    "coefficients = model1.coef_\n",
    "intercept = model1.intercept_\n",
    "# Use the coefficients to form the equation of the fitted polynomial\n",
    "equation = \"y = \"\n",
    "for i in range(len(coefficients)):\n",
    "    if i == 0:\n",
    "        equation += f\"{coefficients[i]:.2f}\"\n",
    "    else:\n",
    "        equation += f\" + {coefficients[i]:.6f}x^{i}\"\n",
    "\n",
    "equation += f\" + {intercept:.2f}\"\n",
    "print(\"Equation of the Fitted Polynomial:\", equation)"
   ]
  },
  {
   "cell_type": "code",
   "execution_count": 95,
   "id": "538640e7",
   "metadata": {},
   "outputs": [],
   "source": [
    "values = []\n",
    "for i in list(range(2019,2051)):\n",
    "   values.append(i**3*model1.coef_[3] + i**2*model1.coef_[2]+i*model1.coef_[1]+ model1.intercept_) "
   ]
  },
  {
   "cell_type": "code",
   "execution_count": 96,
   "id": "4a9cbb5f",
   "metadata": {},
   "outputs": [],
   "source": [
    "def fuelprices(year, fuel_data):\n",
    "    x = data[['YEAR']].values\n",
    "    fuel = fuel_data\n",
    "    poly = PolynomialFeatures(degree = 3)\n",
    "    x_poly = poly.fit_transform(x)\n",
    "    model = LinearRegression()\n",
    "    model.fit(x_poly, fuel)\n",
    "    y_pred = model1.predict(x_poly)\n",
    "    values = []\n",
    "    for i in list(range(2019,2051)):\n",
    "        values.append(i**3*model.coef_[3] + i**2*model.coef_[2]+i*model.coef_[1]+ model.intercept_) \n",
    "    return  values\n",
    "    \n"
   ]
  },
  {
   "cell_type": "code",
   "execution_count": 97,
   "id": "6054fd20",
   "metadata": {},
   "outputs": [],
   "source": [
    "excel = []\n",
    "for fuel in data.columns[1:]:\n",
    "#     pd.DataFrame(fuelprices(data[['YEAR']].values,data[fuel] )).to_excel(fuel+'.xlsx')\n",
    "    pd.DataFrame(fuelprices(data[['YEAR']].values,data[fuel] ))"
   ]
  },
  {
   "cell_type": "code",
   "execution_count": 98,
   "id": "5ca77a23",
   "metadata": {},
   "outputs": [],
   "source": [
    "consolidated_dfs = []  # Initialize an empty list to store the DataFrames\n",
    "\n",
    "# Iterating through the columns and creating DataFrames\n",
    "for fuel in data.columns[1:]:  # Assuming the columns contain fuel data\n",
    "    # Assuming 'fuelprices' is a function that returns a DataFrame\n",
    "    fuel_df = pd.DataFrame(fuelprices(data[['YEAR']].values, data[fuel]))\n",
    "    consolidated_dfs.append(fuel_df)  # Append the DataFrame to the list\n",
    "\n",
    "# Consolidate the DataFrames into a single DataFrame\n",
    "final_df = pd.concat(consolidated_dfs, axis = 1)\n",
    "final_df.columns= (data.columns[1:])"
   ]
  },
  {
   "cell_type": "code",
   "execution_count": 99,
   "id": "4da1a3ea",
   "metadata": {},
   "outputs": [
    {
     "data": {
      "text/html": [
       "<div>\n",
       "<style scoped>\n",
       "    .dataframe tbody tr th:only-of-type {\n",
       "        vertical-align: middle;\n",
       "    }\n",
       "\n",
       "    .dataframe tbody tr th {\n",
       "        vertical-align: top;\n",
       "    }\n",
       "\n",
       "    .dataframe thead th {\n",
       "        text-align: right;\n",
       "    }\n",
       "</style>\n",
       "<table border=\"1\" class=\"dataframe\">\n",
       "  <thead>\n",
       "    <tr style=\"text-align: right;\">\n",
       "      <th></th>\n",
       "      <th>LFO</th>\n",
       "      <th>HFO</th>\n",
       "      <th>NG</th>\n",
       "    </tr>\n",
       "  </thead>\n",
       "  <tbody>\n",
       "    <tr>\n",
       "      <th>0</th>\n",
       "      <td>15.068146</td>\n",
       "      <td>9.063264</td>\n",
       "      <td>4.471216</td>\n",
       "    </tr>\n",
       "    <tr>\n",
       "      <th>1</th>\n",
       "      <td>15.032704</td>\n",
       "      <td>9.041803</td>\n",
       "      <td>4.649090</td>\n",
       "    </tr>\n",
       "    <tr>\n",
       "      <th>2</th>\n",
       "      <td>15.045362</td>\n",
       "      <td>9.049348</td>\n",
       "      <td>4.827038</td>\n",
       "    </tr>\n",
       "    <tr>\n",
       "      <th>3</th>\n",
       "      <td>15.103278</td>\n",
       "      <td>9.084181</td>\n",
       "      <td>5.005057</td>\n",
       "    </tr>\n",
       "    <tr>\n",
       "      <th>4</th>\n",
       "      <td>15.203609</td>\n",
       "      <td>9.144587</td>\n",
       "      <td>5.183144</td>\n",
       "    </tr>\n",
       "    <tr>\n",
       "      <th>5</th>\n",
       "      <td>15.343514</td>\n",
       "      <td>9.228848</td>\n",
       "      <td>5.361298</td>\n",
       "    </tr>\n",
       "    <tr>\n",
       "      <th>6</th>\n",
       "      <td>15.520149</td>\n",
       "      <td>9.335248</td>\n",
       "      <td>5.539517</td>\n",
       "    </tr>\n",
       "    <tr>\n",
       "      <th>7</th>\n",
       "      <td>15.730674</td>\n",
       "      <td>9.462071</td>\n",
       "      <td>5.717799</td>\n",
       "    </tr>\n",
       "    <tr>\n",
       "      <th>8</th>\n",
       "      <td>15.972244</td>\n",
       "      <td>9.607599</td>\n",
       "      <td>5.896141</td>\n",
       "    </tr>\n",
       "    <tr>\n",
       "      <th>9</th>\n",
       "      <td>16.242019</td>\n",
       "      <td>9.770117</td>\n",
       "      <td>6.074543</td>\n",
       "    </tr>\n",
       "    <tr>\n",
       "      <th>10</th>\n",
       "      <td>16.537156</td>\n",
       "      <td>9.947908</td>\n",
       "      <td>6.253001</td>\n",
       "    </tr>\n",
       "    <tr>\n",
       "      <th>11</th>\n",
       "      <td>16.854812</td>\n",
       "      <td>10.139255</td>\n",
       "      <td>6.431513</td>\n",
       "    </tr>\n",
       "    <tr>\n",
       "      <th>12</th>\n",
       "      <td>17.192145</td>\n",
       "      <td>10.342442</td>\n",
       "      <td>6.610079</td>\n",
       "    </tr>\n",
       "    <tr>\n",
       "      <th>13</th>\n",
       "      <td>17.546314</td>\n",
       "      <td>10.555752</td>\n",
       "      <td>6.788695</td>\n",
       "    </tr>\n",
       "    <tr>\n",
       "      <th>14</th>\n",
       "      <td>17.914475</td>\n",
       "      <td>10.777469</td>\n",
       "      <td>6.967360</td>\n",
       "    </tr>\n",
       "    <tr>\n",
       "      <th>15</th>\n",
       "      <td>18.293787</td>\n",
       "      <td>11.005875</td>\n",
       "      <td>7.146072</td>\n",
       "    </tr>\n",
       "    <tr>\n",
       "      <th>16</th>\n",
       "      <td>18.681406</td>\n",
       "      <td>11.239256</td>\n",
       "      <td>7.324829</td>\n",
       "    </tr>\n",
       "    <tr>\n",
       "      <th>17</th>\n",
       "      <td>19.074492</td>\n",
       "      <td>11.475893</td>\n",
       "      <td>7.503628</td>\n",
       "    </tr>\n",
       "    <tr>\n",
       "      <th>18</th>\n",
       "      <td>19.470201</td>\n",
       "      <td>11.714070</td>\n",
       "      <td>7.682468</td>\n",
       "    </tr>\n",
       "    <tr>\n",
       "      <th>19</th>\n",
       "      <td>19.865692</td>\n",
       "      <td>11.952072</td>\n",
       "      <td>7.861347</td>\n",
       "    </tr>\n",
       "    <tr>\n",
       "      <th>20</th>\n",
       "      <td>20.258121</td>\n",
       "      <td>12.188180</td>\n",
       "      <td>8.040262</td>\n",
       "    </tr>\n",
       "    <tr>\n",
       "      <th>21</th>\n",
       "      <td>20.644647</td>\n",
       "      <td>12.420680</td>\n",
       "      <td>8.219213</td>\n",
       "    </tr>\n",
       "    <tr>\n",
       "      <th>22</th>\n",
       "      <td>21.022428</td>\n",
       "      <td>12.647853</td>\n",
       "      <td>8.398196</td>\n",
       "    </tr>\n",
       "    <tr>\n",
       "      <th>23</th>\n",
       "      <td>21.388621</td>\n",
       "      <td>12.867985</td>\n",
       "      <td>8.577209</td>\n",
       "    </tr>\n",
       "    <tr>\n",
       "      <th>24</th>\n",
       "      <td>21.740383</td>\n",
       "      <td>13.079357</td>\n",
       "      <td>8.756251</td>\n",
       "    </tr>\n",
       "    <tr>\n",
       "      <th>25</th>\n",
       "      <td>22.074873</td>\n",
       "      <td>13.280254</td>\n",
       "      <td>8.935320</td>\n",
       "    </tr>\n",
       "    <tr>\n",
       "      <th>26</th>\n",
       "      <td>22.389249</td>\n",
       "      <td>13.468959</td>\n",
       "      <td>9.114414</td>\n",
       "    </tr>\n",
       "    <tr>\n",
       "      <th>27</th>\n",
       "      <td>22.680667</td>\n",
       "      <td>13.643755</td>\n",
       "      <td>9.293530</td>\n",
       "    </tr>\n",
       "    <tr>\n",
       "      <th>28</th>\n",
       "      <td>22.946286</td>\n",
       "      <td>13.802926</td>\n",
       "      <td>9.472667</td>\n",
       "    </tr>\n",
       "    <tr>\n",
       "      <th>29</th>\n",
       "      <td>23.183264</td>\n",
       "      <td>13.944755</td>\n",
       "      <td>9.651823</td>\n",
       "    </tr>\n",
       "    <tr>\n",
       "      <th>30</th>\n",
       "      <td>23.388758</td>\n",
       "      <td>14.067526</td>\n",
       "      <td>9.830995</td>\n",
       "    </tr>\n",
       "    <tr>\n",
       "      <th>31</th>\n",
       "      <td>23.559925</td>\n",
       "      <td>14.169523</td>\n",
       "      <td>10.010182</td>\n",
       "    </tr>\n",
       "  </tbody>\n",
       "</table>\n",
       "</div>"
      ],
      "text/plain": [
       "          LFO        HFO         NG\n",
       "0   15.068146   9.063264   4.471216\n",
       "1   15.032704   9.041803   4.649090\n",
       "2   15.045362   9.049348   4.827038\n",
       "3   15.103278   9.084181   5.005057\n",
       "4   15.203609   9.144587   5.183144\n",
       "5   15.343514   9.228848   5.361298\n",
       "6   15.520149   9.335248   5.539517\n",
       "7   15.730674   9.462071   5.717799\n",
       "8   15.972244   9.607599   5.896141\n",
       "9   16.242019   9.770117   6.074543\n",
       "10  16.537156   9.947908   6.253001\n",
       "11  16.854812  10.139255   6.431513\n",
       "12  17.192145  10.342442   6.610079\n",
       "13  17.546314  10.555752   6.788695\n",
       "14  17.914475  10.777469   6.967360\n",
       "15  18.293787  11.005875   7.146072\n",
       "16  18.681406  11.239256   7.324829\n",
       "17  19.074492  11.475893   7.503628\n",
       "18  19.470201  11.714070   7.682468\n",
       "19  19.865692  11.952072   7.861347\n",
       "20  20.258121  12.188180   8.040262\n",
       "21  20.644647  12.420680   8.219213\n",
       "22  21.022428  12.647853   8.398196\n",
       "23  21.388621  12.867985   8.577209\n",
       "24  21.740383  13.079357   8.756251\n",
       "25  22.074873  13.280254   8.935320\n",
       "26  22.389249  13.468959   9.114414\n",
       "27  22.680667  13.643755   9.293530\n",
       "28  22.946286  13.802926   9.472667\n",
       "29  23.183264  13.944755   9.651823\n",
       "30  23.388758  14.067526   9.830995\n",
       "31  23.559925  14.169523  10.010182"
      ]
     },
     "execution_count": 99,
     "metadata": {},
     "output_type": "execute_result"
    }
   ],
   "source": [
    "final_df"
   ]
  },
  {
   "cell_type": "code",
   "execution_count": 100,
   "id": "570d8b3a",
   "metadata": {},
   "outputs": [],
   "source": [
    "final_df = pd.DataFrame()\n",
    "for fuel in data.columns[1:]:  # Assuming the columns contain fuel data\n",
    "    fuel_df = pd.DataFrame(fuelprices(data[['YEAR']].values, data[fuel]))\n",
    "    final_df = pd.concat([final_df, fuel_df], axis=1)\n",
    "    final_df.rename(columns={0: fuel}, inplace=True)"
   ]
  },
  {
   "cell_type": "code",
   "execution_count": 101,
   "id": "6ba16c01",
   "metadata": {},
   "outputs": [],
   "source": [
    "final_df.index = list(range(2019,2051))"
   ]
  },
  {
   "cell_type": "code",
   "execution_count": 102,
   "id": "4d423f83",
   "metadata": {},
   "outputs": [],
   "source": [
    "final_df.T.to_excel('FuelPrices.xlsx')"
   ]
  },
  {
   "cell_type": "code",
   "execution_count": 103,
   "id": "635e8366",
   "metadata": {},
   "outputs": [],
   "source": [
    "#Diesel Fuel Price Per 1 m³   1705.00 USD"
   ]
  },
  {
   "cell_type": "code",
   "execution_count": 104,
   "id": "a8d41985",
   "metadata": {},
   "outputs": [
    {
     "name": "stdout",
     "output_type": "stream",
     "text": [
      "44.05684754521964 $/GJ\n",
      "158.6046511627907 $/MWh\n"
     ]
    }
   ],
   "source": [
    "#Diesel\n",
    "LCV = 45000 #kJ/kg\n",
    "rho = 860 #kg/m3\n",
    "Price = 1705 #USD/m3\n",
    "EnergyPrice = Price/(rho*LCV) #$/kJ\n",
    "print(f'{EnergyPrice*10**6} $/GJ')\n",
    "# 1kWh = 3600 kJ\n",
    "print(f'{EnergyPrice*3600*1000} $/MWh')"
   ]
  }
 ],
 "metadata": {
  "kernelspec": {
   "display_name": "Python 3 (ipykernel)",
   "language": "python",
   "name": "python3"
  },
  "language_info": {
   "codemirror_mode": {
    "name": "ipython",
    "version": 3
   },
   "file_extension": ".py",
   "mimetype": "text/x-python",
   "name": "python",
   "nbconvert_exporter": "python",
   "pygments_lexer": "ipython3",
   "version": "3.11.4"
  }
 },
 "nbformat": 4,
 "nbformat_minor": 5
}
