{
 "cells": [
  {
   "cell_type": "code",
   "execution_count": 7,
   "id": "f8c3c3aa",
   "metadata": {},
   "outputs": [],
   "source": [
    "import pandas as pd\n",
    "import plotly.express as px\n",
    "data = pd.read_excel('../postprocessing/v_RateOfTotalActivity.xlsx')"
   ]
  },
  {
   "cell_type": "code",
   "execution_count": 6,
   "id": "be47b82b",
   "metadata": {},
   "outputs": [
    {
     "data": {
      "application/vnd.plotly.v1+json": {
       "config": {
        "plotlyServerURL": "https://plot.ly"
       },
       "data": [
        {
         "alignmentgroup": "True",
         "hovertemplate": "TECHNOLOGY=HF_Imp<br>YEAR=2014<br>TIMESLICE=%{x}<br>Values=%{y}<extra></extra>",
         "legendgroup": "HF_Imp",
         "marker": {
          "color": "#EF553B",
          "pattern": {
           "shape": ""
          }
         },
         "name": "HF_Imp",
         "offsetgroup": "HF_Imp",
         "orientation": "v",
         "showlegend": true,
         "textposition": "auto",
         "type": "bar",
         "x": [
          "ID",
          "IN",
          "SD",
          "SN",
          "WD",
          "WN"
         ],
         "xaxis": "x",
         "y": [
          0,
          0.922148955781957,
          0,
          0,
          0,
          0
         ],
         "yaxis": "y"
        },
        {
         "alignmentgroup": "True",
         "hovertemplate": "TECHNOLOGY=DS_Imp<br>YEAR=2014<br>TIMESLICE=%{x}<br>Values=%{y}<extra></extra>",
         "legendgroup": "DS_Imp",
         "marker": {
          "color": "#00cc96",
          "pattern": {
           "shape": ""
          }
         },
         "name": "DS_Imp",
         "offsetgroup": "DS_Imp",
         "orientation": "v",
         "showlegend": true,
         "textposition": "auto",
         "type": "bar",
         "x": [
          "ID",
          "IN",
          "SD",
          "SN",
          "WD",
          "WN"
         ],
         "xaxis": "x",
         "y": [
          0,
          0,
          0,
          0,
          0,
          0
         ],
         "yaxis": "y"
        },
        {
         "alignmentgroup": "True",
         "hovertemplate": "TECHNOLOGY=NG_Imp<br>YEAR=2014<br>TIMESLICE=%{x}<br>Values=%{y}<extra></extra>",
         "legendgroup": "NG_Imp",
         "marker": {
          "color": "#ab63fa",
          "pattern": {
           "shape": ""
          }
         },
         "name": "NG_Imp",
         "offsetgroup": "NG_Imp",
         "orientation": "v",
         "showlegend": true,
         "textposition": "auto",
         "type": "bar",
         "x": [
          "ID",
          "IN",
          "SD",
          "SN",
          "WD",
          "WN"
         ],
         "xaxis": "x",
         "y": [
          4.90099117494477,
          6.8559264,
          5.7127872905965,
          6.43353358513692,
          0.20142616811346,
          1.28586669097716
         ],
         "yaxis": "y"
        },
        {
         "alignmentgroup": "True",
         "hovertemplate": "TECHNOLOGY=CO_Imp<br>YEAR=2014<br>TIMESLICE=%{x}<br>Values=%{y}<extra></extra>",
         "legendgroup": "CO_Imp",
         "marker": {
          "color": "#FFA15A",
          "pattern": {
           "shape": ""
          }
         },
         "name": "CO_Imp",
         "offsetgroup": "CO_Imp",
         "orientation": "v",
         "showlegend": true,
         "textposition": "auto",
         "type": "bar",
         "x": [
          "ID",
          "IN",
          "SD",
          "SN",
          "WD",
          "WN"
         ],
         "xaxis": "x",
         "y": [
          1.97068464,
          1.97068464,
          1.97068464,
          1.97068464,
          1.97068464,
          1.97068464
         ],
         "yaxis": "y"
        },
        {
         "alignmentgroup": "True",
         "hovertemplate": "TECHNOLOGY=UR_Imp<br>YEAR=2014<br>TIMESLICE=%{x}<br>Values=%{y}<extra></extra>",
         "legendgroup": "UR_Imp",
         "marker": {
          "color": "#19d3f3",
          "pattern": {
           "shape": ""
          }
         },
         "name": "UR_Imp",
         "offsetgroup": "UR_Imp",
         "orientation": "v",
         "showlegend": true,
         "textposition": "auto",
         "type": "bar",
         "x": [
          "ID",
          "IN",
          "SD",
          "SN",
          "WD",
          "WN"
         ],
         "xaxis": "x",
         "y": [
          0,
          0,
          0,
          0,
          0,
          0
         ],
         "yaxis": "y"
        },
        {
         "alignmentgroup": "True",
         "hovertemplate": "TECHNOLOGY=NGSC<br>YEAR=2014<br>TIMESLICE=%{x}<br>Values=%{y}<extra></extra>",
         "legendgroup": "NGSC",
         "marker": {
          "color": "#FF6692",
          "pattern": {
           "shape": ""
          }
         },
         "name": "NGSC",
         "offsetgroup": "NGSC",
         "orientation": "v",
         "showlegend": true,
         "textposition": "auto",
         "type": "bar",
         "x": [
          "ID",
          "IN",
          "SD",
          "SN",
          "WD",
          "WN"
         ],
         "xaxis": "x",
         "y": [
          2.25436576584396,
          3.1536,
          2.62777704259269,
          2.95930707687991,
          0.0926523312389422,
          0.591475018848739
         ],
         "yaxis": "y"
        },
        {
         "alignmentgroup": "True",
         "hovertemplate": "TECHNOLOGY=DSGC<br>YEAR=2014<br>TIMESLICE=%{x}<br>Values=%{y}<extra></extra>",
         "legendgroup": "DSGC",
         "marker": {
          "color": "#B6E880",
          "pattern": {
           "shape": ""
          }
         },
         "name": "DSGC",
         "offsetgroup": "DSGC",
         "orientation": "v",
         "showlegend": true,
         "textposition": "auto",
         "type": "bar",
         "x": [
          "ID",
          "IN",
          "SD",
          "SN",
          "WD",
          "WN"
         ],
         "xaxis": "x",
         "y": [
          0,
          0,
          0,
          0,
          0,
          0
         ],
         "yaxis": "y"
        },
        {
         "alignmentgroup": "True",
         "hovertemplate": "TECHNOLOGY=IGCC<br>YEAR=2014<br>TIMESLICE=%{x}<br>Values=%{y}<extra></extra>",
         "legendgroup": "IGCC",
         "marker": {
          "color": "#FF97FF",
          "pattern": {
           "shape": ""
          }
         },
         "name": "IGCC",
         "offsetgroup": "IGCC",
         "orientation": "v",
         "showlegend": true,
         "textposition": "auto",
         "type": "bar",
         "x": [
          "ID",
          "IN",
          "SD",
          "SN",
          "WD",
          "WN"
         ],
         "xaxis": "x",
         "y": [
          0.94608,
          0.94608,
          0.946079999999999,
          0.94608,
          0.94608,
          0.94608
         ],
         "yaxis": "y"
        },
        {
         "alignmentgroup": "True",
         "hovertemplate": "TECHNOLOGY=HFSC<br>YEAR=2014<br>TIMESLICE=%{x}<br>Values=%{y}<extra></extra>",
         "legendgroup": "HFSC",
         "marker": {
          "color": "#FECB52",
          "pattern": {
           "shape": ""
          }
         },
         "name": "HFSC",
         "offsetgroup": "HFSC",
         "orientation": "v",
         "showlegend": true,
         "textposition": "auto",
         "type": "bar",
         "x": [
          "ID",
          "IN",
          "SD",
          "SN",
          "WD",
          "WN"
         ],
         "xaxis": "x",
         "y": [
          0,
          0.424171552797588,
          0,
          0,
          0,
          0
         ],
         "yaxis": "y"
        },
        {
         "alignmentgroup": "True",
         "hovertemplate": "TECHNOLOGY=HYDRO_DAM<br>YEAR=2014<br>TIMESLICE=%{x}<br>Values=%{y}<extra></extra>",
         "legendgroup": "HYDRO_DAM",
         "marker": {
          "color": "#636efa",
          "pattern": {
           "shape": ""
          }
         },
         "name": "HYDRO_DAM",
         "offsetgroup": "HYDRO_DAM",
         "orientation": "v",
         "showlegend": true,
         "textposition": "auto",
         "type": "bar",
         "x": [
          "ID",
          "IN",
          "SD",
          "SN",
          "WD",
          "WN"
         ],
         "xaxis": "x",
         "y": [
          3.56923926671303,
          3.56923926671303,
          3.03385337670608,
          3.03385337670608,
          4.46154908339129,
          4.46154908339129
         ],
         "yaxis": "y"
        },
        {
         "alignmentgroup": "True",
         "hovertemplate": "TECHNOLOGY=HYDRO_MIN<br>YEAR=2014<br>TIMESLICE=%{x}<br>Values=%{y}<extra></extra>",
         "legendgroup": "HYDRO_MIN",
         "marker": {
          "color": "#EF553B",
          "pattern": {
           "shape": ""
          }
         },
         "name": "HYDRO_MIN",
         "offsetgroup": "HYDRO_MIN",
         "orientation": "v",
         "showlegend": true,
         "textposition": "auto",
         "type": "bar",
         "x": [
          "ID",
          "IN",
          "SD",
          "SN",
          "WD",
          "WN"
         ],
         "xaxis": "x",
         "y": [
          0.1766016,
          0.1766016,
          0.1072224,
          0.1072224,
          0.141912,
          0.141912
         ],
         "yaxis": "y"
        },
        {
         "alignmentgroup": "True",
         "hovertemplate": "TECHNOLOGY=DIESEL_GEN<br>YEAR=2014<br>TIMESLICE=%{x}<br>Values=%{y}<extra></extra>",
         "legendgroup": "DIESEL_GEN",
         "marker": {
          "color": "#00cc96",
          "pattern": {
           "shape": ""
          }
         },
         "name": "DIESEL_GEN",
         "offsetgroup": "DIESEL_GEN",
         "orientation": "v",
         "showlegend": true,
         "textposition": "auto",
         "type": "bar",
         "x": [
          "ID",
          "IN",
          "SD",
          "SN",
          "WD",
          "WN"
         ],
         "xaxis": "x",
         "y": [
          0,
          0,
          0,
          0,
          0,
          0
         ],
         "yaxis": "y"
        },
        {
         "alignmentgroup": "True",
         "hovertemplate": "TECHNOLOGY=CSP<br>YEAR=2014<br>TIMESLICE=%{x}<br>Values=%{y}<extra></extra>",
         "legendgroup": "CSP",
         "marker": {
          "color": "#ab63fa",
          "pattern": {
           "shape": ""
          }
         },
         "name": "CSP",
         "offsetgroup": "CSP",
         "orientation": "v",
         "showlegend": true,
         "textposition": "auto",
         "type": "bar",
         "x": [
          "ID",
          "IN",
          "SD",
          "SN",
          "WD",
          "WN"
         ],
         "xaxis": "x",
         "y": [
          0,
          0,
          0,
          0,
          0,
          0
         ],
         "yaxis": "y"
        },
        {
         "alignmentgroup": "True",
         "hovertemplate": "TECHNOLOGY=PV_UTL<br>YEAR=2014<br>TIMESLICE=%{x}<br>Values=%{y}<extra></extra>",
         "legendgroup": "PV_UTL",
         "marker": {
          "color": "#FFA15A",
          "pattern": {
           "shape": ""
          }
         },
         "name": "PV_UTL",
         "offsetgroup": "PV_UTL",
         "orientation": "v",
         "showlegend": true,
         "textposition": "auto",
         "type": "bar",
         "x": [
          "ID",
          "IN",
          "SD",
          "SN",
          "WD",
          "WN"
         ],
         "xaxis": "x",
         "y": [
          0,
          0,
          0,
          0,
          0,
          0
         ],
         "yaxis": "y"
        },
        {
         "alignmentgroup": "True",
         "hovertemplate": "TECHNOLOGY=PV_ROF<br>YEAR=2014<br>TIMESLICE=%{x}<br>Values=%{y}<extra></extra>",
         "legendgroup": "PV_ROF",
         "marker": {
          "color": "#19d3f3",
          "pattern": {
           "shape": ""
          }
         },
         "name": "PV_ROF",
         "offsetgroup": "PV_ROF",
         "orientation": "v",
         "showlegend": true,
         "textposition": "auto",
         "type": "bar",
         "x": [
          "ID",
          "IN",
          "SD",
          "SN",
          "WD",
          "WN"
         ],
         "xaxis": "x",
         "y": [
          0,
          0,
          0,
          0,
          0,
          0
         ],
         "yaxis": "y"
        },
        {
         "alignmentgroup": "True",
         "hovertemplate": "TECHNOLOGY=WIND<br>YEAR=2014<br>TIMESLICE=%{x}<br>Values=%{y}<extra></extra>",
         "legendgroup": "WIND",
         "marker": {
          "color": "#FF6692",
          "pattern": {
           "shape": ""
          }
         },
         "name": "WIND",
         "offsetgroup": "WIND",
         "orientation": "v",
         "showlegend": true,
         "textposition": "auto",
         "type": "bar",
         "x": [
          "ID",
          "IN",
          "SD",
          "SN",
          "WD",
          "WN"
         ],
         "xaxis": "x",
         "y": [
          0,
          0,
          0,
          0,
          0,
          0
         ],
         "yaxis": "y"
        },
        {
         "alignmentgroup": "True",
         "hovertemplate": "TECHNOLOGY=NGCC<br>YEAR=2014<br>TIMESLICE=%{x}<br>Values=%{y}<extra></extra>",
         "legendgroup": "NGCC",
         "marker": {
          "color": "#B6E880",
          "pattern": {
           "shape": ""
          }
         },
         "name": "NGCC",
         "offsetgroup": "NGCC",
         "orientation": "v",
         "showlegend": true,
         "textposition": "auto",
         "type": "bar",
         "x": [
          "ID",
          "IN",
          "SD",
          "SN",
          "WD",
          "WN"
         ],
         "xaxis": "x",
         "y": [
          0,
          0,
          0,
          0,
          0,
          0
         ],
         "yaxis": "y"
        },
        {
         "alignmentgroup": "True",
         "hovertemplate": "TECHNOLOGY=NUCLEAR<br>YEAR=2014<br>TIMESLICE=%{x}<br>Values=%{y}<extra></extra>",
         "legendgroup": "NUCLEAR",
         "marker": {
          "color": "#FF97FF",
          "pattern": {
           "shape": ""
          }
         },
         "name": "NUCLEAR",
         "offsetgroup": "NUCLEAR",
         "orientation": "v",
         "showlegend": true,
         "textposition": "auto",
         "type": "bar",
         "x": [
          "ID",
          "IN",
          "SD",
          "SN",
          "WD",
          "WN"
         ],
         "xaxis": "x",
         "y": [
          0,
          0,
          0,
          0,
          0,
          0
         ],
         "yaxis": "y"
        },
        {
         "alignmentgroup": "True",
         "hovertemplate": "TECHNOLOGY=TRANS<br>YEAR=2014<br>TIMESLICE=%{x}<br>Values=%{y}<extra></extra>",
         "legendgroup": "TRANS",
         "marker": {
          "color": "#FECB52",
          "pattern": {
           "shape": ""
          }
         },
         "name": "TRANS",
         "offsetgroup": "TRANS",
         "orientation": "v",
         "showlegend": true,
         "textposition": "auto",
         "type": "bar",
         "x": [
          "ID",
          "IN",
          "SD",
          "SN",
          "WD",
          "WN"
         ],
         "xaxis": "x",
         "y": [
          6.76968503255699,
          8.09309081951062,
          6.60771041929876,
          6.93924045358598,
          5.50028141463023,
          5.99910410224003
         ],
         "yaxis": "y"
        },
        {
         "alignmentgroup": "True",
         "hovertemplate": "TECHNOLOGY=DIST_IND<br>YEAR=2014<br>TIMESLICE=%{x}<br>Values=%{y}<extra></extra>",
         "legendgroup": "DIST_IND",
         "marker": {
          "color": "#636efa",
          "pattern": {
           "shape": ""
          }
         },
         "name": "DIST_IND",
         "offsetgroup": "DIST_IND",
         "orientation": "v",
         "showlegend": true,
         "textposition": "auto",
         "type": "bar",
         "x": [
          "ID",
          "IN",
          "SD",
          "SN",
          "WD",
          "WN"
         ],
         "xaxis": "x",
         "y": [
          2.22909738019325,
          4.46087074763762,
          2.22909738019325,
          4.46087074763762,
          1.11488308814346,
          2.22909738019325
         ],
         "yaxis": "y"
        },
        {
         "alignmentgroup": "True",
         "hovertemplate": "TECHNOLOGY=DIST_TRA<br>YEAR=2014<br>TIMESLICE=%{x}<br>Values=%{y}<extra></extra>",
         "legendgroup": "DIST_TRA",
         "marker": {
          "color": "#EF553B",
          "pattern": {
           "shape": ""
          }
         },
         "name": "DIST_TRA",
         "offsetgroup": "DIST_TRA",
         "orientation": "v",
         "showlegend": true,
         "textposition": "auto",
         "type": "bar",
         "x": [
          "ID",
          "IN",
          "SD",
          "SN",
          "WD",
          "WN"
         ],
         "xaxis": "x",
         "y": [
          0.488037985618575,
          0.152603414247055,
          0.228767805760882,
          0.152603414247055,
          0.266975850127386,
          0.122009496405804
         ],
         "yaxis": "y"
        },
        {
         "alignmentgroup": "True",
         "hovertemplate": "TECHNOLOGY=DIST_RES<br>YEAR=2014<br>TIMESLICE=%{x}<br>Values=%{y}<extra></extra>",
         "legendgroup": "DIST_RES",
         "marker": {
          "color": "#00cc96",
          "pattern": {
           "shape": ""
          }
         },
         "name": "DIST_RES",
         "offsetgroup": "DIST_RES",
         "orientation": "v",
         "showlegend": true,
         "textposition": "auto",
         "type": "bar",
         "x": [
          "ID",
          "IN",
          "SD",
          "SN",
          "WD",
          "WN"
         ],
         "xaxis": "x",
         "y": [
          1.64712820146815,
          2.19748916516255,
          2.05891025184794,
          1.37343072822841,
          2.74603731559597,
          2.74521366913058
         ],
         "yaxis": "y"
        },
        {
         "alignmentgroup": "True",
         "hovertemplate": "TECHNOLOGY=DIST_SER<br>YEAR=2014<br>TIMESLICE=%{x}<br>Values=%{y}<extra></extra>",
         "legendgroup": "DIST_SER",
         "marker": {
          "color": "#ab63fa",
          "pattern": {
           "shape": ""
          }
         },
         "name": "DIST_SER",
         "offsetgroup": "DIST_SER",
         "orientation": "v",
         "showlegend": true,
         "textposition": "auto",
         "type": "bar",
         "x": [
          "ID",
          "IN",
          "SD",
          "SN",
          "WD",
          "WN"
         ],
         "xaxis": "x",
         "y": [
          2.47912385278215,
          1.33571411200683,
          2.09772018312336,
          0.954081508578383,
          1.43069288326104,
          0.953509174156352
         ],
         "yaxis": "y"
        }
       ],
       "frames": [
        {
         "data": [
          {
           "alignmentgroup": "True",
           "hovertemplate": "TECHNOLOGY=HF_Imp<br>YEAR=2014<br>TIMESLICE=%{x}<br>Values=%{y}<extra></extra>",
           "legendgroup": "HF_Imp",
           "marker": {
            "color": "#EF553B",
            "pattern": {
             "shape": ""
            }
           },
           "name": "HF_Imp",
           "offsetgroup": "HF_Imp",
           "orientation": "v",
           "showlegend": true,
           "textposition": "auto",
           "type": "bar",
           "x": [
            "ID",
            "IN",
            "SD",
            "SN",
            "WD",
            "WN"
           ],
           "xaxis": "x",
           "y": [
            0,
            0.922148955781957,
            0,
            0,
            0,
            0
           ],
           "yaxis": "y"
          },
          {
           "alignmentgroup": "True",
           "hovertemplate": "TECHNOLOGY=DS_Imp<br>YEAR=2014<br>TIMESLICE=%{x}<br>Values=%{y}<extra></extra>",
           "legendgroup": "DS_Imp",
           "marker": {
            "color": "#00cc96",
            "pattern": {
             "shape": ""
            }
           },
           "name": "DS_Imp",
           "offsetgroup": "DS_Imp",
           "orientation": "v",
           "showlegend": true,
           "textposition": "auto",
           "type": "bar",
           "x": [
            "ID",
            "IN",
            "SD",
            "SN",
            "WD",
            "WN"
           ],
           "xaxis": "x",
           "y": [
            0,
            0,
            0,
            0,
            0,
            0
           ],
           "yaxis": "y"
          },
          {
           "alignmentgroup": "True",
           "hovertemplate": "TECHNOLOGY=NG_Imp<br>YEAR=2014<br>TIMESLICE=%{x}<br>Values=%{y}<extra></extra>",
           "legendgroup": "NG_Imp",
           "marker": {
            "color": "#ab63fa",
            "pattern": {
             "shape": ""
            }
           },
           "name": "NG_Imp",
           "offsetgroup": "NG_Imp",
           "orientation": "v",
           "showlegend": true,
           "textposition": "auto",
           "type": "bar",
           "x": [
            "ID",
            "IN",
            "SD",
            "SN",
            "WD",
            "WN"
           ],
           "xaxis": "x",
           "y": [
            4.90099117494477,
            6.8559264,
            5.7127872905965,
            6.43353358513692,
            0.20142616811346,
            1.28586669097716
           ],
           "yaxis": "y"
          },
          {
           "alignmentgroup": "True",
           "hovertemplate": "TECHNOLOGY=CO_Imp<br>YEAR=2014<br>TIMESLICE=%{x}<br>Values=%{y}<extra></extra>",
           "legendgroup": "CO_Imp",
           "marker": {
            "color": "#FFA15A",
            "pattern": {
             "shape": ""
            }
           },
           "name": "CO_Imp",
           "offsetgroup": "CO_Imp",
           "orientation": "v",
           "showlegend": true,
           "textposition": "auto",
           "type": "bar",
           "x": [
            "ID",
            "IN",
            "SD",
            "SN",
            "WD",
            "WN"
           ],
           "xaxis": "x",
           "y": [
            1.97068464,
            1.97068464,
            1.97068464,
            1.97068464,
            1.97068464,
            1.97068464
           ],
           "yaxis": "y"
          },
          {
           "alignmentgroup": "True",
           "hovertemplate": "TECHNOLOGY=UR_Imp<br>YEAR=2014<br>TIMESLICE=%{x}<br>Values=%{y}<extra></extra>",
           "legendgroup": "UR_Imp",
           "marker": {
            "color": "#19d3f3",
            "pattern": {
             "shape": ""
            }
           },
           "name": "UR_Imp",
           "offsetgroup": "UR_Imp",
           "orientation": "v",
           "showlegend": true,
           "textposition": "auto",
           "type": "bar",
           "x": [
            "ID",
            "IN",
            "SD",
            "SN",
            "WD",
            "WN"
           ],
           "xaxis": "x",
           "y": [
            0,
            0,
            0,
            0,
            0,
            0
           ],
           "yaxis": "y"
          },
          {
           "alignmentgroup": "True",
           "hovertemplate": "TECHNOLOGY=NGSC<br>YEAR=2014<br>TIMESLICE=%{x}<br>Values=%{y}<extra></extra>",
           "legendgroup": "NGSC",
           "marker": {
            "color": "#FF6692",
            "pattern": {
             "shape": ""
            }
           },
           "name": "NGSC",
           "offsetgroup": "NGSC",
           "orientation": "v",
           "showlegend": true,
           "textposition": "auto",
           "type": "bar",
           "x": [
            "ID",
            "IN",
            "SD",
            "SN",
            "WD",
            "WN"
           ],
           "xaxis": "x",
           "y": [
            2.25436576584396,
            3.1536,
            2.62777704259269,
            2.95930707687991,
            0.0926523312389422,
            0.591475018848739
           ],
           "yaxis": "y"
          },
          {
           "alignmentgroup": "True",
           "hovertemplate": "TECHNOLOGY=DSGC<br>YEAR=2014<br>TIMESLICE=%{x}<br>Values=%{y}<extra></extra>",
           "legendgroup": "DSGC",
           "marker": {
            "color": "#B6E880",
            "pattern": {
             "shape": ""
            }
           },
           "name": "DSGC",
           "offsetgroup": "DSGC",
           "orientation": "v",
           "showlegend": true,
           "textposition": "auto",
           "type": "bar",
           "x": [
            "ID",
            "IN",
            "SD",
            "SN",
            "WD",
            "WN"
           ],
           "xaxis": "x",
           "y": [
            0,
            0,
            0,
            0,
            0,
            0
           ],
           "yaxis": "y"
          },
          {
           "alignmentgroup": "True",
           "hovertemplate": "TECHNOLOGY=IGCC<br>YEAR=2014<br>TIMESLICE=%{x}<br>Values=%{y}<extra></extra>",
           "legendgroup": "IGCC",
           "marker": {
            "color": "#FF97FF",
            "pattern": {
             "shape": ""
            }
           },
           "name": "IGCC",
           "offsetgroup": "IGCC",
           "orientation": "v",
           "showlegend": true,
           "textposition": "auto",
           "type": "bar",
           "x": [
            "ID",
            "IN",
            "SD",
            "SN",
            "WD",
            "WN"
           ],
           "xaxis": "x",
           "y": [
            0.94608,
            0.94608,
            0.946079999999999,
            0.94608,
            0.94608,
            0.94608
           ],
           "yaxis": "y"
          },
          {
           "alignmentgroup": "True",
           "hovertemplate": "TECHNOLOGY=HFSC<br>YEAR=2014<br>TIMESLICE=%{x}<br>Values=%{y}<extra></extra>",
           "legendgroup": "HFSC",
           "marker": {
            "color": "#FECB52",
            "pattern": {
             "shape": ""
            }
           },
           "name": "HFSC",
           "offsetgroup": "HFSC",
           "orientation": "v",
           "showlegend": true,
           "textposition": "auto",
           "type": "bar",
           "x": [
            "ID",
            "IN",
            "SD",
            "SN",
            "WD",
            "WN"
           ],
           "xaxis": "x",
           "y": [
            0,
            0.424171552797588,
            0,
            0,
            0,
            0
           ],
           "yaxis": "y"
          },
          {
           "alignmentgroup": "True",
           "hovertemplate": "TECHNOLOGY=HYDRO_DAM<br>YEAR=2014<br>TIMESLICE=%{x}<br>Values=%{y}<extra></extra>",
           "legendgroup": "HYDRO_DAM",
           "marker": {
            "color": "#636efa",
            "pattern": {
             "shape": ""
            }
           },
           "name": "HYDRO_DAM",
           "offsetgroup": "HYDRO_DAM",
           "orientation": "v",
           "showlegend": true,
           "textposition": "auto",
           "type": "bar",
           "x": [
            "ID",
            "IN",
            "SD",
            "SN",
            "WD",
            "WN"
           ],
           "xaxis": "x",
           "y": [
            3.56923926671303,
            3.56923926671303,
            3.03385337670608,
            3.03385337670608,
            4.46154908339129,
            4.46154908339129
           ],
           "yaxis": "y"
          },
          {
           "alignmentgroup": "True",
           "hovertemplate": "TECHNOLOGY=HYDRO_MIN<br>YEAR=2014<br>TIMESLICE=%{x}<br>Values=%{y}<extra></extra>",
           "legendgroup": "HYDRO_MIN",
           "marker": {
            "color": "#EF553B",
            "pattern": {
             "shape": ""
            }
           },
           "name": "HYDRO_MIN",
           "offsetgroup": "HYDRO_MIN",
           "orientation": "v",
           "showlegend": true,
           "textposition": "auto",
           "type": "bar",
           "x": [
            "ID",
            "IN",
            "SD",
            "SN",
            "WD",
            "WN"
           ],
           "xaxis": "x",
           "y": [
            0.1766016,
            0.1766016,
            0.1072224,
            0.1072224,
            0.141912,
            0.141912
           ],
           "yaxis": "y"
          },
          {
           "alignmentgroup": "True",
           "hovertemplate": "TECHNOLOGY=DIESEL_GEN<br>YEAR=2014<br>TIMESLICE=%{x}<br>Values=%{y}<extra></extra>",
           "legendgroup": "DIESEL_GEN",
           "marker": {
            "color": "#00cc96",
            "pattern": {
             "shape": ""
            }
           },
           "name": "DIESEL_GEN",
           "offsetgroup": "DIESEL_GEN",
           "orientation": "v",
           "showlegend": true,
           "textposition": "auto",
           "type": "bar",
           "x": [
            "ID",
            "IN",
            "SD",
            "SN",
            "WD",
            "WN"
           ],
           "xaxis": "x",
           "y": [
            0,
            0,
            0,
            0,
            0,
            0
           ],
           "yaxis": "y"
          },
          {
           "alignmentgroup": "True",
           "hovertemplate": "TECHNOLOGY=CSP<br>YEAR=2014<br>TIMESLICE=%{x}<br>Values=%{y}<extra></extra>",
           "legendgroup": "CSP",
           "marker": {
            "color": "#ab63fa",
            "pattern": {
             "shape": ""
            }
           },
           "name": "CSP",
           "offsetgroup": "CSP",
           "orientation": "v",
           "showlegend": true,
           "textposition": "auto",
           "type": "bar",
           "x": [
            "ID",
            "IN",
            "SD",
            "SN",
            "WD",
            "WN"
           ],
           "xaxis": "x",
           "y": [
            0,
            0,
            0,
            0,
            0,
            0
           ],
           "yaxis": "y"
          },
          {
           "alignmentgroup": "True",
           "hovertemplate": "TECHNOLOGY=PV_UTL<br>YEAR=2014<br>TIMESLICE=%{x}<br>Values=%{y}<extra></extra>",
           "legendgroup": "PV_UTL",
           "marker": {
            "color": "#FFA15A",
            "pattern": {
             "shape": ""
            }
           },
           "name": "PV_UTL",
           "offsetgroup": "PV_UTL",
           "orientation": "v",
           "showlegend": true,
           "textposition": "auto",
           "type": "bar",
           "x": [
            "ID",
            "IN",
            "SD",
            "SN",
            "WD",
            "WN"
           ],
           "xaxis": "x",
           "y": [
            0,
            0,
            0,
            0,
            0,
            0
           ],
           "yaxis": "y"
          },
          {
           "alignmentgroup": "True",
           "hovertemplate": "TECHNOLOGY=PV_ROF<br>YEAR=2014<br>TIMESLICE=%{x}<br>Values=%{y}<extra></extra>",
           "legendgroup": "PV_ROF",
           "marker": {
            "color": "#19d3f3",
            "pattern": {
             "shape": ""
            }
           },
           "name": "PV_ROF",
           "offsetgroup": "PV_ROF",
           "orientation": "v",
           "showlegend": true,
           "textposition": "auto",
           "type": "bar",
           "x": [
            "ID",
            "IN",
            "SD",
            "SN",
            "WD",
            "WN"
           ],
           "xaxis": "x",
           "y": [
            0,
            0,
            0,
            0,
            0,
            0
           ],
           "yaxis": "y"
          },
          {
           "alignmentgroup": "True",
           "hovertemplate": "TECHNOLOGY=WIND<br>YEAR=2014<br>TIMESLICE=%{x}<br>Values=%{y}<extra></extra>",
           "legendgroup": "WIND",
           "marker": {
            "color": "#FF6692",
            "pattern": {
             "shape": ""
            }
           },
           "name": "WIND",
           "offsetgroup": "WIND",
           "orientation": "v",
           "showlegend": true,
           "textposition": "auto",
           "type": "bar",
           "x": [
            "ID",
            "IN",
            "SD",
            "SN",
            "WD",
            "WN"
           ],
           "xaxis": "x",
           "y": [
            0,
            0,
            0,
            0,
            0,
            0
           ],
           "yaxis": "y"
          },
          {
           "alignmentgroup": "True",
           "hovertemplate": "TECHNOLOGY=NGCC<br>YEAR=2014<br>TIMESLICE=%{x}<br>Values=%{y}<extra></extra>",
           "legendgroup": "NGCC",
           "marker": {
            "color": "#B6E880",
            "pattern": {
             "shape": ""
            }
           },
           "name": "NGCC",
           "offsetgroup": "NGCC",
           "orientation": "v",
           "showlegend": true,
           "textposition": "auto",
           "type": "bar",
           "x": [
            "ID",
            "IN",
            "SD",
            "SN",
            "WD",
            "WN"
           ],
           "xaxis": "x",
           "y": [
            0,
            0,
            0,
            0,
            0,
            0
           ],
           "yaxis": "y"
          },
          {
           "alignmentgroup": "True",
           "hovertemplate": "TECHNOLOGY=NUCLEAR<br>YEAR=2014<br>TIMESLICE=%{x}<br>Values=%{y}<extra></extra>",
           "legendgroup": "NUCLEAR",
           "marker": {
            "color": "#FF97FF",
            "pattern": {
             "shape": ""
            }
           },
           "name": "NUCLEAR",
           "offsetgroup": "NUCLEAR",
           "orientation": "v",
           "showlegend": true,
           "textposition": "auto",
           "type": "bar",
           "x": [
            "ID",
            "IN",
            "SD",
            "SN",
            "WD",
            "WN"
           ],
           "xaxis": "x",
           "y": [
            0,
            0,
            0,
            0,
            0,
            0
           ],
           "yaxis": "y"
          },
          {
           "alignmentgroup": "True",
           "hovertemplate": "TECHNOLOGY=TRANS<br>YEAR=2014<br>TIMESLICE=%{x}<br>Values=%{y}<extra></extra>",
           "legendgroup": "TRANS",
           "marker": {
            "color": "#FECB52",
            "pattern": {
             "shape": ""
            }
           },
           "name": "TRANS",
           "offsetgroup": "TRANS",
           "orientation": "v",
           "showlegend": true,
           "textposition": "auto",
           "type": "bar",
           "x": [
            "ID",
            "IN",
            "SD",
            "SN",
            "WD",
            "WN"
           ],
           "xaxis": "x",
           "y": [
            6.76968503255699,
            8.09309081951062,
            6.60771041929876,
            6.93924045358598,
            5.50028141463023,
            5.99910410224003
           ],
           "yaxis": "y"
          },
          {
           "alignmentgroup": "True",
           "hovertemplate": "TECHNOLOGY=DIST_IND<br>YEAR=2014<br>TIMESLICE=%{x}<br>Values=%{y}<extra></extra>",
           "legendgroup": "DIST_IND",
           "marker": {
            "color": "#636efa",
            "pattern": {
             "shape": ""
            }
           },
           "name": "DIST_IND",
           "offsetgroup": "DIST_IND",
           "orientation": "v",
           "showlegend": true,
           "textposition": "auto",
           "type": "bar",
           "x": [
            "ID",
            "IN",
            "SD",
            "SN",
            "WD",
            "WN"
           ],
           "xaxis": "x",
           "y": [
            2.22909738019325,
            4.46087074763762,
            2.22909738019325,
            4.46087074763762,
            1.11488308814346,
            2.22909738019325
           ],
           "yaxis": "y"
          },
          {
           "alignmentgroup": "True",
           "hovertemplate": "TECHNOLOGY=DIST_TRA<br>YEAR=2014<br>TIMESLICE=%{x}<br>Values=%{y}<extra></extra>",
           "legendgroup": "DIST_TRA",
           "marker": {
            "color": "#EF553B",
            "pattern": {
             "shape": ""
            }
           },
           "name": "DIST_TRA",
           "offsetgroup": "DIST_TRA",
           "orientation": "v",
           "showlegend": true,
           "textposition": "auto",
           "type": "bar",
           "x": [
            "ID",
            "IN",
            "SD",
            "SN",
            "WD",
            "WN"
           ],
           "xaxis": "x",
           "y": [
            0.488037985618575,
            0.152603414247055,
            0.228767805760882,
            0.152603414247055,
            0.266975850127386,
            0.122009496405804
           ],
           "yaxis": "y"
          },
          {
           "alignmentgroup": "True",
           "hovertemplate": "TECHNOLOGY=DIST_RES<br>YEAR=2014<br>TIMESLICE=%{x}<br>Values=%{y}<extra></extra>",
           "legendgroup": "DIST_RES",
           "marker": {
            "color": "#00cc96",
            "pattern": {
             "shape": ""
            }
           },
           "name": "DIST_RES",
           "offsetgroup": "DIST_RES",
           "orientation": "v",
           "showlegend": true,
           "textposition": "auto",
           "type": "bar",
           "x": [
            "ID",
            "IN",
            "SD",
            "SN",
            "WD",
            "WN"
           ],
           "xaxis": "x",
           "y": [
            1.64712820146815,
            2.19748916516255,
            2.05891025184794,
            1.37343072822841,
            2.74603731559597,
            2.74521366913058
           ],
           "yaxis": "y"
          },
          {
           "alignmentgroup": "True",
           "hovertemplate": "TECHNOLOGY=DIST_SER<br>YEAR=2014<br>TIMESLICE=%{x}<br>Values=%{y}<extra></extra>",
           "legendgroup": "DIST_SER",
           "marker": {
            "color": "#ab63fa",
            "pattern": {
             "shape": ""
            }
           },
           "name": "DIST_SER",
           "offsetgroup": "DIST_SER",
           "orientation": "v",
           "showlegend": true,
           "textposition": "auto",
           "type": "bar",
           "x": [
            "ID",
            "IN",
            "SD",
            "SN",
            "WD",
            "WN"
           ],
           "xaxis": "x",
           "y": [
            2.47912385278215,
            1.33571411200683,
            2.09772018312336,
            0.954081508578383,
            1.43069288326104,
            0.953509174156352
           ],
           "yaxis": "y"
          }
         ],
         "name": "2014"
        },
        {
         "data": [
          {
           "alignmentgroup": "True",
           "hovertemplate": "TECHNOLOGY=HF_Imp<br>YEAR=2015<br>TIMESLICE=%{x}<br>Values=%{y}<extra></extra>",
           "legendgroup": "HF_Imp",
           "marker": {
            "color": "#EF553B",
            "pattern": {
             "shape": ""
            }
           },
           "name": "HF_Imp",
           "offsetgroup": "HF_Imp",
           "orientation": "v",
           "showlegend": true,
           "textposition": "auto",
           "type": "bar",
           "x": [
            "ID",
            "IN",
            "SD",
            "SN",
            "WD",
            "WN"
           ],
           "xaxis": "x",
           "y": [
            2.05677792,
            2.05677792,
            2.05677792,
            2.05677792,
            0.260889624292716,
            1.35179268493771
           ],
           "yaxis": "y"
          },
          {
           "alignmentgroup": "True",
           "hovertemplate": "TECHNOLOGY=DS_Imp<br>YEAR=2015<br>TIMESLICE=%{x}<br>Values=%{y}<extra></extra>",
           "legendgroup": "DS_Imp",
           "marker": {
            "color": "#00cc96",
            "pattern": {
             "shape": ""
            }
           },
           "name": "DS_Imp",
           "offsetgroup": "DS_Imp",
           "orientation": "v",
           "showlegend": true,
           "textposition": "auto",
           "type": "bar",
           "x": [
            "ID",
            "IN",
            "SD",
            "SN",
            "WD",
            "WN"
           ],
           "xaxis": "x",
           "y": [
            0,
            0,
            0,
            0,
            0,
            0
           ],
           "yaxis": "y"
          },
          {
           "alignmentgroup": "True",
           "hovertemplate": "TECHNOLOGY=NG_Imp<br>YEAR=2015<br>TIMESLICE=%{x}<br>Values=%{y}<extra></extra>",
           "legendgroup": "NG_Imp",
           "marker": {
            "color": "#ab63fa",
            "pattern": {
             "shape": ""
            }
           },
           "name": "NG_Imp",
           "offsetgroup": "NG_Imp",
           "orientation": "v",
           "showlegend": true,
           "textposition": "auto",
           "type": "bar",
           "x": [
            "ID",
            "IN",
            "SD",
            "SN",
            "WD",
            "WN"
           ],
           "xaxis": "x",
           "y": [
            2.91670858199966,
            5.81050227142326,
            3.7268623643603,
            4.45308783487669,
            0,
            0
           ],
           "yaxis": "y"
          },
          {
           "alignmentgroup": "True",
           "hovertemplate": "TECHNOLOGY=CO_Imp<br>YEAR=2015<br>TIMESLICE=%{x}<br>Values=%{y}<extra></extra>",
           "legendgroup": "CO_Imp",
           "marker": {
            "color": "#FFA15A",
            "pattern": {
             "shape": ""
            }
           },
           "name": "CO_Imp",
           "offsetgroup": "CO_Imp",
           "orientation": "v",
           "showlegend": true,
           "textposition": "auto",
           "type": "bar",
           "x": [
            "ID",
            "IN",
            "SD",
            "SN",
            "WD",
            "WN"
           ],
           "xaxis": "x",
           "y": [
            1.97068464,
            1.97068464,
            1.97068464,
            1.97068464,
            1.97068464,
            1.97068464
           ],
           "yaxis": "y"
          },
          {
           "alignmentgroup": "True",
           "hovertemplate": "TECHNOLOGY=UR_Imp<br>YEAR=2015<br>TIMESLICE=%{x}<br>Values=%{y}<extra></extra>",
           "legendgroup": "UR_Imp",
           "marker": {
            "color": "#19d3f3",
            "pattern": {
             "shape": ""
            }
           },
           "name": "UR_Imp",
           "offsetgroup": "UR_Imp",
           "orientation": "v",
           "showlegend": true,
           "textposition": "auto",
           "type": "bar",
           "x": [
            "ID",
            "IN",
            "SD",
            "SN",
            "WD",
            "WN"
           ],
           "xaxis": "x",
           "y": [
            0,
            0,
            0,
            0,
            0,
            0
           ],
           "yaxis": "y"
          },
          {
           "alignmentgroup": "True",
           "hovertemplate": "TECHNOLOGY=NGSC<br>YEAR=2015<br>TIMESLICE=%{x}<br>Values=%{y}<extra></extra>",
           "legendgroup": "NGSC",
           "marker": {
            "color": "#FF6692",
            "pattern": {
             "shape": ""
            }
           },
           "name": "NGSC",
           "offsetgroup": "NGSC",
           "orientation": "v",
           "showlegend": true,
           "textposition": "auto",
           "type": "bar",
           "x": [
            "ID",
            "IN",
            "SD",
            "SN",
            "WD",
            "WN"
           ],
           "xaxis": "x",
           "y": [
            1.34163228242855,
            2.67272413588927,
            1.7142881160811,
            2.04833847050446,
            0,
            0
           ],
           "yaxis": "y"
          },
          {
           "alignmentgroup": "True",
           "hovertemplate": "TECHNOLOGY=DSGC<br>YEAR=2015<br>TIMESLICE=%{x}<br>Values=%{y}<extra></extra>",
           "legendgroup": "DSGC",
           "marker": {
            "color": "#B6E880",
            "pattern": {
             "shape": ""
            }
           },
           "name": "DSGC",
           "offsetgroup": "DSGC",
           "orientation": "v",
           "showlegend": true,
           "textposition": "auto",
           "type": "bar",
           "x": [
            "ID",
            "IN",
            "SD",
            "SN",
            "WD",
            "WN"
           ],
           "xaxis": "x",
           "y": [
            0,
            0,
            0,
            0,
            0,
            0
           ],
           "yaxis": "y"
          },
          {
           "alignmentgroup": "True",
           "hovertemplate": "TECHNOLOGY=IGCC<br>YEAR=2015<br>TIMESLICE=%{x}<br>Values=%{y}<extra></extra>",
           "legendgroup": "IGCC",
           "marker": {
            "color": "#FF97FF",
            "pattern": {
             "shape": ""
            }
           },
           "name": "IGCC",
           "offsetgroup": "IGCC",
           "orientation": "v",
           "showlegend": true,
           "textposition": "auto",
           "type": "bar",
           "x": [
            "ID",
            "IN",
            "SD",
            "SN",
            "WD",
            "WN"
           ],
           "xaxis": "x",
           "y": [
            0.94608,
            0.94608,
            0.94608,
            0.94608,
            0.94608,
            0.946079999999999
           ],
           "yaxis": "y"
          },
          {
           "alignmentgroup": "True",
           "hovertemplate": "TECHNOLOGY=HFSC<br>YEAR=2015<br>TIMESLICE=%{x}<br>Values=%{y}<extra></extra>",
           "legendgroup": "HFSC",
           "marker": {
            "color": "#FECB52",
            "pattern": {
             "shape": ""
            }
           },
           "name": "HFSC",
           "offsetgroup": "HFSC",
           "orientation": "v",
           "showlegend": true,
           "textposition": "auto",
           "type": "bar",
           "x": [
            "ID",
            "IN",
            "SD",
            "SN",
            "WD",
            "WN"
           ],
           "xaxis": "x",
           "y": [
            0.94608,
            0.94608,
            0.94608,
            0.94608,
            0.12000442699757,
            0.621799763080822
           ],
           "yaxis": "y"
          },
          {
           "alignmentgroup": "True",
           "hovertemplate": "TECHNOLOGY=HYDRO_DAM<br>YEAR=2015<br>TIMESLICE=%{x}<br>Values=%{y}<extra></extra>",
           "legendgroup": "HYDRO_DAM",
           "marker": {
            "color": "#636efa",
            "pattern": {
             "shape": ""
            }
           },
           "name": "HYDRO_DAM",
           "offsetgroup": "HYDRO_DAM",
           "orientation": "v",
           "showlegend": true,
           "textposition": "auto",
           "type": "bar",
           "x": [
            "ID",
            "IN",
            "SD",
            "SN",
            "WD",
            "WN"
           ],
           "xaxis": "x",
           "y": [
            3.56923926671303,
            3.56923926671303,
            3.03385337670608,
            3.03385337670608,
            4.46154908339129,
            4.46154908339129
           ],
           "yaxis": "y"
          },
          {
           "alignmentgroup": "True",
           "hovertemplate": "TECHNOLOGY=HYDRO_MIN<br>YEAR=2015<br>TIMESLICE=%{x}<br>Values=%{y}<extra></extra>",
           "legendgroup": "HYDRO_MIN",
           "marker": {
            "color": "#EF553B",
            "pattern": {
             "shape": ""
            }
           },
           "name": "HYDRO_MIN",
           "offsetgroup": "HYDRO_MIN",
           "orientation": "v",
           "showlegend": true,
           "textposition": "auto",
           "type": "bar",
           "x": [
            "ID",
            "IN",
            "SD",
            "SN",
            "WD",
            "WN"
           ],
           "xaxis": "x",
           "y": [
            0.1766016,
            0.1766016,
            0.1072224,
            0.1072224,
            0.141912,
            0.141912
           ],
           "yaxis": "y"
          },
          {
           "alignmentgroup": "True",
           "hovertemplate": "TECHNOLOGY=DIESEL_GEN<br>YEAR=2015<br>TIMESLICE=%{x}<br>Values=%{y}<extra></extra>",
           "legendgroup": "DIESEL_GEN",
           "marker": {
            "color": "#00cc96",
            "pattern": {
             "shape": ""
            }
           },
           "name": "DIESEL_GEN",
           "offsetgroup": "DIESEL_GEN",
           "orientation": "v",
           "showlegend": true,
           "textposition": "auto",
           "type": "bar",
           "x": [
            "ID",
            "IN",
            "SD",
            "SN",
            "WD",
            "WN"
           ],
           "xaxis": "x",
           "y": [
            0,
            0,
            0,
            0,
            0,
            0
           ],
           "yaxis": "y"
          },
          {
           "alignmentgroup": "True",
           "hovertemplate": "TECHNOLOGY=CSP<br>YEAR=2015<br>TIMESLICE=%{x}<br>Values=%{y}<extra></extra>",
           "legendgroup": "CSP",
           "marker": {
            "color": "#ab63fa",
            "pattern": {
             "shape": ""
            }
           },
           "name": "CSP",
           "offsetgroup": "CSP",
           "orientation": "v",
           "showlegend": true,
           "textposition": "auto",
           "type": "bar",
           "x": [
            "ID",
            "IN",
            "SD",
            "SN",
            "WD",
            "WN"
           ],
           "xaxis": "x",
           "y": [
            0,
            0,
            0,
            0,
            0,
            0
           ],
           "yaxis": "y"
          },
          {
           "alignmentgroup": "True",
           "hovertemplate": "TECHNOLOGY=PV_UTL<br>YEAR=2015<br>TIMESLICE=%{x}<br>Values=%{y}<extra></extra>",
           "legendgroup": "PV_UTL",
           "marker": {
            "color": "#FFA15A",
            "pattern": {
             "shape": ""
            }
           },
           "name": "PV_UTL",
           "offsetgroup": "PV_UTL",
           "orientation": "v",
           "showlegend": true,
           "textposition": "auto",
           "type": "bar",
           "x": [
            "ID",
            "IN",
            "SD",
            "SN",
            "WD",
            "WN"
           ],
           "xaxis": "x",
           "y": [
            0,
            0,
            0,
            0,
            0,
            0
           ],
           "yaxis": "y"
          },
          {
           "alignmentgroup": "True",
           "hovertemplate": "TECHNOLOGY=PV_ROF<br>YEAR=2015<br>TIMESLICE=%{x}<br>Values=%{y}<extra></extra>",
           "legendgroup": "PV_ROF",
           "marker": {
            "color": "#19d3f3",
            "pattern": {
             "shape": ""
            }
           },
           "name": "PV_ROF",
           "offsetgroup": "PV_ROF",
           "orientation": "v",
           "showlegend": true,
           "textposition": "auto",
           "type": "bar",
           "x": [
            "ID",
            "IN",
            "SD",
            "SN",
            "WD",
            "WN"
           ],
           "xaxis": "x",
           "y": [
            0,
            0,
            0,
            0,
            0,
            0
           ],
           "yaxis": "y"
          },
          {
           "alignmentgroup": "True",
           "hovertemplate": "TECHNOLOGY=WIND<br>YEAR=2015<br>TIMESLICE=%{x}<br>Values=%{y}<extra></extra>",
           "legendgroup": "WIND",
           "marker": {
            "color": "#FF6692",
            "pattern": {
             "shape": ""
            }
           },
           "name": "WIND",
           "offsetgroup": "WIND",
           "orientation": "v",
           "showlegend": true,
           "textposition": "auto",
           "type": "bar",
           "x": [
            "ID",
            "IN",
            "SD",
            "SN",
            "WD",
            "WN"
           ],
           "xaxis": "x",
           "y": [
            0,
            0,
            0,
            0,
            0,
            0
           ],
           "yaxis": "y"
          },
          {
           "alignmentgroup": "True",
           "hovertemplate": "TECHNOLOGY=NGCC<br>YEAR=2015<br>TIMESLICE=%{x}<br>Values=%{y}<extra></extra>",
           "legendgroup": "NGCC",
           "marker": {
            "color": "#B6E880",
            "pattern": {
             "shape": ""
            }
           },
           "name": "NGCC",
           "offsetgroup": "NGCC",
           "orientation": "v",
           "showlegend": true,
           "textposition": "auto",
           "type": "bar",
           "x": [
            "ID",
            "IN",
            "SD",
            "SN",
            "WD",
            "WN"
           ],
           "xaxis": "x",
           "y": [
            0,
            0,
            0,
            0,
            0,
            0
           ],
           "yaxis": "y"
          },
          {
           "alignmentgroup": "True",
           "hovertemplate": "TECHNOLOGY=NUCLEAR<br>YEAR=2015<br>TIMESLICE=%{x}<br>Values=%{y}<extra></extra>",
           "legendgroup": "NUCLEAR",
           "marker": {
            "color": "#FF97FF",
            "pattern": {
             "shape": ""
            }
           },
           "name": "NUCLEAR",
           "offsetgroup": "NUCLEAR",
           "orientation": "v",
           "showlegend": true,
           "textposition": "auto",
           "type": "bar",
           "x": [
            "ID",
            "IN",
            "SD",
            "SN",
            "WD",
            "WN"
           ],
           "xaxis": "x",
           "y": [
            0,
            0,
            0,
            0,
            0,
            0
           ],
           "yaxis": "y"
          },
          {
           "alignmentgroup": "True",
           "hovertemplate": "TECHNOLOGY=TRANS<br>YEAR=2015<br>TIMESLICE=%{x}<br>Values=%{y}<extra></extra>",
           "legendgroup": "TRANS",
           "marker": {
            "color": "#FECB52",
            "pattern": {
             "shape": ""
            }
           },
           "name": "TRANS",
           "offsetgroup": "TRANS",
           "orientation": "v",
           "showlegend": true,
           "textposition": "auto",
           "type": "bar",
           "x": [
            "ID",
            "IN",
            "SD",
            "SN",
            "WD",
            "WN"
           ],
           "xaxis": "x",
           "y": [
            6.80303154914158,
            8.1341234026023,
            6.64030149278717,
            6.97435184721053,
            5.52763351038886,
            6.02942884647211
           ],
           "yaxis": "y"
          },
          {
           "alignmentgroup": "True",
           "hovertemplate": "TECHNOLOGY=DIST_IND<br>YEAR=2015<br>TIMESLICE=%{x}<br>Values=%{y}<extra></extra>",
           "legendgroup": "DIST_IND",
           "marker": {
            "color": "#636efa",
            "pattern": {
             "shape": ""
            }
           },
           "name": "DIST_IND",
           "offsetgroup": "DIST_IND",
           "orientation": "v",
           "showlegend": true,
           "textposition": "auto",
           "type": "bar",
           "x": [
            "ID",
            "IN",
            "SD",
            "SN",
            "WD",
            "WN"
           ],
           "xaxis": "x",
           "y": [
            2.24048617312503,
            4.48366200552151,
            2.24048617312503,
            4.48366200552151,
            1.12057919309914,
            2.24048617312503
           ],
           "yaxis": "y"
          },
          {
           "alignmentgroup": "True",
           "hovertemplate": "TECHNOLOGY=DIST_TRA<br>YEAR=2015<br>TIMESLICE=%{x}<br>Values=%{y}<extra></extra>",
           "legendgroup": "DIST_TRA",
           "marker": {
            "color": "#EF553B",
            "pattern": {
             "shape": ""
            }
           },
           "name": "DIST_TRA",
           "offsetgroup": "DIST_TRA",
           "orientation": "v",
           "showlegend": true,
           "textposition": "auto",
           "type": "bar",
           "x": [
            "ID",
            "IN",
            "SD",
            "SN",
            "WD",
            "WN"
           ],
           "xaxis": "x",
           "y": [
            0.490021879886626,
            0.15322375332936,
            0.229697756190804,
            0.15322375332936,
            0.26806111781083,
            0.122505469968429
           ],
           "yaxis": "y"
          },
          {
           "alignmentgroup": "True",
           "hovertemplate": "TECHNOLOGY=DIST_RES<br>YEAR=2015<br>TIMESLICE=%{x}<br>Values=%{y}<extra></extra>",
           "legendgroup": "DIST_RES",
           "marker": {
            "color": "#00cc96",
            "pattern": {
             "shape": ""
            }
           },
           "name": "DIST_RES",
           "offsetgroup": "DIST_RES",
           "orientation": "v",
           "showlegend": true,
           "textposition": "auto",
           "type": "bar",
           "x": [
            "ID",
            "IN",
            "SD",
            "SN",
            "WD",
            "WN"
           ],
           "xaxis": "x",
           "y": [
            1.6553117652511,
            2.20840713300277,
            2.06913970657708,
            1.38025445812673,
            2.75968068075927,
            2.75885294210277
           ],
           "yaxis": "y"
          },
          {
           "alignmentgroup": "True",
           "hovertemplate": "TECHNOLOGY=DIST_SER<br>YEAR=2015<br>TIMESLICE=%{x}<br>Values=%{y}<extra></extra>",
           "legendgroup": "DIST_SER",
           "marker": {
            "color": "#ab63fa",
            "pattern": {
             "shape": ""
            }
           },
           "name": "DIST_SER",
           "offsetgroup": "DIST_SER",
           "orientation": "v",
           "showlegend": true,
           "textposition": "auto",
           "type": "bar",
           "x": [
            "ID",
            "IN",
            "SD",
            "SN",
            "WD",
            "WN"
           ],
           "xaxis": "x",
           "y": [
            2.49040725133188,
            1.3417934350291,
            2.10726767420389,
            0.95842388215533,
            1.43720448936171,
            0.957848942809505
           ],
           "yaxis": "y"
          }
         ],
         "name": "2015"
        },
        {
         "data": [
          {
           "alignmentgroup": "True",
           "hovertemplate": "TECHNOLOGY=HF_Imp<br>YEAR=2016<br>TIMESLICE=%{x}<br>Values=%{y}<extra></extra>",
           "legendgroup": "HF_Imp",
           "marker": {
            "color": "#EF553B",
            "pattern": {
             "shape": ""
            }
           },
           "name": "HF_Imp",
           "offsetgroup": "HF_Imp",
           "orientation": "v",
           "showlegend": true,
           "textposition": "auto",
           "type": "bar",
           "x": [
            "ID",
            "IN",
            "SD",
            "SN",
            "WD",
            "WN"
           ],
           "xaxis": "x",
           "y": [
            2.05677792,
            2.05677792,
            2.05677792,
            2.05677792,
            0.532975835835167,
            1.64644095669282
           ],
           "yaxis": "y"
          },
          {
           "alignmentgroup": "True",
           "hovertemplate": "TECHNOLOGY=DS_Imp<br>YEAR=2016<br>TIMESLICE=%{x}<br>Values=%{y}<extra></extra>",
           "legendgroup": "DS_Imp",
           "marker": {
            "color": "#00cc96",
            "pattern": {
             "shape": ""
            }
           },
           "name": "DS_Imp",
           "offsetgroup": "DS_Imp",
           "orientation": "v",
           "showlegend": true,
           "textposition": "auto",
           "type": "bar",
           "x": [
            "ID",
            "IN",
            "SD",
            "SN",
            "WD",
            "WN"
           ],
           "xaxis": "x",
           "y": [
            0,
            0,
            0,
            0,
            0,
            0
           ],
           "yaxis": "y"
          },
          {
           "alignmentgroup": "True",
           "hovertemplate": "TECHNOLOGY=NG_Imp<br>YEAR=2016<br>TIMESLICE=%{x}<br>Values=%{y}<extra></extra>",
           "legendgroup": "NG_Imp",
           "marker": {
            "color": "#ab63fa",
            "pattern": {
             "shape": ""
            }
           },
           "name": "NG_Imp",
           "offsetgroup": "NG_Imp",
           "orientation": "v",
           "showlegend": true,
           "textposition": "auto",
           "type": "bar",
           "x": [
            "ID",
            "IN",
            "SD",
            "SN",
            "WD",
            "WN"
           ],
           "xaxis": "x",
           "y": [
            3.25186774062075,
            6.20624088666524,
            4.04956716249757,
            4.78994085088025,
            0,
            0
           ],
           "yaxis": "y"
          },
          {
           "alignmentgroup": "True",
           "hovertemplate": "TECHNOLOGY=CO_Imp<br>YEAR=2016<br>TIMESLICE=%{x}<br>Values=%{y}<extra></extra>",
           "legendgroup": "CO_Imp",
           "marker": {
            "color": "#FFA15A",
            "pattern": {
             "shape": ""
            }
           },
           "name": "CO_Imp",
           "offsetgroup": "CO_Imp",
           "orientation": "v",
           "showlegend": true,
           "textposition": "auto",
           "type": "bar",
           "x": [
            "ID",
            "IN",
            "SD",
            "SN",
            "WD",
            "WN"
           ],
           "xaxis": "x",
           "y": [
            1.97068464,
            1.97068464,
            1.97068464,
            1.97068464,
            1.97068464,
            1.97068464
           ],
           "yaxis": "y"
          },
          {
           "alignmentgroup": "True",
           "hovertemplate": "TECHNOLOGY=UR_Imp<br>YEAR=2016<br>TIMESLICE=%{x}<br>Values=%{y}<extra></extra>",
           "legendgroup": "UR_Imp",
           "marker": {
            "color": "#19d3f3",
            "pattern": {
             "shape": ""
            }
           },
           "name": "UR_Imp",
           "offsetgroup": "UR_Imp",
           "orientation": "v",
           "showlegend": true,
           "textposition": "auto",
           "type": "bar",
           "x": [
            "ID",
            "IN",
            "SD",
            "SN",
            "WD",
            "WN"
           ],
           "xaxis": "x",
           "y": [
            0,
            0,
            0,
            0,
            0,
            0
           ],
           "yaxis": "y"
          },
          {
           "alignmentgroup": "True",
           "hovertemplate": "TECHNOLOGY=NGSC<br>YEAR=2016<br>TIMESLICE=%{x}<br>Values=%{y}<extra></extra>",
           "legendgroup": "NGSC",
           "marker": {
            "color": "#FF6692",
            "pattern": {
             "shape": ""
            }
           },
           "name": "NGSC",
           "offsetgroup": "NGSC",
           "orientation": "v",
           "showlegend": true,
           "textposition": "auto",
           "type": "bar",
           "x": [
            "ID",
            "IN",
            "SD",
            "SN",
            "WD",
            "WN"
           ],
           "xaxis": "x",
           "y": [
            1.4957993287124,
            2.85475661760131,
            1.86272638569345,
            2.20328466001852,
            0,
            0
           ],
           "yaxis": "y"
          },
          {
           "alignmentgroup": "True",
           "hovertemplate": "TECHNOLOGY=DSGC<br>YEAR=2016<br>TIMESLICE=%{x}<br>Values=%{y}<extra></extra>",
           "legendgroup": "DSGC",
           "marker": {
            "color": "#B6E880",
            "pattern": {
             "shape": ""
            }
           },
           "name": "DSGC",
           "offsetgroup": "DSGC",
           "orientation": "v",
           "showlegend": true,
           "textposition": "auto",
           "type": "bar",
           "x": [
            "ID",
            "IN",
            "SD",
            "SN",
            "WD",
            "WN"
           ],
           "xaxis": "x",
           "y": [
            0,
            0,
            0,
            0,
            0,
            0
           ],
           "yaxis": "y"
          },
          {
           "alignmentgroup": "True",
           "hovertemplate": "TECHNOLOGY=IGCC<br>YEAR=2016<br>TIMESLICE=%{x}<br>Values=%{y}<extra></extra>",
           "legendgroup": "IGCC",
           "marker": {
            "color": "#FF97FF",
            "pattern": {
             "shape": ""
            }
           },
           "name": "IGCC",
           "offsetgroup": "IGCC",
           "orientation": "v",
           "showlegend": true,
           "textposition": "auto",
           "type": "bar",
           "x": [
            "ID",
            "IN",
            "SD",
            "SN",
            "WD",
            "WN"
           ],
           "xaxis": "x",
           "y": [
            0.94608,
            0.94608,
            0.94608,
            0.94608,
            0.94608,
            0.946079999999999
           ],
           "yaxis": "y"
          },
          {
           "alignmentgroup": "True",
           "hovertemplate": "TECHNOLOGY=HFSC<br>YEAR=2016<br>TIMESLICE=%{x}<br>Values=%{y}<extra></extra>",
           "legendgroup": "HFSC",
           "marker": {
            "color": "#FECB52",
            "pattern": {
             "shape": ""
            }
           },
           "name": "HFSC",
           "offsetgroup": "HFSC",
           "orientation": "v",
           "showlegend": true,
           "textposition": "auto",
           "type": "bar",
           "x": [
            "ID",
            "IN",
            "SD",
            "SN",
            "WD",
            "WN"
           ],
           "xaxis": "x",
           "y": [
            0.94608,
            0.94608,
            0.94608,
            0.94608,
            0.245159078121052,
            0.757332546776827
           ],
           "yaxis": "y"
          },
          {
           "alignmentgroup": "True",
           "hovertemplate": "TECHNOLOGY=HYDRO_DAM<br>YEAR=2016<br>TIMESLICE=%{x}<br>Values=%{y}<extra></extra>",
           "legendgroup": "HYDRO_DAM",
           "marker": {
            "color": "#636efa",
            "pattern": {
             "shape": ""
            }
           },
           "name": "HYDRO_DAM",
           "offsetgroup": "HYDRO_DAM",
           "orientation": "v",
           "showlegend": true,
           "textposition": "auto",
           "type": "bar",
           "x": [
            "ID",
            "IN",
            "SD",
            "SN",
            "WD",
            "WN"
           ],
           "xaxis": "x",
           "y": [
            3.56923926671303,
            3.56923926671303,
            3.03385337670608,
            3.03385337670608,
            4.46154908339129,
            4.46154908339129
           ],
           "yaxis": "y"
          },
          {
           "alignmentgroup": "True",
           "hovertemplate": "TECHNOLOGY=HYDRO_MIN<br>YEAR=2016<br>TIMESLICE=%{x}<br>Values=%{y}<extra></extra>",
           "legendgroup": "HYDRO_MIN",
           "marker": {
            "color": "#EF553B",
            "pattern": {
             "shape": ""
            }
           },
           "name": "HYDRO_MIN",
           "offsetgroup": "HYDRO_MIN",
           "orientation": "v",
           "showlegend": true,
           "textposition": "auto",
           "type": "bar",
           "x": [
            "ID",
            "IN",
            "SD",
            "SN",
            "WD",
            "WN"
           ],
           "xaxis": "x",
           "y": [
            0.1766016,
            0.1766016,
            0.1072224,
            0.1072224,
            0.141912,
            0.141912
           ],
           "yaxis": "y"
          },
          {
           "alignmentgroup": "True",
           "hovertemplate": "TECHNOLOGY=DIESEL_GEN<br>YEAR=2016<br>TIMESLICE=%{x}<br>Values=%{y}<extra></extra>",
           "legendgroup": "DIESEL_GEN",
           "marker": {
            "color": "#00cc96",
            "pattern": {
             "shape": ""
            }
           },
           "name": "DIESEL_GEN",
           "offsetgroup": "DIESEL_GEN",
           "orientation": "v",
           "showlegend": true,
           "textposition": "auto",
           "type": "bar",
           "x": [
            "ID",
            "IN",
            "SD",
            "SN",
            "WD",
            "WN"
           ],
           "xaxis": "x",
           "y": [
            0,
            0,
            0,
            0,
            0,
            0
           ],
           "yaxis": "y"
          },
          {
           "alignmentgroup": "True",
           "hovertemplate": "TECHNOLOGY=CSP<br>YEAR=2016<br>TIMESLICE=%{x}<br>Values=%{y}<extra></extra>",
           "legendgroup": "CSP",
           "marker": {
            "color": "#ab63fa",
            "pattern": {
             "shape": ""
            }
           },
           "name": "CSP",
           "offsetgroup": "CSP",
           "orientation": "v",
           "showlegend": true,
           "textposition": "auto",
           "type": "bar",
           "x": [
            "ID",
            "IN",
            "SD",
            "SN",
            "WD",
            "WN"
           ],
           "xaxis": "x",
           "y": [
            0,
            0,
            0,
            0,
            0,
            0
           ],
           "yaxis": "y"
          },
          {
           "alignmentgroup": "True",
           "hovertemplate": "TECHNOLOGY=PV_UTL<br>YEAR=2016<br>TIMESLICE=%{x}<br>Values=%{y}<extra></extra>",
           "legendgroup": "PV_UTL",
           "marker": {
            "color": "#FFA15A",
            "pattern": {
             "shape": ""
            }
           },
           "name": "PV_UTL",
           "offsetgroup": "PV_UTL",
           "orientation": "v",
           "showlegend": true,
           "textposition": "auto",
           "type": "bar",
           "x": [
            "ID",
            "IN",
            "SD",
            "SN",
            "WD",
            "WN"
           ],
           "xaxis": "x",
           "y": [
            0,
            0,
            0,
            0,
            0,
            0
           ],
           "yaxis": "y"
          },
          {
           "alignmentgroup": "True",
           "hovertemplate": "TECHNOLOGY=PV_ROF<br>YEAR=2016<br>TIMESLICE=%{x}<br>Values=%{y}<extra></extra>",
           "legendgroup": "PV_ROF",
           "marker": {
            "color": "#19d3f3",
            "pattern": {
             "shape": ""
            }
           },
           "name": "PV_ROF",
           "offsetgroup": "PV_ROF",
           "orientation": "v",
           "showlegend": true,
           "textposition": "auto",
           "type": "bar",
           "x": [
            "ID",
            "IN",
            "SD",
            "SN",
            "WD",
            "WN"
           ],
           "xaxis": "x",
           "y": [
            0,
            0,
            0,
            0,
            0,
            0
           ],
           "yaxis": "y"
          },
          {
           "alignmentgroup": "True",
           "hovertemplate": "TECHNOLOGY=WIND<br>YEAR=2016<br>TIMESLICE=%{x}<br>Values=%{y}<extra></extra>",
           "legendgroup": "WIND",
           "marker": {
            "color": "#FF6692",
            "pattern": {
             "shape": ""
            }
           },
           "name": "WIND",
           "offsetgroup": "WIND",
           "orientation": "v",
           "showlegend": true,
           "textposition": "auto",
           "type": "bar",
           "x": [
            "ID",
            "IN",
            "SD",
            "SN",
            "WD",
            "WN"
           ],
           "xaxis": "x",
           "y": [
            0,
            0,
            0,
            0,
            0,
            0
           ],
           "yaxis": "y"
          },
          {
           "alignmentgroup": "True",
           "hovertemplate": "TECHNOLOGY=NGCC<br>YEAR=2016<br>TIMESLICE=%{x}<br>Values=%{y}<extra></extra>",
           "legendgroup": "NGCC",
           "marker": {
            "color": "#B6E880",
            "pattern": {
             "shape": ""
            }
           },
           "name": "NGCC",
           "offsetgroup": "NGCC",
           "orientation": "v",
           "showlegend": true,
           "textposition": "auto",
           "type": "bar",
           "x": [
            "ID",
            "IN",
            "SD",
            "SN",
            "WD",
            "WN"
           ],
           "xaxis": "x",
           "y": [
            0,
            0,
            0,
            0,
            0,
            0
           ],
           "yaxis": "y"
          },
          {
           "alignmentgroup": "True",
           "hovertemplate": "TECHNOLOGY=NUCLEAR<br>YEAR=2016<br>TIMESLICE=%{x}<br>Values=%{y}<extra></extra>",
           "legendgroup": "NUCLEAR",
           "marker": {
            "color": "#FF97FF",
            "pattern": {
             "shape": ""
            }
           },
           "name": "NUCLEAR",
           "offsetgroup": "NUCLEAR",
           "orientation": "v",
           "showlegend": true,
           "textposition": "auto",
           "type": "bar",
           "x": [
            "ID",
            "IN",
            "SD",
            "SN",
            "WD",
            "WN"
           ],
           "xaxis": "x",
           "y": [
            0,
            0,
            0,
            0,
            0,
            0
           ],
           "yaxis": "y"
          },
          {
           "alignmentgroup": "True",
           "hovertemplate": "TECHNOLOGY=TRANS<br>YEAR=2016<br>TIMESLICE=%{x}<br>Values=%{y}<extra></extra>",
           "legendgroup": "TRANS",
           "marker": {
            "color": "#FECB52",
            "pattern": {
             "shape": ""
            }
           },
           "name": "TRANS",
           "offsetgroup": "TRANS",
           "orientation": "v",
           "showlegend": true,
           "textposition": "auto",
           "type": "bar",
           "x": [
            "ID",
            "IN",
            "SD",
            "SN",
            "WD",
            "WN"
           ],
           "xaxis": "x",
           "y": [
            6.95719859542543,
            8.31615588431434,
            6.78873976239953,
            7.12929803672459,
            5.65278816151234,
            6.16496163016812
           ],
           "yaxis": "y"
          },
          {
           "alignmentgroup": "True",
           "hovertemplate": "TECHNOLOGY=DIST_IND<br>YEAR=2016<br>TIMESLICE=%{x}<br>Values=%{y}<extra></extra>",
           "legendgroup": "DIST_IND",
           "marker": {
            "color": "#636efa",
            "pattern": {
             "shape": ""
            }
           },
           "name": "DIST_IND",
           "offsetgroup": "DIST_IND",
           "orientation": "v",
           "showlegend": true,
           "textposition": "auto",
           "type": "bar",
           "x": [
            "ID",
            "IN",
            "SD",
            "SN",
            "WD",
            "WN"
           ],
           "xaxis": "x",
           "y": [
            2.28914737928809,
            4.58104283466177,
            2.28914737928809,
            4.58104283466177,
            1.14491709609159,
            2.28914737928809
           ],
           "yaxis": "y"
          },
          {
           "alignmentgroup": "True",
           "hovertemplate": "TECHNOLOGY=DIST_TRA<br>YEAR=2016<br>TIMESLICE=%{x}<br>Values=%{y}<extra></extra>",
           "legendgroup": "DIST_TRA",
           "marker": {
            "color": "#EF553B",
            "pattern": {
             "shape": ""
            }
           },
           "name": "DIST_TRA",
           "offsetgroup": "DIST_TRA",
           "orientation": "v",
           "showlegend": true,
           "textposition": "auto",
           "type": "bar",
           "x": [
            "ID",
            "IN",
            "SD",
            "SN",
            "WD",
            "WN"
           ],
           "xaxis": "x",
           "y": [
            0.501925245363964,
            0.15694578782319,
            0.235277458770338,
            0.15694578782319,
            0.274572723911498,
            0.12548131134418
           ],
           "yaxis": "y"
          },
          {
           "alignmentgroup": "True",
           "hovertemplate": "TECHNOLOGY=DIST_RES<br>YEAR=2016<br>TIMESLICE=%{x}<br>Values=%{y}<extra></extra>",
           "legendgroup": "DIST_RES",
           "marker": {
            "color": "#00cc96",
            "pattern": {
             "shape": ""
            }
           },
           "name": "DIST_RES",
           "offsetgroup": "DIST_RES",
           "orientation": "v",
           "showlegend": true,
           "textposition": "auto",
           "type": "bar",
           "x": [
            "ID",
            "IN",
            "SD",
            "SN",
            "WD",
            "WN"
           ],
           "xaxis": "x",
           "y": [
            1.69176582212094,
            2.25704171705001,
            2.11470727764327,
            1.41065107313625,
            2.82045567103217,
            2.81960970352436
           ],
           "yaxis": "y"
          },
          {
           "alignmentgroup": "True",
           "hovertemplate": "TECHNOLOGY=DIST_SER<br>YEAR=2016<br>TIMESLICE=%{x}<br>Values=%{y}<extra></extra>",
           "legendgroup": "DIST_SER",
           "marker": {
            "color": "#ab63fa",
            "pattern": {
             "shape": ""
            }
           },
           "name": "DIST_SER",
           "offsetgroup": "DIST_SER",
           "orientation": "v",
           "showlegend": true,
           "textposition": "auto",
           "type": "bar",
           "x": [
            "ID",
            "IN",
            "SD",
            "SN",
            "WD",
            "WN"
           ],
           "xaxis": "x",
           "y": [
            2.54521233000196,
            1.37132157533779,
            2.15364120230935,
            0.979515410945169,
            1.4688322904221,
            0.978927819232922
           ],
           "yaxis": "y"
          }
         ],
         "name": "2016"
        },
        {
         "data": [
          {
           "alignmentgroup": "True",
           "hovertemplate": "TECHNOLOGY=HF_Imp<br>YEAR=2017<br>TIMESLICE=%{x}<br>Values=%{y}<extra></extra>",
           "legendgroup": "HF_Imp",
           "marker": {
            "color": "#EF553B",
            "pattern": {
             "shape": ""
            }
           },
           "name": "HF_Imp",
           "offsetgroup": "HF_Imp",
           "orientation": "v",
           "showlegend": true,
           "textposition": "auto",
           "type": "bar",
           "x": [
            "ID",
            "IN",
            "SD",
            "SN",
            "WD",
            "WN"
           ],
           "xaxis": "x",
           "y": [
            2.05677792,
            2.05677792,
            2.05677792,
            2.05677792,
            0.909949642523783,
            2.05677792
           ],
           "yaxis": "y"
          },
          {
           "alignmentgroup": "True",
           "hovertemplate": "TECHNOLOGY=DS_Imp<br>YEAR=2017<br>TIMESLICE=%{x}<br>Values=%{y}<extra></extra>",
           "legendgroup": "DS_Imp",
           "marker": {
            "color": "#00cc96",
            "pattern": {
             "shape": ""
            }
           },
           "name": "DS_Imp",
           "offsetgroup": "DS_Imp",
           "orientation": "v",
           "showlegend": true,
           "textposition": "auto",
           "type": "bar",
           "x": [
            "ID",
            "IN",
            "SD",
            "SN",
            "WD",
            "WN"
           ],
           "xaxis": "x",
           "y": [
            0,
            0,
            0,
            0,
            0,
            0
           ],
           "yaxis": "y"
          },
          {
           "alignmentgroup": "True",
           "hovertemplate": "TECHNOLOGY=NG_Imp<br>YEAR=2017<br>TIMESLICE=%{x}<br>Values=%{y}<extra></extra>",
           "legendgroup": "NG_Imp",
           "marker": {
            "color": "#ab63fa",
            "pattern": {
             "shape": ""
            }
           },
           "name": "NG_Imp",
           "offsetgroup": "NG_Imp",
           "orientation": "v",
           "showlegend": true,
           "textposition": "auto",
           "type": "bar",
           "x": [
            "ID",
            "IN",
            "SD",
            "SN",
            "WD",
            "WN"
           ],
           "xaxis": "x",
           "y": [
            3.71585425680393,
            6.75872475045453,
            4.49890954056461,
            5.26025876239699,
            0,
            0
           ],
           "yaxis": "y"
          },
          {
           "alignmentgroup": "True",
           "hovertemplate": "TECHNOLOGY=CO_Imp<br>YEAR=2017<br>TIMESLICE=%{x}<br>Values=%{y}<extra></extra>",
           "legendgroup": "CO_Imp",
           "marker": {
            "color": "#FFA15A",
            "pattern": {
             "shape": ""
            }
           },
           "name": "CO_Imp",
           "offsetgroup": "CO_Imp",
           "orientation": "v",
           "showlegend": true,
           "textposition": "auto",
           "type": "bar",
           "x": [
            "ID",
            "IN",
            "SD",
            "SN",
            "WD",
            "WN"
           ],
           "xaxis": "x",
           "y": [
            1.97068464,
            1.97068464,
            1.97068464,
            1.97068464,
            1.97068464,
            1.97068464
           ],
           "yaxis": "y"
          },
          {
           "alignmentgroup": "True",
           "hovertemplate": "TECHNOLOGY=UR_Imp<br>YEAR=2017<br>TIMESLICE=%{x}<br>Values=%{y}<extra></extra>",
           "legendgroup": "UR_Imp",
           "marker": {
            "color": "#19d3f3",
            "pattern": {
             "shape": ""
            }
           },
           "name": "UR_Imp",
           "offsetgroup": "UR_Imp",
           "orientation": "v",
           "showlegend": true,
           "textposition": "auto",
           "type": "bar",
           "x": [
            "ID",
            "IN",
            "SD",
            "SN",
            "WD",
            "WN"
           ],
           "xaxis": "x",
           "y": [
            0,
            0,
            0,
            0,
            0,
            0
           ],
           "yaxis": "y"
          },
          {
           "alignmentgroup": "True",
           "hovertemplate": "TECHNOLOGY=NGSC<br>YEAR=2017<br>TIMESLICE=%{x}<br>Values=%{y}<extra></extra>",
           "legendgroup": "NGSC",
           "marker": {
            "color": "#FF6692",
            "pattern": {
             "shape": ""
            }
           },
           "name": "NGSC",
           "offsetgroup": "NGSC",
           "orientation": "v",
           "showlegend": true,
           "textposition": "auto",
           "type": "bar",
           "x": [
            "ID",
            "IN",
            "SD",
            "SN",
            "WD",
            "WN"
           ],
           "xaxis": "x",
           "y": [
            1.70922458914624,
            3.1088890296479,
            2.06941561203524,
            2.41962224581278,
            0,
            0
           ],
           "yaxis": "y"
          },
          {
           "alignmentgroup": "True",
           "hovertemplate": "TECHNOLOGY=DSGC<br>YEAR=2017<br>TIMESLICE=%{x}<br>Values=%{y}<extra></extra>",
           "legendgroup": "DSGC",
           "marker": {
            "color": "#B6E880",
            "pattern": {
             "shape": ""
            }
           },
           "name": "DSGC",
           "offsetgroup": "DSGC",
           "orientation": "v",
           "showlegend": true,
           "textposition": "auto",
           "type": "bar",
           "x": [
            "ID",
            "IN",
            "SD",
            "SN",
            "WD",
            "WN"
           ],
           "xaxis": "x",
           "y": [
            0,
            0,
            0,
            0,
            0,
            0
           ],
           "yaxis": "y"
          },
          {
           "alignmentgroup": "True",
           "hovertemplate": "TECHNOLOGY=IGCC<br>YEAR=2017<br>TIMESLICE=%{x}<br>Values=%{y}<extra></extra>",
           "legendgroup": "IGCC",
           "marker": {
            "color": "#FF97FF",
            "pattern": {
             "shape": ""
            }
           },
           "name": "IGCC",
           "offsetgroup": "IGCC",
           "orientation": "v",
           "showlegend": true,
           "textposition": "auto",
           "type": "bar",
           "x": [
            "ID",
            "IN",
            "SD",
            "SN",
            "WD",
            "WN"
           ],
           "xaxis": "x",
           "y": [
            0.94608,
            0.94608,
            0.94608,
            0.94608,
            0.94608,
            0.94608
           ],
           "yaxis": "y"
          },
          {
           "alignmentgroup": "True",
           "hovertemplate": "TECHNOLOGY=HFSC<br>YEAR=2017<br>TIMESLICE=%{x}<br>Values=%{y}<extra></extra>",
           "legendgroup": "HFSC",
           "marker": {
            "color": "#FECB52",
            "pattern": {
             "shape": ""
            }
           },
           "name": "HFSC",
           "offsetgroup": "HFSC",
           "orientation": "v",
           "showlegend": true,
           "textposition": "auto",
           "type": "bar",
           "x": [
            "ID",
            "IN",
            "SD",
            "SN",
            "WD",
            "WN"
           ],
           "xaxis": "x",
           "y": [
            0.94608,
            0.94608,
            0.94608,
            0.94608,
            0.418560093157214,
            0.94608
           ],
           "yaxis": "y"
          },
          {
           "alignmentgroup": "True",
           "hovertemplate": "TECHNOLOGY=HYDRO_DAM<br>YEAR=2017<br>TIMESLICE=%{x}<br>Values=%{y}<extra></extra>",
           "legendgroup": "HYDRO_DAM",
           "marker": {
            "color": "#636efa",
            "pattern": {
             "shape": ""
            }
           },
           "name": "HYDRO_DAM",
           "offsetgroup": "HYDRO_DAM",
           "orientation": "v",
           "showlegend": true,
           "textposition": "auto",
           "type": "bar",
           "x": [
            "ID",
            "IN",
            "SD",
            "SN",
            "WD",
            "WN"
           ],
           "xaxis": "x",
           "y": [
            3.56923926671303,
            3.56923926671303,
            3.03385337670608,
            3.03385337670608,
            4.46154908339129,
            4.46154908339129
           ],
           "yaxis": "y"
          },
          {
           "alignmentgroup": "True",
           "hovertemplate": "TECHNOLOGY=HYDRO_MIN<br>YEAR=2017<br>TIMESLICE=%{x}<br>Values=%{y}<extra></extra>",
           "legendgroup": "HYDRO_MIN",
           "marker": {
            "color": "#EF553B",
            "pattern": {
             "shape": ""
            }
           },
           "name": "HYDRO_MIN",
           "offsetgroup": "HYDRO_MIN",
           "orientation": "v",
           "showlegend": true,
           "textposition": "auto",
           "type": "bar",
           "x": [
            "ID",
            "IN",
            "SD",
            "SN",
            "WD",
            "WN"
           ],
           "xaxis": "x",
           "y": [
            0.1766016,
            0.1766016,
            0.1072224,
            0.1072224,
            0.141912,
            0.141912
           ],
           "yaxis": "y"
          },
          {
           "alignmentgroup": "True",
           "hovertemplate": "TECHNOLOGY=DIESEL_GEN<br>YEAR=2017<br>TIMESLICE=%{x}<br>Values=%{y}<extra></extra>",
           "legendgroup": "DIESEL_GEN",
           "marker": {
            "color": "#00cc96",
            "pattern": {
             "shape": ""
            }
           },
           "name": "DIESEL_GEN",
           "offsetgroup": "DIESEL_GEN",
           "orientation": "v",
           "showlegend": true,
           "textposition": "auto",
           "type": "bar",
           "x": [
            "ID",
            "IN",
            "SD",
            "SN",
            "WD",
            "WN"
           ],
           "xaxis": "x",
           "y": [
            0,
            0,
            0,
            0,
            0,
            0
           ],
           "yaxis": "y"
          },
          {
           "alignmentgroup": "True",
           "hovertemplate": "TECHNOLOGY=CSP<br>YEAR=2017<br>TIMESLICE=%{x}<br>Values=%{y}<extra></extra>",
           "legendgroup": "CSP",
           "marker": {
            "color": "#ab63fa",
            "pattern": {
             "shape": ""
            }
           },
           "name": "CSP",
           "offsetgroup": "CSP",
           "orientation": "v",
           "showlegend": true,
           "textposition": "auto",
           "type": "bar",
           "x": [
            "ID",
            "IN",
            "SD",
            "SN",
            "WD",
            "WN"
           ],
           "xaxis": "x",
           "y": [
            0,
            0,
            0,
            0,
            0,
            0
           ],
           "yaxis": "y"
          },
          {
           "alignmentgroup": "True",
           "hovertemplate": "TECHNOLOGY=PV_UTL<br>YEAR=2017<br>TIMESLICE=%{x}<br>Values=%{y}<extra></extra>",
           "legendgroup": "PV_UTL",
           "marker": {
            "color": "#FFA15A",
            "pattern": {
             "shape": ""
            }
           },
           "name": "PV_UTL",
           "offsetgroup": "PV_UTL",
           "orientation": "v",
           "showlegend": true,
           "textposition": "auto",
           "type": "bar",
           "x": [
            "ID",
            "IN",
            "SD",
            "SN",
            "WD",
            "WN"
           ],
           "xaxis": "x",
           "y": [
            0,
            0,
            0,
            0,
            0,
            0
           ],
           "yaxis": "y"
          },
          {
           "alignmentgroup": "True",
           "hovertemplate": "TECHNOLOGY=PV_ROF<br>YEAR=2017<br>TIMESLICE=%{x}<br>Values=%{y}<extra></extra>",
           "legendgroup": "PV_ROF",
           "marker": {
            "color": "#19d3f3",
            "pattern": {
             "shape": ""
            }
           },
           "name": "PV_ROF",
           "offsetgroup": "PV_ROF",
           "orientation": "v",
           "showlegend": true,
           "textposition": "auto",
           "type": "bar",
           "x": [
            "ID",
            "IN",
            "SD",
            "SN",
            "WD",
            "WN"
           ],
           "xaxis": "x",
           "y": [
            0,
            0,
            0,
            0,
            0,
            0
           ],
           "yaxis": "y"
          },
          {
           "alignmentgroup": "True",
           "hovertemplate": "TECHNOLOGY=WIND<br>YEAR=2017<br>TIMESLICE=%{x}<br>Values=%{y}<extra></extra>",
           "legendgroup": "WIND",
           "marker": {
            "color": "#FF6692",
            "pattern": {
             "shape": ""
            }
           },
           "name": "WIND",
           "offsetgroup": "WIND",
           "orientation": "v",
           "showlegend": true,
           "textposition": "auto",
           "type": "bar",
           "x": [
            "ID",
            "IN",
            "SD",
            "SN",
            "WD",
            "WN"
           ],
           "xaxis": "x",
           "y": [
            0,
            0,
            0,
            0,
            0,
            0
           ],
           "yaxis": "y"
          },
          {
           "alignmentgroup": "True",
           "hovertemplate": "TECHNOLOGY=NGCC<br>YEAR=2017<br>TIMESLICE=%{x}<br>Values=%{y}<extra></extra>",
           "legendgroup": "NGCC",
           "marker": {
            "color": "#B6E880",
            "pattern": {
             "shape": ""
            }
           },
           "name": "NGCC",
           "offsetgroup": "NGCC",
           "orientation": "v",
           "showlegend": true,
           "textposition": "auto",
           "type": "bar",
           "x": [
            "ID",
            "IN",
            "SD",
            "SN",
            "WD",
            "WN"
           ],
           "xaxis": "x",
           "y": [
            0,
            0,
            0,
            0,
            0,
            0
           ],
           "yaxis": "y"
          },
          {
           "alignmentgroup": "True",
           "hovertemplate": "TECHNOLOGY=NUCLEAR<br>YEAR=2017<br>TIMESLICE=%{x}<br>Values=%{y}<extra></extra>",
           "legendgroup": "NUCLEAR",
           "marker": {
            "color": "#FF97FF",
            "pattern": {
             "shape": ""
            }
           },
           "name": "NUCLEAR",
           "offsetgroup": "NUCLEAR",
           "orientation": "v",
           "showlegend": true,
           "textposition": "auto",
           "type": "bar",
           "x": [
            "ID",
            "IN",
            "SD",
            "SN",
            "WD",
            "WN"
           ],
           "xaxis": "x",
           "y": [
            0,
            0,
            0,
            0,
            0,
            0
           ],
           "yaxis": "y"
          },
          {
           "alignmentgroup": "True",
           "hovertemplate": "TECHNOLOGY=TRANS<br>YEAR=2017<br>TIMESLICE=%{x}<br>Values=%{y}<extra></extra>",
           "legendgroup": "TRANS",
           "marker": {
            "color": "#FECB52",
            "pattern": {
             "shape": ""
            }
           },
           "name": "TRANS",
           "offsetgroup": "TRANS",
           "orientation": "v",
           "showlegend": true,
           "textposition": "auto",
           "type": "bar",
           "x": [
            "ID",
            "IN",
            "SD",
            "SN",
            "WD",
            "WN"
           ],
           "xaxis": "x",
           "y": [
            7.17062385585927,
            8.57028829636093,
            6.99542898874132,
            7.34563562251886,
            5.8261891765485,
            6.35370908339129
           ],
           "yaxis": "y"
          },
          {
           "alignmentgroup": "True",
           "hovertemplate": "TECHNOLOGY=DIST_IND<br>YEAR=2017<br>TIMESLICE=%{x}<br>Values=%{y}<extra></extra>",
           "legendgroup": "DIST_IND",
           "marker": {
            "color": "#636efa",
            "pattern": {
             "shape": ""
            }
           },
           "name": "DIST_IND",
           "offsetgroup": "DIST_IND",
           "orientation": "v",
           "showlegend": true,
           "textposition": "auto",
           "type": "bar",
           "x": [
            "ID",
            "IN",
            "SD",
            "SN",
            "WD",
            "WN"
           ],
           "xaxis": "x",
           "y": [
            2.35748013687878,
            4.71779038196511,
            2.35748013687878,
            4.71779038196511,
            1.17909372582566,
            2.35748013687878
           ],
           "yaxis": "y"
          },
          {
           "alignmentgroup": "True",
           "hovertemplate": "TECHNOLOGY=DIST_TRA<br>YEAR=2017<br>TIMESLICE=%{x}<br>Values=%{y}<extra></extra>",
           "legendgroup": "DIST_TRA",
           "marker": {
            "color": "#EF553B",
            "pattern": {
             "shape": ""
            }
           },
           "name": "DIST_TRA",
           "offsetgroup": "DIST_TRA",
           "orientation": "v",
           "showlegend": true,
           "textposition": "auto",
           "type": "bar",
           "x": [
            "ID",
            "IN",
            "SD",
            "SN",
            "WD",
            "WN"
           ],
           "xaxis": "x",
           "y": [
            0.515812505109352,
            0.161288161399326,
            0.241787111779794,
            0.161288161399326,
            0.282169597695611,
            0.128953126282557
           ],
           "yaxis": "y"
          },
          {
           "alignmentgroup": "True",
           "hovertemplate": "TECHNOLOGY=DIST_RES<br>YEAR=2017<br>TIMESLICE=%{x}<br>Values=%{y}<extra></extra>",
           "legendgroup": "DIST_RES",
           "marker": {
            "color": "#00cc96",
            "pattern": {
             "shape": ""
            }
           },
           "name": "DIST_RES",
           "offsetgroup": "DIST_RES",
           "orientation": "v",
           "showlegend": true,
           "textposition": "auto",
           "type": "bar",
           "x": [
            "ID",
            "IN",
            "SD",
            "SN",
            "WD",
            "WN"
           ],
           "xaxis": "x",
           "y": [
            1.74235512549058,
            2.32453460921533,
            2.17794390687799,
            1.45283413077414,
            2.90479647385987,
            2.90392520917065
           ],
           "yaxis": "y"
          },
          {
           "alignmentgroup": "True",
           "hovertemplate": "TECHNOLOGY=DIST_SER<br>YEAR=2017<br>TIMESLICE=%{x}<br>Values=%{y}<extra></extra>",
           "legendgroup": "DIST_SER",
           "marker": {
            "color": "#ab63fa",
            "pattern": {
             "shape": ""
            }
           },
           "name": "DIST_SER",
           "offsetgroup": "DIST_SER",
           "orientation": "v",
           "showlegend": true,
           "textposition": "auto",
           "type": "bar",
           "x": [
            "ID",
            "IN",
            "SD",
            "SN",
            "WD",
            "WN"
           ],
           "xaxis": "x",
           "y": [
            2.6225842057715,
            1.41300836167648,
            2.21910971257588,
            1.009291686918,
            1.51348330368382,
            1.00868623299175
           ],
           "yaxis": "y"
          }
         ],
         "name": "2017"
        },
        {
         "data": [
          {
           "alignmentgroup": "True",
           "hovertemplate": "TECHNOLOGY=HF_Imp<br>YEAR=2018<br>TIMESLICE=%{x}<br>Values=%{y}<extra></extra>",
           "legendgroup": "HF_Imp",
           "marker": {
            "color": "#EF553B",
            "pattern": {
             "shape": ""
            }
           },
           "name": "HF_Imp",
           "offsetgroup": "HF_Imp",
           "orientation": "v",
           "showlegend": true,
           "textposition": "auto",
           "type": "bar",
           "x": [
            "ID",
            "IN",
            "SD",
            "SN",
            "WD",
            "WN"
           ],
           "xaxis": "x",
           "y": [
            0,
            0.0683064231910755,
            0,
            0,
            0,
            0
           ],
           "yaxis": "y"
          },
          {
           "alignmentgroup": "True",
           "hovertemplate": "TECHNOLOGY=DS_Imp<br>YEAR=2018<br>TIMESLICE=%{x}<br>Values=%{y}<extra></extra>",
           "legendgroup": "DS_Imp",
           "marker": {
            "color": "#00cc96",
            "pattern": {
             "shape": ""
            }
           },
           "name": "DS_Imp",
           "offsetgroup": "DS_Imp",
           "orientation": "v",
           "showlegend": true,
           "textposition": "auto",
           "type": "bar",
           "x": [
            "ID",
            "IN",
            "SD",
            "SN",
            "WD",
            "WN"
           ],
           "xaxis": "x",
           "y": [
            0,
            0,
            0,
            0,
            0,
            0
           ],
           "yaxis": "y"
          },
          {
           "alignmentgroup": "True",
           "hovertemplate": "TECHNOLOGY=NG_Imp<br>YEAR=2018<br>TIMESLICE=%{x}<br>Values=%{y}<extra></extra>",
           "legendgroup": "NG_Imp",
           "marker": {
            "color": "#ab63fa",
            "pattern": {
             "shape": ""
            }
           },
           "name": "NG_Imp",
           "offsetgroup": "NG_Imp",
           "orientation": "v",
           "showlegend": true,
           "textposition": "auto",
           "type": "bar",
           "x": [
            "ID",
            "IN",
            "SD",
            "SN",
            "WD",
            "WN"
           ],
           "xaxis": "x",
           "y": [
            3.7729138533435,
            6.8559264,
            4.53543997137321,
            5.32497660016385,
            0,
            0
           ],
           "yaxis": "y"
          },
          {
           "alignmentgroup": "True",
           "hovertemplate": "TECHNOLOGY=CO_Imp<br>YEAR=2018<br>TIMESLICE=%{x}<br>Values=%{y}<extra></extra>",
           "legendgroup": "CO_Imp",
           "marker": {
            "color": "#FFA15A",
            "pattern": {
             "shape": ""
            }
           },
           "name": "CO_Imp",
           "offsetgroup": "CO_Imp",
           "orientation": "v",
           "showlegend": true,
           "textposition": "auto",
           "type": "bar",
           "x": [
            "ID",
            "IN",
            "SD",
            "SN",
            "WD",
            "WN"
           ],
           "xaxis": "x",
           "y": [
            1.97068464,
            1.97068464,
            1.97068464,
            1.97068464,
            1.97068464,
            1.97068464
           ],
           "yaxis": "y"
          },
          {
           "alignmentgroup": "True",
           "hovertemplate": "TECHNOLOGY=UR_Imp<br>YEAR=2018<br>TIMESLICE=%{x}<br>Values=%{y}<extra></extra>",
           "legendgroup": "UR_Imp",
           "marker": {
            "color": "#19d3f3",
            "pattern": {
             "shape": ""
            }
           },
           "name": "UR_Imp",
           "offsetgroup": "UR_Imp",
           "orientation": "v",
           "showlegend": true,
           "textposition": "auto",
           "type": "bar",
           "x": [
            "ID",
            "IN",
            "SD",
            "SN",
            "WD",
            "WN"
           ],
           "xaxis": "x",
           "y": [
            3.94859554139813,
            3.94859554139813,
            3.94859554139813,
            3.94859554139813,
            2.11092450305842,
            3.93200015455846
           ],
           "yaxis": "y"
          },
          {
           "alignmentgroup": "True",
           "hovertemplate": "TECHNOLOGY=NGSC<br>YEAR=2018<br>TIMESLICE=%{x}<br>Values=%{y}<extra></extra>",
           "legendgroup": "NGSC",
           "marker": {
            "color": "#FF6692",
            "pattern": {
             "shape": ""
            }
           },
           "name": "NGSC",
           "offsetgroup": "NGSC",
           "orientation": "v",
           "showlegend": true,
           "textposition": "auto",
           "type": "bar",
           "x": [
            "ID",
            "IN",
            "SD",
            "SN",
            "WD",
            "WN"
           ],
           "xaxis": "x",
           "y": [
            1.73547095369986,
            3.1536,
            2.08621893807415,
            2.44939126042495,
            0,
            0
           ],
           "yaxis": "y"
          },
          {
           "alignmentgroup": "True",
           "hovertemplate": "TECHNOLOGY=DSGC<br>YEAR=2018<br>TIMESLICE=%{x}<br>Values=%{y}<extra></extra>",
           "legendgroup": "DSGC",
           "marker": {
            "color": "#B6E880",
            "pattern": {
             "shape": ""
            }
           },
           "name": "DSGC",
           "offsetgroup": "DSGC",
           "orientation": "v",
           "showlegend": true,
           "textposition": "auto",
           "type": "bar",
           "x": [
            "ID",
            "IN",
            "SD",
            "SN",
            "WD",
            "WN"
           ],
           "xaxis": "x",
           "y": [
            0,
            0,
            0,
            0,
            0,
            0
           ],
           "yaxis": "y"
          },
          {
           "alignmentgroup": "True",
           "hovertemplate": "TECHNOLOGY=IGCC<br>YEAR=2018<br>TIMESLICE=%{x}<br>Values=%{y}<extra></extra>",
           "legendgroup": "IGCC",
           "marker": {
            "color": "#FF97FF",
            "pattern": {
             "shape": ""
            }
           },
           "name": "IGCC",
           "offsetgroup": "IGCC",
           "orientation": "v",
           "showlegend": true,
           "textposition": "auto",
           "type": "bar",
           "x": [
            "ID",
            "IN",
            "SD",
            "SN",
            "WD",
            "WN"
           ],
           "xaxis": "x",
           "y": [
            0.94608,
            0.94608,
            0.94608,
            0.94608,
            0.94608,
            0.94608
           ],
           "yaxis": "y"
          },
          {
           "alignmentgroup": "True",
           "hovertemplate": "TECHNOLOGY=HFSC<br>YEAR=2018<br>TIMESLICE=%{x}<br>Values=%{y}<extra></extra>",
           "legendgroup": "HFSC",
           "marker": {
            "color": "#FECB52",
            "pattern": {
             "shape": ""
            }
           },
           "name": "HFSC",
           "offsetgroup": "HFSC",
           "orientation": "v",
           "showlegend": true,
           "textposition": "auto",
           "type": "bar",
           "x": [
            "ID",
            "IN",
            "SD",
            "SN",
            "WD",
            "WN"
           ],
           "xaxis": "x",
           "y": [
            0,
            0.0314196978799796,
            0,
            0,
            0,
            0
           ],
           "yaxis": "y"
          },
          {
           "alignmentgroup": "True",
           "hovertemplate": "TECHNOLOGY=HYDRO_DAM<br>YEAR=2018<br>TIMESLICE=%{x}<br>Values=%{y}<extra></extra>",
           "legendgroup": "HYDRO_DAM",
           "marker": {
            "color": "#636efa",
            "pattern": {
             "shape": ""
            }
           },
           "name": "HYDRO_DAM",
           "offsetgroup": "HYDRO_DAM",
           "orientation": "v",
           "showlegend": true,
           "textposition": "auto",
           "type": "bar",
           "x": [
            "ID",
            "IN",
            "SD",
            "SN",
            "WD",
            "WN"
           ],
           "xaxis": "x",
           "y": [
            3.56923926671303,
            3.56923926671303,
            3.03385337670608,
            3.03385337670608,
            4.46154908339129,
            4.46154908339129
           ],
           "yaxis": "y"
          },
          {
           "alignmentgroup": "True",
           "hovertemplate": "TECHNOLOGY=HYDRO_MIN<br>YEAR=2018<br>TIMESLICE=%{x}<br>Values=%{y}<extra></extra>",
           "legendgroup": "HYDRO_MIN",
           "marker": {
            "color": "#EF553B",
            "pattern": {
             "shape": ""
            }
           },
           "name": "HYDRO_MIN",
           "offsetgroup": "HYDRO_MIN",
           "orientation": "v",
           "showlegend": true,
           "textposition": "auto",
           "type": "bar",
           "x": [
            "ID",
            "IN",
            "SD",
            "SN",
            "WD",
            "WN"
           ],
           "xaxis": "x",
           "y": [
            0.1766016,
            0.1766016,
            0.1072224,
            0.1072224,
            0.141912,
            0.141912
           ],
           "yaxis": "y"
          },
          {
           "alignmentgroup": "True",
           "hovertemplate": "TECHNOLOGY=DIESEL_GEN<br>YEAR=2018<br>TIMESLICE=%{x}<br>Values=%{y}<extra></extra>",
           "legendgroup": "DIESEL_GEN",
           "marker": {
            "color": "#00cc96",
            "pattern": {
             "shape": ""
            }
           },
           "name": "DIESEL_GEN",
           "offsetgroup": "DIESEL_GEN",
           "orientation": "v",
           "showlegend": true,
           "textposition": "auto",
           "type": "bar",
           "x": [
            "ID",
            "IN",
            "SD",
            "SN",
            "WD",
            "WN"
           ],
           "xaxis": "x",
           "y": [
            0,
            0,
            0,
            0,
            0,
            0
           ],
           "yaxis": "y"
          },
          {
           "alignmentgroup": "True",
           "hovertemplate": "TECHNOLOGY=CSP<br>YEAR=2018<br>TIMESLICE=%{x}<br>Values=%{y}<extra></extra>",
           "legendgroup": "CSP",
           "marker": {
            "color": "#ab63fa",
            "pattern": {
             "shape": ""
            }
           },
           "name": "CSP",
           "offsetgroup": "CSP",
           "orientation": "v",
           "showlegend": true,
           "textposition": "auto",
           "type": "bar",
           "x": [
            "ID",
            "IN",
            "SD",
            "SN",
            "WD",
            "WN"
           ],
           "xaxis": "x",
           "y": [
            0,
            0,
            0,
            0,
            0,
            0
           ],
           "yaxis": "y"
          },
          {
           "alignmentgroup": "True",
           "hovertemplate": "TECHNOLOGY=PV_UTL<br>YEAR=2018<br>TIMESLICE=%{x}<br>Values=%{y}<extra></extra>",
           "legendgroup": "PV_UTL",
           "marker": {
            "color": "#FFA15A",
            "pattern": {
             "shape": ""
            }
           },
           "name": "PV_UTL",
           "offsetgroup": "PV_UTL",
           "orientation": "v",
           "showlegend": true,
           "textposition": "auto",
           "type": "bar",
           "x": [
            "ID",
            "IN",
            "SD",
            "SN",
            "WD",
            "WN"
           ],
           "xaxis": "x",
           "y": [
            0,
            0,
            0,
            0,
            0,
            0
           ],
           "yaxis": "y"
          },
          {
           "alignmentgroup": "True",
           "hovertemplate": "TECHNOLOGY=PV_ROF<br>YEAR=2018<br>TIMESLICE=%{x}<br>Values=%{y}<extra></extra>",
           "legendgroup": "PV_ROF",
           "marker": {
            "color": "#19d3f3",
            "pattern": {
             "shape": ""
            }
           },
           "name": "PV_ROF",
           "offsetgroup": "PV_ROF",
           "orientation": "v",
           "showlegend": true,
           "textposition": "auto",
           "type": "bar",
           "x": [
            "ID",
            "IN",
            "SD",
            "SN",
            "WD",
            "WN"
           ],
           "xaxis": "x",
           "y": [
            0,
            0,
            0,
            0,
            0,
            0
           ],
           "yaxis": "y"
          },
          {
           "alignmentgroup": "True",
           "hovertemplate": "TECHNOLOGY=WIND<br>YEAR=2018<br>TIMESLICE=%{x}<br>Values=%{y}<extra></extra>",
           "legendgroup": "WIND",
           "marker": {
            "color": "#FF6692",
            "pattern": {
             "shape": ""
            }
           },
           "name": "WIND",
           "offsetgroup": "WIND",
           "orientation": "v",
           "showlegend": true,
           "textposition": "auto",
           "type": "bar",
           "x": [
            "ID",
            "IN",
            "SD",
            "SN",
            "WD",
            "WN"
           ],
           "xaxis": "x",
           "y": [
            0,
            0,
            0,
            0,
            6.66200434818576e-16,
            -8.87912019454264e-16
           ],
           "yaxis": "y"
          },
          {
           "alignmentgroup": "True",
           "hovertemplate": "TECHNOLOGY=NGCC<br>YEAR=2018<br>TIMESLICE=%{x}<br>Values=%{y}<extra></extra>",
           "legendgroup": "NGCC",
           "marker": {
            "color": "#B6E880",
            "pattern": {
             "shape": ""
            }
           },
           "name": "NGCC",
           "offsetgroup": "NGCC",
           "orientation": "v",
           "showlegend": true,
           "textposition": "auto",
           "type": "bar",
           "x": [
            "ID",
            "IN",
            "SD",
            "SN",
            "WD",
            "WN"
           ],
           "xaxis": "x",
           "y": [
            0,
            0,
            0,
            0,
            0,
            0
           ],
           "yaxis": "y"
          },
          {
           "alignmentgroup": "True",
           "hovertemplate": "TECHNOLOGY=NUCLEAR<br>YEAR=2018<br>TIMESLICE=%{x}<br>Values=%{y}<extra></extra>",
           "legendgroup": "NUCLEAR",
           "marker": {
            "color": "#FF97FF",
            "pattern": {
             "shape": ""
            }
           },
           "name": "NUCLEAR",
           "offsetgroup": "NUCLEAR",
           "orientation": "v",
           "showlegend": true,
           "textposition": "auto",
           "type": "bar",
           "x": [
            "ID",
            "IN",
            "SD",
            "SN",
            "WD",
            "WN"
           ],
           "xaxis": "x",
           "y": [
            1.18457866241944,
            1.18457866241944,
            1.18457866241944,
            1.18457866241944,
            0.633277350917526,
            1.17960004636754
           ],
           "yaxis": "y"
          },
          {
           "alignmentgroup": "True",
           "hovertemplate": "TECHNOLOGY=TRANS<br>YEAR=2018<br>TIMESLICE=%{x}<br>Values=%{y}<extra></extra>",
           "legendgroup": "TRANS",
           "marker": {
            "color": "#FECB52",
            "pattern": {
             "shape": ""
            }
           },
           "name": "TRANS",
           "offsetgroup": "TRANS",
           "orientation": "v",
           "showlegend": true,
           "textposition": "auto",
           "type": "bar",
           "x": [
            "ID",
            "IN",
            "SD",
            "SN",
            "WD",
            "WN"
           ],
           "xaxis": "x",
           "y": [
            7.43536888283234,
            8.88491762701245,
            7.25073097719967,
            7.61390329955047,
            6.04090643430882,
            6.58722912975882
           ],
           "yaxis": "y"
          },
          {
           "alignmentgroup": "True",
           "hovertemplate": "TECHNOLOGY=DIST_IND<br>YEAR=2018<br>TIMESLICE=%{x}<br>Values=%{y}<extra></extra>",
           "legendgroup": "DIST_IND",
           "marker": {
            "color": "#636efa",
            "pattern": {
             "shape": ""
            }
           },
           "name": "DIST_IND",
           "offsetgroup": "DIST_IND",
           "orientation": "v",
           "showlegend": true,
           "textposition": "auto",
           "type": "bar",
           "x": [
            "ID",
            "IN",
            "SD",
            "SN",
            "WD",
            "WN"
           ],
           "xaxis": "x",
           "y": [
            2.44237841146116,
            4.88768884982683,
            2.44237841146116,
            4.88768884982683,
            1.22155559913164,
            2.44237841146116
           ],
           "yaxis": "y"
          },
          {
           "alignmentgroup": "True",
           "hovertemplate": "TECHNOLOGY=DIST_TRA<br>YEAR=2018<br>TIMESLICE=%{x}<br>Values=%{y}<extra></extra>",
           "legendgroup": "DIST_TRA",
           "marker": {
            "color": "#EF553B",
            "pattern": {
             "shape": ""
            }
           },
           "name": "DIST_TRA",
           "offsetgroup": "DIST_TRA",
           "orientation": "v",
           "showlegend": true,
           "textposition": "auto",
           "type": "bar",
           "x": [
            "ID",
            "IN",
            "SD",
            "SN",
            "WD",
            "WN"
           ],
           "xaxis": "x",
           "y": [
            0.535651447629789,
            0.167491552222377,
            0.251086616079017,
            0.167491552222377,
            0.293022274530057,
            0.133912861908809
           ],
           "yaxis": "y"
          },
          {
           "alignmentgroup": "True",
           "hovertemplate": "TECHNOLOGY=DIST_RES<br>YEAR=2018<br>TIMESLICE=%{x}<br>Values=%{y}<extra></extra>",
           "legendgroup": "DIST_RES",
           "marker": {
            "color": "#00cc96",
            "pattern": {
             "shape": ""
            }
           },
           "name": "DIST_RES",
           "offsetgroup": "DIST_RES",
           "orientation": "v",
           "showlegend": true,
           "textposition": "auto",
           "type": "bar",
           "x": [
            "ID",
            "IN",
            "SD",
            "SN",
            "WD",
            "WN"
           ],
           "xaxis": "x",
           "y": [
            1.80484779439599,
            2.40790818187816,
            2.25605974299146,
            1.50494261366839,
            3.00898217147056,
            3.00807965732195
           ],
           "yaxis": "y"
          },
          {
           "alignmentgroup": "True",
           "hovertemplate": "TECHNOLOGY=DIST_SER<br>YEAR=2018<br>TIMESLICE=%{x}<br>Values=%{y}<extra></extra>",
           "legendgroup": "DIST_SER",
           "marker": {
            "color": "#ab63fa",
            "pattern": {
             "shape": ""
            }
           },
           "name": "DIST_SER",
           "offsetgroup": "DIST_SER",
           "orientation": "v",
           "showlegend": true,
           "textposition": "auto",
           "type": "bar",
           "x": [
            "ID",
            "IN",
            "SD",
            "SN",
            "WD",
            "WN"
           ],
           "xaxis": "x",
           "y": [
            2.71607522232635,
            1.4633798951545,
            2.2982174958146,
            1.04527135367971,
            1.56743661137507,
            1.04464431629458
           ],
           "yaxis": "y"
          }
         ],
         "name": "2018"
        },
        {
         "data": [
          {
           "alignmentgroup": "True",
           "hovertemplate": "TECHNOLOGY=HF_Imp<br>YEAR=2019<br>TIMESLICE=%{x}<br>Values=%{y}<extra></extra>",
           "legendgroup": "HF_Imp",
           "marker": {
            "color": "#EF553B",
            "pattern": {
             "shape": ""
            }
           },
           "name": "HF_Imp",
           "offsetgroup": "HF_Imp",
           "orientation": "v",
           "showlegend": true,
           "textposition": "auto",
           "type": "bar",
           "x": [
            "ID",
            "IN",
            "SD",
            "SN",
            "WD",
            "WN"
           ],
           "xaxis": "x",
           "y": [
            0,
            0,
            0,
            0,
            0,
            0
           ],
           "yaxis": "y"
          },
          {
           "alignmentgroup": "True",
           "hovertemplate": "TECHNOLOGY=DS_Imp<br>YEAR=2019<br>TIMESLICE=%{x}<br>Values=%{y}<extra></extra>",
           "legendgroup": "DS_Imp",
           "marker": {
            "color": "#00cc96",
            "pattern": {
             "shape": ""
            }
           },
           "name": "DS_Imp",
           "offsetgroup": "DS_Imp",
           "orientation": "v",
           "showlegend": true,
           "textposition": "auto",
           "type": "bar",
           "x": [
            "ID",
            "IN",
            "SD",
            "SN",
            "WD",
            "WN"
           ],
           "xaxis": "x",
           "y": [
            0,
            0,
            0,
            0,
            0,
            0
           ],
           "yaxis": "y"
          },
          {
           "alignmentgroup": "True",
           "hovertemplate": "TECHNOLOGY=NG_Imp<br>YEAR=2019<br>TIMESLICE=%{x}<br>Values=%{y}<extra></extra>",
           "legendgroup": "NG_Imp",
           "marker": {
            "color": "#ab63fa",
            "pattern": {
             "shape": ""
            }
           },
           "name": "NG_Imp",
           "offsetgroup": "NG_Imp",
           "orientation": "v",
           "showlegend": true,
           "textposition": "auto",
           "type": "bar",
           "x": [
            "ID",
            "IN",
            "SD",
            "SN",
            "WD",
            "WN"
           ],
           "xaxis": "x",
           "y": [
            3.61506591316399,
            6.87500639902117,
            4.04127829906771,
            4.85808097876526,
            0.0190799990211761,
            0.0190799990211761
           ],
           "yaxis": "y"
          },
          {
           "alignmentgroup": "True",
           "hovertemplate": "TECHNOLOGY=CO_Imp<br>YEAR=2019<br>TIMESLICE=%{x}<br>Values=%{y}<extra></extra>",
           "legendgroup": "CO_Imp",
           "marker": {
            "color": "#FFA15A",
            "pattern": {
             "shape": ""
            }
           },
           "name": "CO_Imp",
           "offsetgroup": "CO_Imp",
           "orientation": "v",
           "showlegend": true,
           "textposition": "auto",
           "type": "bar",
           "x": [
            "ID",
            "IN",
            "SD",
            "SN",
            "WD",
            "WN"
           ],
           "xaxis": "x",
           "y": [
            1.97068464,
            1.97068464,
            1.97068464,
            1.97068464,
            1.97068464,
            1.97068464
           ],
           "yaxis": "y"
          },
          {
           "alignmentgroup": "True",
           "hovertemplate": "TECHNOLOGY=UR_Imp<br>YEAR=2019<br>TIMESLICE=%{x}<br>Values=%{y}<extra></extra>",
           "legendgroup": "UR_Imp",
           "marker": {
            "color": "#19d3f3",
            "pattern": {
             "shape": ""
            }
           },
           "name": "UR_Imp",
           "offsetgroup": "UR_Imp",
           "orientation": "v",
           "showlegend": true,
           "textposition": "auto",
           "type": "bar",
           "x": [
            "ID",
            "IN",
            "SD",
            "SN",
            "WD",
            "WN"
           ],
           "xaxis": "x",
           "y": [
            4.00403740124978,
            4.00403740124978,
            4.00403740124978,
            4.00403740124978,
            2.03450505826866,
            3.91850088054889
           ],
           "yaxis": "y"
          },
          {
           "alignmentgroup": "True",
           "hovertemplate": "TECHNOLOGY=NGSC<br>YEAR=2019<br>TIMESLICE=%{x}<br>Values=%{y}<extra></extra>",
           "legendgroup": "NGSC",
           "marker": {
            "color": "#FF6692",
            "pattern": {
             "shape": ""
            }
           },
           "name": "NGSC",
           "offsetgroup": "NGSC",
           "orientation": "v",
           "showlegend": true,
           "textposition": "auto",
           "type": "bar",
           "x": [
            "ID",
            "IN",
            "SD",
            "SN",
            "WD",
            "WN"
           ],
           "xaxis": "x",
           "y": [
            1.65408735701141,
            3.1536,
            1.85013721253291,
            2.22585141662561,
            0,
            0
           ],
           "yaxis": "y"
          },
          {
           "alignmentgroup": "True",
           "hovertemplate": "TECHNOLOGY=DSGC<br>YEAR=2019<br>TIMESLICE=%{x}<br>Values=%{y}<extra></extra>",
           "legendgroup": "DSGC",
           "marker": {
            "color": "#B6E880",
            "pattern": {
             "shape": ""
            }
           },
           "name": "DSGC",
           "offsetgroup": "DSGC",
           "orientation": "v",
           "showlegend": true,
           "textposition": "auto",
           "type": "bar",
           "x": [
            "ID",
            "IN",
            "SD",
            "SN",
            "WD",
            "WN"
           ],
           "xaxis": "x",
           "y": [
            0,
            0,
            0,
            0,
            0,
            0
           ],
           "yaxis": "y"
          },
          {
           "alignmentgroup": "True",
           "hovertemplate": "TECHNOLOGY=IGCC<br>YEAR=2019<br>TIMESLICE=%{x}<br>Values=%{y}<extra></extra>",
           "legendgroup": "IGCC",
           "marker": {
            "color": "#FF97FF",
            "pattern": {
             "shape": ""
            }
           },
           "name": "IGCC",
           "offsetgroup": "IGCC",
           "orientation": "v",
           "showlegend": true,
           "textposition": "auto",
           "type": "bar",
           "x": [
            "ID",
            "IN",
            "SD",
            "SN",
            "WD",
            "WN"
           ],
           "xaxis": "x",
           "y": [
            0.94608,
            0.94608,
            0.94608,
            0.94608,
            0.94608,
            0.94608
           ],
           "yaxis": "y"
          },
          {
           "alignmentgroup": "True",
           "hovertemplate": "TECHNOLOGY=HFSC<br>YEAR=2019<br>TIMESLICE=%{x}<br>Values=%{y}<extra></extra>",
           "legendgroup": "HFSC",
           "marker": {
            "color": "#FECB52",
            "pattern": {
             "shape": ""
            }
           },
           "name": "HFSC",
           "offsetgroup": "HFSC",
           "orientation": "v",
           "showlegend": true,
           "textposition": "auto",
           "type": "bar",
           "x": [
            "ID",
            "IN",
            "SD",
            "SN",
            "WD",
            "WN"
           ],
           "xaxis": "x",
           "y": [
            0,
            0,
            0,
            0,
            0,
            0
           ],
           "yaxis": "y"
          },
          {
           "alignmentgroup": "True",
           "hovertemplate": "TECHNOLOGY=HYDRO_DAM<br>YEAR=2019<br>TIMESLICE=%{x}<br>Values=%{y}<extra></extra>",
           "legendgroup": "HYDRO_DAM",
           "marker": {
            "color": "#636efa",
            "pattern": {
             "shape": ""
            }
           },
           "name": "HYDRO_DAM",
           "offsetgroup": "HYDRO_DAM",
           "orientation": "v",
           "showlegend": true,
           "textposition": "auto",
           "type": "bar",
           "x": [
            "ID",
            "IN",
            "SD",
            "SN",
            "WD",
            "WN"
           ],
           "xaxis": "x",
           "y": [
            3.06466326671303,
            3.06466326671303,
            2.60496377670608,
            2.60496377670608,
            3.83082908339129,
            3.83082908339129
           ],
           "yaxis": "y"
          },
          {
           "alignmentgroup": "True",
           "hovertemplate": "TECHNOLOGY=HYDRO_MIN<br>YEAR=2019<br>TIMESLICE=%{x}<br>Values=%{y}<extra></extra>",
           "legendgroup": "HYDRO_MIN",
           "marker": {
            "color": "#EF553B",
            "pattern": {
             "shape": ""
            }
           },
           "name": "HYDRO_MIN",
           "offsetgroup": "HYDRO_MIN",
           "orientation": "v",
           "showlegend": true,
           "textposition": "auto",
           "type": "bar",
           "x": [
            "ID",
            "IN",
            "SD",
            "SN",
            "WD",
            "WN"
           ],
           "xaxis": "x",
           "y": [
            0,
            0,
            0,
            0,
            8.88178419700125e-16,
            0
           ],
           "yaxis": "y"
          },
          {
           "alignmentgroup": "True",
           "hovertemplate": "TECHNOLOGY=DIESEL_GEN<br>YEAR=2019<br>TIMESLICE=%{x}<br>Values=%{y}<extra></extra>",
           "legendgroup": "DIESEL_GEN",
           "marker": {
            "color": "#00cc96",
            "pattern": {
             "shape": ""
            }
           },
           "name": "DIESEL_GEN",
           "offsetgroup": "DIESEL_GEN",
           "orientation": "v",
           "showlegend": true,
           "textposition": "auto",
           "type": "bar",
           "x": [
            "ID",
            "IN",
            "SD",
            "SN",
            "WD",
            "WN"
           ],
           "xaxis": "x",
           "y": [
            0,
            0,
            0,
            0,
            0,
            0
           ],
           "yaxis": "y"
          },
          {
           "alignmentgroup": "True",
           "hovertemplate": "TECHNOLOGY=CSP<br>YEAR=2019<br>TIMESLICE=%{x}<br>Values=%{y}<extra></extra>",
           "legendgroup": "CSP",
           "marker": {
            "color": "#ab63fa",
            "pattern": {
             "shape": ""
            }
           },
           "name": "CSP",
           "offsetgroup": "CSP",
           "orientation": "v",
           "showlegend": true,
           "textposition": "auto",
           "type": "bar",
           "x": [
            "ID",
            "IN",
            "SD",
            "SN",
            "WD",
            "WN"
           ],
           "xaxis": "x",
           "y": [
            0,
            0,
            0,
            0,
            0,
            0
           ],
           "yaxis": "y"
          },
          {
           "alignmentgroup": "True",
           "hovertemplate": "TECHNOLOGY=PV_UTL<br>YEAR=2019<br>TIMESLICE=%{x}<br>Values=%{y}<extra></extra>",
           "legendgroup": "PV_UTL",
           "marker": {
            "color": "#FFA15A",
            "pattern": {
             "shape": ""
            }
           },
           "name": "PV_UTL",
           "offsetgroup": "PV_UTL",
           "orientation": "v",
           "showlegend": true,
           "textposition": "auto",
           "type": "bar",
           "x": [
            "ID",
            "IN",
            "SD",
            "SN",
            "WD",
            "WN"
           ],
           "xaxis": "x",
           "y": [
            0,
            0,
            0,
            0,
            0,
            0
           ],
           "yaxis": "y"
          },
          {
           "alignmentgroup": "True",
           "hovertemplate": "TECHNOLOGY=PV_ROF<br>YEAR=2019<br>TIMESLICE=%{x}<br>Values=%{y}<extra></extra>",
           "legendgroup": "PV_ROF",
           "marker": {
            "color": "#19d3f3",
            "pattern": {
             "shape": ""
            }
           },
           "name": "PV_ROF",
           "offsetgroup": "PV_ROF",
           "orientation": "v",
           "showlegend": true,
           "textposition": "auto",
           "type": "bar",
           "x": [
            "ID",
            "IN",
            "SD",
            "SN",
            "WD",
            "WN"
           ],
           "xaxis": "x",
           "y": [
            0,
            0,
            0,
            0,
            0,
            0
           ],
           "yaxis": "y"
          },
          {
           "alignmentgroup": "True",
           "hovertemplate": "TECHNOLOGY=WIND<br>YEAR=2019<br>TIMESLICE=%{x}<br>Values=%{y}<extra></extra>",
           "legendgroup": "WIND",
           "marker": {
            "color": "#FF6692",
            "pattern": {
             "shape": ""
            }
           },
           "name": "WIND",
           "offsetgroup": "WIND",
           "orientation": "v",
           "showlegend": true,
           "textposition": "auto",
           "type": "bar",
           "x": [
            "ID",
            "IN",
            "SD",
            "SN",
            "WD",
            "WN"
           ],
           "xaxis": "x",
           "y": [
            1,
            1,
            1,
            1,
            1,
            1
           ],
           "yaxis": "y"
          },
          {
           "alignmentgroup": "True",
           "hovertemplate": "TECHNOLOGY=NGCC<br>YEAR=2019<br>TIMESLICE=%{x}<br>Values=%{y}<extra></extra>",
           "legendgroup": "NGCC",
           "marker": {
            "color": "#B6E880",
            "pattern": {
             "shape": ""
            }
           },
           "name": "NGCC",
           "offsetgroup": "NGCC",
           "orientation": "v",
           "showlegend": true,
           "textposition": "auto",
           "type": "bar",
           "x": [
            "ID",
            "IN",
            "SD",
            "SN",
            "WD",
            "WN"
           ],
           "xaxis": "x",
           "y": [
            0.00957815889562822,
            0.00957815889562822,
            0.00957815889562822,
            0.00957815889562822,
            0.00957815889562822,
            0.00957815889562822
           ],
           "yaxis": "y"
          },
          {
           "alignmentgroup": "True",
           "hovertemplate": "TECHNOLOGY=NUCLEAR<br>YEAR=2019<br>TIMESLICE=%{x}<br>Values=%{y}<extra></extra>",
           "legendgroup": "NUCLEAR",
           "marker": {
            "color": "#FF97FF",
            "pattern": {
             "shape": ""
            }
           },
           "name": "NUCLEAR",
           "offsetgroup": "NUCLEAR",
           "orientation": "v",
           "showlegend": true,
           "textposition": "auto",
           "type": "bar",
           "x": [
            "ID",
            "IN",
            "SD",
            "SN",
            "WD",
            "WN"
           ],
           "xaxis": "x",
           "y": [
            1.20121122037493,
            1.20121122037493,
            1.20121122037493,
            1.20121122037493,
            0.610351517480598,
            1.17555026416467
           ],
           "yaxis": "y"
          },
          {
           "alignmentgroup": "True",
           "hovertemplate": "TECHNOLOGY=TRANS<br>YEAR=2019<br>TIMESLICE=%{x}<br>Values=%{y}<extra></extra>",
           "legendgroup": "TRANS",
           "marker": {
            "color": "#FECB52",
            "pattern": {
             "shape": ""
            }
           },
           "name": "TRANS",
           "offsetgroup": "TRANS",
           "orientation": "v",
           "showlegend": true,
           "textposition": "auto",
           "type": "bar",
           "x": [
            "ID",
            "IN",
            "SD",
            "SN",
            "WD",
            "WN"
           ],
           "xaxis": "x",
           "y": [
            7.87562000299501,
            9.37513264598359,
            7.61197036850954,
            7.98768457260225,
            6.39683875976751,
            6.96203750645158
           ],
           "yaxis": "y"
          },
          {
           "alignmentgroup": "True",
           "hovertemplate": "TECHNOLOGY=DIST_IND<br>YEAR=2019<br>TIMESLICE=%{x}<br>Values=%{y}<extra></extra>",
           "legendgroup": "DIST_IND",
           "marker": {
            "color": "#636efa",
            "pattern": {
             "shape": ""
            }
           },
           "name": "DIST_IND",
           "offsetgroup": "DIST_IND",
           "orientation": "v",
           "showlegend": true,
           "textposition": "auto",
           "type": "bar",
           "x": [
            "ID",
            "IN",
            "SD",
            "SN",
            "WD",
            "WN"
           ],
           "xaxis": "x",
           "y": [
            2.52624134123155,
            5.05551538515365,
            2.52624134123155,
            5.05551538515365,
            1.26349964471437,
            2.52624134123155
           ],
           "yaxis": "y"
          },
          {
           "alignmentgroup": "True",
           "hovertemplate": "TECHNOLOGY=DIST_TRA<br>YEAR=2019<br>TIMESLICE=%{x}<br>Values=%{y}<extra></extra>",
           "legendgroup": "DIST_TRA",
           "marker": {
            "color": "#EF553B",
            "pattern": {
             "shape": ""
            }
           },
           "name": "DIST_TRA",
           "offsetgroup": "DIST_TRA",
           "orientation": "v",
           "showlegend": true,
           "textposition": "auto",
           "type": "bar",
           "x": [
            "ID",
            "IN",
            "SD",
            "SN",
            "WD",
            "WN"
           ],
           "xaxis": "x",
           "y": [
            0.553506495896727,
            0.173074603963123,
            0.259456169948317,
            0.173074603963123,
            0.302789683681056,
            0.138376623972436
           ],
           "yaxis": "y"
          },
          {
           "alignmentgroup": "True",
           "hovertemplate": "TECHNOLOGY=DIST_RES<br>YEAR=2019<br>TIMESLICE=%{x}<br>Values=%{y}<extra></extra>",
           "legendgroup": "DIST_RES",
           "marker": {
            "color": "#00cc96",
            "pattern": {
             "shape": ""
            }
           },
           "name": "DIST_RES",
           "offsetgroup": "DIST_RES",
           "orientation": "v",
           "showlegend": true,
           "textposition": "auto",
           "type": "bar",
           "x": [
            "ID",
            "IN",
            "SD",
            "SN",
            "WD",
            "WN"
           ],
           "xaxis": "x",
           "y": [
            1.86659650294001,
            2.49028921200079,
            2.33324562867501,
            1.55643075751141,
            3.11192756315731,
            3.11099417156668
           ],
           "yaxis": "y"
          },
          {
           "alignmentgroup": "True",
           "hovertemplate": "TECHNOLOGY=DIST_SER<br>YEAR=2019<br>TIMESLICE=%{x}<br>Values=%{y}<extra></extra>",
           "legendgroup": "DIST_SER",
           "marker": {
            "color": "#ab63fa",
            "pattern": {
             "shape": ""
            }
           },
           "name": "DIST_SER",
           "offsetgroup": "DIST_SER",
           "orientation": "v",
           "showlegend": true,
           "textposition": "auto",
           "type": "bar",
           "x": [
            "ID",
            "IN",
            "SD",
            "SN",
            "WD",
            "WN"
           ],
           "xaxis": "x",
           "y": [
            2.8095662388812,
            1.51375142864708,
            2.37732527905333,
            1.08125102047052,
            1.62138991906632,
            1.08060239958286
           ],
           "yaxis": "y"
          }
         ],
         "name": "2019"
        },
        {
         "data": [
          {
           "alignmentgroup": "True",
           "hovertemplate": "TECHNOLOGY=HF_Imp<br>YEAR=2020<br>TIMESLICE=%{x}<br>Values=%{y}<extra></extra>",
           "legendgroup": "HF_Imp",
           "marker": {
            "color": "#EF553B",
            "pattern": {
             "shape": ""
            }
           },
           "name": "HF_Imp",
           "offsetgroup": "HF_Imp",
           "orientation": "v",
           "showlegend": true,
           "textposition": "auto",
           "type": "bar",
           "x": [
            "ID",
            "IN",
            "SD",
            "SN",
            "WD",
            "WN"
           ],
           "xaxis": "x",
           "y": [
            0,
            0,
            0,
            0,
            0,
            0
           ],
           "yaxis": "y"
          },
          {
           "alignmentgroup": "True",
           "hovertemplate": "TECHNOLOGY=DS_Imp<br>YEAR=2020<br>TIMESLICE=%{x}<br>Values=%{y}<extra></extra>",
           "legendgroup": "DS_Imp",
           "marker": {
            "color": "#00cc96",
            "pattern": {
             "shape": ""
            }
           },
           "name": "DS_Imp",
           "offsetgroup": "DS_Imp",
           "orientation": "v",
           "showlegend": true,
           "textposition": "auto",
           "type": "bar",
           "x": [
            "ID",
            "IN",
            "SD",
            "SN",
            "WD",
            "WN"
           ],
           "xaxis": "x",
           "y": [
            0,
            0,
            0,
            0,
            0,
            0
           ],
           "yaxis": "y"
          },
          {
           "alignmentgroup": "True",
           "hovertemplate": "TECHNOLOGY=NG_Imp<br>YEAR=2020<br>TIMESLICE=%{x}<br>Values=%{y}<extra></extra>",
           "legendgroup": "NG_Imp",
           "marker": {
            "color": "#ab63fa",
            "pattern": {
             "shape": ""
            }
           },
           "name": "NG_Imp",
           "offsetgroup": "NG_Imp",
           "orientation": "v",
           "showlegend": true,
           "textposition": "auto",
           "type": "bar",
           "x": [
            "ID",
            "IN",
            "SD",
            "SN",
            "WD",
            "WN"
           ],
           "xaxis": "x",
           "y": [
            0.0190799990211767,
            3.38176597698576,
            0.427089858040287,
            1.26898027891256,
            0,
            0
           ],
           "yaxis": "y"
          },
          {
           "alignmentgroup": "True",
           "hovertemplate": "TECHNOLOGY=CO_Imp<br>YEAR=2020<br>TIMESLICE=%{x}<br>Values=%{y}<extra></extra>",
           "legendgroup": "CO_Imp",
           "marker": {
            "color": "#FFA15A",
            "pattern": {
             "shape": ""
            }
           },
           "name": "CO_Imp",
           "offsetgroup": "CO_Imp",
           "orientation": "v",
           "showlegend": true,
           "textposition": "auto",
           "type": "bar",
           "x": [
            "ID",
            "IN",
            "SD",
            "SN",
            "WD",
            "WN"
           ],
           "xaxis": "x",
           "y": [
            1.97068464,
            1.97068464,
            1.97068464,
            1.97068464,
            1.97068464,
            1.97068464
           ],
           "yaxis": "y"
          },
          {
           "alignmentgroup": "True",
           "hovertemplate": "TECHNOLOGY=UR_Imp<br>YEAR=2020<br>TIMESLICE=%{x}<br>Values=%{y}<extra></extra>",
           "legendgroup": "UR_Imp",
           "marker": {
            "color": "#19d3f3",
            "pattern": {
             "shape": ""
            }
           },
           "name": "UR_Imp",
           "offsetgroup": "UR_Imp",
           "orientation": "v",
           "showlegend": true,
           "textposition": "auto",
           "type": "bar",
           "x": [
            "ID",
            "IN",
            "SD",
            "SN",
            "WD",
            "WN"
           ],
           "xaxis": "x",
           "y": [
            10.1457514011449,
            10.1457514011449,
            10.1457514011449,
            10.1457514011449,
            2.53976454357925,
            4.48282809669621
           ],
           "yaxis": "y"
          },
          {
           "alignmentgroup": "True",
           "hovertemplate": "TECHNOLOGY=NGSC<br>YEAR=2020<br>TIMESLICE=%{x}<br>Values=%{y}<extra></extra>",
           "legendgroup": "NGSC",
           "marker": {
            "color": "#FF6692",
            "pattern": {
             "shape": ""
            }
           },
           "name": "NGSC",
           "offsetgroup": "NGSC",
           "orientation": "v",
           "showlegend": true,
           "textposition": "auto",
           "type": "bar",
           "x": [
            "ID",
            "IN",
            "SD",
            "SN",
            "WD",
            "WN"
           ],
           "xaxis": "x",
           "y": [
            0,
            1.54677367891655,
            0.187677028067669,
            0.574931131504776,
            0,
            0
           ],
           "yaxis": "y"
          },
          {
           "alignmentgroup": "True",
           "hovertemplate": "TECHNOLOGY=DSGC<br>YEAR=2020<br>TIMESLICE=%{x}<br>Values=%{y}<extra></extra>",
           "legendgroup": "DSGC",
           "marker": {
            "color": "#B6E880",
            "pattern": {
             "shape": ""
            }
           },
           "name": "DSGC",
           "offsetgroup": "DSGC",
           "orientation": "v",
           "showlegend": true,
           "textposition": "auto",
           "type": "bar",
           "x": [
            "ID",
            "IN",
            "SD",
            "SN",
            "WD",
            "WN"
           ],
           "xaxis": "x",
           "y": [
            0,
            0,
            0,
            0,
            0,
            0
           ],
           "yaxis": "y"
          },
          {
           "alignmentgroup": "True",
           "hovertemplate": "TECHNOLOGY=IGCC<br>YEAR=2020<br>TIMESLICE=%{x}<br>Values=%{y}<extra></extra>",
           "legendgroup": "IGCC",
           "marker": {
            "color": "#FF97FF",
            "pattern": {
             "shape": ""
            }
           },
           "name": "IGCC",
           "offsetgroup": "IGCC",
           "orientation": "v",
           "showlegend": true,
           "textposition": "auto",
           "type": "bar",
           "x": [
            "ID",
            "IN",
            "SD",
            "SN",
            "WD",
            "WN"
           ],
           "xaxis": "x",
           "y": [
            0.94608,
            0.94608,
            0.94608,
            0.94608,
            0.94608,
            0.94608
           ],
           "yaxis": "y"
          },
          {
           "alignmentgroup": "True",
           "hovertemplate": "TECHNOLOGY=HFSC<br>YEAR=2020<br>TIMESLICE=%{x}<br>Values=%{y}<extra></extra>",
           "legendgroup": "HFSC",
           "marker": {
            "color": "#FECB52",
            "pattern": {
             "shape": ""
            }
           },
           "name": "HFSC",
           "offsetgroup": "HFSC",
           "orientation": "v",
           "showlegend": true,
           "textposition": "auto",
           "type": "bar",
           "x": [
            "ID",
            "IN",
            "SD",
            "SN",
            "WD",
            "WN"
           ],
           "xaxis": "x",
           "y": [
            0,
            0,
            0,
            0,
            0,
            0
           ],
           "yaxis": "y"
          },
          {
           "alignmentgroup": "True",
           "hovertemplate": "TECHNOLOGY=HYDRO_DAM<br>YEAR=2020<br>TIMESLICE=%{x}<br>Values=%{y}<extra></extra>",
           "legendgroup": "HYDRO_DAM",
           "marker": {
            "color": "#636efa",
            "pattern": {
             "shape": ""
            }
           },
           "name": "HYDRO_DAM",
           "offsetgroup": "HYDRO_DAM",
           "orientation": "v",
           "showlegend": true,
           "textposition": "auto",
           "type": "bar",
           "x": [
            "ID",
            "IN",
            "SD",
            "SN",
            "WD",
            "WN"
           ],
           "xaxis": "x",
           "y": [
            3.06466326671303,
            3.06466326671303,
            2.60496377670608,
            2.60496377670608,
            3.83082908339129,
            3.83082908339129
           ],
           "yaxis": "y"
          },
          {
           "alignmentgroup": "True",
           "hovertemplate": "TECHNOLOGY=HYDRO_MIN<br>YEAR=2020<br>TIMESLICE=%{x}<br>Values=%{y}<extra></extra>",
           "legendgroup": "HYDRO_MIN",
           "marker": {
            "color": "#EF553B",
            "pattern": {
             "shape": ""
            }
           },
           "name": "HYDRO_MIN",
           "offsetgroup": "HYDRO_MIN",
           "orientation": "v",
           "showlegend": true,
           "textposition": "auto",
           "type": "bar",
           "x": [
            "ID",
            "IN",
            "SD",
            "SN",
            "WD",
            "WN"
           ],
           "xaxis": "x",
           "y": [
            0,
            0,
            0,
            0,
            0,
            0
           ],
           "yaxis": "y"
          },
          {
           "alignmentgroup": "True",
           "hovertemplate": "TECHNOLOGY=DIESEL_GEN<br>YEAR=2020<br>TIMESLICE=%{x}<br>Values=%{y}<extra></extra>",
           "legendgroup": "DIESEL_GEN",
           "marker": {
            "color": "#00cc96",
            "pattern": {
             "shape": ""
            }
           },
           "name": "DIESEL_GEN",
           "offsetgroup": "DIESEL_GEN",
           "orientation": "v",
           "showlegend": true,
           "textposition": "auto",
           "type": "bar",
           "x": [
            "ID",
            "IN",
            "SD",
            "SN",
            "WD",
            "WN"
           ],
           "xaxis": "x",
           "y": [
            0,
            0,
            0,
            0,
            0,
            0
           ],
           "yaxis": "y"
          },
          {
           "alignmentgroup": "True",
           "hovertemplate": "TECHNOLOGY=CSP<br>YEAR=2020<br>TIMESLICE=%{x}<br>Values=%{y}<extra></extra>",
           "legendgroup": "CSP",
           "marker": {
            "color": "#ab63fa",
            "pattern": {
             "shape": ""
            }
           },
           "name": "CSP",
           "offsetgroup": "CSP",
           "orientation": "v",
           "showlegend": true,
           "textposition": "auto",
           "type": "bar",
           "x": [
            "ID",
            "IN",
            "SD",
            "SN",
            "WD",
            "WN"
           ],
           "xaxis": "x",
           "y": [
            0,
            0,
            0,
            0,
            0,
            0
           ],
           "yaxis": "y"
          },
          {
           "alignmentgroup": "True",
           "hovertemplate": "TECHNOLOGY=PV_UTL<br>YEAR=2020<br>TIMESLICE=%{x}<br>Values=%{y}<extra></extra>",
           "legendgroup": "PV_UTL",
           "marker": {
            "color": "#FFA15A",
            "pattern": {
             "shape": ""
            }
           },
           "name": "PV_UTL",
           "offsetgroup": "PV_UTL",
           "orientation": "v",
           "showlegend": true,
           "textposition": "auto",
           "type": "bar",
           "x": [
            "ID",
            "IN",
            "SD",
            "SN",
            "WD",
            "WN"
           ],
           "xaxis": "x",
           "y": [
            0,
            0,
            0,
            0,
            0,
            0
           ],
           "yaxis": "y"
          },
          {
           "alignmentgroup": "True",
           "hovertemplate": "TECHNOLOGY=PV_ROF<br>YEAR=2020<br>TIMESLICE=%{x}<br>Values=%{y}<extra></extra>",
           "legendgroup": "PV_ROF",
           "marker": {
            "color": "#19d3f3",
            "pattern": {
             "shape": ""
            }
           },
           "name": "PV_ROF",
           "offsetgroup": "PV_ROF",
           "orientation": "v",
           "showlegend": true,
           "textposition": "auto",
           "type": "bar",
           "x": [
            "ID",
            "IN",
            "SD",
            "SN",
            "WD",
            "WN"
           ],
           "xaxis": "x",
           "y": [
            0,
            0,
            0,
            0,
            0,
            0
           ],
           "yaxis": "y"
          },
          {
           "alignmentgroup": "True",
           "hovertemplate": "TECHNOLOGY=WIND<br>YEAR=2020<br>TIMESLICE=%{x}<br>Values=%{y}<extra></extra>",
           "legendgroup": "WIND",
           "marker": {
            "color": "#FF6692",
            "pattern": {
             "shape": ""
            }
           },
           "name": "WIND",
           "offsetgroup": "WIND",
           "orientation": "v",
           "showlegend": true,
           "textposition": "auto",
           "type": "bar",
           "x": [
            "ID",
            "IN",
            "SD",
            "SN",
            "WD",
            "WN"
           ],
           "xaxis": "x",
           "y": [
            1.06111489202373,
            1.06111489202373,
            1.06111489202373,
            1.06111489202373,
            1.06111489202373,
            1.06111489202373
           ],
           "yaxis": "y"
          },
          {
           "alignmentgroup": "True",
           "hovertemplate": "TECHNOLOGY=NGCC<br>YEAR=2020<br>TIMESLICE=%{x}<br>Values=%{y}<extra></extra>",
           "legendgroup": "NGCC",
           "marker": {
            "color": "#B6E880",
            "pattern": {
             "shape": ""
            }
           },
           "name": "NGCC",
           "offsetgroup": "NGCC",
           "orientation": "v",
           "showlegend": true,
           "textposition": "auto",
           "type": "bar",
           "x": [
            "ID",
            "IN",
            "SD",
            "SN",
            "WD",
            "WN"
           ],
           "xaxis": "x",
           "y": [
            0.00957815889562822,
            0.00957815889562822,
            0.00957815889562822,
            0.00957815889562822,
            0,
            -1.73472347597681e-18
           ],
           "yaxis": "y"
          },
          {
           "alignmentgroup": "True",
           "hovertemplate": "TECHNOLOGY=NUCLEAR<br>YEAR=2020<br>TIMESLICE=%{x}<br>Values=%{y}<extra></extra>",
           "legendgroup": "NUCLEAR",
           "marker": {
            "color": "#FF97FF",
            "pattern": {
             "shape": ""
            }
           },
           "name": "NUCLEAR",
           "offsetgroup": "NUCLEAR",
           "orientation": "v",
           "showlegend": true,
           "textposition": "auto",
           "type": "bar",
           "x": [
            "ID",
            "IN",
            "SD",
            "SN",
            "WD",
            "WN"
           ],
           "xaxis": "x",
           "y": [
            3.04372542034347,
            3.04372542034347,
            3.04372542034347,
            3.04372542034347,
            0.761929363073776,
            1.34484842900886
           ],
           "yaxis": "y"
          },
          {
           "alignmentgroup": "True",
           "hovertemplate": "TECHNOLOGY=TRANS<br>YEAR=2020<br>TIMESLICE=%{x}<br>Values=%{y}<extra></extra>",
           "legendgroup": "TRANS",
           "marker": {
            "color": "#FECB52",
            "pattern": {
             "shape": ""
            }
           },
           "name": "TRANS",
           "offsetgroup": "TRANS",
           "orientation": "v",
           "showlegend": true,
           "textposition": "auto",
           "type": "bar",
           "x": [
            "ID",
            "IN",
            "SD",
            "SN",
            "WD",
            "WN"
           ],
           "xaxis": "x",
           "y": [
            8.12516173797586,
            9.67193541689241,
            7.85313927603657,
            8.24039337947368,
            6.5999533384888,
            7.18287240442389
           ],
           "yaxis": "y"
          },
          {
           "alignmentgroup": "True",
           "hovertemplate": "TECHNOLOGY=DIST_IND<br>YEAR=2020<br>TIMESLICE=%{x}<br>Values=%{y}<extra></extra>",
           "legendgroup": "DIST_IND",
           "marker": {
            "color": "#636efa",
            "pattern": {
             "shape": ""
            }
           },
           "name": "DIST_IND",
           "offsetgroup": "DIST_IND",
           "orientation": "v",
           "showlegend": true,
           "textposition": "auto",
           "type": "bar",
           "x": [
            "ID",
            "IN",
            "SD",
            "SN",
            "WD",
            "WN"
           ],
           "xaxis": "x",
           "y": [
            2.60596289175402,
            5.21505419034087,
            2.60596289175402,
            5.21505419034087,
            1.30337237940412,
            2.60596289175402
           ],
           "yaxis": "y"
          },
          {
           "alignmentgroup": "True",
           "hovertemplate": "TECHNOLOGY=DIST_TRA<br>YEAR=2020<br>TIMESLICE=%{x}<br>Values=%{y}<extra></extra>",
           "legendgroup": "DIST_TRA",
           "marker": {
            "color": "#EF553B",
            "pattern": {
             "shape": ""
            }
           },
           "name": "DIST_TRA",
           "offsetgroup": "DIST_TRA",
           "orientation": "v",
           "showlegend": true,
           "textposition": "auto",
           "type": "bar",
           "x": [
            "ID",
            "IN",
            "SD",
            "SN",
            "WD",
            "WN"
           ],
           "xaxis": "x",
           "y": [
            0.571361544149113,
            0.178657655703869,
            0.267825723817618,
            0.178657655703869,
            0.312557092838688,
            0.142840386036063
           ],
           "yaxis": "y"
          },
          {
           "alignmentgroup": "True",
           "hovertemplate": "TECHNOLOGY=DIST_RES<br>YEAR=2020<br>TIMESLICE=%{x}<br>Values=%{y}<extra></extra>",
           "legendgroup": "DIST_RES",
           "marker": {
            "color": "#00cc96",
            "pattern": {
             "shape": ""
            }
           },
           "name": "DIST_RES",
           "offsetgroup": "DIST_RES",
           "orientation": "v",
           "showlegend": true,
           "textposition": "auto",
           "type": "bar",
           "x": [
            "ID",
            "IN",
            "SD",
            "SN",
            "WD",
            "WN"
           ],
           "xaxis": "x",
           "y": [
            1.92611333045503,
            2.56969261453196,
            2.40764166306879,
            1.60605788408429,
            3.21115203707225,
            3.21018888409172
           ],
           "yaxis": "y"
          },
          {
           "alignmentgroup": "True",
           "hovertemplate": "TECHNOLOGY=DIST_SER<br>YEAR=2020<br>TIMESLICE=%{x}<br>Values=%{y}<extra></extra>",
           "legendgroup": "DIST_SER",
           "marker": {
            "color": "#ab63fa",
            "pattern": {
             "shape": ""
            }
           },
           "name": "DIST_SER",
           "offsetgroup": "DIST_SER",
           "orientation": "v",
           "showlegend": true,
           "textposition": "auto",
           "type": "bar",
           "x": [
            "ID",
            "IN",
            "SD",
            "SN",
            "WD",
            "WN"
           ],
           "xaxis": "x",
           "y": [
            2.89822151320046,
            1.56151753797894,
            2.45234128040039,
            1.11536966997664,
            1.67255253842871,
            1.11470058199484
           ],
           "yaxis": "y"
          }
         ],
         "name": "2020"
        },
        {
         "data": [
          {
           "alignmentgroup": "True",
           "hovertemplate": "TECHNOLOGY=HF_Imp<br>YEAR=2021<br>TIMESLICE=%{x}<br>Values=%{y}<extra></extra>",
           "legendgroup": "HF_Imp",
           "marker": {
            "color": "#EF553B",
            "pattern": {
             "shape": ""
            }
           },
           "name": "HF_Imp",
           "offsetgroup": "HF_Imp",
           "orientation": "v",
           "showlegend": true,
           "textposition": "auto",
           "type": "bar",
           "x": [
            "ID",
            "IN",
            "SD",
            "SN",
            "WD",
            "WN"
           ],
           "xaxis": "x",
           "y": [
            0,
            0,
            0,
            0,
            0,
            0
           ],
           "yaxis": "y"
          },
          {
           "alignmentgroup": "True",
           "hovertemplate": "TECHNOLOGY=DS_Imp<br>YEAR=2021<br>TIMESLICE=%{x}<br>Values=%{y}<extra></extra>",
           "legendgroup": "DS_Imp",
           "marker": {
            "color": "#00cc96",
            "pattern": {
             "shape": ""
            }
           },
           "name": "DS_Imp",
           "offsetgroup": "DS_Imp",
           "orientation": "v",
           "showlegend": true,
           "textposition": "auto",
           "type": "bar",
           "x": [
            "ID",
            "IN",
            "SD",
            "SN",
            "WD",
            "WN"
           ],
           "xaxis": "x",
           "y": [
            0,
            0,
            0,
            0,
            0,
            0
           ],
           "yaxis": "y"
          },
          {
           "alignmentgroup": "True",
           "hovertemplate": "TECHNOLOGY=NG_Imp<br>YEAR=2021<br>TIMESLICE=%{x}<br>Values=%{y}<extra></extra>",
           "legendgroup": "NG_Imp",
           "marker": {
            "color": "#ab63fa",
            "pattern": {
             "shape": ""
            }
           },
           "name": "NG_Imp",
           "offsetgroup": "NG_Imp",
           "orientation": "v",
           "showlegend": true,
           "textposition": "auto",
           "type": "bar",
           "x": [
            "ID",
            "IN",
            "SD",
            "SN",
            "WD",
            "WN"
           ],
           "xaxis": "x",
           "y": [
            0,
            2.83866783197357,
            0,
            0.799330167201668,
            0,
            0
           ],
           "yaxis": "y"
          },
          {
           "alignmentgroup": "True",
           "hovertemplate": "TECHNOLOGY=CO_Imp<br>YEAR=2021<br>TIMESLICE=%{x}<br>Values=%{y}<extra></extra>",
           "legendgroup": "CO_Imp",
           "marker": {
            "color": "#FFA15A",
            "pattern": {
             "shape": ""
            }
           },
           "name": "CO_Imp",
           "offsetgroup": "CO_Imp",
           "orientation": "v",
           "showlegend": true,
           "textposition": "auto",
           "type": "bar",
           "x": [
            "ID",
            "IN",
            "SD",
            "SN",
            "WD",
            "WN"
           ],
           "xaxis": "x",
           "y": [
            1.97068464,
            1.97068464,
            1.97068464,
            1.97068464,
            1.97068464,
            1.97068464
           ],
           "yaxis": "y"
          },
          {
           "alignmentgroup": "True",
           "hovertemplate": "TECHNOLOGY=UR_Imp<br>YEAR=2021<br>TIMESLICE=%{x}<br>Values=%{y}<extra></extra>",
           "legendgroup": "UR_Imp",
           "marker": {
            "color": "#19d3f3",
            "pattern": {
             "shape": ""
            }
           },
           "name": "UR_Imp",
           "offsetgroup": "UR_Imp",
           "orientation": "v",
           "showlegend": true,
           "textposition": "auto",
           "type": "bar",
           "x": [
            "ID",
            "IN",
            "SD",
            "SN",
            "WD",
            "WN"
           ],
           "xaxis": "x",
           "y": [
            10.042646382679,
            10.6371793719362,
            10.6371793719362,
            10.6371793719362,
            2.22285669405225,
            4.23699756376794
           ],
           "yaxis": "y"
          },
          {
           "alignmentgroup": "True",
           "hovertemplate": "TECHNOLOGY=NGSC<br>YEAR=2021<br>TIMESLICE=%{x}<br>Values=%{y}<extra></extra>",
           "legendgroup": "NGSC",
           "marker": {
            "color": "#FF6692",
            "pattern": {
             "shape": ""
            }
           },
           "name": "NGSC",
           "offsetgroup": "NGSC",
           "orientation": "v",
           "showlegend": true,
           "textposition": "auto",
           "type": "bar",
           "x": [
            "ID",
            "IN",
            "SD",
            "SN",
            "WD",
            "WN"
           ],
           "xaxis": "x",
           "y": [
            0,
            0,
            0,
            0,
            0,
            0
           ],
           "yaxis": "y"
          },
          {
           "alignmentgroup": "True",
           "hovertemplate": "TECHNOLOGY=DSGC<br>YEAR=2021<br>TIMESLICE=%{x}<br>Values=%{y}<extra></extra>",
           "legendgroup": "DSGC",
           "marker": {
            "color": "#B6E880",
            "pattern": {
             "shape": ""
            }
           },
           "name": "DSGC",
           "offsetgroup": "DSGC",
           "orientation": "v",
           "showlegend": true,
           "textposition": "auto",
           "type": "bar",
           "x": [
            "ID",
            "IN",
            "SD",
            "SN",
            "WD",
            "WN"
           ],
           "xaxis": "x",
           "y": [
            0,
            0,
            0,
            0,
            0,
            0
           ],
           "yaxis": "y"
          },
          {
           "alignmentgroup": "True",
           "hovertemplate": "TECHNOLOGY=IGCC<br>YEAR=2021<br>TIMESLICE=%{x}<br>Values=%{y}<extra></extra>",
           "legendgroup": "IGCC",
           "marker": {
            "color": "#FF97FF",
            "pattern": {
             "shape": ""
            }
           },
           "name": "IGCC",
           "offsetgroup": "IGCC",
           "orientation": "v",
           "showlegend": true,
           "textposition": "auto",
           "type": "bar",
           "x": [
            "ID",
            "IN",
            "SD",
            "SN",
            "WD",
            "WN"
           ],
           "xaxis": "x",
           "y": [
            0.94608,
            0.94608,
            0.94608,
            0.94608,
            0.94608,
            0.94608
           ],
           "yaxis": "y"
          },
          {
           "alignmentgroup": "True",
           "hovertemplate": "TECHNOLOGY=HFSC<br>YEAR=2021<br>TIMESLICE=%{x}<br>Values=%{y}<extra></extra>",
           "legendgroup": "HFSC",
           "marker": {
            "color": "#FECB52",
            "pattern": {
             "shape": ""
            }
           },
           "name": "HFSC",
           "offsetgroup": "HFSC",
           "orientation": "v",
           "showlegend": true,
           "textposition": "auto",
           "type": "bar",
           "x": [
            "ID",
            "IN",
            "SD",
            "SN",
            "WD",
            "WN"
           ],
           "xaxis": "x",
           "y": [
            0,
            0,
            0,
            0,
            0,
            0
           ],
           "yaxis": "y"
          },
          {
           "alignmentgroup": "True",
           "hovertemplate": "TECHNOLOGY=HYDRO_DAM<br>YEAR=2021<br>TIMESLICE=%{x}<br>Values=%{y}<extra></extra>",
           "legendgroup": "HYDRO_DAM",
           "marker": {
            "color": "#636efa",
            "pattern": {
             "shape": ""
            }
           },
           "name": "HYDRO_DAM",
           "offsetgroup": "HYDRO_DAM",
           "orientation": "v",
           "showlegend": true,
           "textposition": "auto",
           "type": "bar",
           "x": [
            "ID",
            "IN",
            "SD",
            "SN",
            "WD",
            "WN"
           ],
           "xaxis": "x",
           "y": [
            3.06466326671303,
            3.06466326671303,
            2.60496377670608,
            2.60496377670608,
            3.83082908339129,
            3.83082908339129
           ],
           "yaxis": "y"
          },
          {
           "alignmentgroup": "True",
           "hovertemplate": "TECHNOLOGY=HYDRO_MIN<br>YEAR=2021<br>TIMESLICE=%{x}<br>Values=%{y}<extra></extra>",
           "legendgroup": "HYDRO_MIN",
           "marker": {
            "color": "#EF553B",
            "pattern": {
             "shape": ""
            }
           },
           "name": "HYDRO_MIN",
           "offsetgroup": "HYDRO_MIN",
           "orientation": "v",
           "showlegend": true,
           "textposition": "auto",
           "type": "bar",
           "x": [
            "ID",
            "IN",
            "SD",
            "SN",
            "WD",
            "WN"
           ],
           "xaxis": "x",
           "y": [
            0,
            0,
            0,
            0,
            0,
            0
           ],
           "yaxis": "y"
          },
          {
           "alignmentgroup": "True",
           "hovertemplate": "TECHNOLOGY=DIESEL_GEN<br>YEAR=2021<br>TIMESLICE=%{x}<br>Values=%{y}<extra></extra>",
           "legendgroup": "DIESEL_GEN",
           "marker": {
            "color": "#00cc96",
            "pattern": {
             "shape": ""
            }
           },
           "name": "DIESEL_GEN",
           "offsetgroup": "DIESEL_GEN",
           "orientation": "v",
           "showlegend": true,
           "textposition": "auto",
           "type": "bar",
           "x": [
            "ID",
            "IN",
            "SD",
            "SN",
            "WD",
            "WN"
           ],
           "xaxis": "x",
           "y": [
            0,
            0,
            0,
            0,
            0,
            0
           ],
           "yaxis": "y"
          },
          {
           "alignmentgroup": "True",
           "hovertemplate": "TECHNOLOGY=CSP<br>YEAR=2021<br>TIMESLICE=%{x}<br>Values=%{y}<extra></extra>",
           "legendgroup": "CSP",
           "marker": {
            "color": "#ab63fa",
            "pattern": {
             "shape": ""
            }
           },
           "name": "CSP",
           "offsetgroup": "CSP",
           "orientation": "v",
           "showlegend": true,
           "textposition": "auto",
           "type": "bar",
           "x": [
            "ID",
            "IN",
            "SD",
            "SN",
            "WD",
            "WN"
           ],
           "xaxis": "x",
           "y": [
            0,
            0,
            0,
            0,
            0,
            0
           ],
           "yaxis": "y"
          },
          {
           "alignmentgroup": "True",
           "hovertemplate": "TECHNOLOGY=PV_UTL<br>YEAR=2021<br>TIMESLICE=%{x}<br>Values=%{y}<extra></extra>",
           "legendgroup": "PV_UTL",
           "marker": {
            "color": "#FFA15A",
            "pattern": {
             "shape": ""
            }
           },
           "name": "PV_UTL",
           "offsetgroup": "PV_UTL",
           "orientation": "v",
           "showlegend": true,
           "textposition": "auto",
           "type": "bar",
           "x": [
            "ID",
            "IN",
            "SD",
            "SN",
            "WD",
            "WN"
           ],
           "xaxis": "x",
           "y": [
            0,
            0,
            0,
            0,
            0,
            0
           ],
           "yaxis": "y"
          },
          {
           "alignmentgroup": "True",
           "hovertemplate": "TECHNOLOGY=PV_ROF<br>YEAR=2021<br>TIMESLICE=%{x}<br>Values=%{y}<extra></extra>",
           "legendgroup": "PV_ROF",
           "marker": {
            "color": "#19d3f3",
            "pattern": {
             "shape": ""
            }
           },
           "name": "PV_ROF",
           "offsetgroup": "PV_ROF",
           "orientation": "v",
           "showlegend": true,
           "textposition": "auto",
           "type": "bar",
           "x": [
            "ID",
            "IN",
            "SD",
            "SN",
            "WD",
            "WN"
           ],
           "xaxis": "x",
           "y": [
            0,
            0,
            0,
            0,
            0,
            0
           ],
           "yaxis": "y"
          },
          {
           "alignmentgroup": "True",
           "hovertemplate": "TECHNOLOGY=WIND<br>YEAR=2021<br>TIMESLICE=%{x}<br>Values=%{y}<extra></extra>",
           "legendgroup": "WIND",
           "marker": {
            "color": "#FF6692",
            "pattern": {
             "shape": ""
            }
           },
           "name": "WIND",
           "offsetgroup": "WIND",
           "orientation": "v",
           "showlegend": true,
           "textposition": "auto",
           "type": "bar",
           "x": [
            "ID",
            "IN",
            "SD",
            "SN",
            "WD",
            "WN"
           ],
           "xaxis": "x",
           "y": [
            1.39484349209708,
            1.39484349209708,
            1.39484349209708,
            1.39484349209708,
            1.39484349209708,
            1.39484349209708
           ],
           "yaxis": "y"
          },
          {
           "alignmentgroup": "True",
           "hovertemplate": "TECHNOLOGY=NGCC<br>YEAR=2021<br>TIMESLICE=%{x}<br>Values=%{y}<extra></extra>",
           "legendgroup": "NGCC",
           "marker": {
            "color": "#B6E880",
            "pattern": {
             "shape": ""
            }
           },
           "name": "NGCC",
           "offsetgroup": "NGCC",
           "orientation": "v",
           "showlegend": true,
           "textposition": "auto",
           "type": "bar",
           "x": [
            "ID",
            "IN",
            "SD",
            "SN",
            "WD",
            "WN"
           ],
           "xaxis": "x",
           "y": [
            0,
            1.42501116045002,
            0,
            0.401263718254359,
            0,
            0
           ],
           "yaxis": "y"
          },
          {
           "alignmentgroup": "True",
           "hovertemplate": "TECHNOLOGY=NUCLEAR<br>YEAR=2021<br>TIMESLICE=%{x}<br>Values=%{y}<extra></extra>",
           "legendgroup": "NUCLEAR",
           "marker": {
            "color": "#FF97FF",
            "pattern": {
             "shape": ""
            }
           },
           "name": "NUCLEAR",
           "offsetgroup": "NUCLEAR",
           "orientation": "v",
           "showlegend": true,
           "textposition": "auto",
           "type": "bar",
           "x": [
            "ID",
            "IN",
            "SD",
            "SN",
            "WD",
            "WN"
           ],
           "xaxis": "x",
           "y": [
            3.01279391480371,
            3.19115381158087,
            3.19115381158087,
            3.19115381158087,
            0.666857008215676,
            1.27109926913038
           ],
           "yaxis": "y"
          },
          {
           "alignmentgroup": "True",
           "hovertemplate": "TECHNOLOGY=TRANS<br>YEAR=2021<br>TIMESLICE=%{x}<br>Values=%{y}<extra></extra>",
           "legendgroup": "TRANS",
           "marker": {
            "color": "#FECB52",
            "pattern": {
             "shape": ""
            }
           },
           "name": "TRANS",
           "offsetgroup": "TRANS",
           "orientation": "v",
           "showlegend": true,
           "textposition": "auto",
           "type": "bar",
           "x": [
            "ID",
            "IN",
            "SD",
            "SN",
            "WD",
            "WN"
           ],
           "xaxis": "x",
           "y": [
            8.41838067361381,
            10.021751730841,
            8.13704108038402,
            8.53830479863838,
            6.83860958370405,
            7.44285184461875
           ],
           "yaxis": "y"
          },
          {
           "alignmentgroup": "True",
           "hovertemplate": "TECHNOLOGY=DIST_IND<br>YEAR=2021<br>TIMESLICE=%{x}<br>Values=%{y}<extra></extra>",
           "legendgroup": "DIST_IND",
           "marker": {
            "color": "#636efa",
            "pattern": {
             "shape": ""
            }
           },
           "name": "DIST_IND",
           "offsetgroup": "DIST_IND",
           "orientation": "v",
           "showlegend": true,
           "textposition": "auto",
           "type": "bar",
           "x": [
            "ID",
            "IN",
            "SD",
            "SN",
            "WD",
            "WN"
           ],
           "xaxis": "x",
           "y": [
            2.70017926964421,
            5.40360005101669,
            2.70017926964421,
            5.40360005101669,
            1.35049470221929,
            2.70017926964421
           ],
           "yaxis": "y"
          },
          {
           "alignmentgroup": "True",
           "hovertemplate": "TECHNOLOGY=DIST_TRA<br>YEAR=2021<br>TIMESLICE=%{x}<br>Values=%{y}<extra></extra>",
           "legendgroup": "DIST_TRA",
           "marker": {
            "color": "#EF553B",
            "pattern": {
             "shape": ""
            }
           },
           "name": "DIST_TRA",
           "offsetgroup": "DIST_TRA",
           "orientation": "v",
           "showlegend": true,
           "textposition": "auto",
           "type": "bar",
           "x": [
            "ID",
            "IN",
            "SD",
            "SN",
            "WD",
            "WN"
           ],
           "xaxis": "x",
           "y": [
            0.591200486640446,
            0.18486104652692,
            0.27712522811684,
            0.18486104652692,
            0.323409769669524,
            0.147800121662315
           ],
           "yaxis": "y"
          },
          {
           "alignmentgroup": "True",
           "hovertemplate": "TECHNOLOGY=DIST_RES<br>YEAR=2021<br>TIMESLICE=%{x}<br>Values=%{y}<extra></extra>",
           "legendgroup": "DIST_RES",
           "marker": {
            "color": "#00cc96",
            "pattern": {
             "shape": ""
            }
           },
           "name": "DIST_RES",
           "offsetgroup": "DIST_RES",
           "orientation": "v",
           "showlegend": true,
           "textposition": "auto",
           "type": "bar",
           "x": [
            "ID",
            "IN",
            "SD",
            "SN",
            "WD",
            "WN"
           ],
           "xaxis": "x",
           "y": [
            1.99604560278519,
            2.66299161252391,
            2.49505700348149,
            1.66436975782563,
            3.3277407939223,
            3.32674267130865
           ],
           "yaxis": "y"
          },
          {
           "alignmentgroup": "True",
           "hovertemplate": "TECHNOLOGY=DIST_SER<br>YEAR=2021<br>TIMESLICE=%{x}<br>Values=%{y}<extra></extra>",
           "legendgroup": "DIST_SER",
           "marker": {
            "color": "#ab63fa",
            "pattern": {
             "shape": ""
            }
           },
           "name": "DIST_SER",
           "offsetgroup": "DIST_SER",
           "orientation": "v",
           "showlegend": true,
           "textposition": "auto",
           "type": "bar",
           "x": [
            "ID",
            "IN",
            "SD",
            "SN",
            "WD",
            "WN"
           ],
           "xaxis": "x",
           "y": [
            3.00299592830504,
            1.6179683944647,
            2.54099655471965,
            1.15569171032985,
            1.73301745222062,
            1.15499843396537
           ],
           "yaxis": "y"
          }
         ],
         "name": "2021"
        },
        {
         "data": [
          {
           "alignmentgroup": "True",
           "hovertemplate": "TECHNOLOGY=HF_Imp<br>YEAR=2022<br>TIMESLICE=%{x}<br>Values=%{y}<extra></extra>",
           "legendgroup": "HF_Imp",
           "marker": {
            "color": "#EF553B",
            "pattern": {
             "shape": ""
            }
           },
           "name": "HF_Imp",
           "offsetgroup": "HF_Imp",
           "orientation": "v",
           "showlegend": true,
           "textposition": "auto",
           "type": "bar",
           "x": [
            "ID",
            "IN",
            "SD",
            "SN",
            "WD",
            "WN"
           ],
           "xaxis": "x",
           "y": [
            0,
            0,
            0,
            0,
            0,
            0
           ],
           "yaxis": "y"
          },
          {
           "alignmentgroup": "True",
           "hovertemplate": "TECHNOLOGY=DS_Imp<br>YEAR=2022<br>TIMESLICE=%{x}<br>Values=%{y}<extra></extra>",
           "legendgroup": "DS_Imp",
           "marker": {
            "color": "#00cc96",
            "pattern": {
             "shape": ""
            }
           },
           "name": "DS_Imp",
           "offsetgroup": "DS_Imp",
           "orientation": "v",
           "showlegend": true,
           "textposition": "auto",
           "type": "bar",
           "x": [
            "ID",
            "IN",
            "SD",
            "SN",
            "WD",
            "WN"
           ],
           "xaxis": "x",
           "y": [
            0,
            0,
            0,
            0,
            0,
            0
           ],
           "yaxis": "y"
          },
          {
           "alignmentgroup": "True",
           "hovertemplate": "TECHNOLOGY=NG_Imp<br>YEAR=2022<br>TIMESLICE=%{x}<br>Values=%{y}<extra></extra>",
           "legendgroup": "NG_Imp",
           "marker": {
            "color": "#ab63fa",
            "pattern": {
             "shape": ""
            }
           },
           "name": "NG_Imp",
           "offsetgroup": "NG_Imp",
           "orientation": "v",
           "showlegend": true,
           "textposition": "auto",
           "type": "bar",
           "x": [
            "ID",
            "IN",
            "SD",
            "SN",
            "WD",
            "WN"
           ],
           "xaxis": "x",
           "y": [
            0,
            3.08136913571807,
            0.147360537883194,
            0.975968011926023,
            0,
            0
           ],
           "yaxis": "y"
          },
          {
           "alignmentgroup": "True",
           "hovertemplate": "TECHNOLOGY=CO_Imp<br>YEAR=2022<br>TIMESLICE=%{x}<br>Values=%{y}<extra></extra>",
           "legendgroup": "CO_Imp",
           "marker": {
            "color": "#FFA15A",
            "pattern": {
             "shape": ""
            }
           },
           "name": "CO_Imp",
           "offsetgroup": "CO_Imp",
           "orientation": "v",
           "showlegend": true,
           "textposition": "auto",
           "type": "bar",
           "x": [
            "ID",
            "IN",
            "SD",
            "SN",
            "WD",
            "WN"
           ],
           "xaxis": "x",
           "y": [
            1.97068464,
            1.97068464,
            1.97068464,
            1.97068464,
            1.97068464,
            1.97068464
           ],
           "yaxis": "y"
          },
          {
           "alignmentgroup": "True",
           "hovertemplate": "TECHNOLOGY=UR_Imp<br>YEAR=2022<br>TIMESLICE=%{x}<br>Values=%{y}<extra></extra>",
           "legendgroup": "UR_Imp",
           "marker": {
            "color": "#19d3f3",
            "pattern": {
             "shape": ""
            }
           },
           "name": "UR_Imp",
           "offsetgroup": "UR_Imp",
           "orientation": "v",
           "showlegend": true,
           "textposition": "auto",
           "type": "bar",
           "x": [
            "ID",
            "IN",
            "SD",
            "SN",
            "WD",
            "WN"
           ],
           "xaxis": "x",
           "y": [
            10.2557144047842,
            10.6371793719362,
            10.6371793719362,
            10.6371793719362,
            2.12750324502682,
            4.21457923908435
           ],
           "yaxis": "y"
          },
          {
           "alignmentgroup": "True",
           "hovertemplate": "TECHNOLOGY=NGSC<br>YEAR=2022<br>TIMESLICE=%{x}<br>Values=%{y}<extra></extra>",
           "legendgroup": "NGSC",
           "marker": {
            "color": "#FF6692",
            "pattern": {
             "shape": ""
            }
           },
           "name": "NGSC",
           "offsetgroup": "NGSC",
           "orientation": "v",
           "showlegend": true,
           "textposition": "auto",
           "type": "bar",
           "x": [
            "ID",
            "IN",
            "SD",
            "SN",
            "WD",
            "WN"
           ],
           "xaxis": "x",
           "y": [
            0,
            0,
            0,
            0,
            0,
            0
           ],
           "yaxis": "y"
          },
          {
           "alignmentgroup": "True",
           "hovertemplate": "TECHNOLOGY=DSGC<br>YEAR=2022<br>TIMESLICE=%{x}<br>Values=%{y}<extra></extra>",
           "legendgroup": "DSGC",
           "marker": {
            "color": "#B6E880",
            "pattern": {
             "shape": ""
            }
           },
           "name": "DSGC",
           "offsetgroup": "DSGC",
           "orientation": "v",
           "showlegend": true,
           "textposition": "auto",
           "type": "bar",
           "x": [
            "ID",
            "IN",
            "SD",
            "SN",
            "WD",
            "WN"
           ],
           "xaxis": "x",
           "y": [
            0,
            0,
            0,
            0,
            0,
            0
           ],
           "yaxis": "y"
          },
          {
           "alignmentgroup": "True",
           "hovertemplate": "TECHNOLOGY=IGCC<br>YEAR=2022<br>TIMESLICE=%{x}<br>Values=%{y}<extra></extra>",
           "legendgroup": "IGCC",
           "marker": {
            "color": "#FF97FF",
            "pattern": {
             "shape": ""
            }
           },
           "name": "IGCC",
           "offsetgroup": "IGCC",
           "orientation": "v",
           "showlegend": true,
           "textposition": "auto",
           "type": "bar",
           "x": [
            "ID",
            "IN",
            "SD",
            "SN",
            "WD",
            "WN"
           ],
           "xaxis": "x",
           "y": [
            0.94608,
            0.94608,
            0.94608,
            0.94608,
            0.94608,
            0.94608
           ],
           "yaxis": "y"
          },
          {
           "alignmentgroup": "True",
           "hovertemplate": "TECHNOLOGY=HFSC<br>YEAR=2022<br>TIMESLICE=%{x}<br>Values=%{y}<extra></extra>",
           "legendgroup": "HFSC",
           "marker": {
            "color": "#FECB52",
            "pattern": {
             "shape": ""
            }
           },
           "name": "HFSC",
           "offsetgroup": "HFSC",
           "orientation": "v",
           "showlegend": true,
           "textposition": "auto",
           "type": "bar",
           "x": [
            "ID",
            "IN",
            "SD",
            "SN",
            "WD",
            "WN"
           ],
           "xaxis": "x",
           "y": [
            0,
            0,
            0,
            0,
            0,
            0
           ],
           "yaxis": "y"
          },
          {
           "alignmentgroup": "True",
           "hovertemplate": "TECHNOLOGY=HYDRO_DAM<br>YEAR=2022<br>TIMESLICE=%{x}<br>Values=%{y}<extra></extra>",
           "legendgroup": "HYDRO_DAM",
           "marker": {
            "color": "#636efa",
            "pattern": {
             "shape": ""
            }
           },
           "name": "HYDRO_DAM",
           "offsetgroup": "HYDRO_DAM",
           "orientation": "v",
           "showlegend": true,
           "textposition": "auto",
           "type": "bar",
           "x": [
            "ID",
            "IN",
            "SD",
            "SN",
            "WD",
            "WN"
           ],
           "xaxis": "x",
           "y": [
            3.20220181176389,
            3.20220181176389,
            2.72187153999931,
            2.72187153999931,
            4.00275226470487,
            4.00275226470487
           ],
           "yaxis": "y"
          },
          {
           "alignmentgroup": "True",
           "hovertemplate": "TECHNOLOGY=HYDRO_MIN<br>YEAR=2022<br>TIMESLICE=%{x}<br>Values=%{y}<extra></extra>",
           "legendgroup": "HYDRO_MIN",
           "marker": {
            "color": "#EF553B",
            "pattern": {
             "shape": ""
            }
           },
           "name": "HYDRO_MIN",
           "offsetgroup": "HYDRO_MIN",
           "orientation": "v",
           "showlegend": true,
           "textposition": "auto",
           "type": "bar",
           "x": [
            "ID",
            "IN",
            "SD",
            "SN",
            "WD",
            "WN"
           ],
           "xaxis": "x",
           "y": [
            0,
            0,
            0,
            0,
            0,
            0
           ],
           "yaxis": "y"
          },
          {
           "alignmentgroup": "True",
           "hovertemplate": "TECHNOLOGY=DIESEL_GEN<br>YEAR=2022<br>TIMESLICE=%{x}<br>Values=%{y}<extra></extra>",
           "legendgroup": "DIESEL_GEN",
           "marker": {
            "color": "#00cc96",
            "pattern": {
             "shape": ""
            }
           },
           "name": "DIESEL_GEN",
           "offsetgroup": "DIESEL_GEN",
           "orientation": "v",
           "showlegend": true,
           "textposition": "auto",
           "type": "bar",
           "x": [
            "ID",
            "IN",
            "SD",
            "SN",
            "WD",
            "WN"
           ],
           "xaxis": "x",
           "y": [
            0,
            0,
            0,
            0,
            0,
            0
           ],
           "yaxis": "y"
          },
          {
           "alignmentgroup": "True",
           "hovertemplate": "TECHNOLOGY=CSP<br>YEAR=2022<br>TIMESLICE=%{x}<br>Values=%{y}<extra></extra>",
           "legendgroup": "CSP",
           "marker": {
            "color": "#ab63fa",
            "pattern": {
             "shape": ""
            }
           },
           "name": "CSP",
           "offsetgroup": "CSP",
           "orientation": "v",
           "showlegend": true,
           "textposition": "auto",
           "type": "bar",
           "x": [
            "ID",
            "IN",
            "SD",
            "SN",
            "WD",
            "WN"
           ],
           "xaxis": "x",
           "y": [
            0,
            0,
            0,
            0,
            0,
            0
           ],
           "yaxis": "y"
          },
          {
           "alignmentgroup": "True",
           "hovertemplate": "TECHNOLOGY=PV_UTL<br>YEAR=2022<br>TIMESLICE=%{x}<br>Values=%{y}<extra></extra>",
           "legendgroup": "PV_UTL",
           "marker": {
            "color": "#FFA15A",
            "pattern": {
             "shape": ""
            }
           },
           "name": "PV_UTL",
           "offsetgroup": "PV_UTL",
           "orientation": "v",
           "showlegend": true,
           "textposition": "auto",
           "type": "bar",
           "x": [
            "ID",
            "IN",
            "SD",
            "SN",
            "WD",
            "WN"
           ],
           "xaxis": "x",
           "y": [
            0,
            0,
            0,
            0,
            0,
            0
           ],
           "yaxis": "y"
          },
          {
           "alignmentgroup": "True",
           "hovertemplate": "TECHNOLOGY=PV_ROF<br>YEAR=2022<br>TIMESLICE=%{x}<br>Values=%{y}<extra></extra>",
           "legendgroup": "PV_ROF",
           "marker": {
            "color": "#19d3f3",
            "pattern": {
             "shape": ""
            }
           },
           "name": "PV_ROF",
           "offsetgroup": "PV_ROF",
           "orientation": "v",
           "showlegend": true,
           "textposition": "auto",
           "type": "bar",
           "x": [
            "ID",
            "IN",
            "SD",
            "SN",
            "WD",
            "WN"
           ],
           "xaxis": "x",
           "y": [
            0,
            0,
            0,
            0,
            0,
            0
           ],
           "yaxis": "y"
          },
          {
           "alignmentgroup": "True",
           "hovertemplate": "TECHNOLOGY=WIND<br>YEAR=2022<br>TIMESLICE=%{x}<br>Values=%{y}<extra></extra>",
           "legendgroup": "WIND",
           "marker": {
            "color": "#FF6692",
            "pattern": {
             "shape": ""
            }
           },
           "name": "WIND",
           "offsetgroup": "WIND",
           "orientation": "v",
           "showlegend": true,
           "textposition": "auto",
           "type": "bar",
           "x": [
            "ID",
            "IN",
            "SD",
            "SN",
            "WD",
            "WN"
           ],
           "xaxis": "x",
           "y": [
            1.5,
            1.5,
            1.5,
            1.5,
            1.5,
            1.5
           ],
           "yaxis": "y"
          },
          {
           "alignmentgroup": "True",
           "hovertemplate": "TECHNOLOGY=NGCC<br>YEAR=2022<br>TIMESLICE=%{x}<br>Values=%{y}<extra></extra>",
           "legendgroup": "NGCC",
           "marker": {
            "color": "#B6E880",
            "pattern": {
             "shape": ""
            }
           },
           "name": "NGCC",
           "offsetgroup": "NGCC",
           "orientation": "v",
           "showlegend": true,
           "textposition": "auto",
           "type": "bar",
           "x": [
            "ID",
            "IN",
            "SD",
            "SN",
            "WD",
            "WN"
           ],
           "xaxis": "x",
           "y": [
            0,
            1.54684720713225,
            0.0739749852829643,
            0.489935910630965,
            0,
            0
           ],
           "yaxis": "y"
          },
          {
           "alignmentgroup": "True",
           "hovertemplate": "TECHNOLOGY=NUCLEAR<br>YEAR=2022<br>TIMESLICE=%{x}<br>Values=%{y}<extra></extra>",
           "legendgroup": "NUCLEAR",
           "marker": {
            "color": "#FF97FF",
            "pattern": {
             "shape": ""
            }
           },
           "name": "NUCLEAR",
           "offsetgroup": "NUCLEAR",
           "orientation": "v",
           "showlegend": true,
           "textposition": "auto",
           "type": "bar",
           "x": [
            "ID",
            "IN",
            "SD",
            "SN",
            "WD",
            "WN"
           ],
           "xaxis": "x",
           "y": [
            3.07671432143526,
            3.19115381158087,
            3.19115381158087,
            3.19115381158087,
            0.638250973508047,
            1.26437377172531
           ],
           "yaxis": "y"
          },
          {
           "alignmentgroup": "True",
           "hovertemplate": "TECHNOLOGY=TRANS<br>YEAR=2022<br>TIMESLICE=%{x}<br>Values=%{y}<extra></extra>",
           "legendgroup": "TRANS",
           "marker": {
            "color": "#FECB52",
            "pattern": {
             "shape": ""
            }
           },
           "name": "TRANS",
           "offsetgroup": "TRANS",
           "orientation": "v",
           "showlegend": true,
           "textposition": "auto",
           "type": "bar",
           "x": [
            "ID",
            "IN",
            "SD",
            "SN",
            "WD",
            "WN"
           ],
           "xaxis": "x",
           "y": [
            8.72499613319915,
            10.386282830477,
            8.43308033686314,
            8.84904126221114,
            7.08708323821292,
            7.71320603643017
           ],
           "yaxis": "y"
          },
          {
           "alignmentgroup": "True",
           "hovertemplate": "TECHNOLOGY=DIST_IND<br>YEAR=2022<br>TIMESLICE=%{x}<br>Values=%{y}<extra></extra>",
           "legendgroup": "DIST_IND",
           "marker": {
            "color": "#636efa",
            "pattern": {
             "shape": ""
            }
           },
           "name": "DIST_IND",
           "offsetgroup": "DIST_IND",
           "orientation": "v",
           "showlegend": true,
           "textposition": "auto",
           "type": "bar",
           "x": [
            "ID",
            "IN",
            "SD",
            "SN",
            "WD",
            "WN"
           ],
           "xaxis": "x",
           "y": [
            2.79853702678232,
            5.60043364183209,
            2.79853702678232,
            5.60043364183209,
            1.39968833592743,
            2.79853702678232
           ],
           "yaxis": "y"
          },
          {
           "alignmentgroup": "True",
           "hovertemplate": "TECHNOLOGY=DIST_TRA<br>YEAR=2022<br>TIMESLICE=%{x}<br>Values=%{y}<extra></extra>",
           "legendgroup": "DIST_TRA",
           "marker": {
            "color": "#EF553B",
            "pattern": {
             "shape": ""
            }
           },
           "name": "DIST_TRA",
           "offsetgroup": "DIST_TRA",
           "orientation": "v",
           "showlegend": true,
           "textposition": "auto",
           "type": "bar",
           "x": [
            "ID",
            "IN",
            "SD",
            "SN",
            "WD",
            "WN"
           ],
           "xaxis": "x",
           "y": [
            0.61302332339983,
            0.191684776432276,
            0.287354682845986,
            0.191684776432276,
            0.335347714179079,
            0.153255830851192
           ],
           "yaxis": "y"
          },
          {
           "alignmentgroup": "True",
           "hovertemplate": "TECHNOLOGY=DIST_RES<br>YEAR=2022<br>TIMESLICE=%{x}<br>Values=%{y}<extra></extra>",
           "legendgroup": "DIST_RES",
           "marker": {
            "color": "#00cc96",
            "pattern": {
             "shape": ""
            }
           },
           "name": "DIST_RES",
           "offsetgroup": "DIST_RES",
           "orientation": "v",
           "showlegend": true,
           "textposition": "auto",
           "type": "bar",
           "x": [
            "ID",
            "IN",
            "SD",
            "SN",
            "WD",
            "WN"
           ],
           "xaxis": "x",
           "y": [
            2.06820975614716,
            2.75926823809277,
            2.58526219518395,
            1.72454264882253,
            3.44805046854417,
            3.44701626024526
           ],
           "yaxis": "y"
          },
          {
           "alignmentgroup": "True",
           "hovertemplate": "TECHNOLOGY=DIST_SER<br>YEAR=2022<br>TIMESLICE=%{x}<br>Values=%{y}<extra></extra>",
           "legendgroup": "DIST_SER",
           "marker": {
            "color": "#ab63fa",
            "pattern": {
             "shape": ""
            }
           },
           "name": "DIST_SER",
           "offsetgroup": "DIST_SER",
           "orientation": "v",
           "showlegend": true,
           "textposition": "auto",
           "type": "bar",
           "x": [
            "ID",
            "IN",
            "SD",
            "SN",
            "WD",
            "WN"
           ],
           "xaxis": "x",
           "y": [
            3.11260608564521,
            1.67702467509662,
            2.63374361093056,
            1.19787476793863,
            1.7962730543414,
            1.19715618679766
           ],
           "yaxis": "y"
          }
         ],
         "name": "2022"
        },
        {
         "data": [
          {
           "alignmentgroup": "True",
           "hovertemplate": "TECHNOLOGY=HF_Imp<br>YEAR=2023<br>TIMESLICE=%{x}<br>Values=%{y}<extra></extra>",
           "legendgroup": "HF_Imp",
           "marker": {
            "color": "#EF553B",
            "pattern": {
             "shape": ""
            }
           },
           "name": "HF_Imp",
           "offsetgroup": "HF_Imp",
           "orientation": "v",
           "showlegend": true,
           "textposition": "auto",
           "type": "bar",
           "x": [
            "ID",
            "IN",
            "SD",
            "SN",
            "WD",
            "WN"
           ],
           "xaxis": "x",
           "y": [
            0,
            0,
            0,
            0,
            0,
            0
           ],
           "yaxis": "y"
          },
          {
           "alignmentgroup": "True",
           "hovertemplate": "TECHNOLOGY=DS_Imp<br>YEAR=2023<br>TIMESLICE=%{x}<br>Values=%{y}<extra></extra>",
           "legendgroup": "DS_Imp",
           "marker": {
            "color": "#00cc96",
            "pattern": {
             "shape": ""
            }
           },
           "name": "DS_Imp",
           "offsetgroup": "DS_Imp",
           "orientation": "v",
           "showlegend": true,
           "textposition": "auto",
           "type": "bar",
           "x": [
            "ID",
            "IN",
            "SD",
            "SN",
            "WD",
            "WN"
           ],
           "xaxis": "x",
           "y": [
            0,
            0,
            0,
            0,
            0,
            0
           ],
           "yaxis": "y"
          },
          {
           "alignmentgroup": "True",
           "hovertemplate": "TECHNOLOGY=NG_Imp<br>YEAR=2023<br>TIMESLICE=%{x}<br>Values=%{y}<extra></extra>",
           "legendgroup": "NG_Imp",
           "marker": {
            "color": "#ab63fa",
            "pattern": {
             "shape": ""
            }
           },
           "name": "NG_Imp",
           "offsetgroup": "NG_Imp",
           "orientation": "v",
           "showlegend": true,
           "textposition": "auto",
           "type": "bar",
           "x": [
            "ID",
            "IN",
            "SD",
            "SN",
            "WD",
            "WN"
           ],
           "xaxis": "x",
           "y": [
            0,
            3.38039217189607,
            0.370984688315536,
            1.23186044448625,
            0,
            0
           ],
           "yaxis": "y"
          },
          {
           "alignmentgroup": "True",
           "hovertemplate": "TECHNOLOGY=CO_Imp<br>YEAR=2023<br>TIMESLICE=%{x}<br>Values=%{y}<extra></extra>",
           "legendgroup": "CO_Imp",
           "marker": {
            "color": "#FFA15A",
            "pattern": {
             "shape": ""
            }
           },
           "name": "CO_Imp",
           "offsetgroup": "CO_Imp",
           "orientation": "v",
           "showlegend": true,
           "textposition": "auto",
           "type": "bar",
           "x": [
            "ID",
            "IN",
            "SD",
            "SN",
            "WD",
            "WN"
           ],
           "xaxis": "x",
           "y": [
            1.97068464,
            1.97068464,
            1.97068464,
            1.97068464,
            1.97068464,
            1.97068464
           ],
           "yaxis": "y"
          },
          {
           "alignmentgroup": "True",
           "hovertemplate": "TECHNOLOGY=UR_Imp<br>YEAR=2023<br>TIMESLICE=%{x}<br>Values=%{y}<extra></extra>",
           "legendgroup": "UR_Imp",
           "marker": {
            "color": "#19d3f3",
            "pattern": {
             "shape": ""
            }
           },
           "name": "UR_Imp",
           "offsetgroup": "UR_Imp",
           "orientation": "v",
           "showlegend": true,
           "textposition": "auto",
           "type": "bar",
           "x": [
            "ID",
            "IN",
            "SD",
            "SN",
            "WD",
            "WN"
           ],
           "xaxis": "x",
           "y": [
            10.5445831344219,
            10.6371793719362,
            10.6371793719362,
            10.6371793719362,
            2.00462517608335,
            4.17139293523463
           ],
           "yaxis": "y"
          },
          {
           "alignmentgroup": "True",
           "hovertemplate": "TECHNOLOGY=NGSC<br>YEAR=2023<br>TIMESLICE=%{x}<br>Values=%{y}<extra></extra>",
           "legendgroup": "NGSC",
           "marker": {
            "color": "#FF6692",
            "pattern": {
             "shape": ""
            }
           },
           "name": "NGSC",
           "offsetgroup": "NGSC",
           "orientation": "v",
           "showlegend": true,
           "textposition": "auto",
           "type": "bar",
           "x": [
            "ID",
            "IN",
            "SD",
            "SN",
            "WD",
            "WN"
           ],
           "xaxis": "x",
           "y": [
            0,
            0,
            0,
            0,
            0,
            0
           ],
           "yaxis": "y"
          },
          {
           "alignmentgroup": "True",
           "hovertemplate": "TECHNOLOGY=DSGC<br>YEAR=2023<br>TIMESLICE=%{x}<br>Values=%{y}<extra></extra>",
           "legendgroup": "DSGC",
           "marker": {
            "color": "#B6E880",
            "pattern": {
             "shape": ""
            }
           },
           "name": "DSGC",
           "offsetgroup": "DSGC",
           "orientation": "v",
           "showlegend": true,
           "textposition": "auto",
           "type": "bar",
           "x": [
            "ID",
            "IN",
            "SD",
            "SN",
            "WD",
            "WN"
           ],
           "xaxis": "x",
           "y": [
            0,
            0,
            0,
            0,
            0,
            0
           ],
           "yaxis": "y"
          },
          {
           "alignmentgroup": "True",
           "hovertemplate": "TECHNOLOGY=IGCC<br>YEAR=2023<br>TIMESLICE=%{x}<br>Values=%{y}<extra></extra>",
           "legendgroup": "IGCC",
           "marker": {
            "color": "#FF97FF",
            "pattern": {
             "shape": ""
            }
           },
           "name": "IGCC",
           "offsetgroup": "IGCC",
           "orientation": "v",
           "showlegend": true,
           "textposition": "auto",
           "type": "bar",
           "x": [
            "ID",
            "IN",
            "SD",
            "SN",
            "WD",
            "WN"
           ],
           "xaxis": "x",
           "y": [
            0.94608,
            0.94608,
            0.94608,
            0.94608,
            0.94608,
            0.94608
           ],
           "yaxis": "y"
          },
          {
           "alignmentgroup": "True",
           "hovertemplate": "TECHNOLOGY=HFSC<br>YEAR=2023<br>TIMESLICE=%{x}<br>Values=%{y}<extra></extra>",
           "legendgroup": "HFSC",
           "marker": {
            "color": "#FECB52",
            "pattern": {
             "shape": ""
            }
           },
           "name": "HFSC",
           "offsetgroup": "HFSC",
           "orientation": "v",
           "showlegend": true,
           "textposition": "auto",
           "type": "bar",
           "x": [
            "ID",
            "IN",
            "SD",
            "SN",
            "WD",
            "WN"
           ],
           "xaxis": "x",
           "y": [
            0,
            0,
            0,
            0,
            0,
            0
           ],
           "yaxis": "y"
          },
          {
           "alignmentgroup": "True",
           "hovertemplate": "TECHNOLOGY=HYDRO_DAM<br>YEAR=2023<br>TIMESLICE=%{x}<br>Values=%{y}<extra></extra>",
           "legendgroup": "HYDRO_DAM",
           "marker": {
            "color": "#636efa",
            "pattern": {
             "shape": ""
            }
           },
           "name": "HYDRO_DAM",
           "offsetgroup": "HYDRO_DAM",
           "orientation": "v",
           "showlegend": true,
           "textposition": "auto",
           "type": "bar",
           "x": [
            "ID",
            "IN",
            "SD",
            "SN",
            "WD",
            "WN"
           ],
           "xaxis": "x",
           "y": [
            3.44756472132763,
            3.44756472132763,
            2.93043001312849,
            2.93043001312849,
            4.30945590165954,
            4.30945590165954
           ],
           "yaxis": "y"
          },
          {
           "alignmentgroup": "True",
           "hovertemplate": "TECHNOLOGY=HYDRO_MIN<br>YEAR=2023<br>TIMESLICE=%{x}<br>Values=%{y}<extra></extra>",
           "legendgroup": "HYDRO_MIN",
           "marker": {
            "color": "#EF553B",
            "pattern": {
             "shape": ""
            }
           },
           "name": "HYDRO_MIN",
           "offsetgroup": "HYDRO_MIN",
           "orientation": "v",
           "showlegend": true,
           "textposition": "auto",
           "type": "bar",
           "x": [
            "ID",
            "IN",
            "SD",
            "SN",
            "WD",
            "WN"
           ],
           "xaxis": "x",
           "y": [
            0,
            0,
            -7.7715611723761e-16,
            0,
            0,
            0
           ],
           "yaxis": "y"
          },
          {
           "alignmentgroup": "True",
           "hovertemplate": "TECHNOLOGY=DIESEL_GEN<br>YEAR=2023<br>TIMESLICE=%{x}<br>Values=%{y}<extra></extra>",
           "legendgroup": "DIESEL_GEN",
           "marker": {
            "color": "#00cc96",
            "pattern": {
             "shape": ""
            }
           },
           "name": "DIESEL_GEN",
           "offsetgroup": "DIESEL_GEN",
           "orientation": "v",
           "showlegend": true,
           "textposition": "auto",
           "type": "bar",
           "x": [
            "ID",
            "IN",
            "SD",
            "SN",
            "WD",
            "WN"
           ],
           "xaxis": "x",
           "y": [
            0,
            0,
            0,
            0,
            0,
            0
           ],
           "yaxis": "y"
          },
          {
           "alignmentgroup": "True",
           "hovertemplate": "TECHNOLOGY=CSP<br>YEAR=2023<br>TIMESLICE=%{x}<br>Values=%{y}<extra></extra>",
           "legendgroup": "CSP",
           "marker": {
            "color": "#ab63fa",
            "pattern": {
             "shape": ""
            }
           },
           "name": "CSP",
           "offsetgroup": "CSP",
           "orientation": "v",
           "showlegend": true,
           "textposition": "auto",
           "type": "bar",
           "x": [
            "ID",
            "IN",
            "SD",
            "SN",
            "WD",
            "WN"
           ],
           "xaxis": "x",
           "y": [
            0,
            0,
            0,
            0,
            0,
            0
           ],
           "yaxis": "y"
          },
          {
           "alignmentgroup": "True",
           "hovertemplate": "TECHNOLOGY=PV_UTL<br>YEAR=2023<br>TIMESLICE=%{x}<br>Values=%{y}<extra></extra>",
           "legendgroup": "PV_UTL",
           "marker": {
            "color": "#FFA15A",
            "pattern": {
             "shape": ""
            }
           },
           "name": "PV_UTL",
           "offsetgroup": "PV_UTL",
           "orientation": "v",
           "showlegend": true,
           "textposition": "auto",
           "type": "bar",
           "x": [
            "ID",
            "IN",
            "SD",
            "SN",
            "WD",
            "WN"
           ],
           "xaxis": "x",
           "y": [
            0,
            0,
            0,
            0,
            0,
            0
           ],
           "yaxis": "y"
          },
          {
           "alignmentgroup": "True",
           "hovertemplate": "TECHNOLOGY=PV_ROF<br>YEAR=2023<br>TIMESLICE=%{x}<br>Values=%{y}<extra></extra>",
           "legendgroup": "PV_ROF",
           "marker": {
            "color": "#19d3f3",
            "pattern": {
             "shape": ""
            }
           },
           "name": "PV_ROF",
           "offsetgroup": "PV_ROF",
           "orientation": "v",
           "showlegend": true,
           "textposition": "auto",
           "type": "bar",
           "x": [
            "ID",
            "IN",
            "SD",
            "SN",
            "WD",
            "WN"
           ],
           "xaxis": "x",
           "y": [
            0,
            0,
            0,
            0,
            0,
            0
           ],
           "yaxis": "y"
          },
          {
           "alignmentgroup": "True",
           "hovertemplate": "TECHNOLOGY=WIND<br>YEAR=2023<br>TIMESLICE=%{x}<br>Values=%{y}<extra></extra>",
           "legendgroup": "WIND",
           "marker": {
            "color": "#FF6692",
            "pattern": {
             "shape": ""
            }
           },
           "name": "WIND",
           "offsetgroup": "WIND",
           "orientation": "v",
           "showlegend": true,
           "textposition": "auto",
           "type": "bar",
           "x": [
            "ID",
            "IN",
            "SD",
            "SN",
            "WD",
            "WN"
           ],
           "xaxis": "x",
           "y": [
            1.5,
            1.5,
            1.5,
            1.5,
            1.5,
            1.5
           ],
           "yaxis": "y"
          },
          {
           "alignmentgroup": "True",
           "hovertemplate": "TECHNOLOGY=NGCC<br>YEAR=2023<br>TIMESLICE=%{x}<br>Values=%{y}<extra></extra>",
           "legendgroup": "NGCC",
           "marker": {
            "color": "#B6E880",
            "pattern": {
             "shape": ""
            }
           },
           "name": "NGCC",
           "offsetgroup": "NGCC",
           "orientation": "v",
           "showlegend": true,
           "textposition": "auto",
           "type": "bar",
           "x": [
            "ID",
            "IN",
            "SD",
            "SN",
            "WD",
            "WN"
           ],
           "xaxis": "x",
           "y": [
            0,
            1.69695676168659,
            0.186234301615404,
            0.618393903554888,
            0,
            0
           ],
           "yaxis": "y"
          },
          {
           "alignmentgroup": "True",
           "hovertemplate": "TECHNOLOGY=NUCLEAR<br>YEAR=2023<br>TIMESLICE=%{x}<br>Values=%{y}<extra></extra>",
           "legendgroup": "NUCLEAR",
           "marker": {
            "color": "#FF97FF",
            "pattern": {
             "shape": ""
            }
           },
           "name": "NUCLEAR",
           "offsetgroup": "NUCLEAR",
           "orientation": "v",
           "showlegend": true,
           "textposition": "auto",
           "type": "bar",
           "x": [
            "ID",
            "IN",
            "SD",
            "SN",
            "WD",
            "WN"
           ],
           "xaxis": "x",
           "y": [
            3.16337494032657,
            3.19115381158087,
            3.19115381158087,
            3.19115381158087,
            0.601387552825006,
            1.25141788057039
           ],
           "yaxis": "y"
          },
          {
           "alignmentgroup": "True",
           "hovertemplate": "TECHNOLOGY=TRANS<br>YEAR=2023<br>TIMESLICE=%{x}<br>Values=%{y}<extra></extra>",
           "legendgroup": "TRANS",
           "marker": {
            "color": "#FECB52",
            "pattern": {
             "shape": ""
            }
           },
           "name": "TRANS",
           "offsetgroup": "TRANS",
           "orientation": "v",
           "showlegend": true,
           "textposition": "auto",
           "type": "bar",
           "x": [
            "ID",
            "IN",
            "SD",
            "SN",
            "WD",
            "WN"
           ],
           "xaxis": "x",
           "y": [
            9.0570196616542,
            10.7817552945951,
            8.75389812632475,
            9.18605772826424,
            7.35692345448454,
            8.00695378222993
           ],
           "yaxis": "y"
          },
          {
           "alignmentgroup": "True",
           "hovertemplate": "TECHNOLOGY=DIST_IND<br>YEAR=2023<br>TIMESLICE=%{x}<br>Values=%{y}<extra></extra>",
           "legendgroup": "DIST_IND",
           "marker": {
            "color": "#636efa",
            "pattern": {
             "shape": ""
            }
           },
           "name": "DIST_IND",
           "offsetgroup": "DIST_IND",
           "orientation": "v",
           "showlegend": true,
           "textposition": "auto",
           "type": "bar",
           "x": [
            "ID",
            "IN",
            "SD",
            "SN",
            "WD",
            "WN"
           ],
           "xaxis": "x",
           "y": [
            2.90517754241628,
            5.81384269292669,
            2.90517754241628,
            5.81384269292669,
            1.45302459142152,
            2.90517754241628
           ],
           "yaxis": "y"
          },
          {
           "alignmentgroup": "True",
           "hovertemplate": "TECHNOLOGY=DIST_TRA<br>YEAR=2023<br>TIMESLICE=%{x}<br>Values=%{y}<extra></extra>",
           "legendgroup": "DIST_TRA",
           "marker": {
            "color": "#EF553B",
            "pattern": {
             "shape": ""
            }
           },
           "name": "DIST_TRA",
           "offsetgroup": "DIST_TRA",
           "orientation": "v",
           "showlegend": true,
           "textposition": "auto",
           "type": "bar",
           "x": [
            "ID",
            "IN",
            "SD",
            "SN",
            "WD",
            "WN"
           ],
           "xaxis": "x",
           "y": [
            0.63683005439816,
            0.199128845419937,
            0.298514088005053,
            0.199128845419937,
            0.348370926396456,
            0.159207513602695
           ],
           "yaxis": "y"
          },
          {
           "alignmentgroup": "True",
           "hovertemplate": "TECHNOLOGY=DIST_RES<br>YEAR=2023<br>TIMESLICE=%{x}<br>Values=%{y}<extra></extra>",
           "legendgroup": "DIST_RES",
           "marker": {
            "color": "#00cc96",
            "pattern": {
             "shape": ""
            }
           },
           "name": "DIST_RES",
           "offsetgroup": "DIST_RES",
           "orientation": "v",
           "showlegend": true,
           "textposition": "auto",
           "type": "bar",
           "x": [
            "ID",
            "IN",
            "SD",
            "SN",
            "WD",
            "WN"
           ],
           "xaxis": "x",
           "y": [
            2.14706955260457,
            2.86447774645058,
            2.68383694075571,
            1.79029859152797,
            3.57952289648146,
            3.57844925434095
           ],
           "yaxis": "y"
          },
          {
           "alignmentgroup": "True",
           "hovertemplate": "TECHNOLOGY=DIST_SER<br>YEAR=2023<br>TIMESLICE=%{x}<br>Values=%{y}<extra></extra>",
           "legendgroup": "DIST_SER",
           "marker": {
            "color": "#ab63fa",
            "pattern": {
             "shape": ""
            }
           },
           "name": "DIST_SER",
           "offsetgroup": "DIST_SER",
           "orientation": "v",
           "showlegend": true,
           "textposition": "auto",
           "type": "bar",
           "x": [
            "ID",
            "IN",
            "SD",
            "SN",
            "WD",
            "WN"
           ],
           "xaxis": "x",
           "y": [
            3.23027581337804,
            1.74042332932004,
            2.73331030362758,
            1.24315952092002,
            1.86417980367694,
            1.24241377438011
           ],
           "yaxis": "y"
          }
         ],
         "name": "2023"
        },
        {
         "data": [
          {
           "alignmentgroup": "True",
           "hovertemplate": "TECHNOLOGY=HF_Imp<br>YEAR=2024<br>TIMESLICE=%{x}<br>Values=%{y}<extra></extra>",
           "legendgroup": "HF_Imp",
           "marker": {
            "color": "#EF553B",
            "pattern": {
             "shape": ""
            }
           },
           "name": "HF_Imp",
           "offsetgroup": "HF_Imp",
           "orientation": "v",
           "showlegend": true,
           "textposition": "auto",
           "type": "bar",
           "x": [
            "ID",
            "IN",
            "SD",
            "SN",
            "WD",
            "WN"
           ],
           "xaxis": "x",
           "y": [
            0,
            0,
            0,
            0,
            0,
            0
           ],
           "yaxis": "y"
          },
          {
           "alignmentgroup": "True",
           "hovertemplate": "TECHNOLOGY=DS_Imp<br>YEAR=2024<br>TIMESLICE=%{x}<br>Values=%{y}<extra></extra>",
           "legendgroup": "DS_Imp",
           "marker": {
            "color": "#00cc96",
            "pattern": {
             "shape": ""
            }
           },
           "name": "DS_Imp",
           "offsetgroup": "DS_Imp",
           "orientation": "v",
           "showlegend": true,
           "textposition": "auto",
           "type": "bar",
           "x": [
            "ID",
            "IN",
            "SD",
            "SN",
            "WD",
            "WN"
           ],
           "xaxis": "x",
           "y": [
            0,
            0,
            0,
            0,
            0,
            0
           ],
           "yaxis": "y"
          },
          {
           "alignmentgroup": "True",
           "hovertemplate": "TECHNOLOGY=NG_Imp<br>YEAR=2024<br>TIMESLICE=%{x}<br>Values=%{y}<extra></extra>",
           "legendgroup": "NG_Imp",
           "marker": {
            "color": "#ab63fa",
            "pattern": {
             "shape": ""
            }
           },
           "name": "NG_Imp",
           "offsetgroup": "NG_Imp",
           "orientation": "v",
           "showlegend": true,
           "textposition": "auto",
           "type": "bar",
           "x": [
            "ID",
            "IN",
            "SD",
            "SN",
            "WD",
            "WN"
           ],
           "xaxis": "x",
           "y": [
            0,
            3.5194181345787,
            0.463370878265164,
            1.3449369871349,
            0,
            0
           ],
           "yaxis": "y"
          },
          {
           "alignmentgroup": "True",
           "hovertemplate": "TECHNOLOGY=CO_Imp<br>YEAR=2024<br>TIMESLICE=%{x}<br>Values=%{y}<extra></extra>",
           "legendgroup": "CO_Imp",
           "marker": {
            "color": "#FFA15A",
            "pattern": {
             "shape": ""
            }
           },
           "name": "CO_Imp",
           "offsetgroup": "CO_Imp",
           "orientation": "v",
           "showlegend": true,
           "textposition": "auto",
           "type": "bar",
           "x": [
            "ID",
            "IN",
            "SD",
            "SN",
            "WD",
            "WN"
           ],
           "xaxis": "x",
           "y": [
            1.97068464,
            1.97068464,
            1.97068464,
            1.97068464,
            1.97068464,
            1.97068464
           ],
           "yaxis": "y"
          },
          {
           "alignmentgroup": "True",
           "hovertemplate": "TECHNOLOGY=UR_Imp<br>YEAR=2024<br>TIMESLICE=%{x}<br>Values=%{y}<extra></extra>",
           "legendgroup": "UR_Imp",
           "marker": {
            "color": "#19d3f3",
            "pattern": {
             "shape": ""
            }
           },
           "name": "UR_Imp",
           "offsetgroup": "UR_Imp",
           "orientation": "v",
           "showlegend": true,
           "textposition": "auto",
           "type": "bar",
           "x": [
            "ID",
            "IN",
            "SD",
            "SN",
            "WD",
            "WN"
           ],
           "xaxis": "x",
           "y": [
            10.703219529404,
            10.703219529404,
            10.703219529404,
            10.703219529404,
            1.89007483356087,
            4.10974781007088
           ],
           "yaxis": "y"
          },
          {
           "alignmentgroup": "True",
           "hovertemplate": "TECHNOLOGY=NGSC<br>YEAR=2024<br>TIMESLICE=%{x}<br>Values=%{y}<extra></extra>",
           "legendgroup": "NGSC",
           "marker": {
            "color": "#FF6692",
            "pattern": {
             "shape": ""
            }
           },
           "name": "NGSC",
           "offsetgroup": "NGSC",
           "orientation": "v",
           "showlegend": true,
           "textposition": "auto",
           "type": "bar",
           "x": [
            "ID",
            "IN",
            "SD",
            "SN",
            "WD",
            "WN"
           ],
           "xaxis": "x",
           "y": [
            0,
            0,
            0,
            0,
            0,
            0
           ],
           "yaxis": "y"
          },
          {
           "alignmentgroup": "True",
           "hovertemplate": "TECHNOLOGY=DSGC<br>YEAR=2024<br>TIMESLICE=%{x}<br>Values=%{y}<extra></extra>",
           "legendgroup": "DSGC",
           "marker": {
            "color": "#B6E880",
            "pattern": {
             "shape": ""
            }
           },
           "name": "DSGC",
           "offsetgroup": "DSGC",
           "orientation": "v",
           "showlegend": true,
           "textposition": "auto",
           "type": "bar",
           "x": [
            "ID",
            "IN",
            "SD",
            "SN",
            "WD",
            "WN"
           ],
           "xaxis": "x",
           "y": [
            0,
            0,
            0,
            0,
            0,
            0
           ],
           "yaxis": "y"
          },
          {
           "alignmentgroup": "True",
           "hovertemplate": "TECHNOLOGY=IGCC<br>YEAR=2024<br>TIMESLICE=%{x}<br>Values=%{y}<extra></extra>",
           "legendgroup": "IGCC",
           "marker": {
            "color": "#FF97FF",
            "pattern": {
             "shape": ""
            }
           },
           "name": "IGCC",
           "offsetgroup": "IGCC",
           "orientation": "v",
           "showlegend": true,
           "textposition": "auto",
           "type": "bar",
           "x": [
            "ID",
            "IN",
            "SD",
            "SN",
            "WD",
            "WN"
           ],
           "xaxis": "x",
           "y": [
            0.94608,
            0.94608,
            0.94608,
            0.94608,
            0.94608,
            0.94608
           ],
           "yaxis": "y"
          },
          {
           "alignmentgroup": "True",
           "hovertemplate": "TECHNOLOGY=HFSC<br>YEAR=2024<br>TIMESLICE=%{x}<br>Values=%{y}<extra></extra>",
           "legendgroup": "HFSC",
           "marker": {
            "color": "#FECB52",
            "pattern": {
             "shape": ""
            }
           },
           "name": "HFSC",
           "offsetgroup": "HFSC",
           "orientation": "v",
           "showlegend": true,
           "textposition": "auto",
           "type": "bar",
           "x": [
            "ID",
            "IN",
            "SD",
            "SN",
            "WD",
            "WN"
           ],
           "xaxis": "x",
           "y": [
            0,
            0,
            0,
            0,
            0,
            0
           ],
           "yaxis": "y"
          },
          {
           "alignmentgroup": "True",
           "hovertemplate": "TECHNOLOGY=HYDRO_DAM<br>YEAR=2024<br>TIMESLICE=%{x}<br>Values=%{y}<extra></extra>",
           "legendgroup": "HYDRO_DAM",
           "marker": {
            "color": "#636efa",
            "pattern": {
             "shape": ""
            }
           },
           "name": "HYDRO_DAM",
           "offsetgroup": "HYDRO_DAM",
           "orientation": "v",
           "showlegend": true,
           "textposition": "auto",
           "type": "bar",
           "x": [
            "ID",
            "IN",
            "SD",
            "SN",
            "WD",
            "WN"
           ],
           "xaxis": "x",
           "y": [
            3.61520583134477,
            3.61520583134477,
            3.07292495664305,
            3.07292495664305,
            4.51900728918096,
            4.51900728918096
           ],
           "yaxis": "y"
          },
          {
           "alignmentgroup": "True",
           "hovertemplate": "TECHNOLOGY=HYDRO_MIN<br>YEAR=2024<br>TIMESLICE=%{x}<br>Values=%{y}<extra></extra>",
           "legendgroup": "HYDRO_MIN",
           "marker": {
            "color": "#EF553B",
            "pattern": {
             "shape": ""
            }
           },
           "name": "HYDRO_MIN",
           "offsetgroup": "HYDRO_MIN",
           "orientation": "v",
           "showlegend": true,
           "textposition": "auto",
           "type": "bar",
           "x": [
            "ID",
            "IN",
            "SD",
            "SN",
            "WD",
            "WN"
           ],
           "xaxis": "x",
           "y": [
            0,
            0,
            0,
            0,
            0,
            0
           ],
           "yaxis": "y"
          },
          {
           "alignmentgroup": "True",
           "hovertemplate": "TECHNOLOGY=DIESEL_GEN<br>YEAR=2024<br>TIMESLICE=%{x}<br>Values=%{y}<extra></extra>",
           "legendgroup": "DIESEL_GEN",
           "marker": {
            "color": "#00cc96",
            "pattern": {
             "shape": ""
            }
           },
           "name": "DIESEL_GEN",
           "offsetgroup": "DIESEL_GEN",
           "orientation": "v",
           "showlegend": true,
           "textposition": "auto",
           "type": "bar",
           "x": [
            "ID",
            "IN",
            "SD",
            "SN",
            "WD",
            "WN"
           ],
           "xaxis": "x",
           "y": [
            0,
            0,
            0,
            0,
            0,
            0
           ],
           "yaxis": "y"
          },
          {
           "alignmentgroup": "True",
           "hovertemplate": "TECHNOLOGY=CSP<br>YEAR=2024<br>TIMESLICE=%{x}<br>Values=%{y}<extra></extra>",
           "legendgroup": "CSP",
           "marker": {
            "color": "#ab63fa",
            "pattern": {
             "shape": ""
            }
           },
           "name": "CSP",
           "offsetgroup": "CSP",
           "orientation": "v",
           "showlegend": true,
           "textposition": "auto",
           "type": "bar",
           "x": [
            "ID",
            "IN",
            "SD",
            "SN",
            "WD",
            "WN"
           ],
           "xaxis": "x",
           "y": [
            0,
            0,
            0,
            0,
            0,
            0
           ],
           "yaxis": "y"
          },
          {
           "alignmentgroup": "True",
           "hovertemplate": "TECHNOLOGY=PV_UTL<br>YEAR=2024<br>TIMESLICE=%{x}<br>Values=%{y}<extra></extra>",
           "legendgroup": "PV_UTL",
           "marker": {
            "color": "#FFA15A",
            "pattern": {
             "shape": ""
            }
           },
           "name": "PV_UTL",
           "offsetgroup": "PV_UTL",
           "orientation": "v",
           "showlegend": true,
           "textposition": "auto",
           "type": "bar",
           "x": [
            "ID",
            "IN",
            "SD",
            "SN",
            "WD",
            "WN"
           ],
           "xaxis": "x",
           "y": [
            0,
            0,
            0,
            0,
            0,
            0
           ],
           "yaxis": "y"
          },
          {
           "alignmentgroup": "True",
           "hovertemplate": "TECHNOLOGY=PV_ROF<br>YEAR=2024<br>TIMESLICE=%{x}<br>Values=%{y}<extra></extra>",
           "legendgroup": "PV_ROF",
           "marker": {
            "color": "#19d3f3",
            "pattern": {
             "shape": ""
            }
           },
           "name": "PV_ROF",
           "offsetgroup": "PV_ROF",
           "orientation": "v",
           "showlegend": true,
           "textposition": "auto",
           "type": "bar",
           "x": [
            "ID",
            "IN",
            "SD",
            "SN",
            "WD",
            "WN"
           ],
           "xaxis": "x",
           "y": [
            1.11022302462516e-16,
            0,
            0,
            0,
            0,
            0
           ],
           "yaxis": "y"
          },
          {
           "alignmentgroup": "True",
           "hovertemplate": "TECHNOLOGY=WIND<br>YEAR=2024<br>TIMESLICE=%{x}<br>Values=%{y}<extra></extra>",
           "legendgroup": "WIND",
           "marker": {
            "color": "#FF6692",
            "pattern": {
             "shape": ""
            }
           },
           "name": "WIND",
           "offsetgroup": "WIND",
           "orientation": "v",
           "showlegend": true,
           "textposition": "auto",
           "type": "bar",
           "x": [
            "ID",
            "IN",
            "SD",
            "SN",
            "WD",
            "WN"
           ],
           "xaxis": "x",
           "y": [
            1.5,
            1.5,
            1.5,
            1.5,
            1.5,
            1.5
           ],
           "yaxis": "y"
          },
          {
           "alignmentgroup": "True",
           "hovertemplate": "TECHNOLOGY=NGCC<br>YEAR=2024<br>TIMESLICE=%{x}<br>Values=%{y}<extra></extra>",
           "legendgroup": "NGCC",
           "marker": {
            "color": "#B6E880",
            "pattern": {
             "shape": ""
            }
           },
           "name": "NGCC",
           "offsetgroup": "NGCC",
           "orientation": "v",
           "showlegend": true,
           "textposition": "auto",
           "type": "bar",
           "x": [
            "ID",
            "IN",
            "SD",
            "SN",
            "WD",
            "WN"
           ],
           "xaxis": "x",
           "y": [
            0,
            1.76674779048665,
            0.232612166001934,
            0.675158324331585,
            0,
            0
           ],
           "yaxis": "y"
          },
          {
           "alignmentgroup": "True",
           "hovertemplate": "TECHNOLOGY=NUCLEAR<br>YEAR=2024<br>TIMESLICE=%{x}<br>Values=%{y}<extra></extra>",
           "legendgroup": "NUCLEAR",
           "marker": {
            "color": "#FF97FF",
            "pattern": {
             "shape": ""
            }
           },
           "name": "NUCLEAR",
           "offsetgroup": "NUCLEAR",
           "orientation": "v",
           "showlegend": true,
           "textposition": "auto",
           "type": "bar",
           "x": [
            "ID",
            "IN",
            "SD",
            "SN",
            "WD",
            "WN"
           ],
           "xaxis": "x",
           "y": [
            3.21096585882121,
            3.21096585882121,
            3.21096585882121,
            3.21096585882121,
            0.567022450068262,
            1.23292434302127
           ],
           "yaxis": "y"
          },
          {
           "alignmentgroup": "True",
           "hovertemplate": "TECHNOLOGY=TRANS<br>YEAR=2024<br>TIMESLICE=%{x}<br>Values=%{y}<extra></extra>",
           "legendgroup": "TRANS",
           "marker": {
            "color": "#FECB52",
            "pattern": {
             "shape": ""
            }
           },
           "name": "TRANS",
           "offsetgroup": "TRANS",
           "orientation": "v",
           "showlegend": true,
           "textposition": "auto",
           "type": "bar",
           "x": [
            "ID",
            "IN",
            "SD",
            "SN",
            "WD",
            "WN"
           ],
           "xaxis": "x",
           "y": [
            9.27225169016598,
            11.0389994806526,
            8.9625829814662,
            9.40512913979585,
            7.53210973924923,
            8.19801163220223
           ],
           "yaxis": "y"
          },
          {
           "alignmentgroup": "True",
           "hovertemplate": "TECHNOLOGY=DIST_IND<br>YEAR=2024<br>TIMESLICE=%{x}<br>Values=%{y}<extra></extra>",
           "legendgroup": "DIST_IND",
           "marker": {
            "color": "#636efa",
            "pattern": {
             "shape": ""
            }
           },
           "name": "DIST_IND",
           "offsetgroup": "DIST_IND",
           "orientation": "v",
           "showlegend": true,
           "textposition": "auto",
           "type": "bar",
           "x": [
            "ID",
            "IN",
            "SD",
            "SN",
            "WD",
            "WN"
           ],
           "xaxis": "x",
           "y": [
            2.97454564481895,
            5.95266217276493,
            2.97454564481895,
            5.95266217276493,
            1.48771904887884,
            2.97454564481895
           ],
           "yaxis": "y"
          },
          {
           "alignmentgroup": "True",
           "hovertemplate": "TECHNOLOGY=DIST_TRA<br>YEAR=2024<br>TIMESLICE=%{x}<br>Values=%{y}<extra></extra>",
           "legendgroup": "DIST_TRA",
           "marker": {
            "color": "#EF553B",
            "pattern": {
             "shape": ""
            }
           },
           "name": "DIST_TRA",
           "offsetgroup": "DIST_TRA",
           "orientation": "v",
           "showlegend": true,
           "textposition": "auto",
           "type": "bar",
           "x": [
            "ID",
            "IN",
            "SD",
            "SN",
            "WD",
            "WN"
           ],
           "xaxis": "x",
           "y": [
            0.650717314172653,
            0.203471218996073,
            0.305023741014509,
            0.203471218996073,
            0.355967800162034,
            0.162679328541071
           ],
           "yaxis": "y"
          },
          {
           "alignmentgroup": "True",
           "hovertemplate": "TECHNOLOGY=DIST_RES<br>YEAR=2024<br>TIMESLICE=%{x}<br>Values=%{y}<extra></extra>",
           "legendgroup": "DIST_RES",
           "marker": {
            "color": "#00cc96",
            "pattern": {
             "shape": ""
            }
           },
           "name": "DIST_RES",
           "offsetgroup": "DIST_RES",
           "orientation": "v",
           "showlegend": true,
           "textposition": "auto",
           "type": "bar",
           "x": [
            "ID",
            "IN",
            "SD",
            "SN",
            "WD",
            "WN"
           ],
           "xaxis": "x",
           "y": [
            2.19840281633628,
            2.93296318114153,
            2.74800352042035,
            1.83310198821709,
            3.6651040052331,
            3.6640046938938
           ],
           "yaxis": "y"
          },
          {
           "alignmentgroup": "True",
           "hovertemplate": "TECHNOLOGY=DIST_SER<br>YEAR=2024<br>TIMESLICE=%{x}<br>Values=%{y}<extra></extra>",
           "legendgroup": "DIST_SER",
           "marker": {
            "color": "#ab63fa",
            "pattern": {
             "shape": ""
            }
           },
           "name": "DIST_SER",
           "offsetgroup": "DIST_SER",
           "orientation": "v",
           "showlegend": true,
           "textposition": "auto",
           "type": "bar",
           "x": [
            "ID",
            "IN",
            "SD",
            "SN",
            "WD",
            "WN"
           ],
           "xaxis": "x",
           "y": [
            3.30764768914758,
            1.78211011564417,
            2.7987788138941,
            1.27293579689285,
            1.90883081693866,
            1.27217218813894
           ],
           "yaxis": "y"
          }
         ],
         "name": "2024"
        },
        {
         "data": [
          {
           "alignmentgroup": "True",
           "hovertemplate": "TECHNOLOGY=HF_Imp<br>YEAR=2025<br>TIMESLICE=%{x}<br>Values=%{y}<extra></extra>",
           "legendgroup": "HF_Imp",
           "marker": {
            "color": "#EF553B",
            "pattern": {
             "shape": ""
            }
           },
           "name": "HF_Imp",
           "offsetgroup": "HF_Imp",
           "orientation": "v",
           "showlegend": true,
           "textposition": "auto",
           "type": "bar",
           "x": [
            "ID",
            "IN",
            "SD",
            "SN",
            "WD",
            "WN"
           ],
           "xaxis": "x",
           "y": [
            0,
            0,
            0,
            0,
            0,
            0
           ],
           "yaxis": "y"
          },
          {
           "alignmentgroup": "True",
           "hovertemplate": "TECHNOLOGY=DS_Imp<br>YEAR=2025<br>TIMESLICE=%{x}<br>Values=%{y}<extra></extra>",
           "legendgroup": "DS_Imp",
           "marker": {
            "color": "#00cc96",
            "pattern": {
             "shape": ""
            }
           },
           "name": "DS_Imp",
           "offsetgroup": "DS_Imp",
           "orientation": "v",
           "showlegend": true,
           "textposition": "auto",
           "type": "bar",
           "x": [
            "ID",
            "IN",
            "SD",
            "SN",
            "WD",
            "WN"
           ],
           "xaxis": "x",
           "y": [
            0,
            0,
            0,
            0,
            0,
            0
           ],
           "yaxis": "y"
          },
          {
           "alignmentgroup": "True",
           "hovertemplate": "TECHNOLOGY=NG_Imp<br>YEAR=2025<br>TIMESLICE=%{x}<br>Values=%{y}<extra></extra>",
           "legendgroup": "NG_Imp",
           "marker": {
            "color": "#ab63fa",
            "pattern": {
             "shape": ""
            }
           },
           "name": "NG_Imp",
           "offsetgroup": "NG_Imp",
           "orientation": "v",
           "showlegend": true,
           "textposition": "auto",
           "type": "bar",
           "x": [
            "ID",
            "IN",
            "SD",
            "SN",
            "WD",
            "WN"
           ],
           "xaxis": "x",
           "y": [
            1.47158049073619,
            3.73080621353979,
            0.603299011914949,
            1.49985868847409,
            0,
            0
           ],
           "yaxis": "y"
          },
          {
           "alignmentgroup": "True",
           "hovertemplate": "TECHNOLOGY=CO_Imp<br>YEAR=2025<br>TIMESLICE=%{x}<br>Values=%{y}<extra></extra>",
           "legendgroup": "CO_Imp",
           "marker": {
            "color": "#FFA15A",
            "pattern": {
             "shape": ""
            }
           },
           "name": "CO_Imp",
           "offsetgroup": "CO_Imp",
           "orientation": "v",
           "showlegend": true,
           "textposition": "auto",
           "type": "bar",
           "x": [
            "ID",
            "IN",
            "SD",
            "SN",
            "WD",
            "WN"
           ],
           "xaxis": "x",
           "y": [
            1.97068464,
            1.97068464,
            1.97068464,
            1.97068464,
            1.97068464,
            1.97068464
           ],
           "yaxis": "y"
          },
          {
           "alignmentgroup": "True",
           "hovertemplate": "TECHNOLOGY=UR_Imp<br>YEAR=2025<br>TIMESLICE=%{x}<br>Values=%{y}<extra></extra>",
           "legendgroup": "UR_Imp",
           "marker": {
            "color": "#19d3f3",
            "pattern": {
             "shape": ""
            }
           },
           "name": "UR_Imp",
           "offsetgroup": "UR_Imp",
           "orientation": "v",
           "showlegend": true,
           "textposition": "auto",
           "type": "bar",
           "x": [
            "ID",
            "IN",
            "SD",
            "SN",
            "WD",
            "WN"
           ],
           "xaxis": "x",
           "y": [
            8.78112664572585,
            10.9899091678007,
            10.9899091678007,
            10.9899091678007,
            2.32720878409299,
            4.5846277232034
           ],
           "yaxis": "y"
          },
          {
           "alignmentgroup": "True",
           "hovertemplate": "TECHNOLOGY=NGSC<br>YEAR=2025<br>TIMESLICE=%{x}<br>Values=%{y}<extra></extra>",
           "legendgroup": "NGSC",
           "marker": {
            "color": "#FF6692",
            "pattern": {
             "shape": ""
            }
           },
           "name": "NGSC",
           "offsetgroup": "NGSC",
           "orientation": "v",
           "showlegend": true,
           "textposition": "auto",
           "type": "bar",
           "x": [
            "ID",
            "IN",
            "SD",
            "SN",
            "WD",
            "WN"
           ],
           "xaxis": "x",
           "y": [
            0,
            0,
            0,
            0,
            0,
            0
           ],
           "yaxis": "y"
          },
          {
           "alignmentgroup": "True",
           "hovertemplate": "TECHNOLOGY=DSGC<br>YEAR=2025<br>TIMESLICE=%{x}<br>Values=%{y}<extra></extra>",
           "legendgroup": "DSGC",
           "marker": {
            "color": "#B6E880",
            "pattern": {
             "shape": ""
            }
           },
           "name": "DSGC",
           "offsetgroup": "DSGC",
           "orientation": "v",
           "showlegend": true,
           "textposition": "auto",
           "type": "bar",
           "x": [
            "ID",
            "IN",
            "SD",
            "SN",
            "WD",
            "WN"
           ],
           "xaxis": "x",
           "y": [
            0,
            0,
            0,
            0,
            0,
            0
           ],
           "yaxis": "y"
          },
          {
           "alignmentgroup": "True",
           "hovertemplate": "TECHNOLOGY=IGCC<br>YEAR=2025<br>TIMESLICE=%{x}<br>Values=%{y}<extra></extra>",
           "legendgroup": "IGCC",
           "marker": {
            "color": "#FF97FF",
            "pattern": {
             "shape": ""
            }
           },
           "name": "IGCC",
           "offsetgroup": "IGCC",
           "orientation": "v",
           "showlegend": true,
           "textposition": "auto",
           "type": "bar",
           "x": [
            "ID",
            "IN",
            "SD",
            "SN",
            "WD",
            "WN"
           ],
           "xaxis": "x",
           "y": [
            0.94608,
            0.94608,
            0.94608,
            0.94608,
            0.94608,
            0.94608
           ],
           "yaxis": "y"
          },
          {
           "alignmentgroup": "True",
           "hovertemplate": "TECHNOLOGY=HFSC<br>YEAR=2025<br>TIMESLICE=%{x}<br>Values=%{y}<extra></extra>",
           "legendgroup": "HFSC",
           "marker": {
            "color": "#FECB52",
            "pattern": {
             "shape": ""
            }
           },
           "name": "HFSC",
           "offsetgroup": "HFSC",
           "orientation": "v",
           "showlegend": true,
           "textposition": "auto",
           "type": "bar",
           "x": [
            "ID",
            "IN",
            "SD",
            "SN",
            "WD",
            "WN"
           ],
           "xaxis": "x",
           "y": [
            0,
            0,
            0,
            0,
            0,
            0
           ],
           "yaxis": "y"
          },
          {
           "alignmentgroup": "True",
           "hovertemplate": "TECHNOLOGY=HYDRO_DAM<br>YEAR=2025<br>TIMESLICE=%{x}<br>Values=%{y}<extra></extra>",
           "legendgroup": "HYDRO_DAM",
           "marker": {
            "color": "#636efa",
            "pattern": {
             "shape": ""
            }
           },
           "name": "HYDRO_DAM",
           "offsetgroup": "HYDRO_DAM",
           "orientation": "v",
           "showlegend": true,
           "textposition": "auto",
           "type": "bar",
           "x": [
            "ID",
            "IN",
            "SD",
            "SN",
            "WD",
            "WN"
           ],
           "xaxis": "x",
           "y": [
            3.61520583134477,
            3.61520583134477,
            3.07292495664305,
            3.07292495664305,
            4.51900728918096,
            4.51900728918096
           ],
           "yaxis": "y"
          },
          {
           "alignmentgroup": "True",
           "hovertemplate": "TECHNOLOGY=HYDRO_MIN<br>YEAR=2025<br>TIMESLICE=%{x}<br>Values=%{y}<extra></extra>",
           "legendgroup": "HYDRO_MIN",
           "marker": {
            "color": "#EF553B",
            "pattern": {
             "shape": ""
            }
           },
           "name": "HYDRO_MIN",
           "offsetgroup": "HYDRO_MIN",
           "orientation": "v",
           "showlegend": true,
           "textposition": "auto",
           "type": "bar",
           "x": [
            "ID",
            "IN",
            "SD",
            "SN",
            "WD",
            "WN"
           ],
           "xaxis": "x",
           "y": [
            0,
            0,
            1.25546655546394e-15,
            0,
            0,
            0
           ],
           "yaxis": "y"
          },
          {
           "alignmentgroup": "True",
           "hovertemplate": "TECHNOLOGY=DIESEL_GEN<br>YEAR=2025<br>TIMESLICE=%{x}<br>Values=%{y}<extra></extra>",
           "legendgroup": "DIESEL_GEN",
           "marker": {
            "color": "#00cc96",
            "pattern": {
             "shape": ""
            }
           },
           "name": "DIESEL_GEN",
           "offsetgroup": "DIESEL_GEN",
           "orientation": "v",
           "showlegend": true,
           "textposition": "auto",
           "type": "bar",
           "x": [
            "ID",
            "IN",
            "SD",
            "SN",
            "WD",
            "WN"
           ],
           "xaxis": "x",
           "y": [
            0,
            0,
            0,
            0,
            0,
            0
           ],
           "yaxis": "y"
          },
          {
           "alignmentgroup": "True",
           "hovertemplate": "TECHNOLOGY=CSP<br>YEAR=2025<br>TIMESLICE=%{x}<br>Values=%{y}<extra></extra>",
           "legendgroup": "CSP",
           "marker": {
            "color": "#ab63fa",
            "pattern": {
             "shape": ""
            }
           },
           "name": "CSP",
           "offsetgroup": "CSP",
           "orientation": "v",
           "showlegend": true,
           "textposition": "auto",
           "type": "bar",
           "x": [
            "ID",
            "IN",
            "SD",
            "SN",
            "WD",
            "WN"
           ],
           "xaxis": "x",
           "y": [
            0,
            0,
            0,
            0,
            0,
            0
           ],
           "yaxis": "y"
          },
          {
           "alignmentgroup": "True",
           "hovertemplate": "TECHNOLOGY=PV_UTL<br>YEAR=2025<br>TIMESLICE=%{x}<br>Values=%{y}<extra></extra>",
           "legendgroup": "PV_UTL",
           "marker": {
            "color": "#FFA15A",
            "pattern": {
             "shape": ""
            }
           },
           "name": "PV_UTL",
           "offsetgroup": "PV_UTL",
           "orientation": "v",
           "showlegend": true,
           "textposition": "auto",
           "type": "bar",
           "x": [
            "ID",
            "IN",
            "SD",
            "SN",
            "WD",
            "WN"
           ],
           "xaxis": "x",
           "y": [
            0,
            0,
            0,
            0,
            0,
            0
           ],
           "yaxis": "y"
          },
          {
           "alignmentgroup": "True",
           "hovertemplate": "TECHNOLOGY=PV_ROF<br>YEAR=2025<br>TIMESLICE=%{x}<br>Values=%{y}<extra></extra>",
           "legendgroup": "PV_ROF",
           "marker": {
            "color": "#19d3f3",
            "pattern": {
             "shape": ""
            }
           },
           "name": "PV_ROF",
           "offsetgroup": "PV_ROF",
           "orientation": "v",
           "showlegend": true,
           "textposition": "auto",
           "type": "bar",
           "x": [
            "ID",
            "IN",
            "SD",
            "SN",
            "WD",
            "WN"
           ],
           "xaxis": "x",
           "y": [
            0,
            0,
            0,
            0,
            0,
            0
           ],
           "yaxis": "y"
          },
          {
           "alignmentgroup": "True",
           "hovertemplate": "TECHNOLOGY=WIND<br>YEAR=2025<br>TIMESLICE=%{x}<br>Values=%{y}<extra></extra>",
           "legendgroup": "WIND",
           "marker": {
            "color": "#FF6692",
            "pattern": {
             "shape": ""
            }
           },
           "name": "WIND",
           "offsetgroup": "WIND",
           "orientation": "v",
           "showlegend": true,
           "textposition": "auto",
           "type": "bar",
           "x": [
            "ID",
            "IN",
            "SD",
            "SN",
            "WD",
            "WN"
           ],
           "xaxis": "x",
           "y": [
            1.5,
            1.5,
            1.5,
            1.5,
            1.5,
            1.5
           ],
           "yaxis": "y"
          },
          {
           "alignmentgroup": "True",
           "hovertemplate": "TECHNOLOGY=NGCC<br>YEAR=2025<br>TIMESLICE=%{x}<br>Values=%{y}<extra></extra>",
           "legendgroup": "NGCC",
           "marker": {
            "color": "#B6E880",
            "pattern": {
             "shape": ""
            }
           },
           "name": "NGCC",
           "offsetgroup": "NGCC",
           "orientation": "v",
           "showlegend": true,
           "textposition": "auto",
           "type": "bar",
           "x": [
            "ID",
            "IN",
            "SD",
            "SN",
            "WD",
            "WN"
           ],
           "xaxis": "x",
           "y": [
            0.738733359070631,
            1.87286459933364,
            0.302856084598515,
            0.752929013426538,
            0,
            0
           ],
           "yaxis": "y"
          },
          {
           "alignmentgroup": "True",
           "hovertemplate": "TECHNOLOGY=NUCLEAR<br>YEAR=2025<br>TIMESLICE=%{x}<br>Values=%{y}<extra></extra>",
           "legendgroup": "NUCLEAR",
           "marker": {
            "color": "#FF97FF",
            "pattern": {
             "shape": ""
            }
           },
           "name": "NUCLEAR",
           "offsetgroup": "NUCLEAR",
           "orientation": "v",
           "showlegend": true,
           "textposition": "auto",
           "type": "bar",
           "x": [
            "ID",
            "IN",
            "SD",
            "SN",
            "WD",
            "WN"
           ],
           "xaxis": "x",
           "y": [
            2.63433799371776,
            3.2969727503402,
            3.2969727503402,
            3.2969727503402,
            0.698162635227898,
            1.37538831696102
           ],
           "yaxis": "y"
          },
          {
           "alignmentgroup": "True",
           "hovertemplate": "TECHNOLOGY=TRANS<br>YEAR=2025<br>TIMESLICE=%{x}<br>Values=%{y}<extra></extra>",
           "legendgroup": "TRANS",
           "marker": {
            "color": "#FECB52",
            "pattern": {
             "shape": ""
            }
           },
           "name": "TRANS",
           "offsetgroup": "TRANS",
           "orientation": "v",
           "showlegend": true,
           "textposition": "auto",
           "type": "bar",
           "x": [
            "ID",
            "IN",
            "SD",
            "SN",
            "WD",
            "WN"
           ],
           "xaxis": "x",
           "y": [
            9.43435718413316,
            11.2311231810186,
            9.11883379158177,
            9.5689067204098,
            7.66324992440886,
            8.34047560614198
           ],
           "yaxis": "y"
          },
          {
           "alignmentgroup": "True",
           "hovertemplate": "TECHNOLOGY=DIST_IND<br>YEAR=2025<br>TIMESLICE=%{x}<br>Values=%{y}<extra></extra>",
           "legendgroup": "DIST_IND",
           "marker": {
            "color": "#636efa",
            "pattern": {
             "shape": ""
            }
           },
           "name": "DIST_IND",
           "offsetgroup": "DIST_IND",
           "orientation": "v",
           "showlegend": true,
           "textposition": "auto",
           "type": "bar",
           "x": [
            "ID",
            "IN",
            "SD",
            "SN",
            "WD",
            "WN"
           ],
           "xaxis": "x",
           "y": [
            3.02631288541796,
            6.05625879950988,
            3.02631288541796,
            6.05625879950988,
            1.51361043504102,
            3.02631288541796
           ],
           "yaxis": "y"
          },
          {
           "alignmentgroup": "True",
           "hovertemplate": "TECHNOLOGY=DIST_TRA<br>YEAR=2025<br>TIMESLICE=%{x}<br>Values=%{y}<extra></extra>",
           "legendgroup": "DIST_TRA",
           "marker": {
            "color": "#EF553B",
            "pattern": {
             "shape": ""
            }
           },
           "name": "DIST_TRA",
           "offsetgroup": "DIST_TRA",
           "orientation": "v",
           "showlegend": true,
           "textposition": "auto",
           "type": "bar",
           "x": [
            "ID",
            "IN",
            "SD",
            "SN",
            "WD",
            "WN"
           ],
           "xaxis": "x",
           "y": [
            0.662620679664542,
            0.207193253489904,
            0.31060344359139,
            0.207193253489904,
            0.362479406277998,
            0.165655169916823
           ],
           "yaxis": "y"
          },
          {
           "alignmentgroup": "True",
           "hovertemplate": "TECHNOLOGY=DIST_RES<br>YEAR=2025<br>TIMESLICE=%{x}<br>Values=%{y}<extra></extra>",
           "legendgroup": "DIST_RES",
           "marker": {
            "color": "#00cc96",
            "pattern": {
             "shape": ""
            }
           },
           "name": "DIST_RES",
           "offsetgroup": "DIST_RES",
           "orientation": "v",
           "showlegend": true,
           "textposition": "auto",
           "type": "bar",
           "x": [
            "ID",
            "IN",
            "SD",
            "SN",
            "WD",
            "WN"
           ],
           "xaxis": "x",
           "y": [
            2.23634479387711,
            2.98358285026916,
            2.79543099234638,
            1.86473928140185,
            3.72835960735387,
            3.72724132312851
           ],
           "yaxis": "y"
          },
          {
           "alignmentgroup": "True",
           "hovertemplate": "TECHNOLOGY=DIST_SER<br>YEAR=2025<br>TIMESLICE=%{x}<br>Values=%{y}<extra></extra>",
           "legendgroup": "DIST_SER",
           "marker": {
            "color": "#ab63fa",
            "pattern": {
             "shape": ""
            }
           },
           "name": "DIST_SER",
           "offsetgroup": "DIST_SER",
           "orientation": "v",
           "showlegend": true,
           "textposition": "auto",
           "type": "bar",
           "x": [
            "ID",
            "IN",
            "SD",
            "SN",
            "WD",
            "WN"
           ],
           "xaxis": "x",
           "y": [
            3.36567659597473,
            1.81337520539819,
            2.847880196594,
            1.29526800385793,
            1.94231907688495,
            1.29449099846533
           ],
           "yaxis": "y"
          }
         ],
         "name": "2025"
        },
        {
         "data": [
          {
           "alignmentgroup": "True",
           "hovertemplate": "TECHNOLOGY=HF_Imp<br>YEAR=2026<br>TIMESLICE=%{x}<br>Values=%{y}<extra></extra>",
           "legendgroup": "HF_Imp",
           "marker": {
            "color": "#EF553B",
            "pattern": {
             "shape": ""
            }
           },
           "name": "HF_Imp",
           "offsetgroup": "HF_Imp",
           "orientation": "v",
           "showlegend": true,
           "textposition": "auto",
           "type": "bar",
           "x": [
            "ID",
            "IN",
            "SD",
            "SN",
            "WD",
            "WN"
           ],
           "xaxis": "x",
           "y": [
            0,
            0,
            0,
            0,
            0,
            0
           ],
           "yaxis": "y"
          },
          {
           "alignmentgroup": "True",
           "hovertemplate": "TECHNOLOGY=DS_Imp<br>YEAR=2026<br>TIMESLICE=%{x}<br>Values=%{y}<extra></extra>",
           "legendgroup": "DS_Imp",
           "marker": {
            "color": "#00cc96",
            "pattern": {
             "shape": ""
            }
           },
           "name": "DS_Imp",
           "offsetgroup": "DS_Imp",
           "orientation": "v",
           "showlegend": true,
           "textposition": "auto",
           "type": "bar",
           "x": [
            "ID",
            "IN",
            "SD",
            "SN",
            "WD",
            "WN"
           ],
           "xaxis": "x",
           "y": [
            0,
            0,
            0,
            0,
            0,
            0
           ],
           "yaxis": "y"
          },
          {
           "alignmentgroup": "True",
           "hovertemplate": "TECHNOLOGY=NG_Imp<br>YEAR=2026<br>TIMESLICE=%{x}<br>Values=%{y}<extra></extra>",
           "legendgroup": "NG_Imp",
           "marker": {
            "color": "#ab63fa",
            "pattern": {
             "shape": ""
            }
           },
           "name": "NG_Imp",
           "offsetgroup": "NG_Imp",
           "orientation": "v",
           "showlegend": true,
           "textposition": "auto",
           "type": "bar",
           "x": [
            "ID",
            "IN",
            "SD",
            "SN",
            "WD",
            "WN"
           ],
           "xaxis": "x",
           "y": [
            0,
            3.46950859222137,
            0.26574902571537,
            1.17807930273862,
            0,
            0
           ],
           "yaxis": "y"
          },
          {
           "alignmentgroup": "True",
           "hovertemplate": "TECHNOLOGY=CO_Imp<br>YEAR=2026<br>TIMESLICE=%{x}<br>Values=%{y}<extra></extra>",
           "legendgroup": "CO_Imp",
           "marker": {
            "color": "#FFA15A",
            "pattern": {
             "shape": ""
            }
           },
           "name": "CO_Imp",
           "offsetgroup": "CO_Imp",
           "orientation": "v",
           "showlegend": true,
           "textposition": "auto",
           "type": "bar",
           "x": [
            "ID",
            "IN",
            "SD",
            "SN",
            "WD",
            "WN"
           ],
           "xaxis": "x",
           "y": [
            1.97068464,
            1.97068464,
            1.97068464,
            1.97068464,
            1.97068464,
            1.97068464
           ],
           "yaxis": "y"
          },
          {
           "alignmentgroup": "True",
           "hovertemplate": "TECHNOLOGY=UR_Imp<br>YEAR=2026<br>TIMESLICE=%{x}<br>Values=%{y}<extra></extra>",
           "legendgroup": "UR_Imp",
           "marker": {
            "color": "#19d3f3",
            "pattern": {
             "shape": ""
            }
           },
           "name": "UR_Imp",
           "offsetgroup": "UR_Imp",
           "orientation": "v",
           "showlegend": true,
           "textposition": "auto",
           "type": "bar",
           "x": [
            "ID",
            "IN",
            "SD",
            "SN",
            "WD",
            "WN"
           ],
           "xaxis": "x",
           "y": [
            10.6974138001977,
            10.9899091678007,
            10.9899091678007,
            10.9899091678007,
            1.67468404317866,
            3.97299861400296
           ],
           "yaxis": "y"
          },
          {
           "alignmentgroup": "True",
           "hovertemplate": "TECHNOLOGY=NGSC<br>YEAR=2026<br>TIMESLICE=%{x}<br>Values=%{y}<extra></extra>",
           "legendgroup": "NGSC",
           "marker": {
            "color": "#FF6692",
            "pattern": {
             "shape": ""
            }
           },
           "name": "NGSC",
           "offsetgroup": "NGSC",
           "orientation": "v",
           "showlegend": true,
           "textposition": "auto",
           "type": "bar",
           "x": [
            "ID",
            "IN",
            "SD",
            "SN",
            "WD",
            "WN"
           ],
           "xaxis": "x",
           "y": [
            0,
            0,
            0,
            0,
            0,
            0
           ],
           "yaxis": "y"
          },
          {
           "alignmentgroup": "True",
           "hovertemplate": "TECHNOLOGY=DSGC<br>YEAR=2026<br>TIMESLICE=%{x}<br>Values=%{y}<extra></extra>",
           "legendgroup": "DSGC",
           "marker": {
            "color": "#B6E880",
            "pattern": {
             "shape": ""
            }
           },
           "name": "DSGC",
           "offsetgroup": "DSGC",
           "orientation": "v",
           "showlegend": true,
           "textposition": "auto",
           "type": "bar",
           "x": [
            "ID",
            "IN",
            "SD",
            "SN",
            "WD",
            "WN"
           ],
           "xaxis": "x",
           "y": [
            0,
            0,
            0,
            0,
            0,
            0
           ],
           "yaxis": "y"
          },
          {
           "alignmentgroup": "True",
           "hovertemplate": "TECHNOLOGY=IGCC<br>YEAR=2026<br>TIMESLICE=%{x}<br>Values=%{y}<extra></extra>",
           "legendgroup": "IGCC",
           "marker": {
            "color": "#FF97FF",
            "pattern": {
             "shape": ""
            }
           },
           "name": "IGCC",
           "offsetgroup": "IGCC",
           "orientation": "v",
           "showlegend": true,
           "textposition": "auto",
           "type": "bar",
           "x": [
            "ID",
            "IN",
            "SD",
            "SN",
            "WD",
            "WN"
           ],
           "xaxis": "x",
           "y": [
            0.94608,
            0.94608,
            0.94608,
            0.94608,
            0.94608,
            0.94608
           ],
           "yaxis": "y"
          },
          {
           "alignmentgroup": "True",
           "hovertemplate": "TECHNOLOGY=HFSC<br>YEAR=2026<br>TIMESLICE=%{x}<br>Values=%{y}<extra></extra>",
           "legendgroup": "HFSC",
           "marker": {
            "color": "#FECB52",
            "pattern": {
             "shape": ""
            }
           },
           "name": "HFSC",
           "offsetgroup": "HFSC",
           "orientation": "v",
           "showlegend": true,
           "textposition": "auto",
           "type": "bar",
           "x": [
            "ID",
            "IN",
            "SD",
            "SN",
            "WD",
            "WN"
           ],
           "xaxis": "x",
           "y": [
            0,
            0,
            0,
            0,
            0,
            0
           ],
           "yaxis": "y"
          },
          {
           "alignmentgroup": "True",
           "hovertemplate": "TECHNOLOGY=HYDRO_DAM<br>YEAR=2026<br>TIMESLICE=%{x}<br>Values=%{y}<extra></extra>",
           "legendgroup": "HYDRO_DAM",
           "marker": {
            "color": "#636efa",
            "pattern": {
             "shape": ""
            }
           },
           "name": "HYDRO_DAM",
           "offsetgroup": "HYDRO_DAM",
           "orientation": "v",
           "showlegend": true,
           "textposition": "auto",
           "type": "bar",
           "x": [
            "ID",
            "IN",
            "SD",
            "SN",
            "WD",
            "WN"
           ],
           "xaxis": "x",
           "y": [
            3.61520583134477,
            3.61520583134477,
            3.07292495664305,
            3.07292495664305,
            4.51900728918096,
            4.51900728918096
           ],
           "yaxis": "y"
          },
          {
           "alignmentgroup": "True",
           "hovertemplate": "TECHNOLOGY=HYDRO_MIN<br>YEAR=2026<br>TIMESLICE=%{x}<br>Values=%{y}<extra></extra>",
           "legendgroup": "HYDRO_MIN",
           "marker": {
            "color": "#EF553B",
            "pattern": {
             "shape": ""
            }
           },
           "name": "HYDRO_MIN",
           "offsetgroup": "HYDRO_MIN",
           "orientation": "v",
           "showlegend": true,
           "textposition": "auto",
           "type": "bar",
           "x": [
            "ID",
            "IN",
            "SD",
            "SN",
            "WD",
            "WN"
           ],
           "xaxis": "x",
           "y": [
            0,
            2.60445141968155e-16,
            1.77635683940025e-15,
            0,
            0,
            0
           ],
           "yaxis": "y"
          },
          {
           "alignmentgroup": "True",
           "hovertemplate": "TECHNOLOGY=DIESEL_GEN<br>YEAR=2026<br>TIMESLICE=%{x}<br>Values=%{y}<extra></extra>",
           "legendgroup": "DIESEL_GEN",
           "marker": {
            "color": "#00cc96",
            "pattern": {
             "shape": ""
            }
           },
           "name": "DIESEL_GEN",
           "offsetgroup": "DIESEL_GEN",
           "orientation": "v",
           "showlegend": true,
           "textposition": "auto",
           "type": "bar",
           "x": [
            "ID",
            "IN",
            "SD",
            "SN",
            "WD",
            "WN"
           ],
           "xaxis": "x",
           "y": [
            0,
            0,
            0,
            0,
            0,
            0
           ],
           "yaxis": "y"
          },
          {
           "alignmentgroup": "True",
           "hovertemplate": "TECHNOLOGY=CSP<br>YEAR=2026<br>TIMESLICE=%{x}<br>Values=%{y}<extra></extra>",
           "legendgroup": "CSP",
           "marker": {
            "color": "#ab63fa",
            "pattern": {
             "shape": ""
            }
           },
           "name": "CSP",
           "offsetgroup": "CSP",
           "orientation": "v",
           "showlegend": true,
           "textposition": "auto",
           "type": "bar",
           "x": [
            "ID",
            "IN",
            "SD",
            "SN",
            "WD",
            "WN"
           ],
           "xaxis": "x",
           "y": [
            0,
            0,
            0,
            0,
            0,
            0
           ],
           "yaxis": "y"
          },
          {
           "alignmentgroup": "True",
           "hovertemplate": "TECHNOLOGY=PV_UTL<br>YEAR=2026<br>TIMESLICE=%{x}<br>Values=%{y}<extra></extra>",
           "legendgroup": "PV_UTL",
           "marker": {
            "color": "#FFA15A",
            "pattern": {
             "shape": ""
            }
           },
           "name": "PV_UTL",
           "offsetgroup": "PV_UTL",
           "orientation": "v",
           "showlegend": true,
           "textposition": "auto",
           "type": "bar",
           "x": [
            "ID",
            "IN",
            "SD",
            "SN",
            "WD",
            "WN"
           ],
           "xaxis": "x",
           "y": [
            0,
            0,
            0,
            0,
            0,
            0
           ],
           "yaxis": "y"
          },
          {
           "alignmentgroup": "True",
           "hovertemplate": "TECHNOLOGY=PV_ROF<br>YEAR=2026<br>TIMESLICE=%{x}<br>Values=%{y}<extra></extra>",
           "legendgroup": "PV_ROF",
           "marker": {
            "color": "#19d3f3",
            "pattern": {
             "shape": ""
            }
           },
           "name": "PV_ROF",
           "offsetgroup": "PV_ROF",
           "orientation": "v",
           "showlegend": true,
           "textposition": "auto",
           "type": "bar",
           "x": [
            "ID",
            "IN",
            "SD",
            "SN",
            "WD",
            "WN"
           ],
           "xaxis": "x",
           "y": [
            0,
            0,
            0,
            0,
            0,
            0
           ],
           "yaxis": "y"
          },
          {
           "alignmentgroup": "True",
           "hovertemplate": "TECHNOLOGY=WIND<br>YEAR=2026<br>TIMESLICE=%{x}<br>Values=%{y}<extra></extra>",
           "legendgroup": "WIND",
           "marker": {
            "color": "#FF6692",
            "pattern": {
             "shape": ""
            }
           },
           "name": "WIND",
           "offsetgroup": "WIND",
           "orientation": "v",
           "showlegend": true,
           "textposition": "auto",
           "type": "bar",
           "x": [
            "ID",
            "IN",
            "SD",
            "SN",
            "WD",
            "WN"
           ],
           "xaxis": "x",
           "y": [
            1.83540204053942,
            1.83540204053942,
            1.83540204053942,
            1.83540204053942,
            1.83540204053942,
            1.83540204053942
           ],
           "yaxis": "y"
          },
          {
           "alignmentgroup": "True",
           "hovertemplate": "TECHNOLOGY=NGCC<br>YEAR=2026<br>TIMESLICE=%{x}<br>Values=%{y}<extra></extra>",
           "legendgroup": "NGCC",
           "marker": {
            "color": "#B6E880",
            "pattern": {
             "shape": ""
            }
           },
           "name": "NGCC",
           "offsetgroup": "NGCC",
           "orientation": "v",
           "showlegend": true,
           "textposition": "auto",
           "type": "bar",
           "x": [
            "ID",
            "IN",
            "SD",
            "SN",
            "WD",
            "WN"
           ],
           "xaxis": "x",
           "y": [
            0,
            1.74169320182676,
            0.133406002371132,
            0.591395772125457,
            0,
            0
           ],
           "yaxis": "y"
          },
          {
           "alignmentgroup": "True",
           "hovertemplate": "TECHNOLOGY=NUCLEAR<br>YEAR=2026<br>TIMESLICE=%{x}<br>Values=%{y}<extra></extra>",
           "legendgroup": "NUCLEAR",
           "marker": {
            "color": "#FF97FF",
            "pattern": {
             "shape": ""
            }
           },
           "name": "NUCLEAR",
           "offsetgroup": "NUCLEAR",
           "orientation": "v",
           "showlegend": true,
           "textposition": "auto",
           "type": "bar",
           "x": [
            "ID",
            "IN",
            "SD",
            "SN",
            "WD",
            "WN"
           ],
           "xaxis": "x",
           "y": [
            3.20922414005932,
            3.2969727503402,
            3.2969727503402,
            3.2969727503402,
            0.502405212953599,
            1.19189958420089
           ],
           "yaxis": "y"
          },
          {
           "alignmentgroup": "True",
           "hovertemplate": "TECHNOLOGY=TRANS<br>YEAR=2026<br>TIMESLICE=%{x}<br>Values=%{y}<extra></extra>",
           "legendgroup": "TRANS",
           "marker": {
            "color": "#FECB52",
            "pattern": {
             "shape": ""
            }
           },
           "name": "TRANS",
           "offsetgroup": "TRANS",
           "orientation": "v",
           "showlegend": true,
           "textposition": "auto",
           "type": "bar",
           "x": [
            "ID",
            "IN",
            "SD",
            "SN",
            "WD",
            "WN"
           ],
           "xaxis": "x",
           "y": [
            9.60591201194351,
            11.4353538240512,
            9.28478574989381,
            9.74277551964813,
            7.80289454267398,
            8.49238891392127
           ],
           "yaxis": "y"
          },
          {
           "alignmentgroup": "True",
           "hovertemplate": "TECHNOLOGY=DIST_IND<br>YEAR=2026<br>TIMESLICE=%{x}<br>Values=%{y}<extra></extra>",
           "legendgroup": "DIST_IND",
           "marker": {
            "color": "#636efa",
            "pattern": {
             "shape": ""
            }
           },
           "name": "DIST_IND",
           "offsetgroup": "DIST_IND",
           "orientation": "v",
           "showlegend": true,
           "textposition": "auto",
           "type": "bar",
           "x": [
            "ID",
            "IN",
            "SD",
            "SN",
            "WD",
            "WN"
           ],
           "xaxis": "x",
           "y": [
            3.0811861604529,
            6.16607122385953,
            3.0811861604529,
            6.16607122385953,
            1.54105530437293,
            3.0811861604529
           ],
           "yaxis": "y"
          },
          {
           "alignmentgroup": "True",
           "hovertemplate": "TECHNOLOGY=DIST_TRA<br>YEAR=2026<br>TIMESLICE=%{x}<br>Values=%{y}<extra></extra>",
           "legendgroup": "DIST_TRA",
           "marker": {
            "color": "#EF553B",
            "pattern": {
             "shape": ""
            }
           },
           "name": "DIST_TRA",
           "offsetgroup": "DIST_TRA",
           "orientation": "v",
           "showlegend": true,
           "textposition": "auto",
           "type": "bar",
           "x": [
            "ID",
            "IN",
            "SD",
            "SN",
            "WD",
            "WN"
           ],
           "xaxis": "x",
           "y": [
            0.674524045156431,
            0.210915287983734,
            0.316183146162075,
            0.210915287983734,
            0.368991012364859,
            0.168631011292574
           ],
           "yaxis": "y"
          },
          {
           "alignmentgroup": "True",
           "hovertemplate": "TECHNOLOGY=DIST_RES<br>YEAR=2026<br>TIMESLICE=%{x}<br>Values=%{y}<extra></extra>",
           "legendgroup": "DIST_RES",
           "marker": {
            "color": "#00cc96",
            "pattern": {
             "shape": ""
            }
           },
           "name": "DIST_RES",
           "offsetgroup": "DIST_RES",
           "orientation": "v",
           "showlegend": true,
           "textposition": "auto",
           "type": "bar",
           "x": [
            "ID",
            "IN",
            "SD",
            "SN",
            "WD",
            "WN"
           ],
           "xaxis": "x",
           "y": [
            2.27726261279369,
            3.03817268949933,
            2.84657826599211,
            1.89885793092253,
            3.79657643317039,
            3.79543768798948
           ],
           "yaxis": "y"
          },
          {
           "alignmentgroup": "True",
           "hovertemplate": "TECHNOLOGY=DIST_SER<br>YEAR=2026<br>TIMESLICE=%{x}<br>Values=%{y}<extra></extra>",
           "legendgroup": "DIST_SER",
           "marker": {
            "color": "#ab63fa",
            "pattern": {
             "shape": ""
            }
           },
           "name": "DIST_SER",
           "offsetgroup": "DIST_SER",
           "orientation": "v",
           "showlegend": true,
           "textposition": "auto",
           "type": "bar",
           "x": [
            "ID",
            "IN",
            "SD",
            "SN",
            "WD",
            "WN"
           ],
           "xaxis": "x",
           "y": [
            3.42692933095894,
            1.84637724458298,
            2.89970943388834,
            1.31884088898369,
            1.97766779571715,
            1.31804974269471
           ],
           "yaxis": "y"
          }
         ],
         "name": "2026"
        },
        {
         "data": [
          {
           "alignmentgroup": "True",
           "hovertemplate": "TECHNOLOGY=HF_Imp<br>YEAR=2027<br>TIMESLICE=%{x}<br>Values=%{y}<extra></extra>",
           "legendgroup": "HF_Imp",
           "marker": {
            "color": "#EF553B",
            "pattern": {
             "shape": ""
            }
           },
           "name": "HF_Imp",
           "offsetgroup": "HF_Imp",
           "orientation": "v",
           "showlegend": true,
           "textposition": "auto",
           "type": "bar",
           "x": [
            "ID",
            "IN",
            "SD",
            "SN",
            "WD",
            "WN"
           ],
           "xaxis": "x",
           "y": [
            0,
            0,
            0,
            0,
            0,
            0
           ],
           "yaxis": "y"
          },
          {
           "alignmentgroup": "True",
           "hovertemplate": "TECHNOLOGY=DS_Imp<br>YEAR=2027<br>TIMESLICE=%{x}<br>Values=%{y}<extra></extra>",
           "legendgroup": "DS_Imp",
           "marker": {
            "color": "#00cc96",
            "pattern": {
             "shape": ""
            }
           },
           "name": "DS_Imp",
           "offsetgroup": "DS_Imp",
           "orientation": "v",
           "showlegend": true,
           "textposition": "auto",
           "type": "bar",
           "x": [
            "ID",
            "IN",
            "SD",
            "SN",
            "WD",
            "WN"
           ],
           "xaxis": "x",
           "y": [
            0,
            0,
            0,
            0,
            0,
            0
           ],
           "yaxis": "y"
          },
          {
           "alignmentgroup": "True",
           "hovertemplate": "TECHNOLOGY=NG_Imp<br>YEAR=2027<br>TIMESLICE=%{x}<br>Values=%{y}<extra></extra>",
           "legendgroup": "NG_Imp",
           "marker": {
            "color": "#ab63fa",
            "pattern": {
             "shape": ""
            }
           },
           "name": "NG_Imp",
           "offsetgroup": "NG_Imp",
           "orientation": "v",
           "showlegend": true,
           "textposition": "auto",
           "type": "bar",
           "x": [
            "ID",
            "IN",
            "SD",
            "SN",
            "WD",
            "WN"
           ],
           "xaxis": "x",
           "y": [
            0,
            3.58597693701228,
            0.29848086777379,
            1.22879568790151,
            0,
            0
           ],
           "yaxis": "y"
          },
          {
           "alignmentgroup": "True",
           "hovertemplate": "TECHNOLOGY=CO_Imp<br>YEAR=2027<br>TIMESLICE=%{x}<br>Values=%{y}<extra></extra>",
           "legendgroup": "CO_Imp",
           "marker": {
            "color": "#FFA15A",
            "pattern": {
             "shape": ""
            }
           },
           "name": "CO_Imp",
           "offsetgroup": "CO_Imp",
           "orientation": "v",
           "showlegend": true,
           "textposition": "auto",
           "type": "bar",
           "x": [
            "ID",
            "IN",
            "SD",
            "SN",
            "WD",
            "WN"
           ],
           "xaxis": "x",
           "y": [
            1.97068464,
            1.97068464,
            1.97068464,
            1.97068464,
            1.97068464,
            1.97068464
           ],
           "yaxis": "y"
          },
          {
           "alignmentgroup": "True",
           "hovertemplate": "TECHNOLOGY=UR_Imp<br>YEAR=2027<br>TIMESLICE=%{x}<br>Values=%{y}<extra></extra>",
           "legendgroup": "UR_Imp",
           "marker": {
            "color": "#19d3f3",
            "pattern": {
             "shape": ""
            }
           },
           "name": "UR_Imp",
           "offsetgroup": "UR_Imp",
           "orientation": "v",
           "showlegend": true,
           "textposition": "auto",
           "type": "bar",
           "x": [
            "ID",
            "IN",
            "SD",
            "SN",
            "WD",
            "WN"
           ],
           "xaxis": "x",
           "y": [
            10.7737991449332,
            10.9899091678007,
            10.9899091678007,
            10.9899091678007,
            1.63438000123694,
            3.97719717556131
           ],
           "yaxis": "y"
          },
          {
           "alignmentgroup": "True",
           "hovertemplate": "TECHNOLOGY=NGSC<br>YEAR=2027<br>TIMESLICE=%{x}<br>Values=%{y}<extra></extra>",
           "legendgroup": "NGSC",
           "marker": {
            "color": "#FF6692",
            "pattern": {
             "shape": ""
            }
           },
           "name": "NGSC",
           "offsetgroup": "NGSC",
           "orientation": "v",
           "showlegend": true,
           "textposition": "auto",
           "type": "bar",
           "x": [
            "ID",
            "IN",
            "SD",
            "SN",
            "WD",
            "WN"
           ],
           "xaxis": "x",
           "y": [
            0,
            0,
            0,
            0,
            0,
            0
           ],
           "yaxis": "y"
          },
          {
           "alignmentgroup": "True",
           "hovertemplate": "TECHNOLOGY=DSGC<br>YEAR=2027<br>TIMESLICE=%{x}<br>Values=%{y}<extra></extra>",
           "legendgroup": "DSGC",
           "marker": {
            "color": "#B6E880",
            "pattern": {
             "shape": ""
            }
           },
           "name": "DSGC",
           "offsetgroup": "DSGC",
           "orientation": "v",
           "showlegend": true,
           "textposition": "auto",
           "type": "bar",
           "x": [
            "ID",
            "IN",
            "SD",
            "SN",
            "WD",
            "WN"
           ],
           "xaxis": "x",
           "y": [
            0,
            0,
            0,
            0,
            0,
            0
           ],
           "yaxis": "y"
          },
          {
           "alignmentgroup": "True",
           "hovertemplate": "TECHNOLOGY=IGCC<br>YEAR=2027<br>TIMESLICE=%{x}<br>Values=%{y}<extra></extra>",
           "legendgroup": "IGCC",
           "marker": {
            "color": "#FF97FF",
            "pattern": {
             "shape": ""
            }
           },
           "name": "IGCC",
           "offsetgroup": "IGCC",
           "orientation": "v",
           "showlegend": true,
           "textposition": "auto",
           "type": "bar",
           "x": [
            "ID",
            "IN",
            "SD",
            "SN",
            "WD",
            "WN"
           ],
           "xaxis": "x",
           "y": [
            0.94608,
            0.94608,
            0.94608,
            0.94608,
            0.94608,
            0.94608
           ],
           "yaxis": "y"
          },
          {
           "alignmentgroup": "True",
           "hovertemplate": "TECHNOLOGY=HFSC<br>YEAR=2027<br>TIMESLICE=%{x}<br>Values=%{y}<extra></extra>",
           "legendgroup": "HFSC",
           "marker": {
            "color": "#FECB52",
            "pattern": {
             "shape": ""
            }
           },
           "name": "HFSC",
           "offsetgroup": "HFSC",
           "orientation": "v",
           "showlegend": true,
           "textposition": "auto",
           "type": "bar",
           "x": [
            "ID",
            "IN",
            "SD",
            "SN",
            "WD",
            "WN"
           ],
           "xaxis": "x",
           "y": [
            0,
            0,
            0,
            0,
            0,
            0
           ],
           "yaxis": "y"
          },
          {
           "alignmentgroup": "True",
           "hovertemplate": "TECHNOLOGY=HYDRO_DAM<br>YEAR=2027<br>TIMESLICE=%{x}<br>Values=%{y}<extra></extra>",
           "legendgroup": "HYDRO_DAM",
           "marker": {
            "color": "#636efa",
            "pattern": {
             "shape": ""
            }
           },
           "name": "HYDRO_DAM",
           "offsetgroup": "HYDRO_DAM",
           "orientation": "v",
           "showlegend": true,
           "textposition": "auto",
           "type": "bar",
           "x": [
            "ID",
            "IN",
            "SD",
            "SN",
            "WD",
            "WN"
           ],
           "xaxis": "x",
           "y": [
            3.61520583134477,
            3.61520583134477,
            3.07292495664305,
            3.07292495664305,
            4.51900728918096,
            4.51900728918096
           ],
           "yaxis": "y"
          },
          {
           "alignmentgroup": "True",
           "hovertemplate": "TECHNOLOGY=HYDRO_MIN<br>YEAR=2027<br>TIMESLICE=%{x}<br>Values=%{y}<extra></extra>",
           "legendgroup": "HYDRO_MIN",
           "marker": {
            "color": "#EF553B",
            "pattern": {
             "shape": ""
            }
           },
           "name": "HYDRO_MIN",
           "offsetgroup": "HYDRO_MIN",
           "orientation": "v",
           "showlegend": true,
           "textposition": "auto",
           "type": "bar",
           "x": [
            "ID",
            "IN",
            "SD",
            "SN",
            "WD",
            "WN"
           ],
           "xaxis": "x",
           "y": [
            0,
            2.60445141968155e-16,
            1.12532210239887e-15,
            0,
            0,
            0
           ],
           "yaxis": "y"
          },
          {
           "alignmentgroup": "True",
           "hovertemplate": "TECHNOLOGY=DIESEL_GEN<br>YEAR=2027<br>TIMESLICE=%{x}<br>Values=%{y}<extra></extra>",
           "legendgroup": "DIESEL_GEN",
           "marker": {
            "color": "#00cc96",
            "pattern": {
             "shape": ""
            }
           },
           "name": "DIESEL_GEN",
           "offsetgroup": "DIESEL_GEN",
           "orientation": "v",
           "showlegend": true,
           "textposition": "auto",
           "type": "bar",
           "x": [
            "ID",
            "IN",
            "SD",
            "SN",
            "WD",
            "WN"
           ],
           "xaxis": "x",
           "y": [
            0,
            0,
            0,
            0,
            0,
            0
           ],
           "yaxis": "y"
          },
          {
           "alignmentgroup": "True",
           "hovertemplate": "TECHNOLOGY=CSP<br>YEAR=2027<br>TIMESLICE=%{x}<br>Values=%{y}<extra></extra>",
           "legendgroup": "CSP",
           "marker": {
            "color": "#ab63fa",
            "pattern": {
             "shape": ""
            }
           },
           "name": "CSP",
           "offsetgroup": "CSP",
           "orientation": "v",
           "showlegend": true,
           "textposition": "auto",
           "type": "bar",
           "x": [
            "ID",
            "IN",
            "SD",
            "SN",
            "WD",
            "WN"
           ],
           "xaxis": "x",
           "y": [
            0,
            0,
            0,
            0,
            0,
            0
           ],
           "yaxis": "y"
          },
          {
           "alignmentgroup": "True",
           "hovertemplate": "TECHNOLOGY=PV_UTL<br>YEAR=2027<br>TIMESLICE=%{x}<br>Values=%{y}<extra></extra>",
           "legendgroup": "PV_UTL",
           "marker": {
            "color": "#FFA15A",
            "pattern": {
             "shape": ""
            }
           },
           "name": "PV_UTL",
           "offsetgroup": "PV_UTL",
           "orientation": "v",
           "showlegend": true,
           "textposition": "auto",
           "type": "bar",
           "x": [
            "ID",
            "IN",
            "SD",
            "SN",
            "WD",
            "WN"
           ],
           "xaxis": "x",
           "y": [
            0,
            0,
            0,
            0,
            0,
            0
           ],
           "yaxis": "y"
          },
          {
           "alignmentgroup": "True",
           "hovertemplate": "TECHNOLOGY=PV_ROF<br>YEAR=2027<br>TIMESLICE=%{x}<br>Values=%{y}<extra></extra>",
           "legendgroup": "PV_ROF",
           "marker": {
            "color": "#19d3f3",
            "pattern": {
             "shape": ""
            }
           },
           "name": "PV_ROF",
           "offsetgroup": "PV_ROF",
           "orientation": "v",
           "showlegend": true,
           "textposition": "auto",
           "type": "bar",
           "x": [
            "ID",
            "IN",
            "SD",
            "SN",
            "WD",
            "WN"
           ],
           "xaxis": "x",
           "y": [
            0,
            0,
            0,
            0,
            0,
            0
           ],
           "yaxis": "y"
          },
          {
           "alignmentgroup": "True",
           "hovertemplate": "TECHNOLOGY=WIND<br>YEAR=2027<br>TIMESLICE=%{x}<br>Values=%{y}<extra></extra>",
           "legendgroup": "WIND",
           "marker": {
            "color": "#FF6692",
            "pattern": {
             "shape": ""
            }
           },
           "name": "WIND",
           "offsetgroup": "WIND",
           "orientation": "v",
           "showlegend": true,
           "textposition": "auto",
           "type": "bar",
           "x": [
            "ID",
            "IN",
            "SD",
            "SN",
            "WD",
            "WN"
           ],
           "xaxis": "x",
           "y": [
            2,
            2,
            2,
            2,
            2,
            2
           ],
           "yaxis": "y"
          },
          {
           "alignmentgroup": "True",
           "hovertemplate": "TECHNOLOGY=NGCC<br>YEAR=2027<br>TIMESLICE=%{x}<br>Values=%{y}<extra></extra>",
           "legendgroup": "NGCC",
           "marker": {
            "color": "#B6E880",
            "pattern": {
             "shape": ""
            }
           },
           "name": "NGCC",
           "offsetgroup": "NGCC",
           "orientation": "v",
           "showlegend": true,
           "textposition": "auto",
           "type": "bar",
           "x": [
            "ID",
            "IN",
            "SD",
            "SN",
            "WD",
            "WN"
           ],
           "xaxis": "x",
           "y": [
            0,
            1.80016030716991,
            0.14983738603285,
            0.616855395847814,
            0,
            0
           ],
           "yaxis": "y"
          },
          {
           "alignmentgroup": "True",
           "hovertemplate": "TECHNOLOGY=NUCLEAR<br>YEAR=2027<br>TIMESLICE=%{x}<br>Values=%{y}<extra></extra>",
           "legendgroup": "NUCLEAR",
           "marker": {
            "color": "#FF97FF",
            "pattern": {
             "shape": ""
            }
           },
           "name": "NUCLEAR",
           "offsetgroup": "NUCLEAR",
           "orientation": "v",
           "showlegend": true,
           "textposition": "auto",
           "type": "bar",
           "x": [
            "ID",
            "IN",
            "SD",
            "SN",
            "WD",
            "WN"
           ],
           "xaxis": "x",
           "y": [
            3.23213974347995,
            3.2969727503402,
            3.2969727503402,
            3.2969727503402,
            0.490314000371083,
            1.19315915266839
           ],
           "yaxis": "y"
          },
          {
           "alignmentgroup": "True",
           "hovertemplate": "TECHNOLOGY=TRANS<br>YEAR=2027<br>TIMESLICE=%{x}<br>Values=%{y}<extra></extra>",
           "legendgroup": "TRANS",
           "marker": {
            "color": "#FECB52",
            "pattern": {
             "shape": ""
            }
           },
           "name": "TRANS",
           "offsetgroup": "TRANS",
           "orientation": "v",
           "showlegend": true,
           "textposition": "auto",
           "type": "bar",
           "x": [
            "ID",
            "IN",
            "SD",
            "SN",
            "WD",
            "WN"
           ],
           "xaxis": "x",
           "y": [
            9.79342557482472,
            11.6584188888549,
            9.46581509301611,
            9.93283310283107,
            7.95540128955205,
            8.65824644184936
           ],
           "yaxis": "y"
          },
          {
           "alignmentgroup": "True",
           "hovertemplate": "TECHNOLOGY=DIST_IND<br>YEAR=2027<br>TIMESLICE=%{x}<br>Values=%{y}<extra></extra>",
           "legendgroup": "DIST_IND",
           "marker": {
            "color": "#636efa",
            "pattern": {
             "shape": ""
            }
           },
           "name": "DIST_IND",
           "offsetgroup": "DIST_IND",
           "orientation": "v",
           "showlegend": true,
           "textposition": "auto",
           "type": "bar",
           "x": [
            "ID",
            "IN",
            "SD",
            "SN",
            "WD",
            "WN"
           ],
           "xaxis": "x",
           "y": [
            3.14123615954775,
            6.28624331088368,
            3.14123615954775,
            6.28624331088368,
            1.57108931232106,
            3.14123615954775
           ],
           "yaxis": "y"
          },
          {
           "alignmentgroup": "True",
           "hovertemplate": "TECHNOLOGY=DIST_TRA<br>YEAR=2027<br>TIMESLICE=%{x}<br>Values=%{y}<extra></extra>",
           "legendgroup": "DIST_TRA",
           "marker": {
            "color": "#EF553B",
            "pattern": {
             "shape": ""
            }
           },
           "name": "DIST_TRA",
           "offsetgroup": "DIST_TRA",
           "orientation": "v",
           "showlegend": true,
           "textposition": "auto",
           "type": "bar",
           "x": [
            "ID",
            "IN",
            "SD",
            "SN",
            "WD",
            "WN"
           ],
           "xaxis": "x",
           "y": [
            0.688411304930924,
            0.21525766155987,
            0.322692799192737,
            0.21525766155987,
            0.376587886144989,
            0.172102826230951
           ],
           "yaxis": "y"
          },
          {
           "alignmentgroup": "True",
           "hovertemplate": "TECHNOLOGY=DIST_RES<br>YEAR=2027<br>TIMESLICE=%{x}<br>Values=%{y}<extra></extra>",
           "legendgroup": "DIST_RES",
           "marker": {
            "color": "#00cc96",
            "pattern": {
             "shape": ""
            }
           },
           "name": "DIST_RES",
           "offsetgroup": "DIST_RES",
           "orientation": "v",
           "showlegend": true,
           "textposition": "auto",
           "type": "bar",
           "x": [
            "ID",
            "IN",
            "SD",
            "SN",
            "WD",
            "WN"
           ],
           "xaxis": "x",
           "y": [
            2.32190023342996,
            3.09772524140135,
            2.90237529178745,
            1.93607827587402,
            3.8709947886066,
            3.86983372238326
           ],
           "yaxis": "y"
          },
          {
           "alignmentgroup": "True",
           "hovertemplate": "TECHNOLOGY=DIST_SER<br>YEAR=2027<br>TIMESLICE=%{x}<br>Values=%{y}<extra></extra>",
           "legendgroup": "DIST_SER",
           "marker": {
            "color": "#ab63fa",
            "pattern": {
             "shape": ""
            }
           },
           "name": "DIST_SER",
           "offsetgroup": "DIST_SER",
           "orientation": "v",
           "showlegend": true,
           "textposition": "auto",
           "type": "bar",
           "x": [
            "ID",
            "IN",
            "SD",
            "SN",
            "WD",
            "WN"
           ],
           "xaxis": "x",
           "y": [
            3.49301780817875,
            1.88198470789939,
            2.95563045307433,
            1.34427479135047,
            2.0158072028782,
            1.34346838777128
           ],
           "yaxis": "y"
          }
         ],
         "name": "2027"
        },
        {
         "data": [
          {
           "alignmentgroup": "True",
           "hovertemplate": "TECHNOLOGY=HF_Imp<br>YEAR=2028<br>TIMESLICE=%{x}<br>Values=%{y}<extra></extra>",
           "legendgroup": "HF_Imp",
           "marker": {
            "color": "#EF553B",
            "pattern": {
             "shape": ""
            }
           },
           "name": "HF_Imp",
           "offsetgroup": "HF_Imp",
           "orientation": "v",
           "showlegend": true,
           "textposition": "auto",
           "type": "bar",
           "x": [
            "ID",
            "IN",
            "SD",
            "SN",
            "WD",
            "WN"
           ],
           "xaxis": "x",
           "y": [
            0,
            0,
            0,
            0,
            0,
            0
           ],
           "yaxis": "y"
          },
          {
           "alignmentgroup": "True",
           "hovertemplate": "TECHNOLOGY=DS_Imp<br>YEAR=2028<br>TIMESLICE=%{x}<br>Values=%{y}<extra></extra>",
           "legendgroup": "DS_Imp",
           "marker": {
            "color": "#00cc96",
            "pattern": {
             "shape": ""
            }
           },
           "name": "DS_Imp",
           "offsetgroup": "DS_Imp",
           "orientation": "v",
           "showlegend": true,
           "textposition": "auto",
           "type": "bar",
           "x": [
            "ID",
            "IN",
            "SD",
            "SN",
            "WD",
            "WN"
           ],
           "xaxis": "x",
           "y": [
            0,
            0,
            0,
            0,
            0,
            0
           ],
           "yaxis": "y"
          },
          {
           "alignmentgroup": "True",
           "hovertemplate": "TECHNOLOGY=NG_Imp<br>YEAR=2028<br>TIMESLICE=%{x}<br>Values=%{y}<extra></extra>",
           "legendgroup": "NG_Imp",
           "marker": {
            "color": "#ab63fa",
            "pattern": {
             "shape": ""
            }
           },
           "name": "NG_Imp",
           "offsetgroup": "NG_Imp",
           "orientation": "v",
           "showlegend": true,
           "textposition": "auto",
           "type": "bar",
           "x": [
            "ID",
            "IN",
            "SD",
            "SN",
            "WD",
            "WN"
           ],
           "xaxis": "x",
           "y": [
            0,
            3.76914354777195,
            0.43568377802825,
            1.38531924502798,
            0,
            0
           ],
           "yaxis": "y"
          },
          {
           "alignmentgroup": "True",
           "hovertemplate": "TECHNOLOGY=CO_Imp<br>YEAR=2028<br>TIMESLICE=%{x}<br>Values=%{y}<extra></extra>",
           "legendgroup": "CO_Imp",
           "marker": {
            "color": "#FFA15A",
            "pattern": {
             "shape": ""
            }
           },
           "name": "CO_Imp",
           "offsetgroup": "CO_Imp",
           "orientation": "v",
           "showlegend": true,
           "textposition": "auto",
           "type": "bar",
           "x": [
            "ID",
            "IN",
            "SD",
            "SN",
            "WD",
            "WN"
           ],
           "xaxis": "x",
           "y": [
            1.97068464,
            1.97068464,
            1.97068464,
            1.97068464,
            1.97068464,
            1.97068464
           ],
           "yaxis": "y"
          },
          {
           "alignmentgroup": "True",
           "hovertemplate": "TECHNOLOGY=UR_Imp<br>YEAR=2028<br>TIMESLICE=%{x}<br>Values=%{y}<extra></extra>",
           "legendgroup": "UR_Imp",
           "marker": {
            "color": "#19d3f3",
            "pattern": {
             "shape": ""
            }
           },
           "name": "UR_Imp",
           "offsetgroup": "UR_Imp",
           "orientation": "v",
           "showlegend": true,
           "textposition": "auto",
           "type": "bar",
           "x": [
            "ID",
            "IN",
            "SD",
            "SN",
            "WD",
            "WN"
           ],
           "xaxis": "x",
           "y": [
            10.9501083348779,
            10.9899091678007,
            10.9899091678007,
            10.9899091678007,
            1.55924390154438,
            3.95111511235642
           ],
           "yaxis": "y"
          },
          {
           "alignmentgroup": "True",
           "hovertemplate": "TECHNOLOGY=NGSC<br>YEAR=2028<br>TIMESLICE=%{x}<br>Values=%{y}<extra></extra>",
           "legendgroup": "NGSC",
           "marker": {
            "color": "#FF6692",
            "pattern": {
             "shape": ""
            }
           },
           "name": "NGSC",
           "offsetgroup": "NGSC",
           "orientation": "v",
           "showlegend": true,
           "textposition": "auto",
           "type": "bar",
           "x": [
            "ID",
            "IN",
            "SD",
            "SN",
            "WD",
            "WN"
           ],
           "xaxis": "x",
           "y": [
            0,
            0,
            0,
            0,
            0,
            0
           ],
           "yaxis": "y"
          },
          {
           "alignmentgroup": "True",
           "hovertemplate": "TECHNOLOGY=DSGC<br>YEAR=2028<br>TIMESLICE=%{x}<br>Values=%{y}<extra></extra>",
           "legendgroup": "DSGC",
           "marker": {
            "color": "#B6E880",
            "pattern": {
             "shape": ""
            }
           },
           "name": "DSGC",
           "offsetgroup": "DSGC",
           "orientation": "v",
           "showlegend": true,
           "textposition": "auto",
           "type": "bar",
           "x": [
            "ID",
            "IN",
            "SD",
            "SN",
            "WD",
            "WN"
           ],
           "xaxis": "x",
           "y": [
            0,
            0,
            0,
            0,
            0,
            0
           ],
           "yaxis": "y"
          },
          {
           "alignmentgroup": "True",
           "hovertemplate": "TECHNOLOGY=IGCC<br>YEAR=2028<br>TIMESLICE=%{x}<br>Values=%{y}<extra></extra>",
           "legendgroup": "IGCC",
           "marker": {
            "color": "#FF97FF",
            "pattern": {
             "shape": ""
            }
           },
           "name": "IGCC",
           "offsetgroup": "IGCC",
           "orientation": "v",
           "showlegend": true,
           "textposition": "auto",
           "type": "bar",
           "x": [
            "ID",
            "IN",
            "SD",
            "SN",
            "WD",
            "WN"
           ],
           "xaxis": "x",
           "y": [
            0.94608,
            0.94608,
            0.94608,
            0.94608,
            0.94608,
            0.94608
           ],
           "yaxis": "y"
          },
          {
           "alignmentgroup": "True",
           "hovertemplate": "TECHNOLOGY=HFSC<br>YEAR=2028<br>TIMESLICE=%{x}<br>Values=%{y}<extra></extra>",
           "legendgroup": "HFSC",
           "marker": {
            "color": "#FECB52",
            "pattern": {
             "shape": ""
            }
           },
           "name": "HFSC",
           "offsetgroup": "HFSC",
           "orientation": "v",
           "showlegend": true,
           "textposition": "auto",
           "type": "bar",
           "x": [
            "ID",
            "IN",
            "SD",
            "SN",
            "WD",
            "WN"
           ],
           "xaxis": "x",
           "y": [
            0,
            0,
            0,
            0,
            0,
            0
           ],
           "yaxis": "y"
          },
          {
           "alignmentgroup": "True",
           "hovertemplate": "TECHNOLOGY=HYDRO_DAM<br>YEAR=2028<br>TIMESLICE=%{x}<br>Values=%{y}<extra></extra>",
           "legendgroup": "HYDRO_DAM",
           "marker": {
            "color": "#636efa",
            "pattern": {
             "shape": ""
            }
           },
           "name": "HYDRO_DAM",
           "offsetgroup": "HYDRO_DAM",
           "orientation": "v",
           "showlegend": true,
           "textposition": "auto",
           "type": "bar",
           "x": [
            "ID",
            "IN",
            "SD",
            "SN",
            "WD",
            "WN"
           ],
           "xaxis": "x",
           "y": [
            3.76540765071191,
            3.76540765071191,
            3.20059650310513,
            3.20059650310513,
            4.70675956338989,
            4.7067595633899
           ],
           "yaxis": "y"
          },
          {
           "alignmentgroup": "True",
           "hovertemplate": "TECHNOLOGY=HYDRO_MIN<br>YEAR=2028<br>TIMESLICE=%{x}<br>Values=%{y}<extra></extra>",
           "legendgroup": "HYDRO_MIN",
           "marker": {
            "color": "#EF553B",
            "pattern": {
             "shape": ""
            }
           },
           "name": "HYDRO_MIN",
           "offsetgroup": "HYDRO_MIN",
           "orientation": "v",
           "showlegend": true,
           "textposition": "auto",
           "type": "bar",
           "x": [
            "ID",
            "IN",
            "SD",
            "SN",
            "WD",
            "WN"
           ],
           "xaxis": "x",
           "y": [
            0,
            0,
            1.25546655546394e-15,
            0,
            0,
            0
           ],
           "yaxis": "y"
          },
          {
           "alignmentgroup": "True",
           "hovertemplate": "TECHNOLOGY=DIESEL_GEN<br>YEAR=2028<br>TIMESLICE=%{x}<br>Values=%{y}<extra></extra>",
           "legendgroup": "DIESEL_GEN",
           "marker": {
            "color": "#00cc96",
            "pattern": {
             "shape": ""
            }
           },
           "name": "DIESEL_GEN",
           "offsetgroup": "DIESEL_GEN",
           "orientation": "v",
           "showlegend": true,
           "textposition": "auto",
           "type": "bar",
           "x": [
            "ID",
            "IN",
            "SD",
            "SN",
            "WD",
            "WN"
           ],
           "xaxis": "x",
           "y": [
            0,
            0,
            0,
            0,
            0,
            0
           ],
           "yaxis": "y"
          },
          {
           "alignmentgroup": "True",
           "hovertemplate": "TECHNOLOGY=CSP<br>YEAR=2028<br>TIMESLICE=%{x}<br>Values=%{y}<extra></extra>",
           "legendgroup": "CSP",
           "marker": {
            "color": "#ab63fa",
            "pattern": {
             "shape": ""
            }
           },
           "name": "CSP",
           "offsetgroup": "CSP",
           "orientation": "v",
           "showlegend": true,
           "textposition": "auto",
           "type": "bar",
           "x": [
            "ID",
            "IN",
            "SD",
            "SN",
            "WD",
            "WN"
           ],
           "xaxis": "x",
           "y": [
            0,
            0,
            0,
            0,
            0,
            0
           ],
           "yaxis": "y"
          },
          {
           "alignmentgroup": "True",
           "hovertemplate": "TECHNOLOGY=PV_UTL<br>YEAR=2028<br>TIMESLICE=%{x}<br>Values=%{y}<extra></extra>",
           "legendgroup": "PV_UTL",
           "marker": {
            "color": "#FFA15A",
            "pattern": {
             "shape": ""
            }
           },
           "name": "PV_UTL",
           "offsetgroup": "PV_UTL",
           "orientation": "v",
           "showlegend": true,
           "textposition": "auto",
           "type": "bar",
           "x": [
            "ID",
            "IN",
            "SD",
            "SN",
            "WD",
            "WN"
           ],
           "xaxis": "x",
           "y": [
            0,
            0,
            0,
            0,
            0,
            0
           ],
           "yaxis": "y"
          },
          {
           "alignmentgroup": "True",
           "hovertemplate": "TECHNOLOGY=PV_ROF<br>YEAR=2028<br>TIMESLICE=%{x}<br>Values=%{y}<extra></extra>",
           "legendgroup": "PV_ROF",
           "marker": {
            "color": "#19d3f3",
            "pattern": {
             "shape": ""
            }
           },
           "name": "PV_ROF",
           "offsetgroup": "PV_ROF",
           "orientation": "v",
           "showlegend": true,
           "textposition": "auto",
           "type": "bar",
           "x": [
            "ID",
            "IN",
            "SD",
            "SN",
            "WD",
            "WN"
           ],
           "xaxis": "x",
           "y": [
            0,
            0,
            0,
            0,
            0,
            0
           ],
           "yaxis": "y"
          },
          {
           "alignmentgroup": "True",
           "hovertemplate": "TECHNOLOGY=WIND<br>YEAR=2028<br>TIMESLICE=%{x}<br>Values=%{y}<extra></extra>",
           "legendgroup": "WIND",
           "marker": {
            "color": "#FF6692",
            "pattern": {
             "shape": ""
            }
           },
           "name": "WIND",
           "offsetgroup": "WIND",
           "orientation": "v",
           "showlegend": true,
           "textposition": "auto",
           "type": "bar",
           "x": [
            "ID",
            "IN",
            "SD",
            "SN",
            "WD",
            "WN"
           ],
           "xaxis": "x",
           "y": [
            2,
            2,
            2,
            2,
            2,
            2
           ],
           "yaxis": "y"
          },
          {
           "alignmentgroup": "True",
           "hovertemplate": "TECHNOLOGY=NGCC<br>YEAR=2028<br>TIMESLICE=%{x}<br>Values=%{y}<extra></extra>",
           "legendgroup": "NGCC",
           "marker": {
            "color": "#B6E880",
            "pattern": {
             "shape": ""
            }
           },
           "name": "NGCC",
           "offsetgroup": "NGCC",
           "orientation": "v",
           "showlegend": true,
           "textposition": "auto",
           "type": "bar",
           "x": [
            "ID",
            "IN",
            "SD",
            "SN",
            "WD",
            "WN"
           ],
           "xaxis": "x",
           "y": [
            1.77635683940025e-15,
            1.89210993988648,
            0.218713242572534,
            0.695430216496513,
            0,
            0
           ],
           "yaxis": "y"
          },
          {
           "alignmentgroup": "True",
           "hovertemplate": "TECHNOLOGY=NUCLEAR<br>YEAR=2028<br>TIMESLICE=%{x}<br>Values=%{y}<extra></extra>",
           "legendgroup": "NUCLEAR",
           "marker": {
            "color": "#FF97FF",
            "pattern": {
             "shape": ""
            }
           },
           "name": "NUCLEAR",
           "offsetgroup": "NUCLEAR",
           "orientation": "v",
           "showlegend": true,
           "textposition": "auto",
           "type": "bar",
           "x": [
            "ID",
            "IN",
            "SD",
            "SN",
            "WD",
            "WN"
           ],
           "xaxis": "x",
           "y": [
            3.28503250046337,
            3.2969727503402,
            3.2969727503402,
            3.2969727503402,
            0.467773170463315,
            1.18533453370693
           ],
           "yaxis": "y"
          },
          {
           "alignmentgroup": "True",
           "hovertemplate": "TECHNOLOGY=TRANS<br>YEAR=2028<br>TIMESLICE=%{x}<br>Values=%{y}<extra></extra>",
           "legendgroup": "TRANS",
           "marker": {
            "color": "#FECB52",
            "pattern": {
             "shape": ""
            }
           },
           "name": "TRANS",
           "offsetgroup": "TRANS",
           "orientation": "v",
           "showlegend": true,
           "textposition": "auto",
           "type": "bar",
           "x": [
            "ID",
            "IN",
            "SD",
            "SN",
            "WD",
            "WN"
           ],
           "xaxis": "x",
           "y": [
            9.99652015117528,
            11.9005703409386,
            9.66236249601786,
            10.1390794699418,
            8.12061273385321,
            8.83817409709682
           ],
           "yaxis": "y"
          },
          {
           "alignmentgroup": "True",
           "hovertemplate": "TECHNOLOGY=DIST_IND<br>YEAR=2028<br>TIMESLICE=%{x}<br>Values=%{y}<extra></extra>",
           "legendgroup": "DIST_IND",
           "marker": {
            "color": "#636efa",
            "pattern": {
             "shape": ""
            }
           },
           "name": "DIST_IND",
           "offsetgroup": "DIST_IND",
           "orientation": "v",
           "showlegend": true,
           "textposition": "auto",
           "type": "bar",
           "x": [
            "ID",
            "IN",
            "SD",
            "SN",
            "WD",
            "WN"
           ],
           "xaxis": "x",
           "y": [
            3.2064628827025,
            6.41677506058232,
            3.2064628827025,
            6.41677506058232,
            1.60371245888541,
            3.2064628827025
           ],
           "yaxis": "y"
          },
          {
           "alignmentgroup": "True",
           "hovertemplate": "TECHNOLOGY=DIST_TRA<br>YEAR=2028<br>TIMESLICE=%{x}<br>Values=%{y}<extra></extra>",
           "legendgroup": "DIST_TRA",
           "marker": {
            "color": "#EF553B",
            "pattern": {
             "shape": ""
            }
           },
           "name": "DIST_TRA",
           "offsetgroup": "DIST_TRA",
           "orientation": "v",
           "showlegend": true,
           "textposition": "auto",
           "type": "bar",
           "x": [
            "ID",
            "IN",
            "SD",
            "SN",
            "WD",
            "WN"
           ],
           "xaxis": "x",
           "y": [
            0.702298564676312,
            0.219600035136006,
            0.329202452194295,
            0.219600035136006,
            0.384184759939671,
            0.175574641169327
           ],
           "yaxis": "y"
          },
          {
           "alignmentgroup": "True",
           "hovertemplate": "TECHNOLOGY=DIST_RES<br>YEAR=2028<br>TIMESLICE=%{x}<br>Values=%{y}<extra></extra>",
           "legendgroup": "DIST_RES",
           "marker": {
            "color": "#00cc96",
            "pattern": {
             "shape": ""
            }
           },
           "name": "DIST_RES",
           "offsetgroup": "DIST_RES",
           "orientation": "v",
           "showlegend": true,
           "textposition": "auto",
           "type": "bar",
           "x": [
            "ID",
            "IN",
            "SD",
            "SN",
            "WD",
            "WN"
           ],
           "xaxis": "x",
           "y": [
            2.37025765578592,
            3.16224050596065,
            2.9628220697324,
            1.97640031622723,
            3.95161467366249,
            3.95042942630986
           ],
           "yaxis": "y"
          },
          {
           "alignmentgroup": "True",
           "hovertemplate": "TECHNOLOGY=DIST_SER<br>YEAR=2028<br>TIMESLICE=%{x}<br>Values=%{y}<extra></extra>",
           "legendgroup": "DIST_SER",
           "marker": {
            "color": "#ab63fa",
            "pattern": {
             "shape": ""
            }
           },
           "name": "DIST_SER",
           "offsetgroup": "DIST_SER",
           "orientation": "v",
           "showlegend": true,
           "textposition": "auto",
           "type": "bar",
           "x": [
            "ID",
            "IN",
            "SD",
            "SN",
            "WD",
            "WN"
           ],
           "xaxis": "x",
           "y": [
            3.56555394171269,
            1.92106607007736,
            3.0170071814492,
            1.37219005005318,
            2.05766752781107,
            1.37136690063926
           ],
           "yaxis": "y"
          }
         ],
         "name": "2028"
        },
        {
         "data": [
          {
           "alignmentgroup": "True",
           "hovertemplate": "TECHNOLOGY=HF_Imp<br>YEAR=2029<br>TIMESLICE=%{x}<br>Values=%{y}<extra></extra>",
           "legendgroup": "HF_Imp",
           "marker": {
            "color": "#EF553B",
            "pattern": {
             "shape": ""
            }
           },
           "name": "HF_Imp",
           "offsetgroup": "HF_Imp",
           "orientation": "v",
           "showlegend": true,
           "textposition": "auto",
           "type": "bar",
           "x": [
            "ID",
            "IN",
            "SD",
            "SN",
            "WD",
            "WN"
           ],
           "xaxis": "x",
           "y": [
            0,
            0,
            0,
            0,
            0,
            0
           ],
           "yaxis": "y"
          },
          {
           "alignmentgroup": "True",
           "hovertemplate": "TECHNOLOGY=DS_Imp<br>YEAR=2029<br>TIMESLICE=%{x}<br>Values=%{y}<extra></extra>",
           "legendgroup": "DS_Imp",
           "marker": {
            "color": "#00cc96",
            "pattern": {
             "shape": ""
            }
           },
           "name": "DS_Imp",
           "offsetgroup": "DS_Imp",
           "orientation": "v",
           "showlegend": true,
           "textposition": "auto",
           "type": "bar",
           "x": [
            "ID",
            "IN",
            "SD",
            "SN",
            "WD",
            "WN"
           ],
           "xaxis": "x",
           "y": [
            0,
            0,
            0,
            0,
            0,
            0
           ],
           "yaxis": "y"
          },
          {
           "alignmentgroup": "True",
           "hovertemplate": "TECHNOLOGY=NG_Imp<br>YEAR=2029<br>TIMESLICE=%{x}<br>Values=%{y}<extra></extra>",
           "legendgroup": "NG_Imp",
           "marker": {
            "color": "#ab63fa",
            "pattern": {
             "shape": ""
            }
           },
           "name": "NG_Imp",
           "offsetgroup": "NG_Imp",
           "orientation": "v",
           "showlegend": true,
           "textposition": "auto",
           "type": "bar",
           "x": [
            "ID",
            "IN",
            "SD",
            "SN",
            "WD",
            "WN"
           ],
           "xaxis": "x",
           "y": [
            0.190572740887604,
            4.06922425629063,
            2.49470548942621,
            1.60609606327525,
            0,
            0
           ],
           "yaxis": "y"
          },
          {
           "alignmentgroup": "True",
           "hovertemplate": "TECHNOLOGY=CO_Imp<br>YEAR=2029<br>TIMESLICE=%{x}<br>Values=%{y}<extra></extra>",
           "legendgroup": "CO_Imp",
           "marker": {
            "color": "#FFA15A",
            "pattern": {
             "shape": ""
            }
           },
           "name": "CO_Imp",
           "offsetgroup": "CO_Imp",
           "orientation": "v",
           "showlegend": true,
           "textposition": "auto",
           "type": "bar",
           "x": [
            "ID",
            "IN",
            "SD",
            "SN",
            "WD",
            "WN"
           ],
           "xaxis": "x",
           "y": [
            1.97068464,
            1.97068464,
            1.97068464,
            1.97068464,
            1.97068464,
            1.97068464
           ],
           "yaxis": "y"
          },
          {
           "alignmentgroup": "True",
           "hovertemplate": "TECHNOLOGY=UR_Imp<br>YEAR=2029<br>TIMESLICE=%{x}<br>Values=%{y}<extra></extra>",
           "legendgroup": "UR_Imp",
           "marker": {
            "color": "#19d3f3",
            "pattern": {
             "shape": ""
            }
           },
           "name": "UR_Imp",
           "offsetgroup": "UR_Imp",
           "orientation": "v",
           "showlegend": true,
           "textposition": "auto",
           "type": "bar",
           "x": [
            "ID",
            "IN",
            "SD",
            "SN",
            "WD",
            "WN"
           ],
           "xaxis": "x",
           "y": [
            11.3843514160054,
            11.3843514160054,
            8.27243306907528,
            11.3843514160054,
            2.17102152392786,
            4.61695424818267
           ],
           "yaxis": "y"
          },
          {
           "alignmentgroup": "True",
           "hovertemplate": "TECHNOLOGY=NGSC<br>YEAR=2029<br>TIMESLICE=%{x}<br>Values=%{y}<extra></extra>",
           "legendgroup": "NGSC",
           "marker": {
            "color": "#FF6692",
            "pattern": {
             "shape": ""
            }
           },
           "name": "NGSC",
           "offsetgroup": "NGSC",
           "orientation": "v",
           "showlegend": true,
           "textposition": "auto",
           "type": "bar",
           "x": [
            "ID",
            "IN",
            "SD",
            "SN",
            "WD",
            "WN"
           ],
           "xaxis": "x",
           "y": [
            0,
            0,
            0,
            0,
            0,
            0
           ],
           "yaxis": "y"
          },
          {
           "alignmentgroup": "True",
           "hovertemplate": "TECHNOLOGY=DSGC<br>YEAR=2029<br>TIMESLICE=%{x}<br>Values=%{y}<extra></extra>",
           "legendgroup": "DSGC",
           "marker": {
            "color": "#B6E880",
            "pattern": {
             "shape": ""
            }
           },
           "name": "DSGC",
           "offsetgroup": "DSGC",
           "orientation": "v",
           "showlegend": true,
           "textposition": "auto",
           "type": "bar",
           "x": [
            "ID",
            "IN",
            "SD",
            "SN",
            "WD",
            "WN"
           ],
           "xaxis": "x",
           "y": [
            0,
            0,
            0,
            0,
            0,
            0
           ],
           "yaxis": "y"
          },
          {
           "alignmentgroup": "True",
           "hovertemplate": "TECHNOLOGY=IGCC<br>YEAR=2029<br>TIMESLICE=%{x}<br>Values=%{y}<extra></extra>",
           "legendgroup": "IGCC",
           "marker": {
            "color": "#FF97FF",
            "pattern": {
             "shape": ""
            }
           },
           "name": "IGCC",
           "offsetgroup": "IGCC",
           "orientation": "v",
           "showlegend": true,
           "textposition": "auto",
           "type": "bar",
           "x": [
            "ID",
            "IN",
            "SD",
            "SN",
            "WD",
            "WN"
           ],
           "xaxis": "x",
           "y": [
            0.94608,
            0.94608,
            0.94608,
            0.946080000000002,
            0.94608,
            0.94608
           ],
           "yaxis": "y"
          },
          {
           "alignmentgroup": "True",
           "hovertemplate": "TECHNOLOGY=HFSC<br>YEAR=2029<br>TIMESLICE=%{x}<br>Values=%{y}<extra></extra>",
           "legendgroup": "HFSC",
           "marker": {
            "color": "#FECB52",
            "pattern": {
             "shape": ""
            }
           },
           "name": "HFSC",
           "offsetgroup": "HFSC",
           "orientation": "v",
           "showlegend": true,
           "textposition": "auto",
           "type": "bar",
           "x": [
            "ID",
            "IN",
            "SD",
            "SN",
            "WD",
            "WN"
           ],
           "xaxis": "x",
           "y": [
            0,
            0,
            0,
            0,
            0,
            0
           ],
           "yaxis": "y"
          },
          {
           "alignmentgroup": "True",
           "hovertemplate": "TECHNOLOGY=HYDRO_DAM<br>YEAR=2029<br>TIMESLICE=%{x}<br>Values=%{y}<extra></extra>",
           "legendgroup": "HYDRO_DAM",
           "marker": {
            "color": "#636efa",
            "pattern": {
             "shape": ""
            }
           },
           "name": "HYDRO_DAM",
           "offsetgroup": "HYDRO_DAM",
           "orientation": "v",
           "showlegend": true,
           "textposition": "auto",
           "type": "bar",
           "x": [
            "ID",
            "IN",
            "SD",
            "SN",
            "WD",
            "WN"
           ],
           "xaxis": "x",
           "y": [
            3.76540765071191,
            3.76540765071191,
            3.20059650310513,
            3.20059650310513,
            4.70675956338989,
            4.70675956338989
           ],
           "yaxis": "y"
          },
          {
           "alignmentgroup": "True",
           "hovertemplate": "TECHNOLOGY=HYDRO_MIN<br>YEAR=2029<br>TIMESLICE=%{x}<br>Values=%{y}<extra></extra>",
           "legendgroup": "HYDRO_MIN",
           "marker": {
            "color": "#EF553B",
            "pattern": {
             "shape": ""
            }
           },
           "name": "HYDRO_MIN",
           "offsetgroup": "HYDRO_MIN",
           "orientation": "v",
           "showlegend": true,
           "textposition": "auto",
           "type": "bar",
           "x": [
            "ID",
            "IN",
            "SD",
            "SN",
            "WD",
            "WN"
           ],
           "xaxis": "x",
           "y": [
            1.12532210239887e-15,
            2.60445141968155e-16,
            0,
            0,
            0,
            0
           ],
           "yaxis": "y"
          },
          {
           "alignmentgroup": "True",
           "hovertemplate": "TECHNOLOGY=DIESEL_GEN<br>YEAR=2029<br>TIMESLICE=%{x}<br>Values=%{y}<extra></extra>",
           "legendgroup": "DIESEL_GEN",
           "marker": {
            "color": "#00cc96",
            "pattern": {
             "shape": ""
            }
           },
           "name": "DIESEL_GEN",
           "offsetgroup": "DIESEL_GEN",
           "orientation": "v",
           "showlegend": true,
           "textposition": "auto",
           "type": "bar",
           "x": [
            "ID",
            "IN",
            "SD",
            "SN",
            "WD",
            "WN"
           ],
           "xaxis": "x",
           "y": [
            0,
            0,
            0,
            0,
            0,
            0
           ],
           "yaxis": "y"
          },
          {
           "alignmentgroup": "True",
           "hovertemplate": "TECHNOLOGY=CSP<br>YEAR=2029<br>TIMESLICE=%{x}<br>Values=%{y}<extra></extra>",
           "legendgroup": "CSP",
           "marker": {
            "color": "#ab63fa",
            "pattern": {
             "shape": ""
            }
           },
           "name": "CSP",
           "offsetgroup": "CSP",
           "orientation": "v",
           "showlegend": true,
           "textposition": "auto",
           "type": "bar",
           "x": [
            "ID",
            "IN",
            "SD",
            "SN",
            "WD",
            "WN"
           ],
           "xaxis": "x",
           "y": [
            0,
            0,
            0,
            0,
            0,
            0
           ],
           "yaxis": "y"
          },
          {
           "alignmentgroup": "True",
           "hovertemplate": "TECHNOLOGY=PV_UTL<br>YEAR=2029<br>TIMESLICE=%{x}<br>Values=%{y}<extra></extra>",
           "legendgroup": "PV_UTL",
           "marker": {
            "color": "#FFA15A",
            "pattern": {
             "shape": ""
            }
           },
           "name": "PV_UTL",
           "offsetgroup": "PV_UTL",
           "orientation": "v",
           "showlegend": true,
           "textposition": "auto",
           "type": "bar",
           "x": [
            "ID",
            "IN",
            "SD",
            "SN",
            "WD",
            "WN"
           ],
           "xaxis": "x",
           "y": [
            0,
            0,
            0,
            0,
            0,
            0
           ],
           "yaxis": "y"
          },
          {
           "alignmentgroup": "True",
           "hovertemplate": "TECHNOLOGY=PV_ROF<br>YEAR=2029<br>TIMESLICE=%{x}<br>Values=%{y}<extra></extra>",
           "legendgroup": "PV_ROF",
           "marker": {
            "color": "#19d3f3",
            "pattern": {
             "shape": ""
            }
           },
           "name": "PV_ROF",
           "offsetgroup": "PV_ROF",
           "orientation": "v",
           "showlegend": true,
           "textposition": "auto",
           "type": "bar",
           "x": [
            "ID",
            "IN",
            "SD",
            "SN",
            "WD",
            "WN"
           ],
           "xaxis": "x",
           "y": [
            0,
            0,
            0,
            0,
            0,
            0
           ],
           "yaxis": "y"
          },
          {
           "alignmentgroup": "True",
           "hovertemplate": "TECHNOLOGY=WIND<br>YEAR=2029<br>TIMESLICE=%{x}<br>Values=%{y}<extra></extra>",
           "legendgroup": "WIND",
           "marker": {
            "color": "#FF6692",
            "pattern": {
             "shape": ""
            }
           },
           "name": "WIND",
           "offsetgroup": "WIND",
           "orientation": "v",
           "showlegend": true,
           "textposition": "auto",
           "type": "bar",
           "x": [
            "ID",
            "IN",
            "SD",
            "SN",
            "WD",
            "WN"
           ],
           "xaxis": "x",
           "y": [
            2,
            2,
            2,
            2,
            2,
            2
           ],
           "yaxis": "y"
          },
          {
           "alignmentgroup": "True",
           "hovertemplate": "TECHNOLOGY=NGCC<br>YEAR=2029<br>TIMESLICE=%{x}<br>Values=%{y}<extra></extra>",
           "legendgroup": "NGCC",
           "marker": {
            "color": "#B6E880",
            "pattern": {
             "shape": ""
            }
           },
           "name": "NGCC",
           "offsetgroup": "NGCC",
           "orientation": "v",
           "showlegend": true,
           "textposition": "auto",
           "type": "bar",
           "x": [
            "ID",
            "IN",
            "SD",
            "SN",
            "WD",
            "WN"
           ],
           "xaxis": "x",
           "y": [
            0.0956675098028565,
            2.04275044592187,
            1.25234207554206,
            0.806260172163526,
            0,
            0
           ],
           "yaxis": "y"
          },
          {
           "alignmentgroup": "True",
           "hovertemplate": "TECHNOLOGY=NUCLEAR<br>YEAR=2029<br>TIMESLICE=%{x}<br>Values=%{y}<extra></extra>",
           "legendgroup": "NUCLEAR",
           "marker": {
            "color": "#FF97FF",
            "pattern": {
             "shape": ""
            }
           },
           "name": "NUCLEAR",
           "offsetgroup": "NUCLEAR",
           "orientation": "v",
           "showlegend": true,
           "textposition": "auto",
           "type": "bar",
           "x": [
            "ID",
            "IN",
            "SD",
            "SN",
            "WD",
            "WN"
           ],
           "xaxis": "x",
           "y": [
            3.41530542480163,
            3.41530542480163,
            2.48172992072259,
            3.41530542480163,
            0.651306457178359,
            1.3850862744548
           ],
           "yaxis": "y"
          },
          {
           "alignmentgroup": "True",
           "hovertemplate": "TECHNOLOGY=TRANS<br>YEAR=2029<br>TIMESLICE=%{x}<br>Values=%{y}<extra></extra>",
           "legendgroup": "TRANS",
           "marker": {
            "color": "#FECB52",
            "pattern": {
             "shape": ""
            }
           },
           "name": "TRANS",
           "offsetgroup": "TRANS",
           "orientation": "v",
           "showlegend": true,
           "textposition": "auto",
           "type": "bar",
           "x": [
            "ID",
            "IN",
            "SD",
            "SN",
            "WD",
            "WN"
           ],
           "xaxis": "x",
           "y": [
            10.2224605853164,
            12.1695435214354,
            9.88074849936978,
            10.3682421000703,
            8.30414602056825,
            9.0379258378447
           ],
           "yaxis": "y"
          },
          {
           "alignmentgroup": "True",
           "hovertemplate": "TECHNOLOGY=DIST_IND<br>YEAR=2029<br>TIMESLICE=%{x}<br>Values=%{y}<extra></extra>",
           "legendgroup": "DIST_IND",
           "marker": {
            "color": "#636efa",
            "pattern": {
             "shape": ""
            }
           },
           "name": "DIST_IND",
           "offsetgroup": "DIST_IND",
           "orientation": "v",
           "showlegend": true,
           "textposition": "auto",
           "type": "bar",
           "x": [
            "ID",
            "IN",
            "SD",
            "SN",
            "WD",
            "WN"
           ],
           "xaxis": "x",
           "y": [
            3.27893701954111,
            6.56181033802525,
            3.27893701954111,
            6.56181033802525,
            1.63996039951246,
            3.27893701954111
           ],
           "yaxis": "y"
          },
          {
           "alignmentgroup": "True",
           "hovertemplate": "TECHNOLOGY=DIST_TRA<br>YEAR=2029<br>TIMESLICE=%{x}<br>Values=%{y}<extra></extra>",
           "legendgroup": "DIST_TRA",
           "marker": {
            "color": "#EF553B",
            "pattern": {
             "shape": ""
            }
           },
           "name": "DIST_TRA",
           "offsetgroup": "DIST_TRA",
           "orientation": "v",
           "showlegend": true,
           "textposition": "auto",
           "type": "bar",
           "x": [
            "ID",
            "IN",
            "SD",
            "SN",
            "WD",
            "WN"
           ],
           "xaxis": "x",
           "y": [
            0.718169718689751,
            0.224562747794446,
            0.336642055641278,
            0.224562747794446,
            0.39286690139852,
            0.179542429670329
           ],
           "yaxis": "y"
          },
          {
           "alignmentgroup": "True",
           "hovertemplate": "TECHNOLOGY=DIST_RES<br>YEAR=2029<br>TIMESLICE=%{x}<br>Values=%{y}<extra></extra>",
           "legendgroup": "DIST_RES",
           "marker": {
            "color": "#00cc96",
            "pattern": {
             "shape": ""
            }
           },
           "name": "DIST_RES",
           "offsetgroup": "DIST_RES",
           "orientation": "v",
           "showlegend": true,
           "textposition": "auto",
           "type": "bar",
           "x": [
            "ID",
            "IN",
            "SD",
            "SN",
            "WD",
            "WN"
           ],
           "xaxis": "x",
           "y": [
            2.42382280054944,
            3.23370356824307,
            3.0297785006868,
            2.02106473015738,
            4.04091670018593,
            4.0397046675824
           ],
           "yaxis": "y"
          },
          {
           "alignmentgroup": "True",
           "hovertemplate": "TECHNOLOGY=DIST_SER<br>YEAR=2029<br>TIMESLICE=%{x}<br>Values=%{y}<extra></extra>",
           "legendgroup": "DIST_SER",
           "marker": {
            "color": "#ab63fa",
            "pattern": {
             "shape": ""
            }
           },
           "name": "DIST_SER",
           "offsetgroup": "DIST_SER",
           "orientation": "v",
           "showlegend": true,
           "textposition": "auto",
           "type": "bar",
           "x": [
            "ID",
            "IN",
            "SD",
            "SN",
            "WD",
            "WN"
           ],
           "xaxis": "x",
           "y": [
            3.64614964563929,
            1.96448980584682,
            3.08520354631017,
            1.40320700417215,
            2.1041789999587,
            1.40236524831562
           ],
           "yaxis": "y"
          }
         ],
         "name": "2029"
        },
        {
         "data": [
          {
           "alignmentgroup": "True",
           "hovertemplate": "TECHNOLOGY=HF_Imp<br>YEAR=2030<br>TIMESLICE=%{x}<br>Values=%{y}<extra></extra>",
           "legendgroup": "HF_Imp",
           "marker": {
            "color": "#EF553B",
            "pattern": {
             "shape": ""
            }
           },
           "name": "HF_Imp",
           "offsetgroup": "HF_Imp",
           "orientation": "v",
           "showlegend": true,
           "textposition": "auto",
           "type": "bar",
           "x": [
            "ID",
            "IN",
            "SD",
            "SN",
            "WD",
            "WN"
           ],
           "xaxis": "x",
           "y": [
            0,
            0,
            0,
            0,
            0,
            0
           ],
           "yaxis": "y"
          },
          {
           "alignmentgroup": "True",
           "hovertemplate": "TECHNOLOGY=DS_Imp<br>YEAR=2030<br>TIMESLICE=%{x}<br>Values=%{y}<extra></extra>",
           "legendgroup": "DS_Imp",
           "marker": {
            "color": "#00cc96",
            "pattern": {
             "shape": ""
            }
           },
           "name": "DS_Imp",
           "offsetgroup": "DS_Imp",
           "orientation": "v",
           "showlegend": true,
           "textposition": "auto",
           "type": "bar",
           "x": [
            "ID",
            "IN",
            "SD",
            "SN",
            "WD",
            "WN"
           ],
           "xaxis": "x",
           "y": [
            0,
            0,
            0,
            0,
            0,
            0
           ],
           "yaxis": "y"
          },
          {
           "alignmentgroup": "True",
           "hovertemplate": "TECHNOLOGY=NG_Imp<br>YEAR=2030<br>TIMESLICE=%{x}<br>Values=%{y}<extra></extra>",
           "legendgroup": "NG_Imp",
           "marker": {
            "color": "#ab63fa",
            "pattern": {
             "shape": ""
            }
           },
           "name": "NG_Imp",
           "offsetgroup": "NG_Imp",
           "orientation": "v",
           "showlegend": true,
           "textposition": "auto",
           "type": "bar",
           "x": [
            "ID",
            "IN",
            "SD",
            "SN",
            "WD",
            "WN"
           ],
           "xaxis": "x",
           "y": [
            4.06922425629064,
            4.06922425629063,
            0.524421994589397,
            1.51976524601668,
            0.441674788955124,
            0
           ],
           "yaxis": "y"
          },
          {
           "alignmentgroup": "True",
           "hovertemplate": "TECHNOLOGY=CO_Imp<br>YEAR=2030<br>TIMESLICE=%{x}<br>Values=%{y}<extra></extra>",
           "legendgroup": "CO_Imp",
           "marker": {
            "color": "#FFA15A",
            "pattern": {
             "shape": ""
            }
           },
           "name": "CO_Imp",
           "offsetgroup": "CO_Imp",
           "orientation": "v",
           "showlegend": true,
           "textposition": "auto",
           "type": "bar",
           "x": [
            "ID",
            "IN",
            "SD",
            "SN",
            "WD",
            "WN"
           ],
           "xaxis": "x",
           "y": [
            1.97068464,
            1.97068464,
            1.97068464,
            1.97068464,
            1.97068464,
            1.97068464
           ],
           "yaxis": "y"
          },
          {
           "alignmentgroup": "True",
           "hovertemplate": "TECHNOLOGY=UR_Imp<br>YEAR=2030<br>TIMESLICE=%{x}<br>Values=%{y}<extra></extra>",
           "legendgroup": "UR_Imp",
           "marker": {
            "color": "#19d3f3",
            "pattern": {
             "shape": ""
            }
           },
           "name": "UR_Imp",
           "offsetgroup": "UR_Imp",
           "orientation": "v",
           "showlegend": true,
           "textposition": "auto",
           "type": "bar",
           "x": [
            "ID",
            "IN",
            "SD",
            "SN",
            "WD",
            "WN"
           ],
           "xaxis": "x",
           "y": [
            5.72084445835331,
            12.3669749054624,
            12.3669749054624,
            12.3669749054624,
            2.10060468976352,
            5.34467676286959
           ],
           "yaxis": "y"
          },
          {
           "alignmentgroup": "True",
           "hovertemplate": "TECHNOLOGY=NGSC<br>YEAR=2030<br>TIMESLICE=%{x}<br>Values=%{y}<extra></extra>",
           "legendgroup": "NGSC",
           "marker": {
            "color": "#FF6692",
            "pattern": {
             "shape": ""
            }
           },
           "name": "NGSC",
           "offsetgroup": "NGSC",
           "orientation": "v",
           "showlegend": true,
           "textposition": "auto",
           "type": "bar",
           "x": [
            "ID",
            "IN",
            "SD",
            "SN",
            "WD",
            "WN"
           ],
           "xaxis": "x",
           "y": [
            0,
            0,
            0,
            0,
            0,
            0
           ],
           "yaxis": "y"
          },
          {
           "alignmentgroup": "True",
           "hovertemplate": "TECHNOLOGY=DSGC<br>YEAR=2030<br>TIMESLICE=%{x}<br>Values=%{y}<extra></extra>",
           "legendgroup": "DSGC",
           "marker": {
            "color": "#B6E880",
            "pattern": {
             "shape": ""
            }
           },
           "name": "DSGC",
           "offsetgroup": "DSGC",
           "orientation": "v",
           "showlegend": true,
           "textposition": "auto",
           "type": "bar",
           "x": [
            "ID",
            "IN",
            "SD",
            "SN",
            "WD",
            "WN"
           ],
           "xaxis": "x",
           "y": [
            0,
            0,
            0,
            0,
            0,
            0
           ],
           "yaxis": "y"
          },
          {
           "alignmentgroup": "True",
           "hovertemplate": "TECHNOLOGY=IGCC<br>YEAR=2030<br>TIMESLICE=%{x}<br>Values=%{y}<extra></extra>",
           "legendgroup": "IGCC",
           "marker": {
            "color": "#FF97FF",
            "pattern": {
             "shape": ""
            }
           },
           "name": "IGCC",
           "offsetgroup": "IGCC",
           "orientation": "v",
           "showlegend": true,
           "textposition": "auto",
           "type": "bar",
           "x": [
            "ID",
            "IN",
            "SD",
            "SN",
            "WD",
            "WN"
           ],
           "xaxis": "x",
           "y": [
            0.94608,
            0.94608,
            0.94608,
            0.94608,
            0.94608,
            0.94608
           ],
           "yaxis": "y"
          },
          {
           "alignmentgroup": "True",
           "hovertemplate": "TECHNOLOGY=HFSC<br>YEAR=2030<br>TIMESLICE=%{x}<br>Values=%{y}<extra></extra>",
           "legendgroup": "HFSC",
           "marker": {
            "color": "#FECB52",
            "pattern": {
             "shape": ""
            }
           },
           "name": "HFSC",
           "offsetgroup": "HFSC",
           "orientation": "v",
           "showlegend": true,
           "textposition": "auto",
           "type": "bar",
           "x": [
            "ID",
            "IN",
            "SD",
            "SN",
            "WD",
            "WN"
           ],
           "xaxis": "x",
           "y": [
            0,
            0,
            0,
            0,
            0,
            0
           ],
           "yaxis": "y"
          },
          {
           "alignmentgroup": "True",
           "hovertemplate": "TECHNOLOGY=HYDRO_DAM<br>YEAR=2030<br>TIMESLICE=%{x}<br>Values=%{y}<extra></extra>",
           "legendgroup": "HYDRO_DAM",
           "marker": {
            "color": "#636efa",
            "pattern": {
             "shape": ""
            }
           },
           "name": "HYDRO_DAM",
           "offsetgroup": "HYDRO_DAM",
           "orientation": "v",
           "showlegend": true,
           "textposition": "auto",
           "type": "bar",
           "x": [
            "ID",
            "IN",
            "SD",
            "SN",
            "WD",
            "WN"
           ],
           "xaxis": "x",
           "y": [
            3.76540765071191,
            3.76540765071191,
            3.20059650310513,
            3.20059650310513,
            4.70675956338989,
            4.70675956338989
           ],
           "yaxis": "y"
          },
          {
           "alignmentgroup": "True",
           "hovertemplate": "TECHNOLOGY=HYDRO_MIN<br>YEAR=2030<br>TIMESLICE=%{x}<br>Values=%{y}<extra></extra>",
           "legendgroup": "HYDRO_MIN",
           "marker": {
            "color": "#EF553B",
            "pattern": {
             "shape": ""
            }
           },
           "name": "HYDRO_MIN",
           "offsetgroup": "HYDRO_MIN",
           "orientation": "v",
           "showlegend": true,
           "textposition": "auto",
           "type": "bar",
           "x": [
            "ID",
            "IN",
            "SD",
            "SN",
            "WD",
            "WN"
           ],
           "xaxis": "x",
           "y": [
            0,
            2.60445141968155e-16,
            1.12532210239887e-15,
            0,
            0,
            0
           ],
           "yaxis": "y"
          },
          {
           "alignmentgroup": "True",
           "hovertemplate": "TECHNOLOGY=DIESEL_GEN<br>YEAR=2030<br>TIMESLICE=%{x}<br>Values=%{y}<extra></extra>",
           "legendgroup": "DIESEL_GEN",
           "marker": {
            "color": "#00cc96",
            "pattern": {
             "shape": ""
            }
           },
           "name": "DIESEL_GEN",
           "offsetgroup": "DIESEL_GEN",
           "orientation": "v",
           "showlegend": true,
           "textposition": "auto",
           "type": "bar",
           "x": [
            "ID",
            "IN",
            "SD",
            "SN",
            "WD",
            "WN"
           ],
           "xaxis": "x",
           "y": [
            0,
            0,
            0,
            0,
            0,
            0
           ],
           "yaxis": "y"
          },
          {
           "alignmentgroup": "True",
           "hovertemplate": "TECHNOLOGY=CSP<br>YEAR=2030<br>TIMESLICE=%{x}<br>Values=%{y}<extra></extra>",
           "legendgroup": "CSP",
           "marker": {
            "color": "#ab63fa",
            "pattern": {
             "shape": ""
            }
           },
           "name": "CSP",
           "offsetgroup": "CSP",
           "orientation": "v",
           "showlegend": true,
           "textposition": "auto",
           "type": "bar",
           "x": [
            "ID",
            "IN",
            "SD",
            "SN",
            "WD",
            "WN"
           ],
           "xaxis": "x",
           "y": [
            0,
            0,
            0,
            0,
            0,
            0
           ],
           "yaxis": "y"
          },
          {
           "alignmentgroup": "True",
           "hovertemplate": "TECHNOLOGY=PV_UTL<br>YEAR=2030<br>TIMESLICE=%{x}<br>Values=%{y}<extra></extra>",
           "legendgroup": "PV_UTL",
           "marker": {
            "color": "#FFA15A",
            "pattern": {
             "shape": ""
            }
           },
           "name": "PV_UTL",
           "offsetgroup": "PV_UTL",
           "orientation": "v",
           "showlegend": true,
           "textposition": "auto",
           "type": "bar",
           "x": [
            "ID",
            "IN",
            "SD",
            "SN",
            "WD",
            "WN"
           ],
           "xaxis": "x",
           "y": [
            0,
            0,
            0,
            0,
            0,
            0
           ],
           "yaxis": "y"
          },
          {
           "alignmentgroup": "True",
           "hovertemplate": "TECHNOLOGY=PV_ROF<br>YEAR=2030<br>TIMESLICE=%{x}<br>Values=%{y}<extra></extra>",
           "legendgroup": "PV_ROF",
           "marker": {
            "color": "#19d3f3",
            "pattern": {
             "shape": ""
            }
           },
           "name": "PV_ROF",
           "offsetgroup": "PV_ROF",
           "orientation": "v",
           "showlegend": true,
           "textposition": "auto",
           "type": "bar",
           "x": [
            "ID",
            "IN",
            "SD",
            "SN",
            "WD",
            "WN"
           ],
           "xaxis": "x",
           "y": [
            0,
            0,
            0,
            0,
            0,
            0
           ],
           "yaxis": "y"
          },
          {
           "alignmentgroup": "True",
           "hovertemplate": "TECHNOLOGY=WIND<br>YEAR=2030<br>TIMESLICE=%{x}<br>Values=%{y}<extra></extra>",
           "legendgroup": "WIND",
           "marker": {
            "color": "#FF6692",
            "pattern": {
             "shape": ""
            }
           },
           "name": "WIND",
           "offsetgroup": "WIND",
           "orientation": "v",
           "showlegend": true,
           "textposition": "auto",
           "type": "bar",
           "x": [
            "ID",
            "IN",
            "SD",
            "SN",
            "WD",
            "WN"
           ],
           "xaxis": "x",
           "y": [
            2,
            2,
            2,
            2,
            2,
            2
           ],
           "yaxis": "y"
          },
          {
           "alignmentgroup": "True",
           "hovertemplate": "TECHNOLOGY=NGCC<br>YEAR=2030<br>TIMESLICE=%{x}<br>Values=%{y}<extra></extra>",
           "legendgroup": "NGCC",
           "marker": {
            "color": "#B6E880",
            "pattern": {
             "shape": ""
            }
           },
           "name": "NGCC",
           "offsetgroup": "NGCC",
           "orientation": "v",
           "showlegend": true,
           "textposition": "auto",
           "type": "bar",
           "x": [
            "ID",
            "IN",
            "SD",
            "SN",
            "WD",
            "WN"
           ],
           "xaxis": "x",
           "y": [
            2.04275044592187,
            2.04275044592187,
            0.263259824435249,
            0.762922104673358,
            0.221720729865346,
            0
           ],
           "yaxis": "y"
          },
          {
           "alignmentgroup": "True",
           "hovertemplate": "TECHNOLOGY=NUCLEAR<br>YEAR=2030<br>TIMESLICE=%{x}<br>Values=%{y}<extra></extra>",
           "legendgroup": "NUCLEAR",
           "marker": {
            "color": "#FF97FF",
            "pattern": {
             "shape": ""
            }
           },
           "name": "NUCLEAR",
           "offsetgroup": "NUCLEAR",
           "orientation": "v",
           "showlegend": true,
           "textposition": "auto",
           "type": "bar",
           "x": [
            "ID",
            "IN",
            "SD",
            "SN",
            "WD",
            "WN"
           ],
           "xaxis": "x",
           "y": [
            1.71625333750599,
            3.71009247163873,
            3.71009247163873,
            3.71009247163873,
            0.630181406929058,
            1.60340302886088
           ],
           "yaxis": "y"
          },
          {
           "alignmentgroup": "True",
           "hovertemplate": "TECHNOLOGY=TRANS<br>YEAR=2030<br>TIMESLICE=%{x}<br>Values=%{y}<extra></extra>",
           "legendgroup": "TRANS",
           "marker": {
            "color": "#FECB52",
            "pattern": {
             "shape": ""
            }
           },
           "name": "TRANS",
           "offsetgroup": "TRANS",
           "orientation": "v",
           "showlegend": true,
           "textposition": "auto",
           "type": "bar",
           "x": [
            "ID",
            "IN",
            "SD",
            "SN",
            "WD",
            "WN"
           ],
           "xaxis": "x",
           "y": [
            10.4704914341398,
            12.4643305682725,
            10.1200287991791,
            10.6196910794172,
            8.5047417001843,
            9.25624259225077
           ],
           "yaxis": "y"
          },
          {
           "alignmentgroup": "True",
           "hovertemplate": "TECHNOLOGY=DIST_IND<br>YEAR=2030<br>TIMESLICE=%{x}<br>Values=%{y}<extra></extra>",
           "legendgroup": "DIST_IND",
           "marker": {
            "color": "#636efa",
            "pattern": {
             "shape": ""
            }
           },
           "name": "DIST_IND",
           "offsetgroup": "DIST_IND",
           "orientation": "v",
           "showlegend": true,
           "textposition": "auto",
           "type": "bar",
           "x": [
            "ID",
            "IN",
            "SD",
            "SN",
            "WD",
            "WN"
           ],
           "xaxis": "x",
           "y": [
            3.35865857006358,
            6.72134914321247,
            3.35865857006358,
            6.72134914321247,
            1.67983313420222,
            3.35865857006358
           ],
           "yaxis": "y"
          },
          {
           "alignmentgroup": "True",
           "hovertemplate": "TECHNOLOGY=DIST_TRA<br>YEAR=2030<br>TIMESLICE=%{x}<br>Values=%{y}<extra></extra>",
           "legendgroup": "DIST_TRA",
           "marker": {
            "color": "#EF553B",
            "pattern": {
             "shape": ""
            }
           },
           "name": "DIST_TRA",
           "offsetgroup": "DIST_TRA",
           "orientation": "v",
           "showlegend": true,
           "textposition": "auto",
           "type": "bar",
           "x": [
            "ID",
            "IN",
            "SD",
            "SN",
            "WD",
            "WN"
           ],
           "xaxis": "x",
           "y": [
            0.736024766942137,
            0.230145799535192,
            0.34501160949003,
            0.230145799535192,
            0.40263431056519,
            0.184006191733956
           ],
           "yaxis": "y"
          },
          {
           "alignmentgroup": "True",
           "hovertemplate": "TECHNOLOGY=DIST_RES<br>YEAR=2030<br>TIMESLICE=%{x}<br>Values=%{y}<extra></extra>",
           "legendgroup": "DIST_RES",
           "marker": {
            "color": "#00cc96",
            "pattern": {
             "shape": ""
            }
           },
           "name": "DIST_RES",
           "offsetgroup": "DIST_RES",
           "orientation": "v",
           "showlegend": true,
           "textposition": "auto",
           "type": "bar",
           "x": [
            "ID",
            "IN",
            "SD",
            "SN",
            "WD",
            "WN"
           ],
           "xaxis": "x",
           "y": [
            2.48185170737659,
            3.31112188570842,
            3.10231463422074,
            2.06945117856958,
            4.137660562253,
            4.13641951229432
           ],
           "yaxis": "y"
          },
          {
           "alignmentgroup": "True",
           "hovertemplate": "TECHNOLOGY=DIST_SER<br>YEAR=2030<br>TIMESLICE=%{x}<br>Values=%{y}<extra></extra>",
           "legendgroup": "DIST_SER",
           "marker": {
            "color": "#ab63fa",
            "pattern": {
             "shape": ""
            }
           },
           "name": "DIST_SER",
           "offsetgroup": "DIST_SER",
           "orientation": "v",
           "showlegend": true,
           "textposition": "auto",
           "type": "bar",
           "x": [
            "ID",
            "IN",
            "SD",
            "SN",
            "WD",
            "WN"
           ],
           "xaxis": "x",
           "y": [
            3.73480491995855,
            2.01225591517868,
            3.16021954765723,
            1.43732565369282,
            2.15534161932109,
            1.4364634307567
           ],
           "yaxis": "y"
          }
         ],
         "name": "2030"
        },
        {
         "data": [
          {
           "alignmentgroup": "True",
           "hovertemplate": "TECHNOLOGY=HF_Imp<br>YEAR=2031<br>TIMESLICE=%{x}<br>Values=%{y}<extra></extra>",
           "legendgroup": "HF_Imp",
           "marker": {
            "color": "#EF553B",
            "pattern": {
             "shape": ""
            }
           },
           "name": "HF_Imp",
           "offsetgroup": "HF_Imp",
           "orientation": "v",
           "showlegend": true,
           "textposition": "auto",
           "type": "bar",
           "x": [
            "ID",
            "IN",
            "SD",
            "SN",
            "WD",
            "WN"
           ],
           "xaxis": "x",
           "y": [
            0,
            0,
            0,
            0,
            0,
            0
           ],
           "yaxis": "y"
          },
          {
           "alignmentgroup": "True",
           "hovertemplate": "TECHNOLOGY=DS_Imp<br>YEAR=2031<br>TIMESLICE=%{x}<br>Values=%{y}<extra></extra>",
           "legendgroup": "DS_Imp",
           "marker": {
            "color": "#00cc96",
            "pattern": {
             "shape": ""
            }
           },
           "name": "DS_Imp",
           "offsetgroup": "DS_Imp",
           "orientation": "v",
           "showlegend": true,
           "textposition": "auto",
           "type": "bar",
           "x": [
            "ID",
            "IN",
            "SD",
            "SN",
            "WD",
            "WN"
           ],
           "xaxis": "x",
           "y": [
            0,
            0,
            0,
            0,
            0,
            0
           ],
           "yaxis": "y"
          },
          {
           "alignmentgroup": "True",
           "hovertemplate": "TECHNOLOGY=NG_Imp<br>YEAR=2031<br>TIMESLICE=%{x}<br>Values=%{y}<extra></extra>",
           "legendgroup": "NG_Imp",
           "marker": {
            "color": "#ab63fa",
            "pattern": {
             "shape": ""
            }
           },
           "name": "NG_Imp",
           "offsetgroup": "NG_Imp",
           "orientation": "v",
           "showlegend": true,
           "textposition": "auto",
           "type": "bar",
           "x": [
            "ID",
            "IN",
            "SD",
            "SN",
            "WD",
            "WN"
           ],
           "xaxis": "x",
           "y": [
            0,
            4.06922425629063,
            0.409933939445528,
            1.4281642335177,
            0,
            0
           ],
           "yaxis": "y"
          },
          {
           "alignmentgroup": "True",
           "hovertemplate": "TECHNOLOGY=CO_Imp<br>YEAR=2031<br>TIMESLICE=%{x}<br>Values=%{y}<extra></extra>",
           "legendgroup": "CO_Imp",
           "marker": {
            "color": "#FFA15A",
            "pattern": {
             "shape": ""
            }
           },
           "name": "CO_Imp",
           "offsetgroup": "CO_Imp",
           "orientation": "v",
           "showlegend": true,
           "textposition": "auto",
           "type": "bar",
           "x": [
            "ID",
            "IN",
            "SD",
            "SN",
            "WD",
            "WN"
           ],
           "xaxis": "x",
           "y": [
            1.97068464,
            1.97068464,
            1.97068464,
            1.97068464,
            0.890043333744972,
            0
           ],
           "yaxis": "y"
          },
          {
           "alignmentgroup": "True",
           "hovertemplate": "TECHNOLOGY=UR_Imp<br>YEAR=2031<br>TIMESLICE=%{x}<br>Values=%{y}<extra></extra>",
           "legendgroup": "UR_Imp",
           "marker": {
            "color": "#19d3f3",
            "pattern": {
             "shape": ""
            }
           },
           "name": "UR_Imp",
           "offsetgroup": "UR_Imp",
           "orientation": "v",
           "showlegend": true,
           "textposition": "auto",
           "type": "bar",
           "x": [
            "ID",
            "IN",
            "SD",
            "SN",
            "WD",
            "WN"
           ],
           "xaxis": "x",
           "y": [
            13.396254008368,
            13.396254008368,
            13.396254008368,
            13.396254008368,
            5.27332373258942,
            9.26379241598036
           ],
           "yaxis": "y"
          },
          {
           "alignmentgroup": "True",
           "hovertemplate": "TECHNOLOGY=NGSC<br>YEAR=2031<br>TIMESLICE=%{x}<br>Values=%{y}<extra></extra>",
           "legendgroup": "NGSC",
           "marker": {
            "color": "#FF6692",
            "pattern": {
             "shape": ""
            }
           },
           "name": "NGSC",
           "offsetgroup": "NGSC",
           "orientation": "v",
           "showlegend": true,
           "textposition": "auto",
           "type": "bar",
           "x": [
            "ID",
            "IN",
            "SD",
            "SN",
            "WD",
            "WN"
           ],
           "xaxis": "x",
           "y": [
            0,
            0,
            0,
            0,
            0,
            0
           ],
           "yaxis": "y"
          },
          {
           "alignmentgroup": "True",
           "hovertemplate": "TECHNOLOGY=DSGC<br>YEAR=2031<br>TIMESLICE=%{x}<br>Values=%{y}<extra></extra>",
           "legendgroup": "DSGC",
           "marker": {
            "color": "#B6E880",
            "pattern": {
             "shape": ""
            }
           },
           "name": "DSGC",
           "offsetgroup": "DSGC",
           "orientation": "v",
           "showlegend": true,
           "textposition": "auto",
           "type": "bar",
           "x": [
            "ID",
            "IN",
            "SD",
            "SN",
            "WD",
            "WN"
           ],
           "xaxis": "x",
           "y": [
            0,
            0,
            0,
            0,
            0,
            0
           ],
           "yaxis": "y"
          },
          {
           "alignmentgroup": "True",
           "hovertemplate": "TECHNOLOGY=IGCC<br>YEAR=2031<br>TIMESLICE=%{x}<br>Values=%{y}<extra></extra>",
           "legendgroup": "IGCC",
           "marker": {
            "color": "#FF97FF",
            "pattern": {
             "shape": ""
            }
           },
           "name": "IGCC",
           "offsetgroup": "IGCC",
           "orientation": "v",
           "showlegend": true,
           "textposition": "auto",
           "type": "bar",
           "x": [
            "ID",
            "IN",
            "SD",
            "SN",
            "WD",
            "WN"
           ],
           "xaxis": "x",
           "y": [
            0.946080000000002,
            0.94608,
            0.94608,
            0.94608,
            0.427289166464221,
            0
           ],
           "yaxis": "y"
          },
          {
           "alignmentgroup": "True",
           "hovertemplate": "TECHNOLOGY=HFSC<br>YEAR=2031<br>TIMESLICE=%{x}<br>Values=%{y}<extra></extra>",
           "legendgroup": "HFSC",
           "marker": {
            "color": "#FECB52",
            "pattern": {
             "shape": ""
            }
           },
           "name": "HFSC",
           "offsetgroup": "HFSC",
           "orientation": "v",
           "showlegend": true,
           "textposition": "auto",
           "type": "bar",
           "x": [
            "ID",
            "IN",
            "SD",
            "SN",
            "WD",
            "WN"
           ],
           "xaxis": "x",
           "y": [
            0,
            0,
            0,
            0,
            0,
            0
           ],
           "yaxis": "y"
          },
          {
           "alignmentgroup": "True",
           "hovertemplate": "TECHNOLOGY=HYDRO_DAM<br>YEAR=2031<br>TIMESLICE=%{x}<br>Values=%{y}<extra></extra>",
           "legendgroup": "HYDRO_DAM",
           "marker": {
            "color": "#636efa",
            "pattern": {
             "shape": ""
            }
           },
           "name": "HYDRO_DAM",
           "offsetgroup": "HYDRO_DAM",
           "orientation": "v",
           "showlegend": true,
           "textposition": "auto",
           "type": "bar",
           "x": [
            "ID",
            "IN",
            "SD",
            "SN",
            "WD",
            "WN"
           ],
           "xaxis": "x",
           "y": [
            3.76540765071191,
            3.76540765071191,
            3.20059650310513,
            3.20059650310513,
            4.70675956338989,
            4.70675956338989
           ],
           "yaxis": "y"
          },
          {
           "alignmentgroup": "True",
           "hovertemplate": "TECHNOLOGY=HYDRO_MIN<br>YEAR=2031<br>TIMESLICE=%{x}<br>Values=%{y}<extra></extra>",
           "legendgroup": "HYDRO_MIN",
           "marker": {
            "color": "#EF553B",
            "pattern": {
             "shape": ""
            }
           },
           "name": "HYDRO_MIN",
           "offsetgroup": "HYDRO_MIN",
           "orientation": "v",
           "showlegend": true,
           "textposition": "auto",
           "type": "bar",
           "x": [
            "ID",
            "IN",
            "SD",
            "SN",
            "WD",
            "WN"
           ],
           "xaxis": "x",
           "y": [
            2.60445141968155e-16,
            2.60445141968155e-16,
            1.58127407623523e-16,
            1.58127407623523e-16,
            2.09286274795839e-16,
            2.09286274795839e-16
           ],
           "yaxis": "y"
          },
          {
           "alignmentgroup": "True",
           "hovertemplate": "TECHNOLOGY=DIESEL_GEN<br>YEAR=2031<br>TIMESLICE=%{x}<br>Values=%{y}<extra></extra>",
           "legendgroup": "DIESEL_GEN",
           "marker": {
            "color": "#00cc96",
            "pattern": {
             "shape": ""
            }
           },
           "name": "DIESEL_GEN",
           "offsetgroup": "DIESEL_GEN",
           "orientation": "v",
           "showlegend": true,
           "textposition": "auto",
           "type": "bar",
           "x": [
            "ID",
            "IN",
            "SD",
            "SN",
            "WD",
            "WN"
           ],
           "xaxis": "x",
           "y": [
            0,
            0,
            0,
            0,
            0,
            0
           ],
           "yaxis": "y"
          },
          {
           "alignmentgroup": "True",
           "hovertemplate": "TECHNOLOGY=CSP<br>YEAR=2031<br>TIMESLICE=%{x}<br>Values=%{y}<extra></extra>",
           "legendgroup": "CSP",
           "marker": {
            "color": "#ab63fa",
            "pattern": {
             "shape": ""
            }
           },
           "name": "CSP",
           "offsetgroup": "CSP",
           "orientation": "v",
           "showlegend": true,
           "textposition": "auto",
           "type": "bar",
           "x": [
            "ID",
            "IN",
            "SD",
            "SN",
            "WD",
            "WN"
           ],
           "xaxis": "x",
           "y": [
            0,
            0,
            0,
            0,
            0,
            0
           ],
           "yaxis": "y"
          },
          {
           "alignmentgroup": "True",
           "hovertemplate": "TECHNOLOGY=PV_UTL<br>YEAR=2031<br>TIMESLICE=%{x}<br>Values=%{y}<extra></extra>",
           "legendgroup": "PV_UTL",
           "marker": {
            "color": "#FFA15A",
            "pattern": {
             "shape": ""
            }
           },
           "name": "PV_UTL",
           "offsetgroup": "PV_UTL",
           "orientation": "v",
           "showlegend": true,
           "textposition": "auto",
           "type": "bar",
           "x": [
            "ID",
            "IN",
            "SD",
            "SN",
            "WD",
            "WN"
           ],
           "xaxis": "x",
           "y": [
            0,
            0,
            0,
            0,
            0,
            0
           ],
           "yaxis": "y"
          },
          {
           "alignmentgroup": "True",
           "hovertemplate": "TECHNOLOGY=PV_ROF<br>YEAR=2031<br>TIMESLICE=%{x}<br>Values=%{y}<extra></extra>",
           "legendgroup": "PV_ROF",
           "marker": {
            "color": "#19d3f3",
            "pattern": {
             "shape": ""
            }
           },
           "name": "PV_ROF",
           "offsetgroup": "PV_ROF",
           "orientation": "v",
           "showlegend": true,
           "textposition": "auto",
           "type": "bar",
           "x": [
            "ID",
            "IN",
            "SD",
            "SN",
            "WD",
            "WN"
           ],
           "xaxis": "x",
           "y": [
            0,
            0,
            0,
            0,
            0,
            0
           ],
           "yaxis": "y"
          },
          {
           "alignmentgroup": "True",
           "hovertemplate": "TECHNOLOGY=WIND<br>YEAR=2031<br>TIMESLICE=%{x}<br>Values=%{y}<extra></extra>",
           "legendgroup": "WIND",
           "marker": {
            "color": "#FF6692",
            "pattern": {
             "shape": ""
            }
           },
           "name": "WIND",
           "offsetgroup": "WIND",
           "orientation": "v",
           "showlegend": true,
           "textposition": "auto",
           "type": "bar",
           "x": [
            "ID",
            "IN",
            "SD",
            "SN",
            "WD",
            "WN"
           ],
           "xaxis": "x",
           "y": [
            2,
            2,
            2,
            2,
            2,
            2
           ],
           "yaxis": "y"
          },
          {
           "alignmentgroup": "True",
           "hovertemplate": "TECHNOLOGY=NGCC<br>YEAR=2031<br>TIMESLICE=%{x}<br>Values=%{y}<extra></extra>",
           "legendgroup": "NGCC",
           "marker": {
            "color": "#B6E880",
            "pattern": {
             "shape": ""
            }
           },
           "name": "NGCC",
           "offsetgroup": "NGCC",
           "orientation": "v",
           "showlegend": true,
           "textposition": "auto",
           "type": "bar",
           "x": [
            "ID",
            "IN",
            "SD",
            "SN",
            "WD",
            "WN"
           ],
           "xaxis": "x",
           "y": [
            0,
            2.04275044592187,
            0.205786824431298,
            0.716938399341826,
            0,
            0
           ],
           "yaxis": "y"
          },
          {
           "alignmentgroup": "True",
           "hovertemplate": "TECHNOLOGY=NUCLEAR<br>YEAR=2031<br>TIMESLICE=%{x}<br>Values=%{y}<extra></extra>",
           "legendgroup": "NUCLEAR",
           "marker": {
            "color": "#FF97FF",
            "pattern": {
             "shape": ""
            }
           },
           "name": "NUCLEAR",
           "offsetgroup": "NUCLEAR",
           "orientation": "v",
           "showlegend": true,
           "textposition": "auto",
           "type": "bar",
           "x": [
            "ID",
            "IN",
            "SD",
            "SN",
            "WD",
            "WN"
           ],
           "xaxis": "x",
           "y": [
            4.01887620251041,
            4.01887620251041,
            4.01887620251041,
            4.01887620251041,
            1.58199711977683,
            2.77913772479411
           ],
           "yaxis": "y"
          },
          {
           "alignmentgroup": "True",
           "hovertemplate": "TECHNOLOGY=TRANS<br>YEAR=2031<br>TIMESLICE=%{x}<br>Values=%{y}<extra></extra>",
           "legendgroup": "TRANS",
           "marker": {
            "color": "#FECB52",
            "pattern": {
             "shape": ""
            }
           },
           "name": "TRANS",
           "offsetgroup": "TRANS",
           "orientation": "v",
           "showlegend": true,
           "textposition": "auto",
           "type": "bar",
           "x": [
            "ID",
            "IN",
            "SD",
            "SN",
            "WD",
            "WN"
           ],
           "xaxis": "x",
           "y": [
            10.7303638532223,
            12.7731142991442,
            10.3713395300468,
            10.8824911049574,
            8.71604584963094,
            9.48589728818401
           ],
           "yaxis": "y"
          },
          {
           "alignmentgroup": "True",
           "hovertemplate": "TECHNOLOGY=DIST_IND<br>YEAR=2031<br>TIMESLICE=%{x}<br>Values=%{y}<extra></extra>",
           "legendgroup": "DIST_IND",
           "marker": {
            "color": "#636efa",
            "pattern": {
             "shape": ""
            }
           },
           "name": "DIST_IND",
           "offsetgroup": "DIST_IND",
           "orientation": "v",
           "showlegend": true,
           "textposition": "auto",
           "type": "bar",
           "x": [
            "ID",
            "IN",
            "SD",
            "SN",
            "WD",
            "WN"
           ],
           "xaxis": "x",
           "y": [
            3.44148615502199,
            6.8871037460044,
            3.44148615502199,
            6.8871037460044,
            1.7212593520617,
            3.44148615502199
           ],
           "yaxis": "y"
          },
          {
           "alignmentgroup": "True",
           "hovertemplate": "TECHNOLOGY=DIST_TRA<br>YEAR=2031<br>TIMESLICE=%{x}<br>Values=%{y}<extra></extra>",
           "legendgroup": "DIST_TRA",
           "marker": {
            "color": "#EF553B",
            "pattern": {
             "shape": ""
            }
           },
           "name": "DIST_TRA",
           "offsetgroup": "DIST_TRA",
           "orientation": "v",
           "showlegend": true,
           "textposition": "auto",
           "type": "bar",
           "x": [
            "ID",
            "IN",
            "SD",
            "SN",
            "WD",
            "WN"
           ],
           "xaxis": "x",
           "y": [
            0.753879815194523,
            0.235728851275938,
            0.353381163367885,
            0.235728851275938,
            0.412401719702757,
            0.188469953797583
           ],
           "yaxis": "y"
          },
          {
           "alignmentgroup": "True",
           "hovertemplate": "TECHNOLOGY=DIST_RES<br>YEAR=2031<br>TIMESLICE=%{x}<br>Values=%{y}<extra></extra>",
           "legendgroup": "DIST_RES",
           "marker": {
            "color": "#00cc96",
            "pattern": {
             "shape": ""
            }
           },
           "name": "DIST_RES",
           "offsetgroup": "DIST_RES",
           "orientation": "v",
           "showlegend": true,
           "textposition": "auto",
           "type": "bar",
           "x": [
            "ID",
            "IN",
            "SD",
            "SN",
            "WD",
            "WN"
           ],
           "xaxis": "x",
           "y": [
            2.54360041592343,
            3.3935029158456,
            3.17950051990429,
            2.12093932239804,
            4.24060595393975,
            4.23933402653905
           ],
           "yaxis": "y"
          },
          {
           "alignmentgroup": "True",
           "hovertemplate": "TECHNOLOGY=DIST_SER<br>YEAR=2031<br>TIMESLICE=%{x}<br>Values=%{y}<extra></extra>",
           "legendgroup": "DIST_SER",
           "marker": {
            "color": "#ab63fa",
            "pattern": {
             "shape": ""
            }
           },
           "name": "DIST_SER",
           "offsetgroup": "DIST_SER",
           "orientation": "v",
           "showlegend": true,
           "textposition": "auto",
           "type": "bar",
           "x": [
            "ID",
            "IN",
            "SD",
            "SN",
            "WD",
            "WN"
           ],
           "xaxis": "x",
           "y": [
            3.8282959365134,
            2.06262744867126,
            3.23932733089595,
            1.47330532048363,
            2.20929492701234,
            1.47242151404498
           ],
           "yaxis": "y"
          }
         ],
         "name": "2031"
        },
        {
         "data": [
          {
           "alignmentgroup": "True",
           "hovertemplate": "TECHNOLOGY=HF_Imp<br>YEAR=2032<br>TIMESLICE=%{x}<br>Values=%{y}<extra></extra>",
           "legendgroup": "HF_Imp",
           "marker": {
            "color": "#EF553B",
            "pattern": {
             "shape": ""
            }
           },
           "name": "HF_Imp",
           "offsetgroup": "HF_Imp",
           "orientation": "v",
           "showlegend": true,
           "textposition": "auto",
           "type": "bar",
           "x": [
            "ID",
            "IN",
            "SD",
            "SN",
            "WD",
            "WN"
           ],
           "xaxis": "x",
           "y": [
            0,
            0,
            0,
            0,
            0,
            0
           ],
           "yaxis": "y"
          },
          {
           "alignmentgroup": "True",
           "hovertemplate": "TECHNOLOGY=DS_Imp<br>YEAR=2032<br>TIMESLICE=%{x}<br>Values=%{y}<extra></extra>",
           "legendgroup": "DS_Imp",
           "marker": {
            "color": "#00cc96",
            "pattern": {
             "shape": ""
            }
           },
           "name": "DS_Imp",
           "offsetgroup": "DS_Imp",
           "orientation": "v",
           "showlegend": true,
           "textposition": "auto",
           "type": "bar",
           "x": [
            "ID",
            "IN",
            "SD",
            "SN",
            "WD",
            "WN"
           ],
           "xaxis": "x",
           "y": [
            0,
            0,
            0,
            0,
            0,
            0
           ],
           "yaxis": "y"
          },
          {
           "alignmentgroup": "True",
           "hovertemplate": "TECHNOLOGY=NG_Imp<br>YEAR=2032<br>TIMESLICE=%{x}<br>Values=%{y}<extra></extra>",
           "legendgroup": "NG_Imp",
           "marker": {
            "color": "#ab63fa",
            "pattern": {
             "shape": ""
            }
           },
           "name": "NG_Imp",
           "offsetgroup": "NG_Imp",
           "orientation": "v",
           "showlegend": true,
           "textposition": "auto",
           "type": "bar",
           "x": [
            "ID",
            "IN",
            "SD",
            "SN",
            "WD",
            "WN"
           ],
           "xaxis": "x",
           "y": [
            0,
            4.06922425629063,
            0.291125700245643,
            1.33581033599278,
            0,
            0
           ],
           "yaxis": "y"
          },
          {
           "alignmentgroup": "True",
           "hovertemplate": "TECHNOLOGY=CO_Imp<br>YEAR=2032<br>TIMESLICE=%{x}<br>Values=%{y}<extra></extra>",
           "legendgroup": "CO_Imp",
           "marker": {
            "color": "#FFA15A",
            "pattern": {
             "shape": ""
            }
           },
           "name": "CO_Imp",
           "offsetgroup": "CO_Imp",
           "orientation": "v",
           "showlegend": true,
           "textposition": "auto",
           "type": "bar",
           "x": [
            "ID",
            "IN",
            "SD",
            "SN",
            "WD",
            "WN"
           ],
           "xaxis": "x",
           "y": [
            1.97068464,
            1.97068464,
            1.97068464,
            1.97068464,
            1.97068464000001,
            1.06938987417535
           ],
           "yaxis": "y"
          },
          {
           "alignmentgroup": "True",
           "hovertemplate": "TECHNOLOGY=UR_Imp<br>YEAR=2032<br>TIMESLICE=%{x}<br>Values=%{y}<extra></extra>",
           "legendgroup": "UR_Imp",
           "marker": {
            "color": "#19d3f3",
            "pattern": {
             "shape": ""
            }
           },
           "name": "UR_Imp",
           "offsetgroup": "UR_Imp",
           "orientation": "v",
           "showlegend": true,
           "textposition": "auto",
           "type": "bar",
           "x": [
            "ID",
            "IN",
            "SD",
            "SN",
            "WD",
            "WN"
           ],
           "xaxis": "x",
           "y": [
            14.2720223819139,
            14.4429187312517,
            14.4429187312517,
            14.4429187312517,
            4.25607175208385,
            8.32921620179481
           ],
           "yaxis": "y"
          },
          {
           "alignmentgroup": "True",
           "hovertemplate": "TECHNOLOGY=NGSC<br>YEAR=2032<br>TIMESLICE=%{x}<br>Values=%{y}<extra></extra>",
           "legendgroup": "NGSC",
           "marker": {
            "color": "#FF6692",
            "pattern": {
             "shape": ""
            }
           },
           "name": "NGSC",
           "offsetgroup": "NGSC",
           "orientation": "v",
           "showlegend": true,
           "textposition": "auto",
           "type": "bar",
           "x": [
            "ID",
            "IN",
            "SD",
            "SN",
            "WD",
            "WN"
           ],
           "xaxis": "x",
           "y": [
            0,
            0,
            0,
            0,
            0,
            0
           ],
           "yaxis": "y"
          },
          {
           "alignmentgroup": "True",
           "hovertemplate": "TECHNOLOGY=DSGC<br>YEAR=2032<br>TIMESLICE=%{x}<br>Values=%{y}<extra></extra>",
           "legendgroup": "DSGC",
           "marker": {
            "color": "#B6E880",
            "pattern": {
             "shape": ""
            }
           },
           "name": "DSGC",
           "offsetgroup": "DSGC",
           "orientation": "v",
           "showlegend": true,
           "textposition": "auto",
           "type": "bar",
           "x": [
            "ID",
            "IN",
            "SD",
            "SN",
            "WD",
            "WN"
           ],
           "xaxis": "x",
           "y": [
            0,
            0,
            0,
            0,
            0,
            0
           ],
           "yaxis": "y"
          },
          {
           "alignmentgroup": "True",
           "hovertemplate": "TECHNOLOGY=IGCC<br>YEAR=2032<br>TIMESLICE=%{x}<br>Values=%{y}<extra></extra>",
           "legendgroup": "IGCC",
           "marker": {
            "color": "#FF97FF",
            "pattern": {
             "shape": ""
            }
           },
           "name": "IGCC",
           "offsetgroup": "IGCC",
           "orientation": "v",
           "showlegend": true,
           "textposition": "auto",
           "type": "bar",
           "x": [
            "ID",
            "IN",
            "SD",
            "SN",
            "WD",
            "WN"
           ],
           "xaxis": "x",
           "y": [
            0.946080000000002,
            0.94608,
            0.94608,
            0.94608,
            0.946080000000005,
            0.513389281889272
           ],
           "yaxis": "y"
          },
          {
           "alignmentgroup": "True",
           "hovertemplate": "TECHNOLOGY=HFSC<br>YEAR=2032<br>TIMESLICE=%{x}<br>Values=%{y}<extra></extra>",
           "legendgroup": "HFSC",
           "marker": {
            "color": "#FECB52",
            "pattern": {
             "shape": ""
            }
           },
           "name": "HFSC",
           "offsetgroup": "HFSC",
           "orientation": "v",
           "showlegend": true,
           "textposition": "auto",
           "type": "bar",
           "x": [
            "ID",
            "IN",
            "SD",
            "SN",
            "WD",
            "WN"
           ],
           "xaxis": "x",
           "y": [
            0,
            0,
            0,
            0,
            0,
            0
           ],
           "yaxis": "y"
          },
          {
           "alignmentgroup": "True",
           "hovertemplate": "TECHNOLOGY=HYDRO_DAM<br>YEAR=2032<br>TIMESLICE=%{x}<br>Values=%{y}<extra></extra>",
           "legendgroup": "HYDRO_DAM",
           "marker": {
            "color": "#636efa",
            "pattern": {
             "shape": ""
            }
           },
           "name": "HYDRO_DAM",
           "offsetgroup": "HYDRO_DAM",
           "orientation": "v",
           "showlegend": true,
           "textposition": "auto",
           "type": "bar",
           "x": [
            "ID",
            "IN",
            "SD",
            "SN",
            "WD",
            "WN"
           ],
           "xaxis": "x",
           "y": [
            3.76540765071191,
            3.76540765071191,
            3.20059650310513,
            3.20059650310513,
            4.70675956338989,
            4.70675956338989
           ],
           "yaxis": "y"
          },
          {
           "alignmentgroup": "True",
           "hovertemplate": "TECHNOLOGY=HYDRO_MIN<br>YEAR=2032<br>TIMESLICE=%{x}<br>Values=%{y}<extra></extra>",
           "legendgroup": "HYDRO_MIN",
           "marker": {
            "color": "#EF553B",
            "pattern": {
             "shape": ""
            }
           },
           "name": "HYDRO_MIN",
           "offsetgroup": "HYDRO_MIN",
           "orientation": "v",
           "showlegend": true,
           "textposition": "auto",
           "type": "bar",
           "x": [
            "ID",
            "IN",
            "SD",
            "SN",
            "WD",
            "WN"
           ],
           "xaxis": "x",
           "y": [
            2.60445141968155e-16,
            2.60445141968155e-16,
            1.58127407623523e-16,
            1.58127407623523e-16,
            2.09286274795839e-16,
            2.09286274795839e-16
           ],
           "yaxis": "y"
          },
          {
           "alignmentgroup": "True",
           "hovertemplate": "TECHNOLOGY=DIESEL_GEN<br>YEAR=2032<br>TIMESLICE=%{x}<br>Values=%{y}<extra></extra>",
           "legendgroup": "DIESEL_GEN",
           "marker": {
            "color": "#00cc96",
            "pattern": {
             "shape": ""
            }
           },
           "name": "DIESEL_GEN",
           "offsetgroup": "DIESEL_GEN",
           "orientation": "v",
           "showlegend": true,
           "textposition": "auto",
           "type": "bar",
           "x": [
            "ID",
            "IN",
            "SD",
            "SN",
            "WD",
            "WN"
           ],
           "xaxis": "x",
           "y": [
            0,
            0,
            0,
            0,
            0,
            0
           ],
           "yaxis": "y"
          },
          {
           "alignmentgroup": "True",
           "hovertemplate": "TECHNOLOGY=CSP<br>YEAR=2032<br>TIMESLICE=%{x}<br>Values=%{y}<extra></extra>",
           "legendgroup": "CSP",
           "marker": {
            "color": "#ab63fa",
            "pattern": {
             "shape": ""
            }
           },
           "name": "CSP",
           "offsetgroup": "CSP",
           "orientation": "v",
           "showlegend": true,
           "textposition": "auto",
           "type": "bar",
           "x": [
            "ID",
            "IN",
            "SD",
            "SN",
            "WD",
            "WN"
           ],
           "xaxis": "x",
           "y": [
            0,
            0,
            0,
            0,
            0,
            0
           ],
           "yaxis": "y"
          },
          {
           "alignmentgroup": "True",
           "hovertemplate": "TECHNOLOGY=PV_UTL<br>YEAR=2032<br>TIMESLICE=%{x}<br>Values=%{y}<extra></extra>",
           "legendgroup": "PV_UTL",
           "marker": {
            "color": "#FFA15A",
            "pattern": {
             "shape": ""
            }
           },
           "name": "PV_UTL",
           "offsetgroup": "PV_UTL",
           "orientation": "v",
           "showlegend": true,
           "textposition": "auto",
           "type": "bar",
           "x": [
            "ID",
            "IN",
            "SD",
            "SN",
            "WD",
            "WN"
           ],
           "xaxis": "x",
           "y": [
            0,
            0,
            0,
            0,
            0,
            0
           ],
           "yaxis": "y"
          },
          {
           "alignmentgroup": "True",
           "hovertemplate": "TECHNOLOGY=PV_ROF<br>YEAR=2032<br>TIMESLICE=%{x}<br>Values=%{y}<extra></extra>",
           "legendgroup": "PV_ROF",
           "marker": {
            "color": "#19d3f3",
            "pattern": {
             "shape": ""
            }
           },
           "name": "PV_ROF",
           "offsetgroup": "PV_ROF",
           "orientation": "v",
           "showlegend": true,
           "textposition": "auto",
           "type": "bar",
           "x": [
            "ID",
            "IN",
            "SD",
            "SN",
            "WD",
            "WN"
           ],
           "xaxis": "x",
           "y": [
            0,
            0,
            0,
            0,
            0,
            0
           ],
           "yaxis": "y"
          },
          {
           "alignmentgroup": "True",
           "hovertemplate": "TECHNOLOGY=WIND<br>YEAR=2032<br>TIMESLICE=%{x}<br>Values=%{y}<extra></extra>",
           "legendgroup": "WIND",
           "marker": {
            "color": "#FF6692",
            "pattern": {
             "shape": ""
            }
           },
           "name": "WIND",
           "offsetgroup": "WIND",
           "orientation": "v",
           "showlegend": true,
           "textposition": "auto",
           "type": "bar",
           "x": [
            "ID",
            "IN",
            "SD",
            "SN",
            "WD",
            "WN"
           ],
           "xaxis": "x",
           "y": [
            2,
            2,
            2,
            2,
            2,
            2
           ],
           "yaxis": "y"
          },
          {
           "alignmentgroup": "True",
           "hovertemplate": "TECHNOLOGY=NGCC<br>YEAR=2032<br>TIMESLICE=%{x}<br>Values=%{y}<extra></extra>",
           "legendgroup": "NGCC",
           "marker": {
            "color": "#B6E880",
            "pattern": {
             "shape": ""
            }
           },
           "name": "NGCC",
           "offsetgroup": "NGCC",
           "orientation": "v",
           "showlegend": true,
           "textposition": "auto",
           "type": "bar",
           "x": [
            "ID",
            "IN",
            "SD",
            "SN",
            "WD",
            "WN"
           ],
           "xaxis": "x",
           "y": [
            0,
            2.04275044592187,
            0.146145092170027,
            0.670576745751463,
            0,
            0
           ],
           "yaxis": "y"
          },
          {
           "alignmentgroup": "True",
           "hovertemplate": "TECHNOLOGY=NUCLEAR<br>YEAR=2032<br>TIMESLICE=%{x}<br>Values=%{y}<extra></extra>",
           "legendgroup": "NUCLEAR",
           "marker": {
            "color": "#FF97FF",
            "pattern": {
             "shape": ""
            }
           },
           "name": "NUCLEAR",
           "offsetgroup": "NUCLEAR",
           "orientation": "v",
           "showlegend": true,
           "textposition": "auto",
           "type": "bar",
           "x": [
            "ID",
            "IN",
            "SD",
            "SN",
            "WD",
            "WN"
           ],
           "xaxis": "x",
           "y": [
            4.28160671457417,
            4.33287561937553,
            4.33287561937553,
            4.33287561937553,
            1.27682152562516,
            2.49876486053845
           ],
           "yaxis": "y"
          },
          {
           "alignmentgroup": "True",
           "hovertemplate": "TECHNOLOGY=TRANS<br>YEAR=2032<br>TIMESLICE=%{x}<br>Values=%{y}<extra></extra>",
           "legendgroup": "TRANS",
           "marker": {
            "color": "#FECB52",
            "pattern": {
             "shape": ""
            }
           },
           "name": "TRANS",
           "offsetgroup": "TRANS",
           "orientation": "v",
           "showlegend": true,
           "textposition": "auto",
           "type": "bar",
           "x": [
            "ID",
            "IN",
            "SD",
            "SN",
            "WD",
            "WN"
           ],
           "xaxis": "x",
           "y": [
            10.9930943652861,
            13.0871137160093,
            10.6256972146507,
            11.1501288682321,
            8.92966108901506,
            9.71891370581761
           ],
           "yaxis": "y"
          },
          {
           "alignmentgroup": "True",
           "hovertemplate": "TECHNOLOGY=DIST_IND<br>YEAR=2032<br>TIMESLICE=%{x}<br>Values=%{y}<extra></extra>",
           "legendgroup": "DIST_IND",
           "marker": {
            "color": "#636efa",
            "pattern": {
             "shape": ""
            }
           },
           "name": "DIST_IND",
           "offsetgroup": "DIST_IND",
           "orientation": "v",
           "showlegend": true,
           "textposition": "auto",
           "type": "bar",
           "x": [
            "ID",
            "IN",
            "SD",
            "SN",
            "WD",
            "WN"
           ],
           "xaxis": "x",
           "y": [
            3.52638442960437,
            7.05700221386612,
            3.52638442960437,
            7.05700221386612,
            1.76372122536768,
            3.52638442960437
           ],
           "yaxis": "y"
          },
          {
           "alignmentgroup": "True",
           "hovertemplate": "TECHNOLOGY=DIST_TRA<br>YEAR=2032<br>TIMESLICE=%{x}<br>Values=%{y}<extra></extra>",
           "legendgroup": "DIST_TRA",
           "marker": {
            "color": "#EF553B",
            "pattern": {
             "shape": ""
            }
           },
           "name": "DIST_TRA",
           "offsetgroup": "DIST_TRA",
           "orientation": "v",
           "showlegend": true,
           "textposition": "auto",
           "type": "bar",
           "x": [
            "ID",
            "IN",
            "SD",
            "SN",
            "WD",
            "WN"
           ],
           "xaxis": "x",
           "y": [
            0.771734863446909,
            0.241311903016684,
            0.361750717231189,
            0.241311903016684,
            0.422169128840324,
            0.19293371586121
           ],
           "yaxis": "y"
          },
          {
           "alignmentgroup": "True",
           "hovertemplate": "TECHNOLOGY=DIST_RES<br>YEAR=2032<br>TIMESLICE=%{x}<br>Values=%{y}<extra></extra>",
           "legendgroup": "DIST_RES",
           "marker": {
            "color": "#00cc96",
            "pattern": {
             "shape": ""
            }
           },
           "name": "DIST_RES",
           "offsetgroup": "DIST_RES",
           "orientation": "v",
           "showlegend": true,
           "textposition": "auto",
           "type": "bar",
           "x": [
            "ID",
            "IN",
            "SD",
            "SN",
            "WD",
            "WN"
           ],
           "xaxis": "x",
           "y": [
            2.60609308481421,
            3.47687648849387,
            3.25761635601776,
            2.17304780530685,
            4.34479165155044,
            4.34348847469035
           ],
           "yaxis": "y"
          },
          {
           "alignmentgroup": "True",
           "hovertemplate": "TECHNOLOGY=DIST_SER<br>YEAR=2032<br>TIMESLICE=%{x}<br>Values=%{y}<extra></extra>",
           "legendgroup": "DIST_SER",
           "marker": {
            "color": "#ab63fa",
            "pattern": {
             "shape": ""
            }
           },
           "name": "DIST_SER",
           "offsetgroup": "DIST_SER",
           "orientation": "v",
           "showlegend": true,
           "textposition": "auto",
           "type": "bar",
           "x": [
            "ID",
            "IN",
            "SD",
            "SN",
            "WD",
            "WN"
           ],
           "xaxis": "x",
           "y": [
            3.92178695306825,
            2.11299898214929,
            3.31843511413468,
            1.50928498724534,
            2.26324823470359,
            1.50837959733326
           ],
           "yaxis": "y"
          }
         ],
         "name": "2032"
        },
        {
         "data": [
          {
           "alignmentgroup": "True",
           "hovertemplate": "TECHNOLOGY=HF_Imp<br>YEAR=2033<br>TIMESLICE=%{x}<br>Values=%{y}<extra></extra>",
           "legendgroup": "HF_Imp",
           "marker": {
            "color": "#EF553B",
            "pattern": {
             "shape": ""
            }
           },
           "name": "HF_Imp",
           "offsetgroup": "HF_Imp",
           "orientation": "v",
           "showlegend": true,
           "textposition": "auto",
           "type": "bar",
           "x": [
            "ID",
            "IN",
            "SD",
            "SN",
            "WD",
            "WN"
           ],
           "xaxis": "x",
           "y": [
            0,
            0,
            0,
            0,
            0,
            0
           ],
           "yaxis": "y"
          },
          {
           "alignmentgroup": "True",
           "hovertemplate": "TECHNOLOGY=DS_Imp<br>YEAR=2033<br>TIMESLICE=%{x}<br>Values=%{y}<extra></extra>",
           "legendgroup": "DS_Imp",
           "marker": {
            "color": "#00cc96",
            "pattern": {
             "shape": ""
            }
           },
           "name": "DS_Imp",
           "offsetgroup": "DS_Imp",
           "orientation": "v",
           "showlegend": true,
           "textposition": "auto",
           "type": "bar",
           "x": [
            "ID",
            "IN",
            "SD",
            "SN",
            "WD",
            "WN"
           ],
           "xaxis": "x",
           "y": [
            0,
            0,
            0,
            0,
            0,
            0
           ],
           "yaxis": "y"
          },
          {
           "alignmentgroup": "True",
           "hovertemplate": "TECHNOLOGY=NG_Imp<br>YEAR=2033<br>TIMESLICE=%{x}<br>Values=%{y}<extra></extra>",
           "legendgroup": "NG_Imp",
           "marker": {
            "color": "#ab63fa",
            "pattern": {
             "shape": ""
            }
           },
           "name": "NG_Imp",
           "offsetgroup": "NG_Imp",
           "orientation": "v",
           "showlegend": true,
           "textposition": "auto",
           "type": "bar",
           "x": [
            "ID",
            "IN",
            "SD",
            "SN",
            "WD",
            "WN"
           ],
           "xaxis": "x",
           "y": [
            0,
            4.27232331200304,
            0.416601275883849,
            1.48645410106717,
            0,
            0
           ],
           "yaxis": "y"
          },
          {
           "alignmentgroup": "True",
           "hovertemplate": "TECHNOLOGY=CO_Imp<br>YEAR=2033<br>TIMESLICE=%{x}<br>Values=%{y}<extra></extra>",
           "legendgroup": "CO_Imp",
           "marker": {
            "color": "#FFA15A",
            "pattern": {
             "shape": ""
            }
           },
           "name": "CO_Imp",
           "offsetgroup": "CO_Imp",
           "orientation": "v",
           "showlegend": true,
           "textposition": "auto",
           "type": "bar",
           "x": [
            "ID",
            "IN",
            "SD",
            "SN",
            "WD",
            "WN"
           ],
           "xaxis": "x",
           "y": [
            1.97068464,
            1.97068464,
            1.97068464,
            1.97068464,
            1.97068464,
            1.97068464
           ],
           "yaxis": "y"
          },
          {
           "alignmentgroup": "True",
           "hovertemplate": "TECHNOLOGY=UR_Imp<br>YEAR=2033<br>TIMESLICE=%{x}<br>Values=%{y}<extra></extra>",
           "legendgroup": "UR_Imp",
           "marker": {
            "color": "#19d3f3",
            "pattern": {
             "shape": ""
            }
           },
           "name": "UR_Imp",
           "offsetgroup": "UR_Imp",
           "orientation": "v",
           "showlegend": true,
           "textposition": "auto",
           "type": "bar",
           "x": [
            "ID",
            "IN",
            "SD",
            "SN",
            "WD",
            "WN"
           ],
           "xaxis": "x",
           "y": [
            14.7010144549714,
            14.7010144549714,
            14.7010144549714,
            14.7010144549714,
            4.40073359349116,
            7.09495060470105
           ],
           "yaxis": "y"
          },
          {
           "alignmentgroup": "True",
           "hovertemplate": "TECHNOLOGY=NGSC<br>YEAR=2033<br>TIMESLICE=%{x}<br>Values=%{y}<extra></extra>",
           "legendgroup": "NGSC",
           "marker": {
            "color": "#FF6692",
            "pattern": {
             "shape": ""
            }
           },
           "name": "NGSC",
           "offsetgroup": "NGSC",
           "orientation": "v",
           "showlegend": true,
           "textposition": "auto",
           "type": "bar",
           "x": [
            "ID",
            "IN",
            "SD",
            "SN",
            "WD",
            "WN"
           ],
           "xaxis": "x",
           "y": [
            0,
            0,
            0,
            0,
            0,
            0
           ],
           "yaxis": "y"
          },
          {
           "alignmentgroup": "True",
           "hovertemplate": "TECHNOLOGY=DSGC<br>YEAR=2033<br>TIMESLICE=%{x}<br>Values=%{y}<extra></extra>",
           "legendgroup": "DSGC",
           "marker": {
            "color": "#B6E880",
            "pattern": {
             "shape": ""
            }
           },
           "name": "DSGC",
           "offsetgroup": "DSGC",
           "orientation": "v",
           "showlegend": true,
           "textposition": "auto",
           "type": "bar",
           "x": [
            "ID",
            "IN",
            "SD",
            "SN",
            "WD",
            "WN"
           ],
           "xaxis": "x",
           "y": [
            0,
            0,
            0,
            0,
            0,
            0
           ],
           "yaxis": "y"
          },
          {
           "alignmentgroup": "True",
           "hovertemplate": "TECHNOLOGY=IGCC<br>YEAR=2033<br>TIMESLICE=%{x}<br>Values=%{y}<extra></extra>",
           "legendgroup": "IGCC",
           "marker": {
            "color": "#FF97FF",
            "pattern": {
             "shape": ""
            }
           },
           "name": "IGCC",
           "offsetgroup": "IGCC",
           "orientation": "v",
           "showlegend": true,
           "textposition": "auto",
           "type": "bar",
           "x": [
            "ID",
            "IN",
            "SD",
            "SN",
            "WD",
            "WN"
           ],
           "xaxis": "x",
           "y": [
            0.94608,
            0.94608,
            0.94608,
            0.94608,
            0.94608,
            0.94608
           ],
           "yaxis": "y"
          },
          {
           "alignmentgroup": "True",
           "hovertemplate": "TECHNOLOGY=HFSC<br>YEAR=2033<br>TIMESLICE=%{x}<br>Values=%{y}<extra></extra>",
           "legendgroup": "HFSC",
           "marker": {
            "color": "#FECB52",
            "pattern": {
             "shape": ""
            }
           },
           "name": "HFSC",
           "offsetgroup": "HFSC",
           "orientation": "v",
           "showlegend": true,
           "textposition": "auto",
           "type": "bar",
           "x": [
            "ID",
            "IN",
            "SD",
            "SN",
            "WD",
            "WN"
           ],
           "xaxis": "x",
           "y": [
            0,
            0,
            0,
            0,
            0,
            0
           ],
           "yaxis": "y"
          },
          {
           "alignmentgroup": "True",
           "hovertemplate": "TECHNOLOGY=HYDRO_DAM<br>YEAR=2033<br>TIMESLICE=%{x}<br>Values=%{y}<extra></extra>",
           "legendgroup": "HYDRO_DAM",
           "marker": {
            "color": "#636efa",
            "pattern": {
             "shape": ""
            }
           },
           "name": "HYDRO_DAM",
           "offsetgroup": "HYDRO_DAM",
           "orientation": "v",
           "showlegend": true,
           "textposition": "auto",
           "type": "bar",
           "x": [
            "ID",
            "IN",
            "SD",
            "SN",
            "WD",
            "WN"
           ],
           "xaxis": "x",
           "y": [
            3.90565406016927,
            3.90565406016927,
            3.31980595114388,
            3.31980595114388,
            4.88206757521158,
            4.88206757521158
           ],
           "yaxis": "y"
          },
          {
           "alignmentgroup": "True",
           "hovertemplate": "TECHNOLOGY=HYDRO_MIN<br>YEAR=2033<br>TIMESLICE=%{x}<br>Values=%{y}<extra></extra>",
           "legendgroup": "HYDRO_MIN",
           "marker": {
            "color": "#EF553B",
            "pattern": {
             "shape": ""
            }
           },
           "name": "HYDRO_MIN",
           "offsetgroup": "HYDRO_MIN",
           "orientation": "v",
           "showlegend": true,
           "textposition": "auto",
           "type": "bar",
           "x": [
            "ID",
            "IN",
            "SD",
            "SN",
            "WD",
            "WN"
           ],
           "xaxis": "x",
           "y": [
            0,
            0,
            1.17645028038872e-15,
            1.58127407623523e-16,
            0,
            0
           ],
           "yaxis": "y"
          },
          {
           "alignmentgroup": "True",
           "hovertemplate": "TECHNOLOGY=DIESEL_GEN<br>YEAR=2033<br>TIMESLICE=%{x}<br>Values=%{y}<extra></extra>",
           "legendgroup": "DIESEL_GEN",
           "marker": {
            "color": "#00cc96",
            "pattern": {
             "shape": ""
            }
           },
           "name": "DIESEL_GEN",
           "offsetgroup": "DIESEL_GEN",
           "orientation": "v",
           "showlegend": true,
           "textposition": "auto",
           "type": "bar",
           "x": [
            "ID",
            "IN",
            "SD",
            "SN",
            "WD",
            "WN"
           ],
           "xaxis": "x",
           "y": [
            0,
            0,
            0,
            0,
            0,
            0
           ],
           "yaxis": "y"
          },
          {
           "alignmentgroup": "True",
           "hovertemplate": "TECHNOLOGY=CSP<br>YEAR=2033<br>TIMESLICE=%{x}<br>Values=%{y}<extra></extra>",
           "legendgroup": "CSP",
           "marker": {
            "color": "#ab63fa",
            "pattern": {
             "shape": ""
            }
           },
           "name": "CSP",
           "offsetgroup": "CSP",
           "orientation": "v",
           "showlegend": true,
           "textposition": "auto",
           "type": "bar",
           "x": [
            "ID",
            "IN",
            "SD",
            "SN",
            "WD",
            "WN"
           ],
           "xaxis": "x",
           "y": [
            0,
            0,
            0,
            0,
            0,
            0
           ],
           "yaxis": "y"
          },
          {
           "alignmentgroup": "True",
           "hovertemplate": "TECHNOLOGY=PV_UTL<br>YEAR=2033<br>TIMESLICE=%{x}<br>Values=%{y}<extra></extra>",
           "legendgroup": "PV_UTL",
           "marker": {
            "color": "#FFA15A",
            "pattern": {
             "shape": ""
            }
           },
           "name": "PV_UTL",
           "offsetgroup": "PV_UTL",
           "orientation": "v",
           "showlegend": true,
           "textposition": "auto",
           "type": "bar",
           "x": [
            "ID",
            "IN",
            "SD",
            "SN",
            "WD",
            "WN"
           ],
           "xaxis": "x",
           "y": [
            0,
            0,
            0,
            0,
            0,
            0
           ],
           "yaxis": "y"
          },
          {
           "alignmentgroup": "True",
           "hovertemplate": "TECHNOLOGY=PV_ROF<br>YEAR=2033<br>TIMESLICE=%{x}<br>Values=%{y}<extra></extra>",
           "legendgroup": "PV_ROF",
           "marker": {
            "color": "#19d3f3",
            "pattern": {
             "shape": ""
            }
           },
           "name": "PV_ROF",
           "offsetgroup": "PV_ROF",
           "orientation": "v",
           "showlegend": true,
           "textposition": "auto",
           "type": "bar",
           "x": [
            "ID",
            "IN",
            "SD",
            "SN",
            "WD",
            "WN"
           ],
           "xaxis": "x",
           "y": [
            0,
            0,
            0,
            0,
            0,
            0
           ],
           "yaxis": "y"
          },
          {
           "alignmentgroup": "True",
           "hovertemplate": "TECHNOLOGY=WIND<br>YEAR=2033<br>TIMESLICE=%{x}<br>Values=%{y}<extra></extra>",
           "legendgroup": "WIND",
           "marker": {
            "color": "#FF6692",
            "pattern": {
             "shape": ""
            }
           },
           "name": "WIND",
           "offsetgroup": "WIND",
           "orientation": "v",
           "showlegend": true,
           "textposition": "auto",
           "type": "bar",
           "x": [
            "ID",
            "IN",
            "SD",
            "SN",
            "WD",
            "WN"
           ],
           "xaxis": "x",
           "y": [
            2,
            2,
            2,
            2,
            2,
            2
           ],
           "yaxis": "y"
          },
          {
           "alignmentgroup": "True",
           "hovertemplate": "TECHNOLOGY=NGCC<br>YEAR=2033<br>TIMESLICE=%{x}<br>Values=%{y}<extra></extra>",
           "legendgroup": "NGCC",
           "marker": {
            "color": "#B6E880",
            "pattern": {
             "shape": ""
            }
           },
           "name": "NGCC",
           "offsetgroup": "NGCC",
           "orientation": "v",
           "showlegend": true,
           "textposition": "auto",
           "type": "bar",
           "x": [
            "ID",
            "IN",
            "SD",
            "SN",
            "WD",
            "WN"
           ],
           "xaxis": "x",
           "y": [
            0,
            2.14470616536433,
            0.209133827109127,
            0.746199910978927,
            0,
            0
           ],
           "yaxis": "y"
          },
          {
           "alignmentgroup": "True",
           "hovertemplate": "TECHNOLOGY=NUCLEAR<br>YEAR=2033<br>TIMESLICE=%{x}<br>Values=%{y}<extra></extra>",
           "legendgroup": "NUCLEAR",
           "marker": {
            "color": "#FF97FF",
            "pattern": {
             "shape": ""
            }
           },
           "name": "NUCLEAR",
           "offsetgroup": "NUCLEAR",
           "orientation": "v",
           "showlegend": true,
           "textposition": "auto",
           "type": "bar",
           "x": [
            "ID",
            "IN",
            "SD",
            "SN",
            "WD",
            "WN"
           ],
           "xaxis": "x",
           "y": [
            4.41030433649144,
            4.41030433649144,
            4.41030433649144,
            4.41030433649144,
            1.32022007804735,
            2.12848518141032
           ],
           "yaxis": "y"
          },
          {
           "alignmentgroup": "True",
           "hovertemplate": "TECHNOLOGY=TRANS<br>YEAR=2033<br>TIMESLICE=%{x}<br>Values=%{y}<extra></extra>",
           "legendgroup": "TRANS",
           "marker": {
            "color": "#FECB52",
            "pattern": {
             "shape": ""
            }
           },
           "name": "TRANS",
           "offsetgroup": "TRANS",
           "orientation": "v",
           "showlegend": true,
           "textposition": "auto",
           "type": "bar",
           "x": [
            "ID",
            "IN",
            "SD",
            "SN",
            "WD",
            "WN"
           ],
           "xaxis": "x",
           "y": [
            11.2620383966607,
            13.406744562025,
            10.8853241147444,
            11.4223901986142,
            9.14836765325893,
            9.9566327566219
           ],
           "yaxis": "y"
          },
          {
           "alignmentgroup": "True",
           "hovertemplate": "TECHNOLOGY=DIST_IND<br>YEAR=2033<br>TIMESLICE=%{x}<br>Values=%{y}<extra></extra>",
           "legendgroup": "DIST_IND",
           "marker": {
            "color": "#636efa",
            "pattern": {
             "shape": ""
            }
           },
           "name": "DIST_IND",
           "offsetgroup": "DIST_IND",
           "orientation": "v",
           "showlegend": true,
           "textposition": "auto",
           "type": "bar",
           "x": [
            "ID",
            "IN",
            "SD",
            "SN",
            "WD",
            "WN"
           ],
           "xaxis": "x",
           "y": [
            3.61231804899872,
            7.22897261426274,
            3.61231804899872,
            7.22897261426274,
            1.8067009263969,
            3.61231804899872
           ],
           "yaxis": "y"
          },
          {
           "alignmentgroup": "True",
           "hovertemplate": "TECHNOLOGY=DIST_TRA<br>YEAR=2033<br>TIMESLICE=%{x}<br>Values=%{y}<extra></extra>",
           "legendgroup": "DIST_TRA",
           "marker": {
            "color": "#EF553B",
            "pattern": {
             "shape": ""
            }
           },
           "name": "DIST_TRA",
           "offsetgroup": "DIST_TRA",
           "orientation": "v",
           "showlegend": true,
           "textposition": "auto",
           "type": "bar",
           "x": [
            "ID",
            "IN",
            "SD",
            "SN",
            "WD",
            "WN"
           ],
           "xaxis": "x",
           "y": [
            0.791573805938242,
            0.247515293839735,
            0.371050221539917,
            0.247515293839735,
            0.433021805685712,
            0.197893451487462
           ],
           "yaxis": "y"
          },
          {
           "alignmentgroup": "True",
           "hovertemplate": "TECHNOLOGY=DIST_RES<br>YEAR=2033<br>TIMESLICE=%{x}<br>Values=%{y}<extra></extra>",
           "legendgroup": "DIST_RES",
           "marker": {
            "color": "#00cc96",
            "pattern": {
             "shape": ""
            }
           },
           "name": "DIST_RES",
           "offsetgroup": "DIST_RES",
           "orientation": "v",
           "showlegend": true,
           "textposition": "auto",
           "type": "bar",
           "x": [
            "ID",
            "IN",
            "SD",
            "SN",
            "WD",
            "WN"
           ],
           "xaxis": "x",
           "y": [
            2.67007367439286,
            3.56223514622252,
            3.33759209299108,
            2.22639696639089,
            4.451457961009,
            4.45012279065477
           ],
           "yaxis": "y"
          },
          {
           "alignmentgroup": "True",
           "hovertemplate": "TECHNOLOGY=DIST_SER<br>YEAR=2033<br>TIMESLICE=%{x}<br>Values=%{y}<extra></extra>",
           "legendgroup": "DIST_SER",
           "marker": {
            "color": "#ab63fa",
            "pattern": {
             "shape": ""
            }
           },
           "name": "DIST_SER",
           "offsetgroup": "DIST_SER",
           "orientation": "v",
           "showlegend": true,
           "textposition": "auto",
           "type": "bar",
           "x": [
            "ID",
            "IN",
            "SD",
            "SN",
            "WD",
            "WN"
           ],
           "xaxis": "x",
           "y": [
            4.01688988370164,
            2.16423899035726,
            3.39890682467062,
            1.54588499310194,
            2.31813177183779,
            1.5449576475803
           ],
           "yaxis": "y"
          }
         ],
         "name": "2033"
        },
        {
         "data": [
          {
           "alignmentgroup": "True",
           "hovertemplate": "TECHNOLOGY=HF_Imp<br>YEAR=2034<br>TIMESLICE=%{x}<br>Values=%{y}<extra></extra>",
           "legendgroup": "HF_Imp",
           "marker": {
            "color": "#EF553B",
            "pattern": {
             "shape": ""
            }
           },
           "name": "HF_Imp",
           "offsetgroup": "HF_Imp",
           "orientation": "v",
           "showlegend": true,
           "textposition": "auto",
           "type": "bar",
           "x": [
            "ID",
            "IN",
            "SD",
            "SN",
            "WD",
            "WN"
           ],
           "xaxis": "x",
           "y": [
            0,
            0,
            0,
            0,
            0,
            0
           ],
           "yaxis": "y"
          },
          {
           "alignmentgroup": "True",
           "hovertemplate": "TECHNOLOGY=DS_Imp<br>YEAR=2034<br>TIMESLICE=%{x}<br>Values=%{y}<extra></extra>",
           "legendgroup": "DS_Imp",
           "marker": {
            "color": "#00cc96",
            "pattern": {
             "shape": ""
            }
           },
           "name": "DS_Imp",
           "offsetgroup": "DS_Imp",
           "orientation": "v",
           "showlegend": true,
           "textposition": "auto",
           "type": "bar",
           "x": [
            "ID",
            "IN",
            "SD",
            "SN",
            "WD",
            "WN"
           ],
           "xaxis": "x",
           "y": [
            0,
            0,
            0,
            0,
            0,
            0
           ],
           "yaxis": "y"
          },
          {
           "alignmentgroup": "True",
           "hovertemplate": "TECHNOLOGY=NG_Imp<br>YEAR=2034<br>TIMESLICE=%{x}<br>Values=%{y}<extra></extra>",
           "legendgroup": "NG_Imp",
           "marker": {
            "color": "#ab63fa",
            "pattern": {
             "shape": ""
            }
           },
           "name": "NG_Imp",
           "offsetgroup": "NG_Imp",
           "orientation": "v",
           "showlegend": true,
           "textposition": "auto",
           "type": "bar",
           "x": [
            "ID",
            "IN",
            "SD",
            "SN",
            "WD",
            "WN"
           ],
           "xaxis": "x",
           "y": [
            0,
            4.37714703908823,
            0.466092338548475,
            1.56170602618788,
            0,
            0
           ],
           "yaxis": "y"
          },
          {
           "alignmentgroup": "True",
           "hovertemplate": "TECHNOLOGY=CO_Imp<br>YEAR=2034<br>TIMESLICE=%{x}<br>Values=%{y}<extra></extra>",
           "legendgroup": "CO_Imp",
           "marker": {
            "color": "#FFA15A",
            "pattern": {
             "shape": ""
            }
           },
           "name": "CO_Imp",
           "offsetgroup": "CO_Imp",
           "orientation": "v",
           "showlegend": true,
           "textposition": "auto",
           "type": "bar",
           "x": [
            "ID",
            "IN",
            "SD",
            "SN",
            "WD",
            "WN"
           ],
           "xaxis": "x",
           "y": [
            1.97068464,
            1.97068464,
            1.97068464,
            1.97068464,
            1.97068464,
            1.97068464
           ],
           "yaxis": "y"
          },
          {
           "alignmentgroup": "True",
           "hovertemplate": "TECHNOLOGY=UR_Imp<br>YEAR=2034<br>TIMESLICE=%{x}<br>Values=%{y}<extra></extra>",
           "legendgroup": "UR_Imp",
           "marker": {
            "color": "#19d3f3",
            "pattern": {
             "shape": ""
            }
           },
           "name": "UR_Imp",
           "offsetgroup": "UR_Imp",
           "orientation": "v",
           "showlegend": true,
           "textposition": "auto",
           "type": "bar",
           "x": [
            "ID",
            "IN",
            "SD",
            "SN",
            "WD",
            "WN"
           ],
           "xaxis": "x",
           "y": [
            14.8654939204415,
            14.8654939204415,
            14.8654939204415,
            14.8654939204415,
            4.21422644345109,
            6.97451329440312
           ],
           "yaxis": "y"
          },
          {
           "alignmentgroup": "True",
           "hovertemplate": "TECHNOLOGY=NGSC<br>YEAR=2034<br>TIMESLICE=%{x}<br>Values=%{y}<extra></extra>",
           "legendgroup": "NGSC",
           "marker": {
            "color": "#FF6692",
            "pattern": {
             "shape": ""
            }
           },
           "name": "NGSC",
           "offsetgroup": "NGSC",
           "orientation": "v",
           "showlegend": true,
           "textposition": "auto",
           "type": "bar",
           "x": [
            "ID",
            "IN",
            "SD",
            "SN",
            "WD",
            "WN"
           ],
           "xaxis": "x",
           "y": [
            0,
            0,
            0,
            0,
            0,
            0
           ],
           "yaxis": "y"
          },
          {
           "alignmentgroup": "True",
           "hovertemplate": "TECHNOLOGY=DSGC<br>YEAR=2034<br>TIMESLICE=%{x}<br>Values=%{y}<extra></extra>",
           "legendgroup": "DSGC",
           "marker": {
            "color": "#B6E880",
            "pattern": {
             "shape": ""
            }
           },
           "name": "DSGC",
           "offsetgroup": "DSGC",
           "orientation": "v",
           "showlegend": true,
           "textposition": "auto",
           "type": "bar",
           "x": [
            "ID",
            "IN",
            "SD",
            "SN",
            "WD",
            "WN"
           ],
           "xaxis": "x",
           "y": [
            0,
            0,
            0,
            0,
            0,
            0
           ],
           "yaxis": "y"
          },
          {
           "alignmentgroup": "True",
           "hovertemplate": "TECHNOLOGY=IGCC<br>YEAR=2034<br>TIMESLICE=%{x}<br>Values=%{y}<extra></extra>",
           "legendgroup": "IGCC",
           "marker": {
            "color": "#FF97FF",
            "pattern": {
             "shape": ""
            }
           },
           "name": "IGCC",
           "offsetgroup": "IGCC",
           "orientation": "v",
           "showlegend": true,
           "textposition": "auto",
           "type": "bar",
           "x": [
            "ID",
            "IN",
            "SD",
            "SN",
            "WD",
            "WN"
           ],
           "xaxis": "x",
           "y": [
            0.94608,
            0.94608,
            0.94608,
            0.94608,
            0.94608,
            0.94608
           ],
           "yaxis": "y"
          },
          {
           "alignmentgroup": "True",
           "hovertemplate": "TECHNOLOGY=HFSC<br>YEAR=2034<br>TIMESLICE=%{x}<br>Values=%{y}<extra></extra>",
           "legendgroup": "HFSC",
           "marker": {
            "color": "#FECB52",
            "pattern": {
             "shape": ""
            }
           },
           "name": "HFSC",
           "offsetgroup": "HFSC",
           "orientation": "v",
           "showlegend": true,
           "textposition": "auto",
           "type": "bar",
           "x": [
            "ID",
            "IN",
            "SD",
            "SN",
            "WD",
            "WN"
           ],
           "xaxis": "x",
           "y": [
            0,
            0,
            0,
            0,
            0,
            0
           ],
           "yaxis": "y"
          },
          {
           "alignmentgroup": "True",
           "hovertemplate": "TECHNOLOGY=HYDRO_DAM<br>YEAR=2034<br>TIMESLICE=%{x}<br>Values=%{y}<extra></extra>",
           "legendgroup": "HYDRO_DAM",
           "marker": {
            "color": "#636efa",
            "pattern": {
             "shape": ""
            }
           },
           "name": "HYDRO_DAM",
           "offsetgroup": "HYDRO_DAM",
           "orientation": "v",
           "showlegend": true,
           "textposition": "auto",
           "type": "bar",
           "x": [
            "ID",
            "IN",
            "SD",
            "SN",
            "WD",
            "WN"
           ],
           "xaxis": "x",
           "y": [
            4.12668329841998,
            4.12668329841998,
            3.50768080365698,
            3.50768080365698,
            5.15835412302497,
            5.15835412302497
           ],
           "yaxis": "y"
          },
          {
           "alignmentgroup": "True",
           "hovertemplate": "TECHNOLOGY=HYDRO_MIN<br>YEAR=2034<br>TIMESLICE=%{x}<br>Values=%{y}<extra></extra>",
           "legendgroup": "HYDRO_MIN",
           "marker": {
            "color": "#EF553B",
            "pattern": {
             "shape": ""
            }
           },
           "name": "HYDRO_MIN",
           "offsetgroup": "HYDRO_MIN",
           "orientation": "v",
           "showlegend": true,
           "textposition": "auto",
           "type": "bar",
           "x": [
            "ID",
            "IN",
            "SD",
            "SN",
            "WD",
            "WN"
           ],
           "xaxis": "x",
           "y": [
            0,
            -1.77635683940025e-15,
            2.14311217467234e-15,
            0,
            0,
            0
           ],
           "yaxis": "y"
          },
          {
           "alignmentgroup": "True",
           "hovertemplate": "TECHNOLOGY=DIESEL_GEN<br>YEAR=2034<br>TIMESLICE=%{x}<br>Values=%{y}<extra></extra>",
           "legendgroup": "DIESEL_GEN",
           "marker": {
            "color": "#00cc96",
            "pattern": {
             "shape": ""
            }
           },
           "name": "DIESEL_GEN",
           "offsetgroup": "DIESEL_GEN",
           "orientation": "v",
           "showlegend": true,
           "textposition": "auto",
           "type": "bar",
           "x": [
            "ID",
            "IN",
            "SD",
            "SN",
            "WD",
            "WN"
           ],
           "xaxis": "x",
           "y": [
            0,
            0,
            0,
            0,
            0,
            0
           ],
           "yaxis": "y"
          },
          {
           "alignmentgroup": "True",
           "hovertemplate": "TECHNOLOGY=CSP<br>YEAR=2034<br>TIMESLICE=%{x}<br>Values=%{y}<extra></extra>",
           "legendgroup": "CSP",
           "marker": {
            "color": "#ab63fa",
            "pattern": {
             "shape": ""
            }
           },
           "name": "CSP",
           "offsetgroup": "CSP",
           "orientation": "v",
           "showlegend": true,
           "textposition": "auto",
           "type": "bar",
           "x": [
            "ID",
            "IN",
            "SD",
            "SN",
            "WD",
            "WN"
           ],
           "xaxis": "x",
           "y": [
            0,
            0,
            0,
            0,
            0,
            0
           ],
           "yaxis": "y"
          },
          {
           "alignmentgroup": "True",
           "hovertemplate": "TECHNOLOGY=PV_UTL<br>YEAR=2034<br>TIMESLICE=%{x}<br>Values=%{y}<extra></extra>",
           "legendgroup": "PV_UTL",
           "marker": {
            "color": "#FFA15A",
            "pattern": {
             "shape": ""
            }
           },
           "name": "PV_UTL",
           "offsetgroup": "PV_UTL",
           "orientation": "v",
           "showlegend": true,
           "textposition": "auto",
           "type": "bar",
           "x": [
            "ID",
            "IN",
            "SD",
            "SN",
            "WD",
            "WN"
           ],
           "xaxis": "x",
           "y": [
            0,
            0,
            0,
            0,
            0,
            0
           ],
           "yaxis": "y"
          },
          {
           "alignmentgroup": "True",
           "hovertemplate": "TECHNOLOGY=PV_ROF<br>YEAR=2034<br>TIMESLICE=%{x}<br>Values=%{y}<extra></extra>",
           "legendgroup": "PV_ROF",
           "marker": {
            "color": "#19d3f3",
            "pattern": {
             "shape": ""
            }
           },
           "name": "PV_ROF",
           "offsetgroup": "PV_ROF",
           "orientation": "v",
           "showlegend": true,
           "textposition": "auto",
           "type": "bar",
           "x": [
            "ID",
            "IN",
            "SD",
            "SN",
            "WD",
            "WN"
           ],
           "xaxis": "x",
           "y": [
            0,
            0,
            0,
            0,
            0,
            0
           ],
           "yaxis": "y"
          },
          {
           "alignmentgroup": "True",
           "hovertemplate": "TECHNOLOGY=WIND<br>YEAR=2034<br>TIMESLICE=%{x}<br>Values=%{y}<extra></extra>",
           "legendgroup": "WIND",
           "marker": {
            "color": "#FF6692",
            "pattern": {
             "shape": ""
            }
           },
           "name": "WIND",
           "offsetgroup": "WIND",
           "orientation": "v",
           "showlegend": true,
           "textposition": "auto",
           "type": "bar",
           "x": [
            "ID",
            "IN",
            "SD",
            "SN",
            "WD",
            "WN"
           ],
           "xaxis": "x",
           "y": [
            2,
            2,
            2,
            2,
            2,
            2
           ],
           "yaxis": "y"
          },
          {
           "alignmentgroup": "True",
           "hovertemplate": "TECHNOLOGY=NGCC<br>YEAR=2034<br>TIMESLICE=%{x}<br>Values=%{y}<extra></extra>",
           "legendgroup": "NGCC",
           "marker": {
            "color": "#B6E880",
            "pattern": {
             "shape": ""
            }
           },
           "name": "NGCC",
           "offsetgroup": "NGCC",
           "orientation": "v",
           "showlegend": true,
           "textposition": "auto",
           "type": "bar",
           "x": [
            "ID",
            "IN",
            "SD",
            "SN",
            "WD",
            "WN"
           ],
           "xaxis": "x",
           "y": [
            0,
            2.19732767299332,
            0.233978338976721,
            0.783976374971827,
            0,
            0
           ],
           "yaxis": "y"
          },
          {
           "alignmentgroup": "True",
           "hovertemplate": "TECHNOLOGY=NUCLEAR<br>YEAR=2034<br>TIMESLICE=%{x}<br>Values=%{y}<extra></extra>",
           "legendgroup": "NUCLEAR",
           "marker": {
            "color": "#FF97FF",
            "pattern": {
             "shape": ""
            }
           },
           "name": "NUCLEAR",
           "offsetgroup": "NUCLEAR",
           "orientation": "v",
           "showlegend": true,
           "textposition": "auto",
           "type": "bar",
           "x": [
            "ID",
            "IN",
            "SD",
            "SN",
            "WD",
            "WN"
           ],
           "xaxis": "x",
           "y": [
            4.45964817613245,
            4.45964817613245,
            4.45964817613245,
            4.45964817613245,
            1.26426793303533,
            2.09235398832094
           ],
           "yaxis": "y"
          },
          {
           "alignmentgroup": "True",
           "hovertemplate": "TECHNOLOGY=TRANS<br>YEAR=2034<br>TIMESLICE=%{x}<br>Values=%{y}<extra></extra>",
           "legendgroup": "TRANS",
           "marker": {
            "color": "#FECB52",
            "pattern": {
             "shape": ""
            }
           },
           "name": "TRANS",
           "offsetgroup": "TRANS",
           "orientation": "v",
           "showlegend": true,
           "textposition": "auto",
           "type": "bar",
           "x": [
            "ID",
            "IN",
            "SD",
            "SN",
            "WD",
            "WN"
           ],
           "xaxis": "x",
           "y": [
            11.5324114745524,
            13.7297391475458,
            11.1473873187662,
            11.6973853547613,
            9.3687020560603,
            10.1967881113459
           ],
           "yaxis": "y"
          },
          {
           "alignmentgroup": "True",
           "hovertemplate": "TECHNOLOGY=DIST_IND<br>YEAR=2034<br>TIMESLICE=%{x}<br>Values=%{y}<extra></extra>",
           "legendgroup": "DIST_IND",
           "marker": {
            "color": "#636efa",
            "pattern": {
             "shape": ""
            }
           },
           "name": "DIST_IND",
           "offsetgroup": "DIST_IND",
           "orientation": "v",
           "showlegend": true,
           "textposition": "auto",
           "type": "bar",
           "x": [
            "ID",
            "IN",
            "SD",
            "SN",
            "WD",
            "WN"
           ],
           "xaxis": "x",
           "y": [
            3.69928701320505,
            7.40301494719426,
            3.69928701320505,
            7.40301494719426,
            1.85019845514936,
            3.69928701320505
           ],
           "yaxis": "y"
          },
          {
           "alignmentgroup": "True",
           "hovertemplate": "TECHNOLOGY=DIST_TRA<br>YEAR=2034<br>TIMESLICE=%{x}<br>Values=%{y}<extra></extra>",
           "legendgroup": "DIST_TRA",
           "marker": {
            "color": "#EF553B",
            "pattern": {
             "shape": ""
            }
           },
           "name": "DIST_TRA",
           "offsetgroup": "DIST_TRA",
           "orientation": "v",
           "showlegend": true,
           "textposition": "auto",
           "type": "bar",
           "x": [
            "ID",
            "IN",
            "SD",
            "SN",
            "WD",
            "WN"
           ],
           "xaxis": "x",
           "y": [
            0.80942885420518,
            0.253098345580481,
            0.379419775417773,
            0.253098345580481,
            0.442789214852382,
            0.202357213551089
           ],
           "yaxis": "y"
          },
          {
           "alignmentgroup": "True",
           "hovertemplate": "TECHNOLOGY=DIST_RES<br>YEAR=2034<br>TIMESLICE=%{x}<br>Values=%{y}<extra></extra>",
           "legendgroup": "DIST_RES",
           "marker": {
            "color": "#00cc96",
            "pattern": {
             "shape": ""
            }
           },
           "name": "DIST_RES",
           "offsetgroup": "DIST_RES",
           "orientation": "v",
           "showlegend": true,
           "textposition": "auto",
           "type": "bar",
           "x": [
            "ID",
            "IN",
            "SD",
            "SN",
            "WD",
            "WN"
           ],
           "xaxis": "x",
           "y": [
            2.73479822431545,
            3.6485863464768,
            3.41849778039431,
            2.28036646655528,
            4.5593645763915,
            4.55799704052575
           ],
           "yaxis": "y"
          },
          {
           "alignmentgroup": "True",
           "hovertemplate": "TECHNOLOGY=DIST_SER<br>YEAR=2034<br>TIMESLICE=%{x}<br>Values=%{y}<extra></extra>",
           "legendgroup": "DIST_SER",
           "marker": {
            "color": "#ab63fa",
            "pattern": {
             "shape": ""
            }
           },
           "name": "DIST_SER",
           "offsetgroup": "DIST_SER",
           "orientation": "v",
           "showlegend": true,
           "textposition": "auto",
           "type": "bar",
           "x": [
            "ID",
            "IN",
            "SD",
            "SN",
            "WD",
            "WN"
           ],
           "xaxis": "x",
           "y": [
            4.11360472841356,
            2.21634747325152,
            3.48074246250378,
            1.58310533803888,
            2.37394553841494,
            1.58215566477156
           ],
           "yaxis": "y"
          }
         ],
         "name": "2034"
        },
        {
         "data": [
          {
           "alignmentgroup": "True",
           "hovertemplate": "TECHNOLOGY=HF_Imp<br>YEAR=2035<br>TIMESLICE=%{x}<br>Values=%{y}<extra></extra>",
           "legendgroup": "HF_Imp",
           "marker": {
            "color": "#EF553B",
            "pattern": {
             "shape": ""
            }
           },
           "name": "HF_Imp",
           "offsetgroup": "HF_Imp",
           "orientation": "v",
           "showlegend": true,
           "textposition": "auto",
           "type": "bar",
           "x": [
            "ID",
            "IN",
            "SD",
            "SN",
            "WD",
            "WN"
           ],
           "xaxis": "x",
           "y": [
            0,
            0,
            0,
            0,
            0,
            0
           ],
           "yaxis": "y"
          },
          {
           "alignmentgroup": "True",
           "hovertemplate": "TECHNOLOGY=DS_Imp<br>YEAR=2035<br>TIMESLICE=%{x}<br>Values=%{y}<extra></extra>",
           "legendgroup": "DS_Imp",
           "marker": {
            "color": "#00cc96",
            "pattern": {
             "shape": ""
            }
           },
           "name": "DS_Imp",
           "offsetgroup": "DS_Imp",
           "orientation": "v",
           "showlegend": true,
           "textposition": "auto",
           "type": "bar",
           "x": [
            "ID",
            "IN",
            "SD",
            "SN",
            "WD",
            "WN"
           ],
           "xaxis": "x",
           "y": [
            0,
            0,
            0,
            0,
            0,
            0
           ],
           "yaxis": "y"
          },
          {
           "alignmentgroup": "True",
           "hovertemplate": "TECHNOLOGY=NG_Imp<br>YEAR=2035<br>TIMESLICE=%{x}<br>Values=%{y}<extra></extra>",
           "legendgroup": "NG_Imp",
           "marker": {
            "color": "#ab63fa",
            "pattern": {
             "shape": ""
            }
           },
           "name": "NG_Imp",
           "offsetgroup": "NG_Imp",
           "orientation": "v",
           "showlegend": true,
           "textposition": "auto",
           "type": "bar",
           "x": [
            "ID",
            "IN",
            "SD",
            "SN",
            "WD",
            "WN"
           ],
           "xaxis": "x",
           "y": [
            0,
            4.48190235779841,
            0.514131566927726,
            1.63756930202825,
            0,
            0
           ],
           "yaxis": "y"
          },
          {
           "alignmentgroup": "True",
           "hovertemplate": "TECHNOLOGY=CO_Imp<br>YEAR=2035<br>TIMESLICE=%{x}<br>Values=%{y}<extra></extra>",
           "legendgroup": "CO_Imp",
           "marker": {
            "color": "#FFA15A",
            "pattern": {
             "shape": ""
            }
           },
           "name": "CO_Imp",
           "offsetgroup": "CO_Imp",
           "orientation": "v",
           "showlegend": true,
           "textposition": "auto",
           "type": "bar",
           "x": [
            "ID",
            "IN",
            "SD",
            "SN",
            "WD",
            "WN"
           ],
           "xaxis": "x",
           "y": [
            1.97068464,
            1.97068464,
            1.97068464,
            1.97068464,
            1.97068464,
            1.97068464
           ],
           "yaxis": "y"
          },
          {
           "alignmentgroup": "True",
           "hovertemplate": "TECHNOLOGY=UR_Imp<br>YEAR=2035<br>TIMESLICE=%{x}<br>Values=%{y}<extra></extra>",
           "legendgroup": "UR_Imp",
           "marker": {
            "color": "#19d3f3",
            "pattern": {
             "shape": ""
            }
           },
           "name": "UR_Imp",
           "offsetgroup": "UR_Imp",
           "orientation": "v",
           "showlegend": true,
           "textposition": "auto",
           "type": "bar",
           "x": [
            "ID",
            "IN",
            "SD",
            "SN",
            "WD",
            "WN"
           ],
           "xaxis": "x",
           "y": [
            15.0359709212549,
            15.0359709212549,
            15.0359709212549,
            15.0359709212548,
            4.02156887345798,
            6.84838412626884
           ],
           "yaxis": "y"
          },
          {
           "alignmentgroup": "True",
           "hovertemplate": "TECHNOLOGY=NGSC<br>YEAR=2035<br>TIMESLICE=%{x}<br>Values=%{y}<extra></extra>",
           "legendgroup": "NGSC",
           "marker": {
            "color": "#FF6692",
            "pattern": {
             "shape": ""
            }
           },
           "name": "NGSC",
           "offsetgroup": "NGSC",
           "orientation": "v",
           "showlegend": true,
           "textposition": "auto",
           "type": "bar",
           "x": [
            "ID",
            "IN",
            "SD",
            "SN",
            "WD",
            "WN"
           ],
           "xaxis": "x",
           "y": [
            0,
            0,
            0,
            0,
            0,
            0
           ],
           "yaxis": "y"
          },
          {
           "alignmentgroup": "True",
           "hovertemplate": "TECHNOLOGY=DSGC<br>YEAR=2035<br>TIMESLICE=%{x}<br>Values=%{y}<extra></extra>",
           "legendgroup": "DSGC",
           "marker": {
            "color": "#B6E880",
            "pattern": {
             "shape": ""
            }
           },
           "name": "DSGC",
           "offsetgroup": "DSGC",
           "orientation": "v",
           "showlegend": true,
           "textposition": "auto",
           "type": "bar",
           "x": [
            "ID",
            "IN",
            "SD",
            "SN",
            "WD",
            "WN"
           ],
           "xaxis": "x",
           "y": [
            0,
            0,
            0,
            0,
            0,
            0
           ],
           "yaxis": "y"
          },
          {
           "alignmentgroup": "True",
           "hovertemplate": "TECHNOLOGY=IGCC<br>YEAR=2035<br>TIMESLICE=%{x}<br>Values=%{y}<extra></extra>",
           "legendgroup": "IGCC",
           "marker": {
            "color": "#FF97FF",
            "pattern": {
             "shape": ""
            }
           },
           "name": "IGCC",
           "offsetgroup": "IGCC",
           "orientation": "v",
           "showlegend": true,
           "textposition": "auto",
           "type": "bar",
           "x": [
            "ID",
            "IN",
            "SD",
            "SN",
            "WD",
            "WN"
           ],
           "xaxis": "x",
           "y": [
            0.94608,
            0.94608,
            0.94608,
            0.94608,
            0.94608,
            0.94608
           ],
           "yaxis": "y"
          },
          {
           "alignmentgroup": "True",
           "hovertemplate": "TECHNOLOGY=HFSC<br>YEAR=2035<br>TIMESLICE=%{x}<br>Values=%{y}<extra></extra>",
           "legendgroup": "HFSC",
           "marker": {
            "color": "#FECB52",
            "pattern": {
             "shape": ""
            }
           },
           "name": "HFSC",
           "offsetgroup": "HFSC",
           "orientation": "v",
           "showlegend": true,
           "textposition": "auto",
           "type": "bar",
           "x": [
            "ID",
            "IN",
            "SD",
            "SN",
            "WD",
            "WN"
           ],
           "xaxis": "x",
           "y": [
            0,
            0,
            0,
            0,
            0,
            0
           ],
           "yaxis": "y"
          },
          {
           "alignmentgroup": "True",
           "hovertemplate": "TECHNOLOGY=HYDRO_DAM<br>YEAR=2035<br>TIMESLICE=%{x}<br>Values=%{y}<extra></extra>",
           "legendgroup": "HYDRO_DAM",
           "marker": {
            "color": "#636efa",
            "pattern": {
             "shape": ""
            }
           },
           "name": "HYDRO_DAM",
           "offsetgroup": "HYDRO_DAM",
           "orientation": "v",
           "showlegend": true,
           "textposition": "auto",
           "type": "bar",
           "x": [
            "ID",
            "IN",
            "SD",
            "SN",
            "WD",
            "WN"
           ],
           "xaxis": "x",
           "y": [
            4.35166723417233,
            4.35166723417233,
            3.69891714904648,
            3.69891714904648,
            5.43958404271541,
            5.43958404271541
           ],
           "yaxis": "y"
          },
          {
           "alignmentgroup": "True",
           "hovertemplate": "TECHNOLOGY=HYDRO_MIN<br>YEAR=2035<br>TIMESLICE=%{x}<br>Values=%{y}<extra></extra>",
           "legendgroup": "HYDRO_MIN",
           "marker": {
            "color": "#EF553B",
            "pattern": {
             "shape": ""
            }
           },
           "name": "HYDRO_MIN",
           "offsetgroup": "HYDRO_MIN",
           "orientation": "v",
           "showlegend": true,
           "textposition": "auto",
           "type": "bar",
           "x": [
            "ID",
            "IN",
            "SD",
            "SN",
            "WD",
            "WN"
           ],
           "xaxis": "x",
           "y": [
            0,
            0,
            1.25546655546394e-15,
            0,
            0,
            0
           ],
           "yaxis": "y"
          },
          {
           "alignmentgroup": "True",
           "hovertemplate": "TECHNOLOGY=DIESEL_GEN<br>YEAR=2035<br>TIMESLICE=%{x}<br>Values=%{y}<extra></extra>",
           "legendgroup": "DIESEL_GEN",
           "marker": {
            "color": "#00cc96",
            "pattern": {
             "shape": ""
            }
           },
           "name": "DIESEL_GEN",
           "offsetgroup": "DIESEL_GEN",
           "orientation": "v",
           "showlegend": true,
           "textposition": "auto",
           "type": "bar",
           "x": [
            "ID",
            "IN",
            "SD",
            "SN",
            "WD",
            "WN"
           ],
           "xaxis": "x",
           "y": [
            0,
            0,
            0,
            0,
            0,
            0
           ],
           "yaxis": "y"
          },
          {
           "alignmentgroup": "True",
           "hovertemplate": "TECHNOLOGY=CSP<br>YEAR=2035<br>TIMESLICE=%{x}<br>Values=%{y}<extra></extra>",
           "legendgroup": "CSP",
           "marker": {
            "color": "#ab63fa",
            "pattern": {
             "shape": ""
            }
           },
           "name": "CSP",
           "offsetgroup": "CSP",
           "orientation": "v",
           "showlegend": true,
           "textposition": "auto",
           "type": "bar",
           "x": [
            "ID",
            "IN",
            "SD",
            "SN",
            "WD",
            "WN"
           ],
           "xaxis": "x",
           "y": [
            0,
            0,
            0,
            0,
            0,
            0
           ],
           "yaxis": "y"
          },
          {
           "alignmentgroup": "True",
           "hovertemplate": "TECHNOLOGY=PV_UTL<br>YEAR=2035<br>TIMESLICE=%{x}<br>Values=%{y}<extra></extra>",
           "legendgroup": "PV_UTL",
           "marker": {
            "color": "#FFA15A",
            "pattern": {
             "shape": ""
            }
           },
           "name": "PV_UTL",
           "offsetgroup": "PV_UTL",
           "orientation": "v",
           "showlegend": true,
           "textposition": "auto",
           "type": "bar",
           "x": [
            "ID",
            "IN",
            "SD",
            "SN",
            "WD",
            "WN"
           ],
           "xaxis": "x",
           "y": [
            0,
            0,
            0,
            0,
            0,
            0
           ],
           "yaxis": "y"
          },
          {
           "alignmentgroup": "True",
           "hovertemplate": "TECHNOLOGY=PV_ROF<br>YEAR=2035<br>TIMESLICE=%{x}<br>Values=%{y}<extra></extra>",
           "legendgroup": "PV_ROF",
           "marker": {
            "color": "#19d3f3",
            "pattern": {
             "shape": ""
            }
           },
           "name": "PV_ROF",
           "offsetgroup": "PV_ROF",
           "orientation": "v",
           "showlegend": true,
           "textposition": "auto",
           "type": "bar",
           "x": [
            "ID",
            "IN",
            "SD",
            "SN",
            "WD",
            "WN"
           ],
           "xaxis": "x",
           "y": [
            0,
            0,
            0,
            0,
            0,
            0
           ],
           "yaxis": "y"
          },
          {
           "alignmentgroup": "True",
           "hovertemplate": "TECHNOLOGY=WIND<br>YEAR=2035<br>TIMESLICE=%{x}<br>Values=%{y}<extra></extra>",
           "legendgroup": "WIND",
           "marker": {
            "color": "#FF6692",
            "pattern": {
             "shape": ""
            }
           },
           "name": "WIND",
           "offsetgroup": "WIND",
           "orientation": "v",
           "showlegend": true,
           "textposition": "auto",
           "type": "bar",
           "x": [
            "ID",
            "IN",
            "SD",
            "SN",
            "WD",
            "WN"
           ],
           "xaxis": "x",
           "y": [
            2,
            2,
            2,
            2,
            2,
            2
           ],
           "yaxis": "y"
          },
          {
           "alignmentgroup": "True",
           "hovertemplate": "TECHNOLOGY=NGCC<br>YEAR=2035<br>TIMESLICE=%{x}<br>Values=%{y}<extra></extra>",
           "legendgroup": "NGCC",
           "marker": {
            "color": "#B6E880",
            "pattern": {
             "shape": ""
            }
           },
           "name": "NGCC",
           "offsetgroup": "NGCC",
           "orientation": "v",
           "showlegend": true,
           "textposition": "auto",
           "type": "bar",
           "x": [
            "ID",
            "IN",
            "SD",
            "SN",
            "WD",
            "WN"
           ],
           "xaxis": "x",
           "y": [
            0,
            2.24991483962025,
            0.2580940300797,
            0.822059737006359,
            0,
            0
           ],
           "yaxis": "y"
          },
          {
           "alignmentgroup": "True",
           "hovertemplate": "TECHNOLOGY=NUCLEAR<br>YEAR=2035<br>TIMESLICE=%{x}<br>Values=%{y}<extra></extra>",
           "legendgroup": "NUCLEAR",
           "marker": {
            "color": "#FF97FF",
            "pattern": {
             "shape": ""
            }
           },
           "name": "NUCLEAR",
           "offsetgroup": "NUCLEAR",
           "orientation": "v",
           "showlegend": true,
           "textposition": "auto",
           "type": "bar",
           "x": [
            "ID",
            "IN",
            "SD",
            "SN",
            "WD",
            "WN"
           ],
           "xaxis": "x",
           "y": [
            4.51079127637647,
            4.51079127637646,
            4.51079127637646,
            4.51079127637646,
            1.2064706620374,
            2.05451523788065
           ],
           "yaxis": "y"
          },
          {
           "alignmentgroup": "True",
           "hovertemplate": "TECHNOLOGY=TRANS<br>YEAR=2035<br>TIMESLICE=%{x}<br>Values=%{y}<extra></extra>",
           "legendgroup": "TRANS",
           "marker": {
            "color": "#FECB52",
            "pattern": {
             "shape": ""
            }
           },
           "name": "TRANS",
           "offsetgroup": "TRANS",
           "orientation": "v",
           "showlegend": true,
           "textposition": "auto",
           "type": "bar",
           "x": [
            "ID",
            "IN",
            "SD",
            "SN",
            "WD",
            "WN"
           ],
           "xaxis": "x",
           "y": [
            11.8085385105488,
            14.058453350169,
            11.4138824555026,
            11.9778481624293,
            9.59213470475281,
            10.4401792805961
           ],
           "yaxis": "y"
          },
          {
           "alignmentgroup": "True",
           "hovertemplate": "TECHNOLOGY=DIST_IND<br>YEAR=2035<br>TIMESLICE=%{x}<br>Values=%{y}<extra></extra>",
           "legendgroup": "DIST_IND",
           "marker": {
            "color": "#636efa",
            "pattern": {
             "shape": ""
            }
           },
           "name": "DIST_IND",
           "offsetgroup": "DIST_IND",
           "orientation": "v",
           "showlegend": true,
           "textposition": "auto",
           "type": "bar",
           "x": [
            "ID",
            "IN",
            "SD",
            "SN",
            "WD",
            "WN"
           ],
           "xaxis": "x",
           "y": [
            3.78832666703534,
            7.58120114519557,
            3.78832666703534,
            7.58120114519557,
            1.89473163934831,
            3.78832666703534
           ],
           "yaxis": "y"
          },
          {
           "alignmentgroup": "True",
           "hovertemplate": "TECHNOLOGY=DIST_TRA<br>YEAR=2035<br>TIMESLICE=%{x}<br>Values=%{y}<extra></extra>",
           "legendgroup": "DIST_TRA",
           "marker": {
            "color": "#EF553B",
            "pattern": {
             "shape": ""
            }
           },
           "name": "DIST_TRA",
           "offsetgroup": "DIST_TRA",
           "orientation": "v",
           "showlegend": true,
           "textposition": "auto",
           "type": "bar",
           "x": [
            "ID",
            "IN",
            "SD",
            "SN",
            "WD",
            "WN"
           ],
           "xaxis": "x",
           "y": [
            0.829267796711065,
            0.259301736403532,
            0.38871927971195,
            0.259301736403532,
            0.453641891683219,
            0.207316949177341
           ],
           "yaxis": "y"
          },
          {
           "alignmentgroup": "True",
           "hovertemplate": "TECHNOLOGY=DIST_RES<br>YEAR=2035<br>TIMESLICE=%{x}<br>Values=%{y}<extra></extra>",
           "legendgroup": "DIST_RES",
           "marker": {
            "color": "#00cc96",
            "pattern": {
             "shape": ""
            }
           },
           "name": "DIST_RES",
           "offsetgroup": "DIST_RES",
           "orientation": "v",
           "showlegend": true,
           "textposition": "auto",
           "type": "bar",
           "x": [
            "ID",
            "IN",
            "SD",
            "SN",
            "WD",
            "WN"
           ],
           "xaxis": "x",
           "y": [
            2.79952277423804,
            3.73493754674255,
            3.49940346779755,
            2.33433596670511,
            4.66727119177399,
            4.66587129039674
           ],
           "yaxis": "y"
          },
          {
           "alignmentgroup": "True",
           "hovertemplate": "TECHNOLOGY=DIST_SER<br>YEAR=2035<br>TIMESLICE=%{x}<br>Values=%{y}<extra></extra>",
           "legendgroup": "DIST_SER",
           "marker": {
            "color": "#ab63fa",
            "pattern": {
             "shape": ""
            }
           },
           "name": "DIST_SER",
           "offsetgroup": "DIST_SER",
           "orientation": "v",
           "showlegend": true,
           "textposition": "auto",
           "type": "bar",
           "x": [
            "ID",
            "IN",
            "SD",
            "SN",
            "WD",
            "WN"
           ],
           "xaxis": "x",
           "y": [
            4.21193148720401,
            2.26932443090482,
            3.56394202763416,
            1.62094602205616,
            2.43068953443505,
            1.61997364892159
           ],
           "yaxis": "y"
          }
         ],
         "name": "2035"
        },
        {
         "data": [
          {
           "alignmentgroup": "True",
           "hovertemplate": "TECHNOLOGY=HF_Imp<br>YEAR=2036<br>TIMESLICE=%{x}<br>Values=%{y}<extra></extra>",
           "legendgroup": "HF_Imp",
           "marker": {
            "color": "#EF553B",
            "pattern": {
             "shape": ""
            }
           },
           "name": "HF_Imp",
           "offsetgroup": "HF_Imp",
           "orientation": "v",
           "showlegend": true,
           "textposition": "auto",
           "type": "bar",
           "x": [
            "ID",
            "IN",
            "SD",
            "SN",
            "WD",
            "WN"
           ],
           "xaxis": "x",
           "y": [
            0,
            0,
            0,
            0,
            0,
            0
           ],
           "yaxis": "y"
          },
          {
           "alignmentgroup": "True",
           "hovertemplate": "TECHNOLOGY=DS_Imp<br>YEAR=2036<br>TIMESLICE=%{x}<br>Values=%{y}<extra></extra>",
           "legendgroup": "DS_Imp",
           "marker": {
            "color": "#00cc96",
            "pattern": {
             "shape": ""
            }
           },
           "name": "DS_Imp",
           "offsetgroup": "DS_Imp",
           "orientation": "v",
           "showlegend": true,
           "textposition": "auto",
           "type": "bar",
           "x": [
            "ID",
            "IN",
            "SD",
            "SN",
            "WD",
            "WN"
           ],
           "xaxis": "x",
           "y": [
            0,
            0,
            0,
            0,
            0,
            0
           ],
           "yaxis": "y"
          },
          {
           "alignmentgroup": "True",
           "hovertemplate": "TECHNOLOGY=NG_Imp<br>YEAR=2036<br>TIMESLICE=%{x}<br>Values=%{y}<extra></extra>",
           "legendgroup": "NG_Imp",
           "marker": {
            "color": "#ab63fa",
            "pattern": {
             "shape": ""
            }
           },
           "name": "NG_Imp",
           "offsetgroup": "NG_Imp",
           "orientation": "v",
           "showlegend": true,
           "textposition": "auto",
           "type": "bar",
           "x": [
            "ID",
            "IN",
            "SD",
            "SN",
            "WD",
            "WN"
           ],
           "xaxis": "x",
           "y": [
            0,
            4.59095073189117,
            0.565569576044581,
            1.71547800227336,
            0,
            0
           ],
           "yaxis": "y"
          },
          {
           "alignmentgroup": "True",
           "hovertemplate": "TECHNOLOGY=CO_Imp<br>YEAR=2036<br>TIMESLICE=%{x}<br>Values=%{y}<extra></extra>",
           "legendgroup": "CO_Imp",
           "marker": {
            "color": "#FFA15A",
            "pattern": {
             "shape": ""
            }
           },
           "name": "CO_Imp",
           "offsetgroup": "CO_Imp",
           "orientation": "v",
           "showlegend": true,
           "textposition": "auto",
           "type": "bar",
           "x": [
            "ID",
            "IN",
            "SD",
            "SN",
            "WD",
            "WN"
           ],
           "xaxis": "x",
           "y": [
            1.97068464,
            1.97068464,
            1.97068464,
            1.97068464,
            1.97068464,
            1.97068464
           ],
           "yaxis": "y"
          },
          {
           "alignmentgroup": "True",
           "hovertemplate": "TECHNOLOGY=UR_Imp<br>YEAR=2036<br>TIMESLICE=%{x}<br>Values=%{y}<extra></extra>",
           "legendgroup": "UR_Imp",
           "marker": {
            "color": "#19d3f3",
            "pattern": {
             "shape": ""
            }
           },
           "name": "UR_Imp",
           "offsetgroup": "UR_Imp",
           "orientation": "v",
           "showlegend": true,
           "textposition": "auto",
           "type": "bar",
           "x": [
            "ID",
            "IN",
            "SD",
            "SN",
            "WD",
            "WN"
           ],
           "xaxis": "x",
           "y": [
            15.2122014437328,
            15.2122014437328,
            15.2122014437328,
            15.2122014437328,
            3.82245822893799,
            6.71790012254693
           ],
           "yaxis": "y"
          },
          {
           "alignmentgroup": "True",
           "hovertemplate": "TECHNOLOGY=NGSC<br>YEAR=2036<br>TIMESLICE=%{x}<br>Values=%{y}<extra></extra>",
           "legendgroup": "NGSC",
           "marker": {
            "color": "#FF6692",
            "pattern": {
             "shape": ""
            }
           },
           "name": "NGSC",
           "offsetgroup": "NGSC",
           "orientation": "v",
           "showlegend": true,
           "textposition": "auto",
           "type": "bar",
           "x": [
            "ID",
            "IN",
            "SD",
            "SN",
            "WD",
            "WN"
           ],
           "xaxis": "x",
           "y": [
            0,
            0,
            0,
            0,
            0,
            0
           ],
           "yaxis": "y"
          },
          {
           "alignmentgroup": "True",
           "hovertemplate": "TECHNOLOGY=DSGC<br>YEAR=2036<br>TIMESLICE=%{x}<br>Values=%{y}<extra></extra>",
           "legendgroup": "DSGC",
           "marker": {
            "color": "#B6E880",
            "pattern": {
             "shape": ""
            }
           },
           "name": "DSGC",
           "offsetgroup": "DSGC",
           "orientation": "v",
           "showlegend": true,
           "textposition": "auto",
           "type": "bar",
           "x": [
            "ID",
            "IN",
            "SD",
            "SN",
            "WD",
            "WN"
           ],
           "xaxis": "x",
           "y": [
            0,
            0,
            0,
            0,
            0,
            0
           ],
           "yaxis": "y"
          },
          {
           "alignmentgroup": "True",
           "hovertemplate": "TECHNOLOGY=IGCC<br>YEAR=2036<br>TIMESLICE=%{x}<br>Values=%{y}<extra></extra>",
           "legendgroup": "IGCC",
           "marker": {
            "color": "#FF97FF",
            "pattern": {
             "shape": ""
            }
           },
           "name": "IGCC",
           "offsetgroup": "IGCC",
           "orientation": "v",
           "showlegend": true,
           "textposition": "auto",
           "type": "bar",
           "x": [
            "ID",
            "IN",
            "SD",
            "SN",
            "WD",
            "WN"
           ],
           "xaxis": "x",
           "y": [
            0.94608,
            0.94608,
            0.94608,
            0.94608,
            0.94608,
            0.94608
           ],
           "yaxis": "y"
          },
          {
           "alignmentgroup": "True",
           "hovertemplate": "TECHNOLOGY=HFSC<br>YEAR=2036<br>TIMESLICE=%{x}<br>Values=%{y}<extra></extra>",
           "legendgroup": "HFSC",
           "marker": {
            "color": "#FECB52",
            "pattern": {
             "shape": ""
            }
           },
           "name": "HFSC",
           "offsetgroup": "HFSC",
           "orientation": "v",
           "showlegend": true,
           "textposition": "auto",
           "type": "bar",
           "x": [
            "ID",
            "IN",
            "SD",
            "SN",
            "WD",
            "WN"
           ],
           "xaxis": "x",
           "y": [
            0,
            0,
            0,
            0,
            0,
            0
           ],
           "yaxis": "y"
          },
          {
           "alignmentgroup": "True",
           "hovertemplate": "TECHNOLOGY=HYDRO_DAM<br>YEAR=2036<br>TIMESLICE=%{x}<br>Values=%{y}<extra></extra>",
           "legendgroup": "HYDRO_DAM",
           "marker": {
            "color": "#636efa",
            "pattern": {
             "shape": ""
            }
           },
           "name": "HYDRO_DAM",
           "offsetgroup": "HYDRO_DAM",
           "orientation": "v",
           "showlegend": true,
           "textposition": "auto",
           "type": "bar",
           "x": [
            "ID",
            "IN",
            "SD",
            "SN",
            "WD",
            "WN"
           ],
           "xaxis": "x",
           "y": [
            4.58676668369926,
            4.58676668369926,
            3.89875168114437,
            3.89875168114437,
            5.73345835462408,
            5.73345835462408
           ],
           "yaxis": "y"
          },
          {
           "alignmentgroup": "True",
           "hovertemplate": "TECHNOLOGY=HYDRO_MIN<br>YEAR=2036<br>TIMESLICE=%{x}<br>Values=%{y}<extra></extra>",
           "legendgroup": "HYDRO_MIN",
           "marker": {
            "color": "#EF553B",
            "pattern": {
             "shape": ""
            }
           },
           "name": "HYDRO_MIN",
           "offsetgroup": "HYDRO_MIN",
           "orientation": "v",
           "showlegend": true,
           "textposition": "auto",
           "type": "bar",
           "x": [
            "ID",
            "IN",
            "SD",
            "SN",
            "WD",
            "WN"
           ],
           "xaxis": "x",
           "y": [
            2.60445141968155e-16,
            2.60445141968155e-16,
            1.58127407623523e-16,
            1.58127407623523e-16,
            3.13960808274586e-16,
            0
           ],
           "yaxis": "y"
          },
          {
           "alignmentgroup": "True",
           "hovertemplate": "TECHNOLOGY=DIESEL_GEN<br>YEAR=2036<br>TIMESLICE=%{x}<br>Values=%{y}<extra></extra>",
           "legendgroup": "DIESEL_GEN",
           "marker": {
            "color": "#00cc96",
            "pattern": {
             "shape": ""
            }
           },
           "name": "DIESEL_GEN",
           "offsetgroup": "DIESEL_GEN",
           "orientation": "v",
           "showlegend": true,
           "textposition": "auto",
           "type": "bar",
           "x": [
            "ID",
            "IN",
            "SD",
            "SN",
            "WD",
            "WN"
           ],
           "xaxis": "x",
           "y": [
            0,
            0,
            0,
            0,
            0,
            0
           ],
           "yaxis": "y"
          },
          {
           "alignmentgroup": "True",
           "hovertemplate": "TECHNOLOGY=CSP<br>YEAR=2036<br>TIMESLICE=%{x}<br>Values=%{y}<extra></extra>",
           "legendgroup": "CSP",
           "marker": {
            "color": "#ab63fa",
            "pattern": {
             "shape": ""
            }
           },
           "name": "CSP",
           "offsetgroup": "CSP",
           "orientation": "v",
           "showlegend": true,
           "textposition": "auto",
           "type": "bar",
           "x": [
            "ID",
            "IN",
            "SD",
            "SN",
            "WD",
            "WN"
           ],
           "xaxis": "x",
           "y": [
            0,
            0,
            0,
            0,
            0,
            0
           ],
           "yaxis": "y"
          },
          {
           "alignmentgroup": "True",
           "hovertemplate": "TECHNOLOGY=PV_UTL<br>YEAR=2036<br>TIMESLICE=%{x}<br>Values=%{y}<extra></extra>",
           "legendgroup": "PV_UTL",
           "marker": {
            "color": "#FFA15A",
            "pattern": {
             "shape": ""
            }
           },
           "name": "PV_UTL",
           "offsetgroup": "PV_UTL",
           "orientation": "v",
           "showlegend": true,
           "textposition": "auto",
           "type": "bar",
           "x": [
            "ID",
            "IN",
            "SD",
            "SN",
            "WD",
            "WN"
           ],
           "xaxis": "x",
           "y": [
            0,
            0,
            0,
            0,
            0,
            0
           ],
           "yaxis": "y"
          },
          {
           "alignmentgroup": "True",
           "hovertemplate": "TECHNOLOGY=PV_ROF<br>YEAR=2036<br>TIMESLICE=%{x}<br>Values=%{y}<extra></extra>",
           "legendgroup": "PV_ROF",
           "marker": {
            "color": "#19d3f3",
            "pattern": {
             "shape": ""
            }
           },
           "name": "PV_ROF",
           "offsetgroup": "PV_ROF",
           "orientation": "v",
           "showlegend": true,
           "textposition": "auto",
           "type": "bar",
           "x": [
            "ID",
            "IN",
            "SD",
            "SN",
            "WD",
            "WN"
           ],
           "xaxis": "x",
           "y": [
            0,
            0,
            2.22044604925031e-16,
            0,
            0,
            0
           ],
           "yaxis": "y"
          },
          {
           "alignmentgroup": "True",
           "hovertemplate": "TECHNOLOGY=WIND<br>YEAR=2036<br>TIMESLICE=%{x}<br>Values=%{y}<extra></extra>",
           "legendgroup": "WIND",
           "marker": {
            "color": "#FF6692",
            "pattern": {
             "shape": ""
            }
           },
           "name": "WIND",
           "offsetgroup": "WIND",
           "orientation": "v",
           "showlegend": true,
           "textposition": "auto",
           "type": "bar",
           "x": [
            "ID",
            "IN",
            "SD",
            "SN",
            "WD",
            "WN"
           ],
           "xaxis": "x",
           "y": [
            2,
            2,
            2,
            2,
            2,
            2
           ],
           "yaxis": "y"
          },
          {
           "alignmentgroup": "True",
           "hovertemplate": "TECHNOLOGY=NGCC<br>YEAR=2036<br>TIMESLICE=%{x}<br>Values=%{y}<extra></extra>",
           "legendgroup": "NGCC",
           "marker": {
            "color": "#B6E880",
            "pattern": {
             "shape": ""
            }
           },
           "name": "NGCC",
           "offsetgroup": "NGCC",
           "orientation": "v",
           "showlegend": true,
           "textposition": "auto",
           "type": "bar",
           "x": [
            "ID",
            "IN",
            "SD",
            "SN",
            "WD",
            "WN"
           ],
           "xaxis": "x",
           "y": [
            0,
            2.30465711991131,
            0.283915909003762,
            0.861169902026353,
            0,
            0
           ],
           "yaxis": "y"
          },
          {
           "alignmentgroup": "True",
           "hovertemplate": "TECHNOLOGY=NUCLEAR<br>YEAR=2036<br>TIMESLICE=%{x}<br>Values=%{y}<extra></extra>",
           "legendgroup": "NUCLEAR",
           "marker": {
            "color": "#FF97FF",
            "pattern": {
             "shape": ""
            }
           },
           "name": "NUCLEAR",
           "offsetgroup": "NUCLEAR",
           "orientation": "v",
           "showlegend": true,
           "textposition": "auto",
           "type": "bar",
           "x": [
            "ID",
            "IN",
            "SD",
            "SN",
            "WD",
            "WN"
           ],
           "xaxis": "x",
           "y": [
            4.56366043311983,
            4.56366043311984,
            4.56366043311984,
            4.56366043311984,
            1.1467374686814,
            2.01537003676408
           ],
           "yaxis": "y"
          },
          {
           "alignmentgroup": "True",
           "hovertemplate": "TECHNOLOGY=TRANS<br>YEAR=2036<br>TIMESLICE=%{x}<br>Values=%{y}<extra></extra>",
           "legendgroup": "TRANS",
           "marker": {
            "color": "#FECB52",
            "pattern": {
             "shape": ""
            }
           },
           "name": "TRANS",
           "offsetgroup": "TRANS",
           "orientation": "v",
           "showlegend": true,
           "textposition": "auto",
           "type": "bar",
           "x": [
            "ID",
            "IN",
            "SD",
            "SN",
            "WD",
            "WN"
           ],
           "xaxis": "x",
           "y": [
            12.0965071168191,
            14.4011642367304,
            11.692408023268,
            12.2696620162906,
            9.82627582330548,
            10.6949083913882
           ],
           "yaxis": "y"
          },
          {
           "alignmentgroup": "True",
           "hovertemplate": "TECHNOLOGY=DIST_IND<br>YEAR=2036<br>TIMESLICE=%{x}<br>Values=%{y}<extra></extra>",
           "legendgroup": "DIST_IND",
           "marker": {
            "color": "#636efa",
            "pattern": {
             "shape": ""
            }
           },
           "name": "DIST_IND",
           "offsetgroup": "DIST_IND",
           "orientation": "v",
           "showlegend": true,
           "textposition": "auto",
           "type": "bar",
           "x": [
            "ID",
            "IN",
            "SD",
            "SN",
            "WD",
            "WN"
           ],
           "xaxis": "x",
           "y": [
            3.88047235530157,
            7.76560314080159,
            3.88047235530157,
            7.76560314080159,
            1.94081830671699,
            3.88047235530157
           ],
           "yaxis": "y"
          },
          {
           "alignmentgroup": "True",
           "hovertemplate": "TECHNOLOGY=DIST_TRA<br>YEAR=2036<br>TIMESLICE=%{x}<br>Values=%{y}<extra></extra>",
           "legendgroup": "DIST_TRA",
           "marker": {
            "color": "#EF553B",
            "pattern": {
             "shape": ""
            }
           },
           "name": "DIST_TRA",
           "offsetgroup": "DIST_TRA",
           "orientation": "v",
           "showlegend": true,
           "textposition": "auto",
           "type": "bar",
           "x": [
            "ID",
            "IN",
            "SD",
            "SN",
            "WD",
            "WN"
           ],
           "xaxis": "x",
           "y": [
            0.849106739231502,
            0.265505127226583,
            0.398018784006126,
            0.265505127226583,
            0.464494568514056,
            0.212276684803593
           ],
           "yaxis": "y"
          },
          {
           "alignmentgroup": "True",
           "hovertemplate": "TECHNOLOGY=DIST_RES<br>YEAR=2036<br>TIMESLICE=%{x}<br>Values=%{y}<extra></extra>",
           "legendgroup": "DIST_RES",
           "marker": {
            "color": "#00cc96",
            "pattern": {
             "shape": ""
            }
           },
           "name": "DIST_RES",
           "offsetgroup": "DIST_RES",
           "orientation": "v",
           "showlegend": true,
           "textposition": "auto",
           "type": "bar",
           "x": [
            "ID",
            "IN",
            "SD",
            "SN",
            "WD",
            "WN"
           ],
           "xaxis": "x",
           "y": [
            2.86796712588032,
            3.82625145965786,
            3.5849589073504,
            2.39140716228576,
            4.78137933677618,
            4.77994520980054
           ],
           "yaxis": "y"
          },
          {
           "alignmentgroup": "True",
           "hovertemplate": "TECHNOLOGY=DIST_SER<br>YEAR=2036<br>TIMESLICE=%{x}<br>Values=%{y}<extra></extra>",
           "legendgroup": "DIST_SER",
           "marker": {
            "color": "#ab63fa",
            "pattern": {
             "shape": ""
            }
           },
           "name": "DIST_SER",
           "offsetgroup": "DIST_SER",
           "orientation": "v",
           "showlegend": true,
           "textposition": "auto",
           "type": "bar",
           "x": [
            "ID",
            "IN",
            "SD",
            "SN",
            "WD",
            "WN"
           ],
           "xaxis": "x",
           "y": [
            4.31509398823005,
            2.32490681264608,
            3.6512333746562,
            1.66064772332902,
            2.49022421878401,
            1.65965153393336
           ],
           "yaxis": "y"
          }
         ],
         "name": "2036"
        },
        {
         "data": [
          {
           "alignmentgroup": "True",
           "hovertemplate": "TECHNOLOGY=HF_Imp<br>YEAR=2037<br>TIMESLICE=%{x}<br>Values=%{y}<extra></extra>",
           "legendgroup": "HF_Imp",
           "marker": {
            "color": "#EF553B",
            "pattern": {
             "shape": ""
            }
           },
           "name": "HF_Imp",
           "offsetgroup": "HF_Imp",
           "orientation": "v",
           "showlegend": true,
           "textposition": "auto",
           "type": "bar",
           "x": [
            "ID",
            "IN",
            "SD",
            "SN",
            "WD",
            "WN"
           ],
           "xaxis": "x",
           "y": [
            0,
            0,
            0,
            0,
            0,
            0
           ],
           "yaxis": "y"
          },
          {
           "alignmentgroup": "True",
           "hovertemplate": "TECHNOLOGY=DS_Imp<br>YEAR=2037<br>TIMESLICE=%{x}<br>Values=%{y}<extra></extra>",
           "legendgroup": "DS_Imp",
           "marker": {
            "color": "#00cc96",
            "pattern": {
             "shape": ""
            }
           },
           "name": "DS_Imp",
           "offsetgroup": "DS_Imp",
           "orientation": "v",
           "showlegend": true,
           "textposition": "auto",
           "type": "bar",
           "x": [
            "ID",
            "IN",
            "SD",
            "SN",
            "WD",
            "WN"
           ],
           "xaxis": "x",
           "y": [
            0,
            0,
            0,
            0,
            0,
            0
           ],
           "yaxis": "y"
          },
          {
           "alignmentgroup": "True",
           "hovertemplate": "TECHNOLOGY=NG_Imp<br>YEAR=2037<br>TIMESLICE=%{x}<br>Values=%{y}<extra></extra>",
           "legendgroup": "NG_Imp",
           "marker": {
            "color": "#ab63fa",
            "pattern": {
             "shape": ""
            }
           },
           "name": "NG_Imp",
           "offsetgroup": "NG_Imp",
           "orientation": "v",
           "showlegend": true,
           "textposition": "auto",
           "type": "bar",
           "x": [
            "ID",
            "IN",
            "SD",
            "SN",
            "WD",
            "WN"
           ],
           "xaxis": "x",
           "y": [
            0,
            4.70572756618018,
            0.619127290435068,
            1.79772035046191,
            0,
            0
           ],
           "yaxis": "y"
          },
          {
           "alignmentgroup": "True",
           "hovertemplate": "TECHNOLOGY=CO_Imp<br>YEAR=2037<br>TIMESLICE=%{x}<br>Values=%{y}<extra></extra>",
           "legendgroup": "CO_Imp",
           "marker": {
            "color": "#FFA15A",
            "pattern": {
             "shape": ""
            }
           },
           "name": "CO_Imp",
           "offsetgroup": "CO_Imp",
           "orientation": "v",
           "showlegend": true,
           "textposition": "auto",
           "type": "bar",
           "x": [
            "ID",
            "IN",
            "SD",
            "SN",
            "WD",
            "WN"
           ],
           "xaxis": "x",
           "y": [
            1.97068464,
            1.97068464,
            1.97068464,
            1.97068464,
            1.97068464,
            1.97068464
           ],
           "yaxis": "y"
          },
          {
           "alignmentgroup": "True",
           "hovertemplate": "TECHNOLOGY=UR_Imp<br>YEAR=2037<br>TIMESLICE=%{x}<br>Values=%{y}<extra></extra>",
           "legendgroup": "UR_Imp",
           "marker": {
            "color": "#19d3f3",
            "pattern": {
             "shape": ""
            }
           },
           "name": "UR_Imp",
           "offsetgroup": "UR_Imp",
           "orientation": "v",
           "showlegend": true,
           "textposition": "auto",
           "type": "bar",
           "x": [
            "ID",
            "IN",
            "SD",
            "SN",
            "WD",
            "WN"
           ],
           "xaxis": "x",
           "y": [
            15.3983957007445,
            15.3983957007445,
            15.3983957007445,
            15.3983957007445,
            3.61218128547427,
            6.57985679171675
           ],
           "yaxis": "y"
          },
          {
           "alignmentgroup": "True",
           "hovertemplate": "TECHNOLOGY=NGSC<br>YEAR=2037<br>TIMESLICE=%{x}<br>Values=%{y}<extra></extra>",
           "legendgroup": "NGSC",
           "marker": {
            "color": "#FF6692",
            "pattern": {
             "shape": ""
            }
           },
           "name": "NGSC",
           "offsetgroup": "NGSC",
           "orientation": "v",
           "showlegend": true,
           "textposition": "auto",
           "type": "bar",
           "x": [
            "ID",
            "IN",
            "SD",
            "SN",
            "WD",
            "WN"
           ],
           "xaxis": "x",
           "y": [
            0,
            0,
            0,
            0,
            0,
            0
           ],
           "yaxis": "y"
          },
          {
           "alignmentgroup": "True",
           "hovertemplate": "TECHNOLOGY=DSGC<br>YEAR=2037<br>TIMESLICE=%{x}<br>Values=%{y}<extra></extra>",
           "legendgroup": "DSGC",
           "marker": {
            "color": "#B6E880",
            "pattern": {
             "shape": ""
            }
           },
           "name": "DSGC",
           "offsetgroup": "DSGC",
           "orientation": "v",
           "showlegend": true,
           "textposition": "auto",
           "type": "bar",
           "x": [
            "ID",
            "IN",
            "SD",
            "SN",
            "WD",
            "WN"
           ],
           "xaxis": "x",
           "y": [
            0,
            0,
            0,
            0,
            0,
            0
           ],
           "yaxis": "y"
          },
          {
           "alignmentgroup": "True",
           "hovertemplate": "TECHNOLOGY=IGCC<br>YEAR=2037<br>TIMESLICE=%{x}<br>Values=%{y}<extra></extra>",
           "legendgroup": "IGCC",
           "marker": {
            "color": "#FF97FF",
            "pattern": {
             "shape": ""
            }
           },
           "name": "IGCC",
           "offsetgroup": "IGCC",
           "orientation": "v",
           "showlegend": true,
           "textposition": "auto",
           "type": "bar",
           "x": [
            "ID",
            "IN",
            "SD",
            "SN",
            "WD",
            "WN"
           ],
           "xaxis": "x",
           "y": [
            0.94608,
            0.94608,
            0.94608,
            0.94608,
            0.94608,
            0.94608
           ],
           "yaxis": "y"
          },
          {
           "alignmentgroup": "True",
           "hovertemplate": "TECHNOLOGY=HFSC<br>YEAR=2037<br>TIMESLICE=%{x}<br>Values=%{y}<extra></extra>",
           "legendgroup": "HFSC",
           "marker": {
            "color": "#FECB52",
            "pattern": {
             "shape": ""
            }
           },
           "name": "HFSC",
           "offsetgroup": "HFSC",
           "orientation": "v",
           "showlegend": true,
           "textposition": "auto",
           "type": "bar",
           "x": [
            "ID",
            "IN",
            "SD",
            "SN",
            "WD",
            "WN"
           ],
           "xaxis": "x",
           "y": [
            0,
            0,
            0,
            0,
            0,
            0
           ],
           "yaxis": "y"
          },
          {
           "alignmentgroup": "True",
           "hovertemplate": "TECHNOLOGY=HYDRO_DAM<br>YEAR=2037<br>TIMESLICE=%{x}<br>Values=%{y}<extra></extra>",
           "legendgroup": "HYDRO_DAM",
           "marker": {
            "color": "#636efa",
            "pattern": {
             "shape": ""
            }
           },
           "name": "HYDRO_DAM",
           "offsetgroup": "HYDRO_DAM",
           "orientation": "v",
           "showlegend": true,
           "textposition": "auto",
           "type": "bar",
           "x": [
            "ID",
            "IN",
            "SD",
            "SN",
            "WD",
            "WN"
           ],
           "xaxis": "x",
           "y": [
            4.83483574786304,
            4.83483574786304,
            4.10961038568358,
            4.10961038568358,
            6.0435446848288,
            6.04354468482881
           ],
           "yaxis": "y"
          },
          {
           "alignmentgroup": "True",
           "hovertemplate": "TECHNOLOGY=HYDRO_MIN<br>YEAR=2037<br>TIMESLICE=%{x}<br>Values=%{y}<extra></extra>",
           "legendgroup": "HYDRO_MIN",
           "marker": {
            "color": "#EF553B",
            "pattern": {
             "shape": ""
            }
           },
           "name": "HYDRO_MIN",
           "offsetgroup": "HYDRO_MIN",
           "orientation": "v",
           "showlegend": true,
           "textposition": "auto",
           "type": "bar",
           "x": [
            "ID",
            "IN",
            "SD",
            "SN",
            "WD",
            "WN"
           ],
           "xaxis": "x",
           "y": [
            2.60445141968155e-16,
            2.60445141968155e-16,
            1.58127407623523e-16,
            1.58127407623523e-16,
            2.09286274795839e-16,
            2.09286274795839e-16
           ],
           "yaxis": "y"
          },
          {
           "alignmentgroup": "True",
           "hovertemplate": "TECHNOLOGY=DIESEL_GEN<br>YEAR=2037<br>TIMESLICE=%{x}<br>Values=%{y}<extra></extra>",
           "legendgroup": "DIESEL_GEN",
           "marker": {
            "color": "#00cc96",
            "pattern": {
             "shape": ""
            }
           },
           "name": "DIESEL_GEN",
           "offsetgroup": "DIESEL_GEN",
           "orientation": "v",
           "showlegend": true,
           "textposition": "auto",
           "type": "bar",
           "x": [
            "ID",
            "IN",
            "SD",
            "SN",
            "WD",
            "WN"
           ],
           "xaxis": "x",
           "y": [
            0,
            0,
            0,
            0,
            0,
            0
           ],
           "yaxis": "y"
          },
          {
           "alignmentgroup": "True",
           "hovertemplate": "TECHNOLOGY=CSP<br>YEAR=2037<br>TIMESLICE=%{x}<br>Values=%{y}<extra></extra>",
           "legendgroup": "CSP",
           "marker": {
            "color": "#ab63fa",
            "pattern": {
             "shape": ""
            }
           },
           "name": "CSP",
           "offsetgroup": "CSP",
           "orientation": "v",
           "showlegend": true,
           "textposition": "auto",
           "type": "bar",
           "x": [
            "ID",
            "IN",
            "SD",
            "SN",
            "WD",
            "WN"
           ],
           "xaxis": "x",
           "y": [
            0,
            0,
            0,
            0,
            0,
            0
           ],
           "yaxis": "y"
          },
          {
           "alignmentgroup": "True",
           "hovertemplate": "TECHNOLOGY=PV_UTL<br>YEAR=2037<br>TIMESLICE=%{x}<br>Values=%{y}<extra></extra>",
           "legendgroup": "PV_UTL",
           "marker": {
            "color": "#FFA15A",
            "pattern": {
             "shape": ""
            }
           },
           "name": "PV_UTL",
           "offsetgroup": "PV_UTL",
           "orientation": "v",
           "showlegend": true,
           "textposition": "auto",
           "type": "bar",
           "x": [
            "ID",
            "IN",
            "SD",
            "SN",
            "WD",
            "WN"
           ],
           "xaxis": "x",
           "y": [
            0,
            0,
            0,
            0,
            0,
            0
           ],
           "yaxis": "y"
          },
          {
           "alignmentgroup": "True",
           "hovertemplate": "TECHNOLOGY=PV_ROF<br>YEAR=2037<br>TIMESLICE=%{x}<br>Values=%{y}<extra></extra>",
           "legendgroup": "PV_ROF",
           "marker": {
            "color": "#19d3f3",
            "pattern": {
             "shape": ""
            }
           },
           "name": "PV_ROF",
           "offsetgroup": "PV_ROF",
           "orientation": "v",
           "showlegend": true,
           "textposition": "auto",
           "type": "bar",
           "x": [
            "ID",
            "IN",
            "SD",
            "SN",
            "WD",
            "WN"
           ],
           "xaxis": "x",
           "y": [
            0,
            0,
            0,
            0,
            0,
            0
           ],
           "yaxis": "y"
          },
          {
           "alignmentgroup": "True",
           "hovertemplate": "TECHNOLOGY=WIND<br>YEAR=2037<br>TIMESLICE=%{x}<br>Values=%{y}<extra></extra>",
           "legendgroup": "WIND",
           "marker": {
            "color": "#FF6692",
            "pattern": {
             "shape": ""
            }
           },
           "name": "WIND",
           "offsetgroup": "WIND",
           "orientation": "v",
           "showlegend": true,
           "textposition": "auto",
           "type": "bar",
           "x": [
            "ID",
            "IN",
            "SD",
            "SN",
            "WD",
            "WN"
           ],
           "xaxis": "x",
           "y": [
            2,
            2,
            2,
            2,
            2,
            2
           ],
           "yaxis": "y"
          },
          {
           "alignmentgroup": "True",
           "hovertemplate": "TECHNOLOGY=NGCC<br>YEAR=2037<br>TIMESLICE=%{x}<br>Values=%{y}<extra></extra>",
           "legendgroup": "NGCC",
           "marker": {
            "color": "#B6E880",
            "pattern": {
             "shape": ""
            }
           },
           "name": "NGCC",
           "offsetgroup": "NGCC",
           "orientation": "v",
           "showlegend": true,
           "textposition": "auto",
           "type": "bar",
           "x": [
            "ID",
            "IN",
            "SD",
            "SN",
            "WD",
            "WN"
           ],
           "xaxis": "x",
           "y": [
            0,
            2.36227508703685,
            0.310801879907084,
            0.902455558174722,
            0,
            0
           ],
           "yaxis": "y"
          },
          {
           "alignmentgroup": "True",
           "hovertemplate": "TECHNOLOGY=NUCLEAR<br>YEAR=2037<br>TIMESLICE=%{x}<br>Values=%{y}<extra></extra>",
           "legendgroup": "NUCLEAR",
           "marker": {
            "color": "#FF97FF",
            "pattern": {
             "shape": ""
            }
           },
           "name": "NUCLEAR",
           "offsetgroup": "NUCLEAR",
           "orientation": "v",
           "showlegend": true,
           "textposition": "auto",
           "type": "bar",
           "x": [
            "ID",
            "IN",
            "SD",
            "SN",
            "WD",
            "WN"
           ],
           "xaxis": "x",
           "y": [
            4.61951871022335,
            4.61951871022335,
            4.61951871022335,
            4.61951871022335,
            1.08365438564228,
            1.97395703751503
           ],
           "yaxis": "y"
          },
          {
           "alignmentgroup": "True",
           "hovertemplate": "TECHNOLOGY=TRANS<br>YEAR=2037<br>TIMESLICE=%{x}<br>Values=%{y}<extra></extra>",
           "legendgroup": "TRANS",
           "marker": {
            "color": "#FECB52",
            "pattern": {
             "shape": ""
            }
           },
           "name": "TRANS",
           "offsetgroup": "TRANS",
           "orientation": "v",
           "showlegend": true,
           "textposition": "auto",
           "type": "bar",
           "x": [
            "ID",
            "IN",
            "SD",
            "SN",
            "WD",
            "WN"
           ],
           "xaxis": "x",
           "y": [
            12.4004344580864,
            14.7627095451232,
            11.986010975814,
            12.5776646540817,
            10.0732790704711,
            10.9635817223438
           ],
           "yaxis": "y"
          },
          {
           "alignmentgroup": "True",
           "hovertemplate": "TECHNOLOGY=DIST_IND<br>YEAR=2037<br>TIMESLICE=%{x}<br>Values=%{y}<extra></extra>",
           "legendgroup": "DIST_IND",
           "marker": {
            "color": "#636efa",
            "pattern": {
             "shape": ""
            }
           },
           "name": "DIST_IND",
           "offsetgroup": "DIST_IND",
           "orientation": "v",
           "showlegend": true,
           "textposition": "auto",
           "type": "bar",
           "x": [
            "ID",
            "IN",
            "SD",
            "SN",
            "WD",
            "WN"
           ],
           "xaxis": "x",
           "y": [
            3.97779476762771,
            7.9603647990821,
            3.97779476762771,
            7.9603647990821,
            1.98949411270189,
            3.97779476762771
           ],
           "yaxis": "y"
          },
          {
           "alignmentgroup": "True",
           "hovertemplate": "TECHNOLOGY=DIST_TRA<br>YEAR=2037<br>TIMESLICE=%{x}<br>Values=%{y}<extra></extra>",
           "legendgroup": "DIST_TRA",
           "marker": {
            "color": "#EF553B",
            "pattern": {
             "shape": ""
            }
           },
           "name": "DIST_TRA",
           "offsetgroup": "DIST_TRA",
           "orientation": "v",
           "showlegend": true,
           "textposition": "auto",
           "type": "bar",
           "x": [
            "ID",
            "IN",
            "SD",
            "SN",
            "WD",
            "WN"
           ],
           "xaxis": "x",
           "y": [
            0.870929575961782,
            0.272328857131939,
            0.408248238731176,
            0.272328857131939,
            0.476432513038162,
            0.217732393992471
           ],
           "yaxis": "y"
          },
          {
           "alignmentgroup": "True",
           "hovertemplate": "TECHNOLOGY=DIST_RES<br>YEAR=2037<br>TIMESLICE=%{x}<br>Values=%{y}<extra></extra>",
           "legendgroup": "DIST_RES",
           "marker": {
            "color": "#00cc96",
            "pattern": {
             "shape": ""
            }
           },
           "name": "DIST_RES",
           "offsetgroup": "DIST_RES",
           "orientation": "v",
           "showlegend": true,
           "textposition": "auto",
           "type": "bar",
           "x": [
            "ID",
            "IN",
            "SD",
            "SN",
            "WD",
            "WN"
           ],
           "xaxis": "x",
           "y": [
            2.94013127924229,
            3.92252808523161,
            3.67516409905286,
            2.45158005328267,
            4.90168901139804,
            4.90021879873715
           ],
           "yaxis": "y"
          },
          {
           "alignmentgroup": "True",
           "hovertemplate": "TECHNOLOGY=DIST_SER<br>YEAR=2037<br>TIMESLICE=%{x}<br>Values=%{y}<extra></extra>",
           "legendgroup": "DIST_SER",
           "marker": {
            "color": "#ab63fa",
            "pattern": {
             "shape": ""
            }
           },
           "name": "DIST_SER",
           "offsetgroup": "DIST_SER",
           "orientation": "v",
           "showlegend": true,
           "textposition": "auto",
           "type": "bar",
           "x": [
            "ID",
            "IN",
            "SD",
            "SN",
            "WD",
            "WN"
           ],
           "xaxis": "x",
           "y": [
            4.42309223149169,
            2.38309461859171,
            3.74261650356989,
            1.70221044184291,
            2.55254959146183,
            1.70118931980687
           ],
           "yaxis": "y"
          }
         ],
         "name": "2037"
        },
        {
         "data": [
          {
           "alignmentgroup": "True",
           "hovertemplate": "TECHNOLOGY=HF_Imp<br>YEAR=2038<br>TIMESLICE=%{x}<br>Values=%{y}<extra></extra>",
           "legendgroup": "HF_Imp",
           "marker": {
            "color": "#EF553B",
            "pattern": {
             "shape": ""
            }
           },
           "name": "HF_Imp",
           "offsetgroup": "HF_Imp",
           "orientation": "v",
           "showlegend": true,
           "textposition": "auto",
           "type": "bar",
           "x": [
            "ID",
            "IN",
            "SD",
            "SN",
            "WD",
            "WN"
           ],
           "xaxis": "x",
           "y": [
            0,
            0,
            0,
            0,
            0,
            0
           ],
           "yaxis": "y"
          },
          {
           "alignmentgroup": "True",
           "hovertemplate": "TECHNOLOGY=DS_Imp<br>YEAR=2038<br>TIMESLICE=%{x}<br>Values=%{y}<extra></extra>",
           "legendgroup": "DS_Imp",
           "marker": {
            "color": "#00cc96",
            "pattern": {
             "shape": ""
            }
           },
           "name": "DS_Imp",
           "offsetgroup": "DS_Imp",
           "orientation": "v",
           "showlegend": true,
           "textposition": "auto",
           "type": "bar",
           "x": [
            "ID",
            "IN",
            "SD",
            "SN",
            "WD",
            "WN"
           ],
           "xaxis": "x",
           "y": [
            0,
            0,
            0,
            0,
            0,
            0
           ],
           "yaxis": "y"
          },
          {
           "alignmentgroup": "True",
           "hovertemplate": "TECHNOLOGY=NG_Imp<br>YEAR=2038<br>TIMESLICE=%{x}<br>Values=%{y}<extra></extra>",
           "legendgroup": "NG_Imp",
           "marker": {
            "color": "#ab63fa",
            "pattern": {
             "shape": ""
            }
           },
           "name": "NG_Imp",
           "offsetgroup": "NG_Imp",
           "orientation": "v",
           "showlegend": true,
           "textposition": "auto",
           "type": "bar",
           "x": [
            "ID",
            "IN",
            "SD",
            "SN",
            "WD",
            "WN"
           ],
           "xaxis": "x",
           "y": [
            0,
            4.82748721706826,
            0.676376458019374,
            1.88499025549407,
            0,
            0
           ],
           "yaxis": "y"
          },
          {
           "alignmentgroup": "True",
           "hovertemplate": "TECHNOLOGY=CO_Imp<br>YEAR=2038<br>TIMESLICE=%{x}<br>Values=%{y}<extra></extra>",
           "legendgroup": "CO_Imp",
           "marker": {
            "color": "#FFA15A",
            "pattern": {
             "shape": ""
            }
           },
           "name": "CO_Imp",
           "offsetgroup": "CO_Imp",
           "orientation": "v",
           "showlegend": true,
           "textposition": "auto",
           "type": "bar",
           "x": [
            "ID",
            "IN",
            "SD",
            "SN",
            "WD",
            "WN"
           ],
           "xaxis": "x",
           "y": [
            1.97068464000001,
            1.97068464000001,
            1.97068464000001,
            1.97068464000001,
            1.97068464000001,
            1.97068464000001
           ],
           "yaxis": "y"
          },
          {
           "alignmentgroup": "True",
           "hovertemplate": "TECHNOLOGY=UR_Imp<br>YEAR=2038<br>TIMESLICE=%{x}<br>Values=%{y}<extra></extra>",
           "legendgroup": "UR_Imp",
           "marker": {
            "color": "#19d3f3",
            "pattern": {
             "shape": ""
            }
           },
           "name": "UR_Imp",
           "offsetgroup": "UR_Imp",
           "orientation": "v",
           "showlegend": true,
           "textposition": "auto",
           "type": "bar",
           "x": [
            "ID",
            "IN",
            "SD",
            "SN",
            "WD",
            "WN"
           ],
           "xaxis": "x",
           "y": [
            15.5939474913686,
            15.5939474913686,
            15.5939474913686,
            15.5939474913686,
            3.39102936062366,
            6.43548991253655
           ],
           "yaxis": "y"
          },
          {
           "alignmentgroup": "True",
           "hovertemplate": "TECHNOLOGY=NGSC<br>YEAR=2038<br>TIMESLICE=%{x}<br>Values=%{y}<extra></extra>",
           "legendgroup": "NGSC",
           "marker": {
            "color": "#FF6692",
            "pattern": {
             "shape": ""
            }
           },
           "name": "NGSC",
           "offsetgroup": "NGSC",
           "orientation": "v",
           "showlegend": true,
           "textposition": "auto",
           "type": "bar",
           "x": [
            "ID",
            "IN",
            "SD",
            "SN",
            "WD",
            "WN"
           ],
           "xaxis": "x",
           "y": [
            0,
            0,
            0,
            0,
            0,
            0
           ],
           "yaxis": "y"
          },
          {
           "alignmentgroup": "True",
           "hovertemplate": "TECHNOLOGY=DSGC<br>YEAR=2038<br>TIMESLICE=%{x}<br>Values=%{y}<extra></extra>",
           "legendgroup": "DSGC",
           "marker": {
            "color": "#B6E880",
            "pattern": {
             "shape": ""
            }
           },
           "name": "DSGC",
           "offsetgroup": "DSGC",
           "orientation": "v",
           "showlegend": true,
           "textposition": "auto",
           "type": "bar",
           "x": [
            "ID",
            "IN",
            "SD",
            "SN",
            "WD",
            "WN"
           ],
           "xaxis": "x",
           "y": [
            0,
            0,
            0,
            0,
            0,
            0
           ],
           "yaxis": "y"
          },
          {
           "alignmentgroup": "True",
           "hovertemplate": "TECHNOLOGY=IGCC<br>YEAR=2038<br>TIMESLICE=%{x}<br>Values=%{y}<extra></extra>",
           "legendgroup": "IGCC",
           "marker": {
            "color": "#FF97FF",
            "pattern": {
             "shape": ""
            }
           },
           "name": "IGCC",
           "offsetgroup": "IGCC",
           "orientation": "v",
           "showlegend": true,
           "textposition": "auto",
           "type": "bar",
           "x": [
            "ID",
            "IN",
            "SD",
            "SN",
            "WD",
            "WN"
           ],
           "xaxis": "x",
           "y": [
            0.946080000000004,
            0.946080000000004,
            0.946080000000004,
            0.946080000000004,
            0.946080000000004,
            0.946080000000004
           ],
           "yaxis": "y"
          },
          {
           "alignmentgroup": "True",
           "hovertemplate": "TECHNOLOGY=HFSC<br>YEAR=2038<br>TIMESLICE=%{x}<br>Values=%{y}<extra></extra>",
           "legendgroup": "HFSC",
           "marker": {
            "color": "#FECB52",
            "pattern": {
             "shape": ""
            }
           },
           "name": "HFSC",
           "offsetgroup": "HFSC",
           "orientation": "v",
           "showlegend": true,
           "textposition": "auto",
           "type": "bar",
           "x": [
            "ID",
            "IN",
            "SD",
            "SN",
            "WD",
            "WN"
           ],
           "xaxis": "x",
           "y": [
            0,
            0,
            0,
            0,
            0,
            0
           ],
           "yaxis": "y"
          },
          {
           "alignmentgroup": "True",
           "hovertemplate": "TECHNOLOGY=HYDRO_DAM<br>YEAR=2038<br>TIMESLICE=%{x}<br>Values=%{y}<extra></extra>",
           "legendgroup": "HYDRO_DAM",
           "marker": {
            "color": "#636efa",
            "pattern": {
             "shape": ""
            }
           },
           "name": "HYDRO_DAM",
           "offsetgroup": "HYDRO_DAM",
           "orientation": "v",
           "showlegend": true,
           "textposition": "auto",
           "type": "bar",
           "x": [
            "ID",
            "IN",
            "SD",
            "SN",
            "WD",
            "WN"
           ],
           "xaxis": "x",
           "y": [
            5.09567856548633,
            5.09567856548633,
            4.33132678066338,
            4.33132678066338,
            6.36959820685791,
            6.36959820685791
           ],
           "yaxis": "y"
          },
          {
           "alignmentgroup": "True",
           "hovertemplate": "TECHNOLOGY=HYDRO_MIN<br>YEAR=2038<br>TIMESLICE=%{x}<br>Values=%{y}<extra></extra>",
           "legendgroup": "HYDRO_MIN",
           "marker": {
            "color": "#EF553B",
            "pattern": {
             "shape": ""
            }
           },
           "name": "HYDRO_MIN",
           "offsetgroup": "HYDRO_MIN",
           "orientation": "v",
           "showlegend": true,
           "textposition": "auto",
           "type": "bar",
           "x": [
            "ID",
            "IN",
            "SD",
            "SN",
            "WD",
            "WN"
           ],
           "xaxis": "x",
           "y": [
            0,
            2.60445141968155e-16,
            1.04630582732365e-15,
            1.58127407623523e-16,
            1.47926212350175e-31,
            0
           ],
           "yaxis": "y"
          },
          {
           "alignmentgroup": "True",
           "hovertemplate": "TECHNOLOGY=DIESEL_GEN<br>YEAR=2038<br>TIMESLICE=%{x}<br>Values=%{y}<extra></extra>",
           "legendgroup": "DIESEL_GEN",
           "marker": {
            "color": "#00cc96",
            "pattern": {
             "shape": ""
            }
           },
           "name": "DIESEL_GEN",
           "offsetgroup": "DIESEL_GEN",
           "orientation": "v",
           "showlegend": true,
           "textposition": "auto",
           "type": "bar",
           "x": [
            "ID",
            "IN",
            "SD",
            "SN",
            "WD",
            "WN"
           ],
           "xaxis": "x",
           "y": [
            0,
            0,
            0,
            0,
            0,
            0
           ],
           "yaxis": "y"
          },
          {
           "alignmentgroup": "True",
           "hovertemplate": "TECHNOLOGY=CSP<br>YEAR=2038<br>TIMESLICE=%{x}<br>Values=%{y}<extra></extra>",
           "legendgroup": "CSP",
           "marker": {
            "color": "#ab63fa",
            "pattern": {
             "shape": ""
            }
           },
           "name": "CSP",
           "offsetgroup": "CSP",
           "orientation": "v",
           "showlegend": true,
           "textposition": "auto",
           "type": "bar",
           "x": [
            "ID",
            "IN",
            "SD",
            "SN",
            "WD",
            "WN"
           ],
           "xaxis": "x",
           "y": [
            0,
            0,
            0,
            0,
            0,
            0
           ],
           "yaxis": "y"
          },
          {
           "alignmentgroup": "True",
           "hovertemplate": "TECHNOLOGY=PV_UTL<br>YEAR=2038<br>TIMESLICE=%{x}<br>Values=%{y}<extra></extra>",
           "legendgroup": "PV_UTL",
           "marker": {
            "color": "#FFA15A",
            "pattern": {
             "shape": ""
            }
           },
           "name": "PV_UTL",
           "offsetgroup": "PV_UTL",
           "orientation": "v",
           "showlegend": true,
           "textposition": "auto",
           "type": "bar",
           "x": [
            "ID",
            "IN",
            "SD",
            "SN",
            "WD",
            "WN"
           ],
           "xaxis": "x",
           "y": [
            0,
            0,
            0,
            0,
            0,
            0
           ],
           "yaxis": "y"
          },
          {
           "alignmentgroup": "True",
           "hovertemplate": "TECHNOLOGY=PV_ROF<br>YEAR=2038<br>TIMESLICE=%{x}<br>Values=%{y}<extra></extra>",
           "legendgroup": "PV_ROF",
           "marker": {
            "color": "#19d3f3",
            "pattern": {
             "shape": ""
            }
           },
           "name": "PV_ROF",
           "offsetgroup": "PV_ROF",
           "orientation": "v",
           "showlegend": true,
           "textposition": "auto",
           "type": "bar",
           "x": [
            "ID",
            "IN",
            "SD",
            "SN",
            "WD",
            "WN"
           ],
           "xaxis": "x",
           "y": [
            0,
            0,
            0,
            0,
            0,
            0
           ],
           "yaxis": "y"
          },
          {
           "alignmentgroup": "True",
           "hovertemplate": "TECHNOLOGY=WIND<br>YEAR=2038<br>TIMESLICE=%{x}<br>Values=%{y}<extra></extra>",
           "legendgroup": "WIND",
           "marker": {
            "color": "#FF6692",
            "pattern": {
             "shape": ""
            }
           },
           "name": "WIND",
           "offsetgroup": "WIND",
           "orientation": "v",
           "showlegend": true,
           "textposition": "auto",
           "type": "bar",
           "x": [
            "ID",
            "IN",
            "SD",
            "SN",
            "WD",
            "WN"
           ],
           "xaxis": "x",
           "y": [
            2,
            2,
            2,
            2,
            2,
            2
           ],
           "yaxis": "y"
          },
          {
           "alignmentgroup": "True",
           "hovertemplate": "TECHNOLOGY=NGCC<br>YEAR=2038<br>TIMESLICE=%{x}<br>Values=%{y}<extra></extra>",
           "legendgroup": "NGCC",
           "marker": {
            "color": "#B6E880",
            "pattern": {
             "shape": ""
            }
           },
           "name": "NGCC",
           "offsetgroup": "NGCC",
           "orientation": "v",
           "showlegend": true,
           "textposition": "auto",
           "type": "bar",
           "x": [
            "ID",
            "IN",
            "SD",
            "SN",
            "WD",
            "WN"
           ],
           "xaxis": "x",
           "y": [
            0,
            2.42339842787077,
            0.339540960195104,
            0.946265047697062,
            0,
            0
           ],
           "yaxis": "y"
          },
          {
           "alignmentgroup": "True",
           "hovertemplate": "TECHNOLOGY=NUCLEAR<br>YEAR=2038<br>TIMESLICE=%{x}<br>Values=%{y}<extra></extra>",
           "legendgroup": "NUCLEAR",
           "marker": {
            "color": "#FF97FF",
            "pattern": {
             "shape": ""
            }
           },
           "name": "NUCLEAR",
           "offsetgroup": "NUCLEAR",
           "orientation": "v",
           "showlegend": true,
           "textposition": "auto",
           "type": "bar",
           "x": [
            "ID",
            "IN",
            "SD",
            "SN",
            "WD",
            "WN"
           ],
           "xaxis": "x",
           "y": [
            4.67818424741057,
            4.67818424741057,
            4.67818424741057,
            4.67818424741057,
            1.0173088081871,
            1.93064697376097
           ],
           "yaxis": "y"
          },
          {
           "alignmentgroup": "True",
           "hovertemplate": "TECHNOLOGY=TRANS<br>YEAR=2038<br>TIMESLICE=%{x}<br>Values=%{y}<extra></extra>",
           "legendgroup": "TRANS",
           "marker": {
            "color": "#FECB52",
            "pattern": {
             "shape": ""
            }
           },
           "name": "TRANS",
           "offsetgroup": "TRANS",
           "orientation": "v",
           "showlegend": true,
           "textposition": "auto",
           "type": "bar",
           "x": [
            "ID",
            "IN",
            "SD",
            "SN",
            "WD",
            "WN"
           ],
           "xaxis": "x",
           "y": [
            12.7199428128969,
            15.1433412407677,
            12.2951319882691,
            12.901856075771,
            10.332987015045,
            11.2463251806189
           ],
           "yaxis": "y"
          },
          {
           "alignmentgroup": "True",
           "hovertemplate": "TECHNOLOGY=DIST_IND<br>YEAR=2038<br>TIMESLICE=%{x}<br>Values=%{y}<extra></extra>",
           "legendgroup": "DIST_IND",
           "marker": {
            "color": "#636efa",
            "pattern": {
             "shape": ""
            }
           },
           "name": "DIST_IND",
           "offsetgroup": "DIST_IND",
           "orientation": "v",
           "showlegend": true,
           "textposition": "auto",
           "type": "bar",
           "x": [
            "ID",
            "IN",
            "SD",
            "SN",
            "WD",
            "WN"
           ],
           "xaxis": "x",
           "y": [
            4.08029390401374,
            8.1654861200371,
            4.08029390401374,
            8.1654861200371,
            2.040759057303,
            4.08029390401374
           ],
           "yaxis": "y"
          },
          {
           "alignmentgroup": "True",
           "hovertemplate": "TECHNOLOGY=DIST_TRA<br>YEAR=2038<br>TIMESLICE=%{x}<br>Values=%{y}<extra></extra>",
           "legendgroup": "DIST_TRA",
           "marker": {
            "color": "#EF553B",
            "pattern": {
             "shape": ""
            }
           },
           "name": "DIST_TRA",
           "offsetgroup": "DIST_TRA",
           "orientation": "v",
           "showlegend": true,
           "textposition": "auto",
           "type": "bar",
           "x": [
            "ID",
            "IN",
            "SD",
            "SN",
            "WD",
            "WN"
           ],
           "xaxis": "x",
           "y": [
            0.892752412735717,
            0.279152587037295,
            0.418477693456225,
            0.279152587037295,
            0.488370457562269,
            0.223188103181348
           ],
           "yaxis": "y"
          },
          {
           "alignmentgroup": "True",
           "hovertemplate": "TECHNOLOGY=DIST_RES<br>YEAR=2038<br>TIMESLICE=%{x}<br>Values=%{y}<extra></extra>",
           "legendgroup": "DIST_RES",
           "marker": {
            "color": "#00cc96",
            "pattern": {
             "shape": ""
            }
           },
           "name": "DIST_RES",
           "offsetgroup": "DIST_RES",
           "orientation": "v",
           "showlegend": true,
           "textposition": "auto",
           "type": "bar",
           "x": [
            "ID",
            "IN",
            "SD",
            "SN",
            "WD",
            "WN"
           ],
           "xaxis": "x",
           "y": [
            3.01601523432395,
            4.02376742346381,
            3.77001904290494,
            2.51485463966674,
            5.02820021563959,
            5.02669205720658
           ],
           "yaxis": "y"
          },
          {
           "alignmentgroup": "True",
           "hovertemplate": "TECHNOLOGY=DIST_SER<br>YEAR=2038<br>TIMESLICE=%{x}<br>Values=%{y}<extra></extra>",
           "legendgroup": "DIST_SER",
           "marker": {
            "color": "#ab63fa",
            "pattern": {
             "shape": ""
            }
           },
           "name": "DIST_SER",
           "offsetgroup": "DIST_SER",
           "orientation": "v",
           "showlegend": true,
           "textposition": "auto",
           "type": "bar",
           "x": [
            "ID",
            "IN",
            "SD",
            "SN",
            "WD",
            "WN"
           ],
           "xaxis": "x",
           "y": [
            4.53753813106746,
            2.4447563233698,
            3.83945534167247,
            1.74625451667816,
            2.61859588191146,
            1.7452069734718
           ],
           "yaxis": "y"
          }
         ],
         "name": "2038"
        },
        {
         "data": [
          {
           "alignmentgroup": "True",
           "hovertemplate": "TECHNOLOGY=HF_Imp<br>YEAR=2039<br>TIMESLICE=%{x}<br>Values=%{y}<extra></extra>",
           "legendgroup": "HF_Imp",
           "marker": {
            "color": "#EF553B",
            "pattern": {
             "shape": ""
            }
           },
           "name": "HF_Imp",
           "offsetgroup": "HF_Imp",
           "orientation": "v",
           "showlegend": true,
           "textposition": "auto",
           "type": "bar",
           "x": [
            "ID",
            "IN",
            "SD",
            "SN",
            "WD",
            "WN"
           ],
           "xaxis": "x",
           "y": [
            0,
            0,
            0,
            0,
            0,
            0
           ],
           "yaxis": "y"
          },
          {
           "alignmentgroup": "True",
           "hovertemplate": "TECHNOLOGY=DS_Imp<br>YEAR=2039<br>TIMESLICE=%{x}<br>Values=%{y}<extra></extra>",
           "legendgroup": "DS_Imp",
           "marker": {
            "color": "#00cc96",
            "pattern": {
             "shape": ""
            }
           },
           "name": "DS_Imp",
           "offsetgroup": "DS_Imp",
           "orientation": "v",
           "showlegend": true,
           "textposition": "auto",
           "type": "bar",
           "x": [
            "ID",
            "IN",
            "SD",
            "SN",
            "WD",
            "WN"
           ],
           "xaxis": "x",
           "y": [
            0,
            0,
            0,
            0,
            0,
            0
           ],
           "yaxis": "y"
          },
          {
           "alignmentgroup": "True",
           "hovertemplate": "TECHNOLOGY=NG_Imp<br>YEAR=2039<br>TIMESLICE=%{x}<br>Values=%{y}<extra></extra>",
           "legendgroup": "NG_Imp",
           "marker": {
            "color": "#ab63fa",
            "pattern": {
             "shape": ""
            }
           },
           "name": "NG_Imp",
           "offsetgroup": "NG_Imp",
           "orientation": "v",
           "showlegend": true,
           "textposition": "auto",
           "type": "bar",
           "x": [
            "ID",
            "IN",
            "SD",
            "SN",
            "WD",
            "WN"
           ],
           "xaxis": "x",
           "y": [
            0,
            4.95497532800538,
            0.735745330848507,
            1.97659380847029,
            0,
            0
           ],
           "yaxis": "y"
          },
          {
           "alignmentgroup": "True",
           "hovertemplate": "TECHNOLOGY=CO_Imp<br>YEAR=2039<br>TIMESLICE=%{x}<br>Values=%{y}<extra></extra>",
           "legendgroup": "CO_Imp",
           "marker": {
            "color": "#FFA15A",
            "pattern": {
             "shape": ""
            }
           },
           "name": "CO_Imp",
           "offsetgroup": "CO_Imp",
           "orientation": "v",
           "showlegend": true,
           "textposition": "auto",
           "type": "bar",
           "x": [
            "ID",
            "IN",
            "SD",
            "SN",
            "WD",
            "WN"
           ],
           "xaxis": "x",
           "y": [
            1.97068464000001,
            1.97068464000001,
            1.97068464000001,
            1.97068464000001,
            1.97068464000001,
            1.97068464000001
           ],
           "yaxis": "y"
          },
          {
           "alignmentgroup": "True",
           "hovertemplate": "TECHNOLOGY=UR_Imp<br>YEAR=2039<br>TIMESLICE=%{x}<br>Values=%{y}<extra></extra>",
           "legendgroup": "UR_Imp",
           "marker": {
            "color": "#19d3f3",
            "pattern": {
             "shape": ""
            }
           },
           "name": "UR_Imp",
           "offsetgroup": "UR_Imp",
           "orientation": "v",
           "showlegend": true,
           "textposition": "auto",
           "type": "bar",
           "x": [
            "ID",
            "IN",
            "SD",
            "SN",
            "WD",
            "WN"
           ],
           "xaxis": "x",
           "y": [
            15.7994630165684,
            15.7994630165684,
            15.7994630165684,
            15.7994630165684,
            3.15871113672168,
            6.28356370633741
           ],
           "yaxis": "y"
          },
          {
           "alignmentgroup": "True",
           "hovertemplate": "TECHNOLOGY=NGSC<br>YEAR=2039<br>TIMESLICE=%{x}<br>Values=%{y}<extra></extra>",
           "legendgroup": "NGSC",
           "marker": {
            "color": "#FF6692",
            "pattern": {
             "shape": ""
            }
           },
           "name": "NGSC",
           "offsetgroup": "NGSC",
           "orientation": "v",
           "showlegend": true,
           "textposition": "auto",
           "type": "bar",
           "x": [
            "ID",
            "IN",
            "SD",
            "SN",
            "WD",
            "WN"
           ],
           "xaxis": "x",
           "y": [
            0,
            0,
            0,
            0,
            0,
            0
           ],
           "yaxis": "y"
          },
          {
           "alignmentgroup": "True",
           "hovertemplate": "TECHNOLOGY=DSGC<br>YEAR=2039<br>TIMESLICE=%{x}<br>Values=%{y}<extra></extra>",
           "legendgroup": "DSGC",
           "marker": {
            "color": "#B6E880",
            "pattern": {
             "shape": ""
            }
           },
           "name": "DSGC",
           "offsetgroup": "DSGC",
           "orientation": "v",
           "showlegend": true,
           "textposition": "auto",
           "type": "bar",
           "x": [
            "ID",
            "IN",
            "SD",
            "SN",
            "WD",
            "WN"
           ],
           "xaxis": "x",
           "y": [
            0,
            0,
            0,
            0,
            0,
            0
           ],
           "yaxis": "y"
          },
          {
           "alignmentgroup": "True",
           "hovertemplate": "TECHNOLOGY=IGCC<br>YEAR=2039<br>TIMESLICE=%{x}<br>Values=%{y}<extra></extra>",
           "legendgroup": "IGCC",
           "marker": {
            "color": "#FF97FF",
            "pattern": {
             "shape": ""
            }
           },
           "name": "IGCC",
           "offsetgroup": "IGCC",
           "orientation": "v",
           "showlegend": true,
           "textposition": "auto",
           "type": "bar",
           "x": [
            "ID",
            "IN",
            "SD",
            "SN",
            "WD",
            "WN"
           ],
           "xaxis": "x",
           "y": [
            0.946080000000004,
            0.946080000000004,
            0.946080000000004,
            0.946080000000004,
            0.946080000000004,
            0.946080000000004
           ],
           "yaxis": "y"
          },
          {
           "alignmentgroup": "True",
           "hovertemplate": "TECHNOLOGY=HFSC<br>YEAR=2039<br>TIMESLICE=%{x}<br>Values=%{y}<extra></extra>",
           "legendgroup": "HFSC",
           "marker": {
            "color": "#FECB52",
            "pattern": {
             "shape": ""
            }
           },
           "name": "HFSC",
           "offsetgroup": "HFSC",
           "orientation": "v",
           "showlegend": true,
           "textposition": "auto",
           "type": "bar",
           "x": [
            "ID",
            "IN",
            "SD",
            "SN",
            "WD",
            "WN"
           ],
           "xaxis": "x",
           "y": [
            0,
            0,
            0,
            0,
            0,
            0
           ],
           "yaxis": "y"
          },
          {
           "alignmentgroup": "True",
           "hovertemplate": "TECHNOLOGY=HYDRO_DAM<br>YEAR=2039<br>TIMESLICE=%{x}<br>Values=%{y}<extra></extra>",
           "legendgroup": "HYDRO_DAM",
           "marker": {
            "color": "#636efa",
            "pattern": {
             "shape": ""
            }
           },
           "name": "HYDRO_DAM",
           "offsetgroup": "HYDRO_DAM",
           "orientation": "v",
           "showlegend": true,
           "textposition": "auto",
           "type": "bar",
           "x": [
            "ID",
            "IN",
            "SD",
            "SN",
            "WD",
            "WN"
           ],
           "xaxis": "x",
           "y": [
            5.36949099774865,
            5.36949099774865,
            4.56406734808635,
            4.56406734808635,
            6.71186374718582,
            6.71186374718582
           ],
           "yaxis": "y"
          },
          {
           "alignmentgroup": "True",
           "hovertemplate": "TECHNOLOGY=HYDRO_MIN<br>YEAR=2039<br>TIMESLICE=%{x}<br>Values=%{y}<extra></extra>",
           "legendgroup": "HYDRO_MIN",
           "marker": {
            "color": "#EF553B",
            "pattern": {
             "shape": ""
            }
           },
           "name": "HYDRO_MIN",
           "offsetgroup": "HYDRO_MIN",
           "orientation": "v",
           "showlegend": true,
           "textposition": "auto",
           "type": "bar",
           "x": [
            "ID",
            "IN",
            "SD",
            "SN",
            "WD",
            "WN"
           ],
           "xaxis": "x",
           "y": [
            8.88178419700125e-16,
            2.60445141968155e-16,
            1.58127407623523e-16,
            1.58127407623523e-16,
            1.35596562550788e-31,
            2.46519032881566e-32
           ],
           "yaxis": "y"
          },
          {
           "alignmentgroup": "True",
           "hovertemplate": "TECHNOLOGY=DIESEL_GEN<br>YEAR=2039<br>TIMESLICE=%{x}<br>Values=%{y}<extra></extra>",
           "legendgroup": "DIESEL_GEN",
           "marker": {
            "color": "#00cc96",
            "pattern": {
             "shape": ""
            }
           },
           "name": "DIESEL_GEN",
           "offsetgroup": "DIESEL_GEN",
           "orientation": "v",
           "showlegend": true,
           "textposition": "auto",
           "type": "bar",
           "x": [
            "ID",
            "IN",
            "SD",
            "SN",
            "WD",
            "WN"
           ],
           "xaxis": "x",
           "y": [
            0,
            0,
            0,
            0,
            0,
            0
           ],
           "yaxis": "y"
          },
          {
           "alignmentgroup": "True",
           "hovertemplate": "TECHNOLOGY=CSP<br>YEAR=2039<br>TIMESLICE=%{x}<br>Values=%{y}<extra></extra>",
           "legendgroup": "CSP",
           "marker": {
            "color": "#ab63fa",
            "pattern": {
             "shape": ""
            }
           },
           "name": "CSP",
           "offsetgroup": "CSP",
           "orientation": "v",
           "showlegend": true,
           "textposition": "auto",
           "type": "bar",
           "x": [
            "ID",
            "IN",
            "SD",
            "SN",
            "WD",
            "WN"
           ],
           "xaxis": "x",
           "y": [
            0,
            0,
            0,
            0,
            0,
            0
           ],
           "yaxis": "y"
          },
          {
           "alignmentgroup": "True",
           "hovertemplate": "TECHNOLOGY=PV_UTL<br>YEAR=2039<br>TIMESLICE=%{x}<br>Values=%{y}<extra></extra>",
           "legendgroup": "PV_UTL",
           "marker": {
            "color": "#FFA15A",
            "pattern": {
             "shape": ""
            }
           },
           "name": "PV_UTL",
           "offsetgroup": "PV_UTL",
           "orientation": "v",
           "showlegend": true,
           "textposition": "auto",
           "type": "bar",
           "x": [
            "ID",
            "IN",
            "SD",
            "SN",
            "WD",
            "WN"
           ],
           "xaxis": "x",
           "y": [
            0,
            0,
            0,
            0,
            0,
            0
           ],
           "yaxis": "y"
          },
          {
           "alignmentgroup": "True",
           "hovertemplate": "TECHNOLOGY=PV_ROF<br>YEAR=2039<br>TIMESLICE=%{x}<br>Values=%{y}<extra></extra>",
           "legendgroup": "PV_ROF",
           "marker": {
            "color": "#19d3f3",
            "pattern": {
             "shape": ""
            }
           },
           "name": "PV_ROF",
           "offsetgroup": "PV_ROF",
           "orientation": "v",
           "showlegend": true,
           "textposition": "auto",
           "type": "bar",
           "x": [
            "ID",
            "IN",
            "SD",
            "SN",
            "WD",
            "WN"
           ],
           "xaxis": "x",
           "y": [
            0,
            0,
            0,
            0,
            0,
            0
           ],
           "yaxis": "y"
          },
          {
           "alignmentgroup": "True",
           "hovertemplate": "TECHNOLOGY=WIND<br>YEAR=2039<br>TIMESLICE=%{x}<br>Values=%{y}<extra></extra>",
           "legendgroup": "WIND",
           "marker": {
            "color": "#FF6692",
            "pattern": {
             "shape": ""
            }
           },
           "name": "WIND",
           "offsetgroup": "WIND",
           "orientation": "v",
           "showlegend": true,
           "textposition": "auto",
           "type": "bar",
           "x": [
            "ID",
            "IN",
            "SD",
            "SN",
            "WD",
            "WN"
           ],
           "xaxis": "x",
           "y": [
            2,
            2,
            2,
            2,
            2,
            2
           ],
           "yaxis": "y"
          },
          {
           "alignmentgroup": "True",
           "hovertemplate": "TECHNOLOGY=NGCC<br>YEAR=2039<br>TIMESLICE=%{x}<br>Values=%{y}<extra></extra>",
           "legendgroup": "NGCC",
           "marker": {
            "color": "#B6E880",
            "pattern": {
             "shape": ""
            }
           },
           "name": "NGCC",
           "offsetgroup": "NGCC",
           "orientation": "v",
           "showlegend": true,
           "textposition": "auto",
           "type": "bar",
           "x": [
            "ID",
            "IN",
            "SD",
            "SN",
            "WD",
            "WN"
           ],
           "xaxis": "x",
           "y": [
            0,
            2.48739745546527,
            0.369344132447926,
            0.992250028348085,
            0,
            0
           ],
           "yaxis": "y"
          },
          {
           "alignmentgroup": "True",
           "hovertemplate": "TECHNOLOGY=NUCLEAR<br>YEAR=2039<br>TIMESLICE=%{x}<br>Values=%{y}<extra></extra>",
           "legendgroup": "NUCLEAR",
           "marker": {
            "color": "#FF97FF",
            "pattern": {
             "shape": ""
            }
           },
           "name": "NUCLEAR",
           "offsetgroup": "NUCLEAR",
           "orientation": "v",
           "showlegend": true,
           "textposition": "auto",
           "type": "bar",
           "x": [
            "ID",
            "IN",
            "SD",
            "SN",
            "WD",
            "WN"
           ],
           "xaxis": "x",
           "y": [
            4.73983890497052,
            4.73983890497053,
            4.73983890497053,
            4.73983890497053,
            0.947613341016506,
            1.88506911190123
           ],
           "yaxis": "y"
          },
          {
           "alignmentgroup": "True",
           "hovertemplate": "TECHNOLOGY=TRANS<br>YEAR=2039<br>TIMESLICE=%{x}<br>Values=%{y}<extra></extra>",
           "legendgroup": "TRANS",
           "marker": {
            "color": "#FECB52",
            "pattern": {
             "shape": ""
            }
           },
           "name": "TRANS",
           "offsetgroup": "TRANS",
           "orientation": "v",
           "showlegend": true,
           "textposition": "auto",
           "type": "bar",
           "x": [
            "ID",
            "IN",
            "SD",
            "SN",
            "WD",
            "WN"
           ],
           "xaxis": "x",
           "y": [
            13.0554099027192,
            15.5428073581845,
            12.6193303855048,
            13.242236281405,
            10.6055570882023,
            11.543012859087
           ],
           "yaxis": "y"
          },
          {
           "alignmentgroup": "True",
           "hovertemplate": "TECHNOLOGY=DIST_IND<br>YEAR=2039<br>TIMESLICE=%{x}<br>Values=%{y}<extra></extra>",
           "legendgroup": "DIST_IND",
           "marker": {
            "color": "#636efa",
            "pattern": {
             "shape": ""
            }
           },
           "name": "DIST_IND",
           "offsetgroup": "DIST_IND",
           "orientation": "v",
           "showlegend": true,
           "textposition": "auto",
           "type": "bar",
           "x": [
            "ID",
            "IN",
            "SD",
            "SN",
            "WD",
            "WN"
           ],
           "xaxis": "x",
           "y": [
            4.18796976445968,
            8.3809671036666,
            4.18796976445968,
            8.3809671036666,
            2.09461314052034,
            4.18796976445968
           ],
           "yaxis": "y"
          },
          {
           "alignmentgroup": "True",
           "hovertemplate": "TECHNOLOGY=DIST_TRA<br>YEAR=2039<br>TIMESLICE=%{x}<br>Values=%{y}<extra></extra>",
           "legendgroup": "DIST_TRA",
           "marker": {
            "color": "#EF553B",
            "pattern": {
             "shape": ""
            }
           },
           "name": "DIST_TRA",
           "offsetgroup": "DIST_TRA",
           "orientation": "v",
           "showlegend": true,
           "textposition": "auto",
           "type": "bar",
           "x": [
            "ID",
            "IN",
            "SD",
            "SN",
            "WD",
            "WN"
           ],
           "xaxis": "x",
           "y": [
            0.916559143734048,
            0.286596656024956,
            0.429637098612147,
            0.286596656024956,
            0.501393669750541,
            0.229139785932851
           ],
           "yaxis": "y"
          },
          {
           "alignmentgroup": "True",
           "hovertemplate": "TECHNOLOGY=DIST_RES<br>YEAR=2039<br>TIMESLICE=%{x}<br>Values=%{y}<extra></extra>",
           "legendgroup": "DIST_RES",
           "marker": {
            "color": "#00cc96",
            "pattern": {
             "shape": ""
            }
           },
           "name": "DIST_RES",
           "offsetgroup": "DIST_RES",
           "orientation": "v",
           "showlegend": true,
           "textposition": "auto",
           "type": "bar",
           "x": [
            "ID",
            "IN",
            "SD",
            "SN",
            "WD",
            "WN"
           ],
           "xaxis": "x",
           "y": [
            3.0956189911253,
            4.12996947435444,
            3.86952373890662,
            2.58123092146707,
            5.16091294950082,
            5.15936498520883
           ],
           "yaxis": "y"
          },
          {
           "alignmentgroup": "True",
           "hovertemplate": "TECHNOLOGY=DIST_SER<br>YEAR=2039<br>TIMESLICE=%{x}<br>Values=%{y}<extra></extra>",
           "legendgroup": "DIST_SER",
           "marker": {
            "color": "#ab63fa",
            "pattern": {
             "shape": ""
            }
           },
           "name": "DIST_SER",
           "offsetgroup": "DIST_SER",
           "orientation": "v",
           "showlegend": true,
           "textposition": "auto",
           "type": "bar",
           "x": [
            "ID",
            "IN",
            "SD",
            "SN",
            "WD",
            "WN"
           ],
           "xaxis": "x",
           "y": [
            4.65681977287883,
            2.50902345229406,
            3.9403859616667,
            1.792159608769,
            2.68743286068995,
            1.79108452802757
           ],
           "yaxis": "y"
          }
         ],
         "name": "2039"
        },
        {
         "data": [
          {
           "alignmentgroup": "True",
           "hovertemplate": "TECHNOLOGY=HF_Imp<br>YEAR=2040<br>TIMESLICE=%{x}<br>Values=%{y}<extra></extra>",
           "legendgroup": "HF_Imp",
           "marker": {
            "color": "#EF553B",
            "pattern": {
             "shape": ""
            }
           },
           "name": "HF_Imp",
           "offsetgroup": "HF_Imp",
           "orientation": "v",
           "showlegend": true,
           "textposition": "auto",
           "type": "bar",
           "x": [
            "ID",
            "IN",
            "SD",
            "SN",
            "WD",
            "WN"
           ],
           "xaxis": "x",
           "y": [
            0,
            0,
            0,
            0,
            0,
            0
           ],
           "yaxis": "y"
          },
          {
           "alignmentgroup": "True",
           "hovertemplate": "TECHNOLOGY=DS_Imp<br>YEAR=2040<br>TIMESLICE=%{x}<br>Values=%{y}<extra></extra>",
           "legendgroup": "DS_Imp",
           "marker": {
            "color": "#00cc96",
            "pattern": {
             "shape": ""
            }
           },
           "name": "DS_Imp",
           "offsetgroup": "DS_Imp",
           "orientation": "v",
           "showlegend": true,
           "textposition": "auto",
           "type": "bar",
           "x": [
            "ID",
            "IN",
            "SD",
            "SN",
            "WD",
            "WN"
           ],
           "xaxis": "x",
           "y": [
            0,
            0,
            0,
            0,
            0,
            0
           ],
           "yaxis": "y"
          },
          {
           "alignmentgroup": "True",
           "hovertemplate": "TECHNOLOGY=NG_Imp<br>YEAR=2040<br>TIMESLICE=%{x}<br>Values=%{y}<extra></extra>",
           "legendgroup": "NG_Imp",
           "marker": {
            "color": "#ab63fa",
            "pattern": {
             "shape": ""
            }
           },
           "name": "NG_Imp",
           "offsetgroup": "NG_Imp",
           "orientation": "v",
           "showlegend": true,
           "textposition": "auto",
           "type": "bar",
           "x": [
            "ID",
            "IN",
            "SD",
            "SN",
            "WD",
            "WN"
           ],
           "xaxis": "x",
           "y": [
            0,
            5.08668808597434,
            0.797061150220827,
            2.07085413663245,
            0,
            0
           ],
           "yaxis": "y"
          },
          {
           "alignmentgroup": "True",
           "hovertemplate": "TECHNOLOGY=CO_Imp<br>YEAR=2040<br>TIMESLICE=%{x}<br>Values=%{y}<extra></extra>",
           "legendgroup": "CO_Imp",
           "marker": {
            "color": "#FFA15A",
            "pattern": {
             "shape": ""
            }
           },
           "name": "CO_Imp",
           "offsetgroup": "CO_Imp",
           "orientation": "v",
           "showlegend": true,
           "textposition": "auto",
           "type": "bar",
           "x": [
            "ID",
            "IN",
            "SD",
            "SN",
            "WD",
            "WN"
           ],
           "xaxis": "x",
           "y": [
            1.97068464,
            1.97068464,
            1.97068464,
            1.97068464,
            1.97068464,
            1.97068464
           ],
           "yaxis": "y"
          },
          {
           "alignmentgroup": "True",
           "hovertemplate": "TECHNOLOGY=UR_Imp<br>YEAR=2040<br>TIMESLICE=%{x}<br>Values=%{y}<extra></extra>",
           "legendgroup": "UR_Imp",
           "marker": {
            "color": "#19d3f3",
            "pattern": {
             "shape": ""
            }
           },
           "name": "UR_Imp",
           "offsetgroup": "UR_Imp",
           "orientation": "v",
           "showlegend": true,
           "textposition": "auto",
           "type": "bar",
           "x": [
            "ID",
            "IN",
            "SD",
            "SN",
            "WD",
            "WN"
           ],
           "xaxis": "x",
           "y": [
            16.0167295987469,
            16.0167295987469,
            16.0167295987469,
            16.0167295987469,
            2.91378941840186,
            6.12159080667786
           ],
           "yaxis": "y"
          },
          {
           "alignmentgroup": "True",
           "hovertemplate": "TECHNOLOGY=NGSC<br>YEAR=2040<br>TIMESLICE=%{x}<br>Values=%{y}<extra></extra>",
           "legendgroup": "NGSC",
           "marker": {
            "color": "#FF6692",
            "pattern": {
             "shape": ""
            }
           },
           "name": "NGSC",
           "offsetgroup": "NGSC",
           "orientation": "v",
           "showlegend": true,
           "textposition": "auto",
           "type": "bar",
           "x": [
            "ID",
            "IN",
            "SD",
            "SN",
            "WD",
            "WN"
           ],
           "xaxis": "x",
           "y": [
            0,
            0,
            0,
            0,
            0,
            0
           ],
           "yaxis": "y"
          },
          {
           "alignmentgroup": "True",
           "hovertemplate": "TECHNOLOGY=DSGC<br>YEAR=2040<br>TIMESLICE=%{x}<br>Values=%{y}<extra></extra>",
           "legendgroup": "DSGC",
           "marker": {
            "color": "#B6E880",
            "pattern": {
             "shape": ""
            }
           },
           "name": "DSGC",
           "offsetgroup": "DSGC",
           "orientation": "v",
           "showlegend": true,
           "textposition": "auto",
           "type": "bar",
           "x": [
            "ID",
            "IN",
            "SD",
            "SN",
            "WD",
            "WN"
           ],
           "xaxis": "x",
           "y": [
            0,
            0,
            0,
            0,
            0,
            0
           ],
           "yaxis": "y"
          },
          {
           "alignmentgroup": "True",
           "hovertemplate": "TECHNOLOGY=IGCC<br>YEAR=2040<br>TIMESLICE=%{x}<br>Values=%{y}<extra></extra>",
           "legendgroup": "IGCC",
           "marker": {
            "color": "#FF97FF",
            "pattern": {
             "shape": ""
            }
           },
           "name": "IGCC",
           "offsetgroup": "IGCC",
           "orientation": "v",
           "showlegend": true,
           "textposition": "auto",
           "type": "bar",
           "x": [
            "ID",
            "IN",
            "SD",
            "SN",
            "WD",
            "WN"
           ],
           "xaxis": "x",
           "y": [
            0.946080000000001,
            0.946080000000001,
            0.946080000000001,
            0.946080000000001,
            0.946080000000001,
            0.946080000000001
           ],
           "yaxis": "y"
          },
          {
           "alignmentgroup": "True",
           "hovertemplate": "TECHNOLOGY=HFSC<br>YEAR=2040<br>TIMESLICE=%{x}<br>Values=%{y}<extra></extra>",
           "legendgroup": "HFSC",
           "marker": {
            "color": "#FECB52",
            "pattern": {
             "shape": ""
            }
           },
           "name": "HFSC",
           "offsetgroup": "HFSC",
           "orientation": "v",
           "showlegend": true,
           "textposition": "auto",
           "type": "bar",
           "x": [
            "ID",
            "IN",
            "SD",
            "SN",
            "WD",
            "WN"
           ],
           "xaxis": "x",
           "y": [
            0,
            0,
            0,
            0,
            0,
            0
           ],
           "yaxis": "y"
          },
          {
           "alignmentgroup": "True",
           "hovertemplate": "TECHNOLOGY=HYDRO_DAM<br>YEAR=2040<br>TIMESLICE=%{x}<br>Values=%{y}<extra></extra>",
           "legendgroup": "HYDRO_DAM",
           "marker": {
            "color": "#636efa",
            "pattern": {
             "shape": ""
            }
           },
           "name": "HYDRO_DAM",
           "offsetgroup": "HYDRO_DAM",
           "orientation": "v",
           "showlegend": true,
           "textposition": "auto",
           "type": "bar",
           "x": [
            "ID",
            "IN",
            "SD",
            "SN",
            "WD",
            "WN"
           ],
           "xaxis": "x",
           "y": [
            5.65737364129595,
            5.65737364129595,
            4.80876759510156,
            4.80876759510156,
            7.07171705161994,
            7.07171705161994
           ],
           "yaxis": "y"
          },
          {
           "alignmentgroup": "True",
           "hovertemplate": "TECHNOLOGY=HYDRO_MIN<br>YEAR=2040<br>TIMESLICE=%{x}<br>Values=%{y}<extra></extra>",
           "legendgroup": "HYDRO_MIN",
           "marker": {
            "color": "#EF553B",
            "pattern": {
             "shape": ""
            }
           },
           "name": "HYDRO_MIN",
           "offsetgroup": "HYDRO_MIN",
           "orientation": "v",
           "showlegend": true,
           "textposition": "auto",
           "type": "bar",
           "x": [
            "ID",
            "IN",
            "SD",
            "SN",
            "WD",
            "WN"
           ],
           "xaxis": "x",
           "y": [
            8.88178419700125e-16,
            2.60445141968155e-16,
            1.58127407623523e-16,
            1.58127407623523e-16,
            0,
            0
           ],
           "yaxis": "y"
          },
          {
           "alignmentgroup": "True",
           "hovertemplate": "TECHNOLOGY=DIESEL_GEN<br>YEAR=2040<br>TIMESLICE=%{x}<br>Values=%{y}<extra></extra>",
           "legendgroup": "DIESEL_GEN",
           "marker": {
            "color": "#00cc96",
            "pattern": {
             "shape": ""
            }
           },
           "name": "DIESEL_GEN",
           "offsetgroup": "DIESEL_GEN",
           "orientation": "v",
           "showlegend": true,
           "textposition": "auto",
           "type": "bar",
           "x": [
            "ID",
            "IN",
            "SD",
            "SN",
            "WD",
            "WN"
           ],
           "xaxis": "x",
           "y": [
            0,
            0,
            0,
            0,
            0,
            0
           ],
           "yaxis": "y"
          },
          {
           "alignmentgroup": "True",
           "hovertemplate": "TECHNOLOGY=CSP<br>YEAR=2040<br>TIMESLICE=%{x}<br>Values=%{y}<extra></extra>",
           "legendgroup": "CSP",
           "marker": {
            "color": "#ab63fa",
            "pattern": {
             "shape": ""
            }
           },
           "name": "CSP",
           "offsetgroup": "CSP",
           "orientation": "v",
           "showlegend": true,
           "textposition": "auto",
           "type": "bar",
           "x": [
            "ID",
            "IN",
            "SD",
            "SN",
            "WD",
            "WN"
           ],
           "xaxis": "x",
           "y": [
            0,
            0,
            0,
            0,
            0,
            0
           ],
           "yaxis": "y"
          },
          {
           "alignmentgroup": "True",
           "hovertemplate": "TECHNOLOGY=PV_UTL<br>YEAR=2040<br>TIMESLICE=%{x}<br>Values=%{y}<extra></extra>",
           "legendgroup": "PV_UTL",
           "marker": {
            "color": "#FFA15A",
            "pattern": {
             "shape": ""
            }
           },
           "name": "PV_UTL",
           "offsetgroup": "PV_UTL",
           "orientation": "v",
           "showlegend": true,
           "textposition": "auto",
           "type": "bar",
           "x": [
            "ID",
            "IN",
            "SD",
            "SN",
            "WD",
            "WN"
           ],
           "xaxis": "x",
           "y": [
            0,
            0,
            0,
            0,
            0,
            0
           ],
           "yaxis": "y"
          },
          {
           "alignmentgroup": "True",
           "hovertemplate": "TECHNOLOGY=PV_ROF<br>YEAR=2040<br>TIMESLICE=%{x}<br>Values=%{y}<extra></extra>",
           "legendgroup": "PV_ROF",
           "marker": {
            "color": "#19d3f3",
            "pattern": {
             "shape": ""
            }
           },
           "name": "PV_ROF",
           "offsetgroup": "PV_ROF",
           "orientation": "v",
           "showlegend": true,
           "textposition": "auto",
           "type": "bar",
           "x": [
            "ID",
            "IN",
            "SD",
            "SN",
            "WD",
            "WN"
           ],
           "xaxis": "x",
           "y": [
            0,
            0,
            0,
            0,
            0,
            0
           ],
           "yaxis": "y"
          },
          {
           "alignmentgroup": "True",
           "hovertemplate": "TECHNOLOGY=WIND<br>YEAR=2040<br>TIMESLICE=%{x}<br>Values=%{y}<extra></extra>",
           "legendgroup": "WIND",
           "marker": {
            "color": "#FF6692",
            "pattern": {
             "shape": ""
            }
           },
           "name": "WIND",
           "offsetgroup": "WIND",
           "orientation": "v",
           "showlegend": true,
           "textposition": "auto",
           "type": "bar",
           "x": [
            "ID",
            "IN",
            "SD",
            "SN",
            "WD",
            "WN"
           ],
           "xaxis": "x",
           "y": [
            2,
            2,
            2,
            2,
            2,
            2
           ],
           "yaxis": "y"
          },
          {
           "alignmentgroup": "True",
           "hovertemplate": "TECHNOLOGY=NGCC<br>YEAR=2040<br>TIMESLICE=%{x}<br>Values=%{y}<extra></extra>",
           "legendgroup": "NGCC",
           "marker": {
            "color": "#B6E880",
            "pattern": {
             "shape": ""
            }
           },
           "name": "NGCC",
           "offsetgroup": "NGCC",
           "orientation": "v",
           "showlegend": true,
           "textposition": "auto",
           "type": "bar",
           "x": [
            "ID",
            "IN",
            "SD",
            "SN",
            "WD",
            "WN"
           ],
           "xaxis": "x",
           "y": [
            0,
            2.55351725573402,
            0.400124671802876,
            1.03956871005709,
            0,
            0
           ],
           "yaxis": "y"
          },
          {
           "alignmentgroup": "True",
           "hovertemplate": "TECHNOLOGY=NUCLEAR<br>YEAR=2040<br>TIMESLICE=%{x}<br>Values=%{y}<extra></extra>",
           "legendgroup": "NUCLEAR",
           "marker": {
            "color": "#FF97FF",
            "pattern": {
             "shape": ""
            }
           },
           "name": "NUCLEAR",
           "offsetgroup": "NUCLEAR",
           "orientation": "v",
           "showlegend": true,
           "textposition": "auto",
           "type": "bar",
           "x": [
            "ID",
            "IN",
            "SD",
            "SN",
            "WD",
            "WN"
           ],
           "xaxis": "x",
           "y": [
            4.80501887962408,
            4.80501887962408,
            4.80501887962408,
            4.80501887962408,
            0.874136825520558,
            1.83647724200336
           ],
           "yaxis": "y"
          },
          {
           "alignmentgroup": "True",
           "hovertemplate": "TECHNOLOGY=TRANS<br>YEAR=2040<br>TIMESLICE=%{x}<br>Values=%{y}<extra></extra>",
           "legendgroup": "TRANS",
           "marker": {
            "color": "#FECB52",
            "pattern": {
             "shape": ""
            }
           },
           "name": "TRANS",
           "offsetgroup": "TRANS",
           "orientation": "v",
           "showlegend": true,
           "textposition": "auto",
           "type": "bar",
           "x": [
            "ID",
            "IN",
            "SD",
            "SN",
            "WD",
            "WN"
           ],
           "xaxis": "x",
           "y": [
            13.40847252092,
            15.961989776654,
            12.9599911465285,
            13.5994351847827,
            10.8919338771405,
            11.8542742936233
           ],
           "yaxis": "y"
          },
          {
           "alignmentgroup": "True",
           "hovertemplate": "TECHNOLOGY=DIST_IND<br>YEAR=2040<br>TIMESLICE=%{x}<br>Values=%{y}<extra></extra>",
           "legendgroup": "DIST_IND",
           "marker": {
            "color": "#636efa",
            "pattern": {
             "shape": ""
            }
           },
           "name": "DIST_IND",
           "offsetgroup": "DIST_IND",
           "orientation": "v",
           "showlegend": true,
           "textposition": "auto",
           "type": "bar",
           "x": [
            "ID",
            "IN",
            "SD",
            "SN",
            "WD",
            "WN"
           ],
           "xaxis": "x",
           "y": [
            4.30082234896551,
            8.6068077499706,
            4.30082234896551,
            8.6068077499706,
            2.15105636235389,
            4.30082234896551
           ],
           "yaxis": "y"
          },
          {
           "alignmentgroup": "True",
           "hovertemplate": "TECHNOLOGY=DIST_TRA<br>YEAR=2040<br>TIMESLICE=%{x}<br>Values=%{y}<extra></extra>",
           "legendgroup": "DIST_TRA",
           "marker": {
            "color": "#EF553B",
            "pattern": {
             "shape": ""
            }
           },
           "name": "DIST_TRA",
           "offsetgroup": "DIST_TRA",
           "orientation": "v",
           "showlegend": true,
           "textposition": "auto",
           "type": "bar",
           "x": [
            "ID",
            "IN",
            "SD",
            "SN",
            "WD",
            "WN"
           ],
           "xaxis": "x",
           "y": [
            0.942349768985878,
            0.294661064094923,
            0.441726454228046,
            0.294661064094923,
            0.515502149632084,
            0.235587442246978
           ],
           "yaxis": "y"
          },
          {
           "alignmentgroup": "True",
           "hovertemplate": "TECHNOLOGY=DIST_RES<br>YEAR=2040<br>TIMESLICE=%{x}<br>Values=%{y}<extra></extra>",
           "legendgroup": "DIST_RES",
           "marker": {
            "color": "#00cc96",
            "pattern": {
             "shape": ""
            }
           },
           "name": "DIST_RES",
           "offsetgroup": "DIST_RES",
           "orientation": "v",
           "showlegend": true,
           "textposition": "auto",
           "type": "bar",
           "x": [
            "ID",
            "IN",
            "SD",
            "SN",
            "WD",
            "WN"
           ],
           "xaxis": "x",
           "y": [
            3.17894254964633,
            4.24113423790351,
            3.97367818705792,
            2.65070889869821,
            5.29982721298174,
            5.29823758274389
           ],
           "yaxis": "y"
          },
          {
           "alignmentgroup": "True",
           "hovertemplate": "TECHNOLOGY=DIST_SER<br>YEAR=2040<br>TIMESLICE=%{x}<br>Values=%{y}<extra></extra>",
           "legendgroup": "DIST_SER",
           "marker": {
            "color": "#ab63fa",
            "pattern": {
             "shape": ""
            }
           },
           "name": "DIST_SER",
           "offsetgroup": "DIST_SER",
           "orientation": "v",
           "showlegend": true,
           "textposition": "auto",
           "type": "bar",
           "x": [
            "ID",
            "IN",
            "SD",
            "SN",
            "WD",
            "WN"
           ],
           "xaxis": "x",
           "y": [
            4.78254907100432,
            2.57676448007987,
            4.04677229084981,
            1.8405460572103,
            2.75999075724025,
            1.83944195040385
           ],
           "yaxis": "y"
          }
         ],
         "name": "2040"
        }
       ],
       "layout": {
        "barmode": "relative",
        "height": 600,
        "legend": {
         "title": {
          "text": "TECHNOLOGY"
         },
         "tracegroupgap": 0
        },
        "margin": {
         "t": 60
        },
        "sliders": [
         {
          "active": 0,
          "currentvalue": {
           "prefix": "YEAR="
          },
          "len": 0.9,
          "pad": {
           "b": 10,
           "t": 60
          },
          "steps": [
           {
            "args": [
             [
              "2014"
             ],
             {
              "frame": {
               "duration": 0,
               "redraw": true
              },
              "fromcurrent": true,
              "mode": "immediate",
              "transition": {
               "duration": 0,
               "easing": "linear"
              }
             }
            ],
            "label": "2014",
            "method": "animate"
           },
           {
            "args": [
             [
              "2015"
             ],
             {
              "frame": {
               "duration": 0,
               "redraw": true
              },
              "fromcurrent": true,
              "mode": "immediate",
              "transition": {
               "duration": 0,
               "easing": "linear"
              }
             }
            ],
            "label": "2015",
            "method": "animate"
           },
           {
            "args": [
             [
              "2016"
             ],
             {
              "frame": {
               "duration": 0,
               "redraw": true
              },
              "fromcurrent": true,
              "mode": "immediate",
              "transition": {
               "duration": 0,
               "easing": "linear"
              }
             }
            ],
            "label": "2016",
            "method": "animate"
           },
           {
            "args": [
             [
              "2017"
             ],
             {
              "frame": {
               "duration": 0,
               "redraw": true
              },
              "fromcurrent": true,
              "mode": "immediate",
              "transition": {
               "duration": 0,
               "easing": "linear"
              }
             }
            ],
            "label": "2017",
            "method": "animate"
           },
           {
            "args": [
             [
              "2018"
             ],
             {
              "frame": {
               "duration": 0,
               "redraw": true
              },
              "fromcurrent": true,
              "mode": "immediate",
              "transition": {
               "duration": 0,
               "easing": "linear"
              }
             }
            ],
            "label": "2018",
            "method": "animate"
           },
           {
            "args": [
             [
              "2019"
             ],
             {
              "frame": {
               "duration": 0,
               "redraw": true
              },
              "fromcurrent": true,
              "mode": "immediate",
              "transition": {
               "duration": 0,
               "easing": "linear"
              }
             }
            ],
            "label": "2019",
            "method": "animate"
           },
           {
            "args": [
             [
              "2020"
             ],
             {
              "frame": {
               "duration": 0,
               "redraw": true
              },
              "fromcurrent": true,
              "mode": "immediate",
              "transition": {
               "duration": 0,
               "easing": "linear"
              }
             }
            ],
            "label": "2020",
            "method": "animate"
           },
           {
            "args": [
             [
              "2021"
             ],
             {
              "frame": {
               "duration": 0,
               "redraw": true
              },
              "fromcurrent": true,
              "mode": "immediate",
              "transition": {
               "duration": 0,
               "easing": "linear"
              }
             }
            ],
            "label": "2021",
            "method": "animate"
           },
           {
            "args": [
             [
              "2022"
             ],
             {
              "frame": {
               "duration": 0,
               "redraw": true
              },
              "fromcurrent": true,
              "mode": "immediate",
              "transition": {
               "duration": 0,
               "easing": "linear"
              }
             }
            ],
            "label": "2022",
            "method": "animate"
           },
           {
            "args": [
             [
              "2023"
             ],
             {
              "frame": {
               "duration": 0,
               "redraw": true
              },
              "fromcurrent": true,
              "mode": "immediate",
              "transition": {
               "duration": 0,
               "easing": "linear"
              }
             }
            ],
            "label": "2023",
            "method": "animate"
           },
           {
            "args": [
             [
              "2024"
             ],
             {
              "frame": {
               "duration": 0,
               "redraw": true
              },
              "fromcurrent": true,
              "mode": "immediate",
              "transition": {
               "duration": 0,
               "easing": "linear"
              }
             }
            ],
            "label": "2024",
            "method": "animate"
           },
           {
            "args": [
             [
              "2025"
             ],
             {
              "frame": {
               "duration": 0,
               "redraw": true
              },
              "fromcurrent": true,
              "mode": "immediate",
              "transition": {
               "duration": 0,
               "easing": "linear"
              }
             }
            ],
            "label": "2025",
            "method": "animate"
           },
           {
            "args": [
             [
              "2026"
             ],
             {
              "frame": {
               "duration": 0,
               "redraw": true
              },
              "fromcurrent": true,
              "mode": "immediate",
              "transition": {
               "duration": 0,
               "easing": "linear"
              }
             }
            ],
            "label": "2026",
            "method": "animate"
           },
           {
            "args": [
             [
              "2027"
             ],
             {
              "frame": {
               "duration": 0,
               "redraw": true
              },
              "fromcurrent": true,
              "mode": "immediate",
              "transition": {
               "duration": 0,
               "easing": "linear"
              }
             }
            ],
            "label": "2027",
            "method": "animate"
           },
           {
            "args": [
             [
              "2028"
             ],
             {
              "frame": {
               "duration": 0,
               "redraw": true
              },
              "fromcurrent": true,
              "mode": "immediate",
              "transition": {
               "duration": 0,
               "easing": "linear"
              }
             }
            ],
            "label": "2028",
            "method": "animate"
           },
           {
            "args": [
             [
              "2029"
             ],
             {
              "frame": {
               "duration": 0,
               "redraw": true
              },
              "fromcurrent": true,
              "mode": "immediate",
              "transition": {
               "duration": 0,
               "easing": "linear"
              }
             }
            ],
            "label": "2029",
            "method": "animate"
           },
           {
            "args": [
             [
              "2030"
             ],
             {
              "frame": {
               "duration": 0,
               "redraw": true
              },
              "fromcurrent": true,
              "mode": "immediate",
              "transition": {
               "duration": 0,
               "easing": "linear"
              }
             }
            ],
            "label": "2030",
            "method": "animate"
           },
           {
            "args": [
             [
              "2031"
             ],
             {
              "frame": {
               "duration": 0,
               "redraw": true
              },
              "fromcurrent": true,
              "mode": "immediate",
              "transition": {
               "duration": 0,
               "easing": "linear"
              }
             }
            ],
            "label": "2031",
            "method": "animate"
           },
           {
            "args": [
             [
              "2032"
             ],
             {
              "frame": {
               "duration": 0,
               "redraw": true
              },
              "fromcurrent": true,
              "mode": "immediate",
              "transition": {
               "duration": 0,
               "easing": "linear"
              }
             }
            ],
            "label": "2032",
            "method": "animate"
           },
           {
            "args": [
             [
              "2033"
             ],
             {
              "frame": {
               "duration": 0,
               "redraw": true
              },
              "fromcurrent": true,
              "mode": "immediate",
              "transition": {
               "duration": 0,
               "easing": "linear"
              }
             }
            ],
            "label": "2033",
            "method": "animate"
           },
           {
            "args": [
             [
              "2034"
             ],
             {
              "frame": {
               "duration": 0,
               "redraw": true
              },
              "fromcurrent": true,
              "mode": "immediate",
              "transition": {
               "duration": 0,
               "easing": "linear"
              }
             }
            ],
            "label": "2034",
            "method": "animate"
           },
           {
            "args": [
             [
              "2035"
             ],
             {
              "frame": {
               "duration": 0,
               "redraw": true
              },
              "fromcurrent": true,
              "mode": "immediate",
              "transition": {
               "duration": 0,
               "easing": "linear"
              }
             }
            ],
            "label": "2035",
            "method": "animate"
           },
           {
            "args": [
             [
              "2036"
             ],
             {
              "frame": {
               "duration": 0,
               "redraw": true
              },
              "fromcurrent": true,
              "mode": "immediate",
              "transition": {
               "duration": 0,
               "easing": "linear"
              }
             }
            ],
            "label": "2036",
            "method": "animate"
           },
           {
            "args": [
             [
              "2037"
             ],
             {
              "frame": {
               "duration": 0,
               "redraw": true
              },
              "fromcurrent": true,
              "mode": "immediate",
              "transition": {
               "duration": 0,
               "easing": "linear"
              }
             }
            ],
            "label": "2037",
            "method": "animate"
           },
           {
            "args": [
             [
              "2038"
             ],
             {
              "frame": {
               "duration": 0,
               "redraw": true
              },
              "fromcurrent": true,
              "mode": "immediate",
              "transition": {
               "duration": 0,
               "easing": "linear"
              }
             }
            ],
            "label": "2038",
            "method": "animate"
           },
           {
            "args": [
             [
              "2039"
             ],
             {
              "frame": {
               "duration": 0,
               "redraw": true
              },
              "fromcurrent": true,
              "mode": "immediate",
              "transition": {
               "duration": 0,
               "easing": "linear"
              }
             }
            ],
            "label": "2039",
            "method": "animate"
           },
           {
            "args": [
             [
              "2040"
             ],
             {
              "frame": {
               "duration": 0,
               "redraw": true
              },
              "fromcurrent": true,
              "mode": "immediate",
              "transition": {
               "duration": 0,
               "easing": "linear"
              }
             }
            ],
            "label": "2040",
            "method": "animate"
           }
          ],
          "x": 0.1,
          "xanchor": "left",
          "y": 0,
          "yanchor": "top"
         }
        ],
        "template": {
         "data": {
          "bar": [
           {
            "error_x": {
             "color": "#2a3f5f"
            },
            "error_y": {
             "color": "#2a3f5f"
            },
            "marker": {
             "line": {
              "color": "#E5ECF6",
              "width": 0.5
             },
             "pattern": {
              "fillmode": "overlay",
              "size": 10,
              "solidity": 0.2
             }
            },
            "type": "bar"
           }
          ],
          "barpolar": [
           {
            "marker": {
             "line": {
              "color": "#E5ECF6",
              "width": 0.5
             },
             "pattern": {
              "fillmode": "overlay",
              "size": 10,
              "solidity": 0.2
             }
            },
            "type": "barpolar"
           }
          ],
          "carpet": [
           {
            "aaxis": {
             "endlinecolor": "#2a3f5f",
             "gridcolor": "white",
             "linecolor": "white",
             "minorgridcolor": "white",
             "startlinecolor": "#2a3f5f"
            },
            "baxis": {
             "endlinecolor": "#2a3f5f",
             "gridcolor": "white",
             "linecolor": "white",
             "minorgridcolor": "white",
             "startlinecolor": "#2a3f5f"
            },
            "type": "carpet"
           }
          ],
          "choropleth": [
           {
            "colorbar": {
             "outlinewidth": 0,
             "ticks": ""
            },
            "type": "choropleth"
           }
          ],
          "contour": [
           {
            "colorbar": {
             "outlinewidth": 0,
             "ticks": ""
            },
            "colorscale": [
             [
              0,
              "#0d0887"
             ],
             [
              0.1111111111111111,
              "#46039f"
             ],
             [
              0.2222222222222222,
              "#7201a8"
             ],
             [
              0.3333333333333333,
              "#9c179e"
             ],
             [
              0.4444444444444444,
              "#bd3786"
             ],
             [
              0.5555555555555556,
              "#d8576b"
             ],
             [
              0.6666666666666666,
              "#ed7953"
             ],
             [
              0.7777777777777778,
              "#fb9f3a"
             ],
             [
              0.8888888888888888,
              "#fdca26"
             ],
             [
              1,
              "#f0f921"
             ]
            ],
            "type": "contour"
           }
          ],
          "contourcarpet": [
           {
            "colorbar": {
             "outlinewidth": 0,
             "ticks": ""
            },
            "type": "contourcarpet"
           }
          ],
          "heatmap": [
           {
            "colorbar": {
             "outlinewidth": 0,
             "ticks": ""
            },
            "colorscale": [
             [
              0,
              "#0d0887"
             ],
             [
              0.1111111111111111,
              "#46039f"
             ],
             [
              0.2222222222222222,
              "#7201a8"
             ],
             [
              0.3333333333333333,
              "#9c179e"
             ],
             [
              0.4444444444444444,
              "#bd3786"
             ],
             [
              0.5555555555555556,
              "#d8576b"
             ],
             [
              0.6666666666666666,
              "#ed7953"
             ],
             [
              0.7777777777777778,
              "#fb9f3a"
             ],
             [
              0.8888888888888888,
              "#fdca26"
             ],
             [
              1,
              "#f0f921"
             ]
            ],
            "type": "heatmap"
           }
          ],
          "heatmapgl": [
           {
            "colorbar": {
             "outlinewidth": 0,
             "ticks": ""
            },
            "colorscale": [
             [
              0,
              "#0d0887"
             ],
             [
              0.1111111111111111,
              "#46039f"
             ],
             [
              0.2222222222222222,
              "#7201a8"
             ],
             [
              0.3333333333333333,
              "#9c179e"
             ],
             [
              0.4444444444444444,
              "#bd3786"
             ],
             [
              0.5555555555555556,
              "#d8576b"
             ],
             [
              0.6666666666666666,
              "#ed7953"
             ],
             [
              0.7777777777777778,
              "#fb9f3a"
             ],
             [
              0.8888888888888888,
              "#fdca26"
             ],
             [
              1,
              "#f0f921"
             ]
            ],
            "type": "heatmapgl"
           }
          ],
          "histogram": [
           {
            "marker": {
             "pattern": {
              "fillmode": "overlay",
              "size": 10,
              "solidity": 0.2
             }
            },
            "type": "histogram"
           }
          ],
          "histogram2d": [
           {
            "colorbar": {
             "outlinewidth": 0,
             "ticks": ""
            },
            "colorscale": [
             [
              0,
              "#0d0887"
             ],
             [
              0.1111111111111111,
              "#46039f"
             ],
             [
              0.2222222222222222,
              "#7201a8"
             ],
             [
              0.3333333333333333,
              "#9c179e"
             ],
             [
              0.4444444444444444,
              "#bd3786"
             ],
             [
              0.5555555555555556,
              "#d8576b"
             ],
             [
              0.6666666666666666,
              "#ed7953"
             ],
             [
              0.7777777777777778,
              "#fb9f3a"
             ],
             [
              0.8888888888888888,
              "#fdca26"
             ],
             [
              1,
              "#f0f921"
             ]
            ],
            "type": "histogram2d"
           }
          ],
          "histogram2dcontour": [
           {
            "colorbar": {
             "outlinewidth": 0,
             "ticks": ""
            },
            "colorscale": [
             [
              0,
              "#0d0887"
             ],
             [
              0.1111111111111111,
              "#46039f"
             ],
             [
              0.2222222222222222,
              "#7201a8"
             ],
             [
              0.3333333333333333,
              "#9c179e"
             ],
             [
              0.4444444444444444,
              "#bd3786"
             ],
             [
              0.5555555555555556,
              "#d8576b"
             ],
             [
              0.6666666666666666,
              "#ed7953"
             ],
             [
              0.7777777777777778,
              "#fb9f3a"
             ],
             [
              0.8888888888888888,
              "#fdca26"
             ],
             [
              1,
              "#f0f921"
             ]
            ],
            "type": "histogram2dcontour"
           }
          ],
          "mesh3d": [
           {
            "colorbar": {
             "outlinewidth": 0,
             "ticks": ""
            },
            "type": "mesh3d"
           }
          ],
          "parcoords": [
           {
            "line": {
             "colorbar": {
              "outlinewidth": 0,
              "ticks": ""
             }
            },
            "type": "parcoords"
           }
          ],
          "pie": [
           {
            "automargin": true,
            "type": "pie"
           }
          ],
          "scatter": [
           {
            "fillpattern": {
             "fillmode": "overlay",
             "size": 10,
             "solidity": 0.2
            },
            "type": "scatter"
           }
          ],
          "scatter3d": [
           {
            "line": {
             "colorbar": {
              "outlinewidth": 0,
              "ticks": ""
             }
            },
            "marker": {
             "colorbar": {
              "outlinewidth": 0,
              "ticks": ""
             }
            },
            "type": "scatter3d"
           }
          ],
          "scattercarpet": [
           {
            "marker": {
             "colorbar": {
              "outlinewidth": 0,
              "ticks": ""
             }
            },
            "type": "scattercarpet"
           }
          ],
          "scattergeo": [
           {
            "marker": {
             "colorbar": {
              "outlinewidth": 0,
              "ticks": ""
             }
            },
            "type": "scattergeo"
           }
          ],
          "scattergl": [
           {
            "marker": {
             "colorbar": {
              "outlinewidth": 0,
              "ticks": ""
             }
            },
            "type": "scattergl"
           }
          ],
          "scattermapbox": [
           {
            "marker": {
             "colorbar": {
              "outlinewidth": 0,
              "ticks": ""
             }
            },
            "type": "scattermapbox"
           }
          ],
          "scatterpolar": [
           {
            "marker": {
             "colorbar": {
              "outlinewidth": 0,
              "ticks": ""
             }
            },
            "type": "scatterpolar"
           }
          ],
          "scatterpolargl": [
           {
            "marker": {
             "colorbar": {
              "outlinewidth": 0,
              "ticks": ""
             }
            },
            "type": "scatterpolargl"
           }
          ],
          "scatterternary": [
           {
            "marker": {
             "colorbar": {
              "outlinewidth": 0,
              "ticks": ""
             }
            },
            "type": "scatterternary"
           }
          ],
          "surface": [
           {
            "colorbar": {
             "outlinewidth": 0,
             "ticks": ""
            },
            "colorscale": [
             [
              0,
              "#0d0887"
             ],
             [
              0.1111111111111111,
              "#46039f"
             ],
             [
              0.2222222222222222,
              "#7201a8"
             ],
             [
              0.3333333333333333,
              "#9c179e"
             ],
             [
              0.4444444444444444,
              "#bd3786"
             ],
             [
              0.5555555555555556,
              "#d8576b"
             ],
             [
              0.6666666666666666,
              "#ed7953"
             ],
             [
              0.7777777777777778,
              "#fb9f3a"
             ],
             [
              0.8888888888888888,
              "#fdca26"
             ],
             [
              1,
              "#f0f921"
             ]
            ],
            "type": "surface"
           }
          ],
          "table": [
           {
            "cells": {
             "fill": {
              "color": "#EBF0F8"
             },
             "line": {
              "color": "white"
             }
            },
            "header": {
             "fill": {
              "color": "#C8D4E3"
             },
             "line": {
              "color": "white"
             }
            },
            "type": "table"
           }
          ]
         },
         "layout": {
          "annotationdefaults": {
           "arrowcolor": "#2a3f5f",
           "arrowhead": 0,
           "arrowwidth": 1
          },
          "autotypenumbers": "strict",
          "coloraxis": {
           "colorbar": {
            "outlinewidth": 0,
            "ticks": ""
           }
          },
          "colorscale": {
           "diverging": [
            [
             0,
             "#8e0152"
            ],
            [
             0.1,
             "#c51b7d"
            ],
            [
             0.2,
             "#de77ae"
            ],
            [
             0.3,
             "#f1b6da"
            ],
            [
             0.4,
             "#fde0ef"
            ],
            [
             0.5,
             "#f7f7f7"
            ],
            [
             0.6,
             "#e6f5d0"
            ],
            [
             0.7,
             "#b8e186"
            ],
            [
             0.8,
             "#7fbc41"
            ],
            [
             0.9,
             "#4d9221"
            ],
            [
             1,
             "#276419"
            ]
           ],
           "sequential": [
            [
             0,
             "#0d0887"
            ],
            [
             0.1111111111111111,
             "#46039f"
            ],
            [
             0.2222222222222222,
             "#7201a8"
            ],
            [
             0.3333333333333333,
             "#9c179e"
            ],
            [
             0.4444444444444444,
             "#bd3786"
            ],
            [
             0.5555555555555556,
             "#d8576b"
            ],
            [
             0.6666666666666666,
             "#ed7953"
            ],
            [
             0.7777777777777778,
             "#fb9f3a"
            ],
            [
             0.8888888888888888,
             "#fdca26"
            ],
            [
             1,
             "#f0f921"
            ]
           ],
           "sequentialminus": [
            [
             0,
             "#0d0887"
            ],
            [
             0.1111111111111111,
             "#46039f"
            ],
            [
             0.2222222222222222,
             "#7201a8"
            ],
            [
             0.3333333333333333,
             "#9c179e"
            ],
            [
             0.4444444444444444,
             "#bd3786"
            ],
            [
             0.5555555555555556,
             "#d8576b"
            ],
            [
             0.6666666666666666,
             "#ed7953"
            ],
            [
             0.7777777777777778,
             "#fb9f3a"
            ],
            [
             0.8888888888888888,
             "#fdca26"
            ],
            [
             1,
             "#f0f921"
            ]
           ]
          },
          "colorway": [
           "#636efa",
           "#EF553B",
           "#00cc96",
           "#ab63fa",
           "#FFA15A",
           "#19d3f3",
           "#FF6692",
           "#B6E880",
           "#FF97FF",
           "#FECB52"
          ],
          "font": {
           "color": "#2a3f5f"
          },
          "geo": {
           "bgcolor": "white",
           "lakecolor": "white",
           "landcolor": "#E5ECF6",
           "showlakes": true,
           "showland": true,
           "subunitcolor": "white"
          },
          "hoverlabel": {
           "align": "left"
          },
          "hovermode": "closest",
          "mapbox": {
           "style": "light"
          },
          "paper_bgcolor": "white",
          "plot_bgcolor": "#E5ECF6",
          "polar": {
           "angularaxis": {
            "gridcolor": "white",
            "linecolor": "white",
            "ticks": ""
           },
           "bgcolor": "#E5ECF6",
           "radialaxis": {
            "gridcolor": "white",
            "linecolor": "white",
            "ticks": ""
           }
          },
          "scene": {
           "xaxis": {
            "backgroundcolor": "#E5ECF6",
            "gridcolor": "white",
            "gridwidth": 2,
            "linecolor": "white",
            "showbackground": true,
            "ticks": "",
            "zerolinecolor": "white"
           },
           "yaxis": {
            "backgroundcolor": "#E5ECF6",
            "gridcolor": "white",
            "gridwidth": 2,
            "linecolor": "white",
            "showbackground": true,
            "ticks": "",
            "zerolinecolor": "white"
           },
           "zaxis": {
            "backgroundcolor": "#E5ECF6",
            "gridcolor": "white",
            "gridwidth": 2,
            "linecolor": "white",
            "showbackground": true,
            "ticks": "",
            "zerolinecolor": "white"
           }
          },
          "shapedefaults": {
           "line": {
            "color": "#2a3f5f"
           }
          },
          "ternary": {
           "aaxis": {
            "gridcolor": "white",
            "linecolor": "white",
            "ticks": ""
           },
           "baxis": {
            "gridcolor": "white",
            "linecolor": "white",
            "ticks": ""
           },
           "bgcolor": "#E5ECF6",
           "caxis": {
            "gridcolor": "white",
            "linecolor": "white",
            "ticks": ""
           }
          },
          "title": {
           "x": 0.05
          },
          "xaxis": {
           "automargin": true,
           "gridcolor": "white",
           "linecolor": "white",
           "ticks": "",
           "title": {
            "standoff": 15
           },
           "zerolinecolor": "white",
           "zerolinewidth": 2
          },
          "yaxis": {
           "automargin": true,
           "gridcolor": "white",
           "linecolor": "white",
           "ticks": "",
           "title": {
            "standoff": 15
           },
           "zerolinecolor": "white",
           "zerolinewidth": 2
          }
         }
        },
        "updatemenus": [
         {
          "buttons": [
           {
            "args": [
             null,
             {
              "frame": {
               "duration": 500,
               "redraw": true
              },
              "fromcurrent": true
             }
            ],
            "label": "&#9654;",
            "method": "animate"
           },
           {
            "args": [
             null,
             {
              "frame": {
               "duration": 500,
               "redraw": true
              },
              "fromcurrent": true
             }
            ],
            "label": "&#9724;",
            "method": "animate"
           }
          ],
          "direction": "left",
          "pad": {
           "r": 10,
           "t": 70
          },
          "showactive": false,
          "type": "buttons",
          "x": 0.1,
          "xanchor": "right",
          "y": 0,
          "yanchor": "top"
         }
        ],
        "xaxis": {
         "anchor": "y",
         "categoryarray": [
          "ID",
          "ID",
          "ID",
          "ID",
          "ID",
          "ID",
          "ID",
          "ID",
          "ID",
          "ID",
          "ID",
          "ID",
          "ID",
          "ID",
          "ID",
          "ID",
          "ID",
          "ID",
          "ID",
          "ID",
          "ID",
          "ID",
          "ID",
          "ID",
          "ID",
          "ID",
          "ID",
          "IN",
          "IN",
          "IN",
          "IN",
          "IN",
          "IN",
          "IN",
          "IN",
          "IN",
          "IN",
          "IN",
          "IN",
          "IN",
          "IN",
          "IN",
          "IN",
          "IN",
          "IN",
          "IN",
          "IN",
          "IN",
          "IN",
          "IN",
          "IN",
          "IN",
          "IN",
          "IN",
          "SD",
          "SD",
          "SD",
          "SD",
          "SD",
          "SD",
          "SD",
          "SD",
          "SD",
          "SD",
          "SD",
          "SD",
          "SD",
          "SD",
          "SD",
          "SD",
          "SD",
          "SD",
          "SD",
          "SD",
          "SD",
          "SD",
          "SD",
          "SD",
          "SD",
          "SD",
          "SD",
          "SN",
          "SN",
          "SN",
          "SN",
          "SN",
          "SN",
          "SN",
          "SN",
          "SN",
          "SN",
          "SN",
          "SN",
          "SN",
          "SN",
          "SN",
          "SN",
          "SN",
          "SN",
          "SN",
          "SN",
          "SN",
          "SN",
          "SN",
          "SN",
          "SN",
          "SN",
          "SN",
          "WD",
          "WD",
          "WD",
          "WD",
          "WD",
          "WD",
          "WD",
          "WD",
          "WD",
          "WD",
          "WD",
          "WD",
          "WD",
          "WD",
          "WD",
          "WD",
          "WD",
          "WD",
          "WD",
          "WD",
          "WD",
          "WD",
          "WD",
          "WD",
          "WD",
          "WD",
          "WD",
          "WN",
          "WN",
          "WN",
          "WN",
          "WN",
          "WN",
          "WN",
          "WN",
          "WN",
          "WN",
          "WN",
          "WN",
          "WN",
          "WN",
          "WN",
          "WN",
          "WN",
          "WN",
          "WN",
          "WN",
          "WN",
          "WN",
          "WN",
          "WN",
          "WN",
          "WN",
          "WN",
          "ID",
          "ID",
          "ID",
          "ID",
          "ID",
          "ID",
          "ID",
          "ID",
          "ID",
          "ID",
          "ID",
          "ID",
          "ID",
          "ID",
          "ID",
          "ID",
          "ID",
          "ID",
          "ID",
          "ID",
          "ID",
          "ID",
          "ID",
          "ID",
          "ID",
          "ID",
          "ID",
          "IN",
          "IN",
          "IN",
          "IN",
          "IN",
          "IN",
          "IN",
          "IN",
          "IN",
          "IN",
          "IN",
          "IN",
          "IN",
          "IN",
          "IN",
          "IN",
          "IN",
          "IN",
          "IN",
          "IN",
          "IN",
          "IN",
          "IN",
          "IN",
          "IN",
          "IN",
          "IN",
          "SD",
          "SD",
          "SD",
          "SD",
          "SD",
          "SD",
          "SD",
          "SD",
          "SD",
          "SD",
          "SD",
          "SD",
          "SD",
          "SD",
          "SD",
          "SD",
          "SD",
          "SD",
          "SD",
          "SD",
          "SD",
          "SD",
          "SD",
          "SD",
          "SD",
          "SD",
          "SD",
          "SN",
          "SN",
          "SN",
          "SN",
          "SN",
          "SN",
          "SN",
          "SN",
          "SN",
          "SN",
          "SN",
          "SN",
          "SN",
          "SN",
          "SN",
          "SN",
          "SN",
          "SN",
          "SN",
          "SN",
          "SN",
          "SN",
          "SN",
          "SN",
          "SN",
          "SN",
          "SN",
          "WD",
          "WD",
          "WD",
          "WD",
          "WD",
          "WD",
          "WD",
          "WD",
          "WD",
          "WD",
          "WD",
          "WD",
          "WD",
          "WD",
          "WD",
          "WD",
          "WD",
          "WD",
          "WD",
          "WD",
          "WD",
          "WD",
          "WD",
          "WD",
          "WD",
          "WD",
          "WD",
          "WN",
          "WN",
          "WN",
          "WN",
          "WN",
          "WN",
          "WN",
          "WN",
          "WN",
          "WN",
          "WN",
          "WN",
          "WN",
          "WN",
          "WN",
          "WN",
          "WN",
          "WN",
          "WN",
          "WN",
          "WN",
          "WN",
          "WN",
          "WN",
          "WN",
          "WN",
          "WN",
          "ID",
          "ID",
          "ID",
          "ID",
          "ID",
          "ID",
          "ID",
          "ID",
          "ID",
          "ID",
          "ID",
          "ID",
          "ID",
          "ID",
          "ID",
          "ID",
          "ID",
          "ID",
          "ID",
          "ID",
          "ID",
          "ID",
          "ID",
          "ID",
          "ID",
          "ID",
          "ID",
          "IN",
          "IN",
          "IN",
          "IN",
          "IN",
          "IN",
          "IN",
          "IN",
          "IN",
          "IN",
          "IN",
          "IN",
          "IN",
          "IN",
          "IN",
          "IN",
          "IN",
          "IN",
          "IN",
          "IN",
          "IN",
          "IN",
          "IN",
          "IN",
          "IN",
          "IN",
          "IN",
          "SD",
          "SD",
          "SD",
          "SD",
          "SD",
          "SD",
          "SD",
          "SD",
          "SD",
          "SD",
          "SD",
          "SD",
          "SD",
          "SD",
          "SD",
          "SD",
          "SD",
          "SD",
          "SD",
          "SD",
          "SD",
          "SD",
          "SD",
          "SD",
          "SD",
          "SD",
          "SD",
          "SN",
          "SN",
          "SN",
          "SN",
          "SN",
          "SN",
          "SN",
          "SN",
          "SN",
          "SN",
          "SN",
          "SN",
          "SN",
          "SN",
          "SN",
          "SN",
          "SN",
          "SN",
          "SN",
          "SN",
          "SN",
          "SN",
          "SN",
          "SN",
          "SN",
          "SN",
          "SN",
          "WD",
          "WD",
          "WD",
          "WD",
          "WD",
          "WD",
          "WD",
          "WD",
          "WD",
          "WD",
          "WD",
          "WD",
          "WD",
          "WD",
          "WD",
          "WD",
          "WD",
          "WD",
          "WD",
          "WD",
          "WD",
          "WD",
          "WD",
          "WD",
          "WD",
          "WD",
          "WD",
          "WN",
          "WN",
          "WN",
          "WN",
          "WN",
          "WN",
          "WN",
          "WN",
          "WN",
          "WN",
          "WN",
          "WN",
          "WN",
          "WN",
          "WN",
          "WN",
          "WN",
          "WN",
          "WN",
          "WN",
          "WN",
          "WN",
          "WN",
          "WN",
          "WN",
          "WN",
          "WN",
          "ID",
          "ID",
          "ID",
          "ID",
          "ID",
          "ID",
          "ID",
          "ID",
          "ID",
          "ID",
          "ID",
          "ID",
          "ID",
          "ID",
          "ID",
          "ID",
          "ID",
          "ID",
          "ID",
          "ID",
          "ID",
          "ID",
          "ID",
          "ID",
          "ID",
          "ID",
          "ID",
          "IN",
          "IN",
          "IN",
          "IN",
          "IN",
          "IN",
          "IN",
          "IN",
          "IN",
          "IN",
          "IN",
          "IN",
          "IN",
          "IN",
          "IN",
          "IN",
          "IN",
          "IN",
          "IN",
          "IN",
          "IN",
          "IN",
          "IN",
          "IN",
          "IN",
          "IN",
          "IN",
          "SD",
          "SD",
          "SD",
          "SD",
          "SD",
          "SD",
          "SD",
          "SD",
          "SD",
          "SD",
          "SD",
          "SD",
          "SD",
          "SD",
          "SD",
          "SD",
          "SD",
          "SD",
          "SD",
          "SD",
          "SD",
          "SD",
          "SD",
          "SD",
          "SD",
          "SD",
          "SD",
          "SN",
          "SN",
          "SN",
          "SN",
          "SN",
          "SN",
          "SN",
          "SN",
          "SN",
          "SN",
          "SN",
          "SN",
          "SN",
          "SN",
          "SN",
          "SN",
          "SN",
          "SN",
          "SN",
          "SN",
          "SN",
          "SN",
          "SN",
          "SN",
          "SN",
          "SN",
          "SN",
          "WD",
          "WD",
          "WD",
          "WD",
          "WD",
          "WD",
          "WD",
          "WD",
          "WD",
          "WD",
          "WD",
          "WD",
          "WD",
          "WD",
          "WD",
          "WD",
          "WD",
          "WD",
          "WD",
          "WD",
          "WD",
          "WD",
          "WD",
          "WD",
          "WD",
          "WD",
          "WD",
          "WN",
          "WN",
          "WN",
          "WN",
          "WN",
          "WN",
          "WN",
          "WN",
          "WN",
          "WN",
          "WN",
          "WN",
          "WN",
          "WN",
          "WN",
          "WN",
          "WN",
          "WN",
          "WN",
          "WN",
          "WN",
          "WN",
          "WN",
          "WN",
          "WN",
          "WN",
          "WN",
          "ID",
          "ID",
          "ID",
          "ID",
          "ID",
          "ID",
          "ID",
          "ID",
          "ID",
          "ID",
          "ID",
          "ID",
          "ID",
          "ID",
          "ID",
          "ID",
          "ID",
          "ID",
          "ID",
          "ID",
          "ID",
          "ID",
          "ID",
          "ID",
          "ID",
          "ID",
          "ID",
          "IN",
          "IN",
          "IN",
          "IN",
          "IN",
          "IN",
          "IN",
          "IN",
          "IN",
          "IN",
          "IN",
          "IN",
          "IN",
          "IN",
          "IN",
          "IN",
          "IN",
          "IN",
          "IN",
          "IN",
          "IN",
          "IN",
          "IN",
          "IN",
          "IN",
          "IN",
          "IN",
          "SD",
          "SD",
          "SD",
          "SD",
          "SD",
          "SD",
          "SD",
          "SD",
          "SD",
          "SD",
          "SD",
          "SD",
          "SD",
          "SD",
          "SD",
          "SD",
          "SD",
          "SD",
          "SD",
          "SD",
          "SD",
          "SD",
          "SD",
          "SD",
          "SD",
          "SD",
          "SD",
          "SN",
          "SN",
          "SN",
          "SN",
          "SN",
          "SN",
          "SN",
          "SN",
          "SN",
          "SN",
          "SN",
          "SN",
          "SN",
          "SN",
          "SN",
          "SN",
          "SN",
          "SN",
          "SN",
          "SN",
          "SN",
          "SN",
          "SN",
          "SN",
          "SN",
          "SN",
          "SN",
          "WD",
          "WD",
          "WD",
          "WD",
          "WD",
          "WD",
          "WD",
          "WD",
          "WD",
          "WD",
          "WD",
          "WD",
          "WD",
          "WD",
          "WD",
          "WD",
          "WD",
          "WD",
          "WD",
          "WD",
          "WD",
          "WD",
          "WD",
          "WD",
          "WD",
          "WD",
          "WD",
          "WN",
          "WN",
          "WN",
          "WN",
          "WN",
          "WN",
          "WN",
          "WN",
          "WN",
          "WN",
          "WN",
          "WN",
          "WN",
          "WN",
          "WN",
          "WN",
          "WN",
          "WN",
          "WN",
          "WN",
          "WN",
          "WN",
          "WN",
          "WN",
          "WN",
          "WN",
          "WN",
          "ID",
          "ID",
          "ID",
          "ID",
          "ID",
          "ID",
          "ID",
          "ID",
          "ID",
          "ID",
          "ID",
          "ID",
          "ID",
          "ID",
          "ID",
          "ID",
          "ID",
          "ID",
          "ID",
          "ID",
          "ID",
          "ID",
          "ID",
          "ID",
          "ID",
          "ID",
          "ID",
          "IN",
          "IN",
          "IN",
          "IN",
          "IN",
          "IN",
          "IN",
          "IN",
          "IN",
          "IN",
          "IN",
          "IN",
          "IN",
          "IN",
          "IN",
          "IN",
          "IN",
          "IN",
          "IN",
          "IN",
          "IN",
          "IN",
          "IN",
          "IN",
          "IN",
          "IN",
          "IN",
          "SD",
          "SD",
          "SD",
          "SD",
          "SD",
          "SD",
          "SD",
          "SD",
          "SD",
          "SD",
          "SD",
          "SD",
          "SD",
          "SD",
          "SD",
          "SD",
          "SD",
          "SD",
          "SD",
          "SD",
          "SD",
          "SD",
          "SD",
          "SD",
          "SD",
          "SD",
          "SD",
          "SN",
          "SN",
          "SN",
          "SN",
          "SN",
          "SN",
          "SN",
          "SN",
          "SN",
          "SN",
          "SN",
          "SN",
          "SN",
          "SN",
          "SN",
          "SN",
          "SN",
          "SN",
          "SN",
          "SN",
          "SN",
          "SN",
          "SN",
          "SN",
          "SN",
          "SN",
          "SN",
          "WD",
          "WD",
          "WD",
          "WD",
          "WD",
          "WD",
          "WD",
          "WD",
          "WD",
          "WD",
          "WD",
          "WD",
          "WD",
          "WD",
          "WD",
          "WD",
          "WD",
          "WD",
          "WD",
          "WD",
          "WD",
          "WD",
          "WD",
          "WD",
          "WD",
          "WD",
          "WD",
          "WN",
          "WN",
          "WN",
          "WN",
          "WN",
          "WN",
          "WN",
          "WN",
          "WN",
          "WN",
          "WN",
          "WN",
          "WN",
          "WN",
          "WN",
          "WN",
          "WN",
          "WN",
          "WN",
          "WN",
          "WN",
          "WN",
          "WN",
          "WN",
          "WN",
          "WN",
          "WN",
          "ID",
          "ID",
          "ID",
          "ID",
          "ID",
          "ID",
          "ID",
          "ID",
          "ID",
          "ID",
          "ID",
          "ID",
          "ID",
          "ID",
          "ID",
          "ID",
          "ID",
          "ID",
          "ID",
          "ID",
          "ID",
          "ID",
          "ID",
          "ID",
          "ID",
          "ID",
          "ID",
          "IN",
          "IN",
          "IN",
          "IN",
          "IN",
          "IN",
          "IN",
          "IN",
          "IN",
          "IN",
          "IN",
          "IN",
          "IN",
          "IN",
          "IN",
          "IN",
          "IN",
          "IN",
          "IN",
          "IN",
          "IN",
          "IN",
          "IN",
          "IN",
          "IN",
          "IN",
          "IN",
          "SD",
          "SD",
          "SD",
          "SD",
          "SD",
          "SD",
          "SD",
          "SD",
          "SD",
          "SD",
          "SD",
          "SD",
          "SD",
          "SD",
          "SD",
          "SD",
          "SD",
          "SD",
          "SD",
          "SD",
          "SD",
          "SD",
          "SD",
          "SD",
          "SD",
          "SD",
          "SD",
          "SN",
          "SN",
          "SN",
          "SN",
          "SN",
          "SN",
          "SN",
          "SN",
          "SN",
          "SN",
          "SN",
          "SN",
          "SN",
          "SN",
          "SN",
          "SN",
          "SN",
          "SN",
          "SN",
          "SN",
          "SN",
          "SN",
          "SN",
          "SN",
          "SN",
          "SN",
          "SN",
          "WD",
          "WD",
          "WD",
          "WD",
          "WD",
          "WD",
          "WD",
          "WD",
          "WD",
          "WD",
          "WD",
          "WD",
          "WD",
          "WD",
          "WD",
          "WD",
          "WD",
          "WD",
          "WD",
          "WD",
          "WD",
          "WD",
          "WD",
          "WD",
          "WD",
          "WD",
          "WD",
          "WN",
          "WN",
          "WN",
          "WN",
          "WN",
          "WN",
          "WN",
          "WN",
          "WN",
          "WN",
          "WN",
          "WN",
          "WN",
          "WN",
          "WN",
          "WN",
          "WN",
          "WN",
          "WN",
          "WN",
          "WN",
          "WN",
          "WN",
          "WN",
          "WN",
          "WN",
          "WN",
          "ID",
          "ID",
          "ID",
          "ID",
          "ID",
          "ID",
          "ID",
          "ID",
          "ID",
          "ID",
          "ID",
          "ID",
          "ID",
          "ID",
          "ID",
          "ID",
          "ID",
          "ID",
          "ID",
          "ID",
          "ID",
          "ID",
          "ID",
          "ID",
          "ID",
          "ID",
          "ID",
          "IN",
          "IN",
          "IN",
          "IN",
          "IN",
          "IN",
          "IN",
          "IN",
          "IN",
          "IN",
          "IN",
          "IN",
          "IN",
          "IN",
          "IN",
          "IN",
          "IN",
          "IN",
          "IN",
          "IN",
          "IN",
          "IN",
          "IN",
          "IN",
          "IN",
          "IN",
          "IN",
          "SD",
          "SD",
          "SD",
          "SD",
          "SD",
          "SD",
          "SD",
          "SD",
          "SD",
          "SD",
          "SD",
          "SD",
          "SD",
          "SD",
          "SD",
          "SD",
          "SD",
          "SD",
          "SD",
          "SD",
          "SD",
          "SD",
          "SD",
          "SD",
          "SD",
          "SD",
          "SD",
          "SN",
          "SN",
          "SN",
          "SN",
          "SN",
          "SN",
          "SN",
          "SN",
          "SN",
          "SN",
          "SN",
          "SN",
          "SN",
          "SN",
          "SN",
          "SN",
          "SN",
          "SN",
          "SN",
          "SN",
          "SN",
          "SN",
          "SN",
          "SN",
          "SN",
          "SN",
          "SN",
          "WD",
          "WD",
          "WD",
          "WD",
          "WD",
          "WD",
          "WD",
          "WD",
          "WD",
          "WD",
          "WD",
          "WD",
          "WD",
          "WD",
          "WD",
          "WD",
          "WD",
          "WD",
          "WD",
          "WD",
          "WD",
          "WD",
          "WD",
          "WD",
          "WD",
          "WD",
          "WD",
          "WN",
          "WN",
          "WN",
          "WN",
          "WN",
          "WN",
          "WN",
          "WN",
          "WN",
          "WN",
          "WN",
          "WN",
          "WN",
          "WN",
          "WN",
          "WN",
          "WN",
          "WN",
          "WN",
          "WN",
          "WN",
          "WN",
          "WN",
          "WN",
          "WN",
          "WN",
          "WN",
          "ID",
          "ID",
          "ID",
          "ID",
          "ID",
          "ID",
          "ID",
          "ID",
          "ID",
          "ID",
          "ID",
          "ID",
          "ID",
          "ID",
          "ID",
          "ID",
          "ID",
          "ID",
          "ID",
          "ID",
          "ID",
          "ID",
          "ID",
          "ID",
          "ID",
          "ID",
          "ID",
          "IN",
          "IN",
          "IN",
          "IN",
          "IN",
          "IN",
          "IN",
          "IN",
          "IN",
          "IN",
          "IN",
          "IN",
          "IN",
          "IN",
          "IN",
          "IN",
          "IN",
          "IN",
          "IN",
          "IN",
          "IN",
          "IN",
          "IN",
          "IN",
          "IN",
          "IN",
          "IN",
          "SD",
          "SD",
          "SD",
          "SD",
          "SD",
          "SD",
          "SD",
          "SD",
          "SD",
          "SD",
          "SD",
          "SD",
          "SD",
          "SD",
          "SD",
          "SD",
          "SD",
          "SD",
          "SD",
          "SD",
          "SD",
          "SD",
          "SD",
          "SD",
          "SD",
          "SD",
          "SD",
          "SN",
          "SN",
          "SN",
          "SN",
          "SN",
          "SN",
          "SN",
          "SN",
          "SN",
          "SN",
          "SN",
          "SN",
          "SN",
          "SN",
          "SN",
          "SN",
          "SN",
          "SN",
          "SN",
          "SN",
          "SN",
          "SN",
          "SN",
          "SN",
          "SN",
          "SN",
          "SN",
          "WD",
          "WD",
          "WD",
          "WD",
          "WD",
          "WD",
          "WD",
          "WD",
          "WD",
          "WD",
          "WD",
          "WD",
          "WD",
          "WD",
          "WD",
          "WD",
          "WD",
          "WD",
          "WD",
          "WD",
          "WD",
          "WD",
          "WD",
          "WD",
          "WD",
          "WD",
          "WD",
          "WN",
          "WN",
          "WN",
          "WN",
          "WN",
          "WN",
          "WN",
          "WN",
          "WN",
          "WN",
          "WN",
          "WN",
          "WN",
          "WN",
          "WN",
          "WN",
          "WN",
          "WN",
          "WN",
          "WN",
          "WN",
          "WN",
          "WN",
          "WN",
          "WN",
          "WN",
          "WN",
          "ID",
          "ID",
          "ID",
          "ID",
          "ID",
          "ID",
          "ID",
          "ID",
          "ID",
          "ID",
          "ID",
          "ID",
          "ID",
          "ID",
          "ID",
          "ID",
          "ID",
          "ID",
          "ID",
          "ID",
          "ID",
          "ID",
          "ID",
          "ID",
          "ID",
          "ID",
          "ID",
          "IN",
          "IN",
          "IN",
          "IN",
          "IN",
          "IN",
          "IN",
          "IN",
          "IN",
          "IN",
          "IN",
          "IN",
          "IN",
          "IN",
          "IN",
          "IN",
          "IN",
          "IN",
          "IN",
          "IN",
          "IN",
          "IN",
          "IN",
          "IN",
          "IN",
          "IN",
          "IN",
          "SD",
          "SD",
          "SD",
          "SD",
          "SD",
          "SD",
          "SD",
          "SD",
          "SD",
          "SD",
          "SD",
          "SD",
          "SD",
          "SD",
          "SD",
          "SD",
          "SD",
          "SD",
          "SD",
          "SD",
          "SD",
          "SD",
          "SD",
          "SD",
          "SD",
          "SD",
          "SD",
          "SN",
          "SN",
          "SN",
          "SN",
          "SN",
          "SN",
          "SN",
          "SN",
          "SN",
          "SN",
          "SN",
          "SN",
          "SN",
          "SN",
          "SN",
          "SN",
          "SN",
          "SN",
          "SN",
          "SN",
          "SN",
          "SN",
          "SN",
          "SN",
          "SN",
          "SN",
          "SN",
          "WD",
          "WD",
          "WD",
          "WD",
          "WD",
          "WD",
          "WD",
          "WD",
          "WD",
          "WD",
          "WD",
          "WD",
          "WD",
          "WD",
          "WD",
          "WD",
          "WD",
          "WD",
          "WD",
          "WD",
          "WD",
          "WD",
          "WD",
          "WD",
          "WD",
          "WD",
          "WD",
          "WN",
          "WN",
          "WN",
          "WN",
          "WN",
          "WN",
          "WN",
          "WN",
          "WN",
          "WN",
          "WN",
          "WN",
          "WN",
          "WN",
          "WN",
          "WN",
          "WN",
          "WN",
          "WN",
          "WN",
          "WN",
          "WN",
          "WN",
          "WN",
          "WN",
          "WN",
          "WN",
          "ID",
          "ID",
          "ID",
          "ID",
          "ID",
          "ID",
          "ID",
          "ID",
          "ID",
          "ID",
          "ID",
          "ID",
          "ID",
          "ID",
          "ID",
          "ID",
          "ID",
          "ID",
          "ID",
          "ID",
          "ID",
          "ID",
          "ID",
          "ID",
          "ID",
          "ID",
          "ID",
          "IN",
          "IN",
          "IN",
          "IN",
          "IN",
          "IN",
          "IN",
          "IN",
          "IN",
          "IN",
          "IN",
          "IN",
          "IN",
          "IN",
          "IN",
          "IN",
          "IN",
          "IN",
          "IN",
          "IN",
          "IN",
          "IN",
          "IN",
          "IN",
          "IN",
          "IN",
          "IN",
          "SD",
          "SD",
          "SD",
          "SD",
          "SD",
          "SD",
          "SD",
          "SD",
          "SD",
          "SD",
          "SD",
          "SD",
          "SD",
          "SD",
          "SD",
          "SD",
          "SD",
          "SD",
          "SD",
          "SD",
          "SD",
          "SD",
          "SD",
          "SD",
          "SD",
          "SD",
          "SD",
          "SN",
          "SN",
          "SN",
          "SN",
          "SN",
          "SN",
          "SN",
          "SN",
          "SN",
          "SN",
          "SN",
          "SN",
          "SN",
          "SN",
          "SN",
          "SN",
          "SN",
          "SN",
          "SN",
          "SN",
          "SN",
          "SN",
          "SN",
          "SN",
          "SN",
          "SN",
          "SN",
          "WD",
          "WD",
          "WD",
          "WD",
          "WD",
          "WD",
          "WD",
          "WD",
          "WD",
          "WD",
          "WD",
          "WD",
          "WD",
          "WD",
          "WD",
          "WD",
          "WD",
          "WD",
          "WD",
          "WD",
          "WD",
          "WD",
          "WD",
          "WD",
          "WD",
          "WD",
          "WD",
          "WN",
          "WN",
          "WN",
          "WN",
          "WN",
          "WN",
          "WN",
          "WN",
          "WN",
          "WN",
          "WN",
          "WN",
          "WN",
          "WN",
          "WN",
          "WN",
          "WN",
          "WN",
          "WN",
          "WN",
          "WN",
          "WN",
          "WN",
          "WN",
          "WN",
          "WN",
          "WN",
          "ID",
          "ID",
          "ID",
          "ID",
          "ID",
          "ID",
          "ID",
          "ID",
          "ID",
          "ID",
          "ID",
          "ID",
          "ID",
          "ID",
          "ID",
          "ID",
          "ID",
          "ID",
          "ID",
          "ID",
          "ID",
          "ID",
          "ID",
          "ID",
          "ID",
          "ID",
          "ID",
          "IN",
          "IN",
          "IN",
          "IN",
          "IN",
          "IN",
          "IN",
          "IN",
          "IN",
          "IN",
          "IN",
          "IN",
          "IN",
          "IN",
          "IN",
          "IN",
          "IN",
          "IN",
          "IN",
          "IN",
          "IN",
          "IN",
          "IN",
          "IN",
          "IN",
          "IN",
          "IN",
          "SD",
          "SD",
          "SD",
          "SD",
          "SD",
          "SD",
          "SD",
          "SD",
          "SD",
          "SD",
          "SD",
          "SD",
          "SD",
          "SD",
          "SD",
          "SD",
          "SD",
          "SD",
          "SD",
          "SD",
          "SD",
          "SD",
          "SD",
          "SD",
          "SD",
          "SD",
          "SD",
          "SN",
          "SN",
          "SN",
          "SN",
          "SN",
          "SN",
          "SN",
          "SN",
          "SN",
          "SN",
          "SN",
          "SN",
          "SN",
          "SN",
          "SN",
          "SN",
          "SN",
          "SN",
          "SN",
          "SN",
          "SN",
          "SN",
          "SN",
          "SN",
          "SN",
          "SN",
          "SN",
          "WD",
          "WD",
          "WD",
          "WD",
          "WD",
          "WD",
          "WD",
          "WD",
          "WD",
          "WD",
          "WD",
          "WD",
          "WD",
          "WD",
          "WD",
          "WD",
          "WD",
          "WD",
          "WD",
          "WD",
          "WD",
          "WD",
          "WD",
          "WD",
          "WD",
          "WD",
          "WD",
          "WN",
          "WN",
          "WN",
          "WN",
          "WN",
          "WN",
          "WN",
          "WN",
          "WN",
          "WN",
          "WN",
          "WN",
          "WN",
          "WN",
          "WN",
          "WN",
          "WN",
          "WN",
          "WN",
          "WN",
          "WN",
          "WN",
          "WN",
          "WN",
          "WN",
          "WN",
          "WN",
          "ID",
          "ID",
          "ID",
          "ID",
          "ID",
          "ID",
          "ID",
          "ID",
          "ID",
          "ID",
          "ID",
          "ID",
          "ID",
          "ID",
          "ID",
          "ID",
          "ID",
          "ID",
          "ID",
          "ID",
          "ID",
          "ID",
          "ID",
          "ID",
          "ID",
          "ID",
          "ID",
          "IN",
          "IN",
          "IN",
          "IN",
          "IN",
          "IN",
          "IN",
          "IN",
          "IN",
          "IN",
          "IN",
          "IN",
          "IN",
          "IN",
          "IN",
          "IN",
          "IN",
          "IN",
          "IN",
          "IN",
          "IN",
          "IN",
          "IN",
          "IN",
          "IN",
          "IN",
          "IN",
          "SD",
          "SD",
          "SD",
          "SD",
          "SD",
          "SD",
          "SD",
          "SD",
          "SD",
          "SD",
          "SD",
          "SD",
          "SD",
          "SD",
          "SD",
          "SD",
          "SD",
          "SD",
          "SD",
          "SD",
          "SD",
          "SD",
          "SD",
          "SD",
          "SD",
          "SD",
          "SD",
          "SN",
          "SN",
          "SN",
          "SN",
          "SN",
          "SN",
          "SN",
          "SN",
          "SN",
          "SN",
          "SN",
          "SN",
          "SN",
          "SN",
          "SN",
          "SN",
          "SN",
          "SN",
          "SN",
          "SN",
          "SN",
          "SN",
          "SN",
          "SN",
          "SN",
          "SN",
          "SN",
          "WD",
          "WD",
          "WD",
          "WD",
          "WD",
          "WD",
          "WD",
          "WD",
          "WD",
          "WD",
          "WD",
          "WD",
          "WD",
          "WD",
          "WD",
          "WD",
          "WD",
          "WD",
          "WD",
          "WD",
          "WD",
          "WD",
          "WD",
          "WD",
          "WD",
          "WD",
          "WD",
          "WN",
          "WN",
          "WN",
          "WN",
          "WN",
          "WN",
          "WN",
          "WN",
          "WN",
          "WN",
          "WN",
          "WN",
          "WN",
          "WN",
          "WN",
          "WN",
          "WN",
          "WN",
          "WN",
          "WN",
          "WN",
          "WN",
          "WN",
          "WN",
          "WN",
          "WN",
          "WN",
          "ID",
          "ID",
          "ID",
          "ID",
          "ID",
          "ID",
          "ID",
          "ID",
          "ID",
          "ID",
          "ID",
          "ID",
          "ID",
          "ID",
          "ID",
          "ID",
          "ID",
          "ID",
          "ID",
          "ID",
          "ID",
          "ID",
          "ID",
          "ID",
          "ID",
          "ID",
          "ID",
          "IN",
          "IN",
          "IN",
          "IN",
          "IN",
          "IN",
          "IN",
          "IN",
          "IN",
          "IN",
          "IN",
          "IN",
          "IN",
          "IN",
          "IN",
          "IN",
          "IN",
          "IN",
          "IN",
          "IN",
          "IN",
          "IN",
          "IN",
          "IN",
          "IN",
          "IN",
          "IN",
          "SD",
          "SD",
          "SD",
          "SD",
          "SD",
          "SD",
          "SD",
          "SD",
          "SD",
          "SD",
          "SD",
          "SD",
          "SD",
          "SD",
          "SD",
          "SD",
          "SD",
          "SD",
          "SD",
          "SD",
          "SD",
          "SD",
          "SD",
          "SD",
          "SD",
          "SD",
          "SD",
          "SN",
          "SN",
          "SN",
          "SN",
          "SN",
          "SN",
          "SN",
          "SN",
          "SN",
          "SN",
          "SN",
          "SN",
          "SN",
          "SN",
          "SN",
          "SN",
          "SN",
          "SN",
          "SN",
          "SN",
          "SN",
          "SN",
          "SN",
          "SN",
          "SN",
          "SN",
          "SN",
          "WD",
          "WD",
          "WD",
          "WD",
          "WD",
          "WD",
          "WD",
          "WD",
          "WD",
          "WD",
          "WD",
          "WD",
          "WD",
          "WD",
          "WD",
          "WD",
          "WD",
          "WD",
          "WD",
          "WD",
          "WD",
          "WD",
          "WD",
          "WD",
          "WD",
          "WD",
          "WD",
          "WN",
          "WN",
          "WN",
          "WN",
          "WN",
          "WN",
          "WN",
          "WN",
          "WN",
          "WN",
          "WN",
          "WN",
          "WN",
          "WN",
          "WN",
          "WN",
          "WN",
          "WN",
          "WN",
          "WN",
          "WN",
          "WN",
          "WN",
          "WN",
          "WN",
          "WN",
          "WN",
          "ID",
          "ID",
          "ID",
          "ID",
          "ID",
          "ID",
          "ID",
          "ID",
          "ID",
          "ID",
          "ID",
          "ID",
          "ID",
          "ID",
          "ID",
          "ID",
          "ID",
          "ID",
          "ID",
          "ID",
          "ID",
          "ID",
          "ID",
          "ID",
          "ID",
          "ID",
          "ID",
          "IN",
          "IN",
          "IN",
          "IN",
          "IN",
          "IN",
          "IN",
          "IN",
          "IN",
          "IN",
          "IN",
          "IN",
          "IN",
          "IN",
          "IN",
          "IN",
          "IN",
          "IN",
          "IN",
          "IN",
          "IN",
          "IN",
          "IN",
          "IN",
          "IN",
          "IN",
          "IN",
          "SD",
          "SD",
          "SD",
          "SD",
          "SD",
          "SD",
          "SD",
          "SD",
          "SD",
          "SD",
          "SD",
          "SD",
          "SD",
          "SD",
          "SD",
          "SD",
          "SD",
          "SD",
          "SD",
          "SD",
          "SD",
          "SD",
          "SD",
          "SD",
          "SD",
          "SD",
          "SD",
          "SN",
          "SN",
          "SN",
          "SN",
          "SN",
          "SN",
          "SN",
          "SN",
          "SN",
          "SN",
          "SN",
          "SN",
          "SN",
          "SN",
          "SN",
          "SN",
          "SN",
          "SN",
          "SN",
          "SN",
          "SN",
          "SN",
          "SN",
          "SN",
          "SN",
          "SN",
          "SN",
          "WD",
          "WD",
          "WD",
          "WD",
          "WD",
          "WD",
          "WD",
          "WD",
          "WD",
          "WD",
          "WD",
          "WD",
          "WD",
          "WD",
          "WD",
          "WD",
          "WD",
          "WD",
          "WD",
          "WD",
          "WD",
          "WD",
          "WD",
          "WD",
          "WD",
          "WD",
          "WD",
          "WN",
          "WN",
          "WN",
          "WN",
          "WN",
          "WN",
          "WN",
          "WN",
          "WN",
          "WN",
          "WN",
          "WN",
          "WN",
          "WN",
          "WN",
          "WN",
          "WN",
          "WN",
          "WN",
          "WN",
          "WN",
          "WN",
          "WN",
          "WN",
          "WN",
          "WN",
          "WN",
          "ID",
          "ID",
          "ID",
          "ID",
          "ID",
          "ID",
          "ID",
          "ID",
          "ID",
          "ID",
          "ID",
          "ID",
          "ID",
          "ID",
          "ID",
          "ID",
          "ID",
          "ID",
          "ID",
          "ID",
          "ID",
          "ID",
          "ID",
          "ID",
          "ID",
          "ID",
          "ID",
          "IN",
          "IN",
          "IN",
          "IN",
          "IN",
          "IN",
          "IN",
          "IN",
          "IN",
          "IN",
          "IN",
          "IN",
          "IN",
          "IN",
          "IN",
          "IN",
          "IN",
          "IN",
          "IN",
          "IN",
          "IN",
          "IN",
          "IN",
          "IN",
          "IN",
          "IN",
          "IN",
          "SD",
          "SD",
          "SD",
          "SD",
          "SD",
          "SD",
          "SD",
          "SD",
          "SD",
          "SD",
          "SD",
          "SD",
          "SD",
          "SD",
          "SD",
          "SD",
          "SD",
          "SD",
          "SD",
          "SD",
          "SD",
          "SD",
          "SD",
          "SD",
          "SD",
          "SD",
          "SD",
          "SN",
          "SN",
          "SN",
          "SN",
          "SN",
          "SN",
          "SN",
          "SN",
          "SN",
          "SN",
          "SN",
          "SN",
          "SN",
          "SN",
          "SN",
          "SN",
          "SN",
          "SN",
          "SN",
          "SN",
          "SN",
          "SN",
          "SN",
          "SN",
          "SN",
          "SN",
          "SN",
          "WD",
          "WD",
          "WD",
          "WD",
          "WD",
          "WD",
          "WD",
          "WD",
          "WD",
          "WD",
          "WD",
          "WD",
          "WD",
          "WD",
          "WD",
          "WD",
          "WD",
          "WD",
          "WD",
          "WD",
          "WD",
          "WD",
          "WD",
          "WD",
          "WD",
          "WD",
          "WD",
          "WN",
          "WN",
          "WN",
          "WN",
          "WN",
          "WN",
          "WN",
          "WN",
          "WN",
          "WN",
          "WN",
          "WN",
          "WN",
          "WN",
          "WN",
          "WN",
          "WN",
          "WN",
          "WN",
          "WN",
          "WN",
          "WN",
          "WN",
          "WN",
          "WN",
          "WN",
          "WN",
          "ID",
          "ID",
          "ID",
          "ID",
          "ID",
          "ID",
          "ID",
          "ID",
          "ID",
          "ID",
          "ID",
          "ID",
          "ID",
          "ID",
          "ID",
          "ID",
          "ID",
          "ID",
          "ID",
          "ID",
          "ID",
          "ID",
          "ID",
          "ID",
          "ID",
          "ID",
          "ID",
          "IN",
          "IN",
          "IN",
          "IN",
          "IN",
          "IN",
          "IN",
          "IN",
          "IN",
          "IN",
          "IN",
          "IN",
          "IN",
          "IN",
          "IN",
          "IN",
          "IN",
          "IN",
          "IN",
          "IN",
          "IN",
          "IN",
          "IN",
          "IN",
          "IN",
          "IN",
          "IN",
          "SD",
          "SD",
          "SD",
          "SD",
          "SD",
          "SD",
          "SD",
          "SD",
          "SD",
          "SD",
          "SD",
          "SD",
          "SD",
          "SD",
          "SD",
          "SD",
          "SD",
          "SD",
          "SD",
          "SD",
          "SD",
          "SD",
          "SD",
          "SD",
          "SD",
          "SD",
          "SD",
          "SN",
          "SN",
          "SN",
          "SN",
          "SN",
          "SN",
          "SN",
          "SN",
          "SN",
          "SN",
          "SN",
          "SN",
          "SN",
          "SN",
          "SN",
          "SN",
          "SN",
          "SN",
          "SN",
          "SN",
          "SN",
          "SN",
          "SN",
          "SN",
          "SN",
          "SN",
          "SN",
          "WD",
          "WD",
          "WD",
          "WD",
          "WD",
          "WD",
          "WD",
          "WD",
          "WD",
          "WD",
          "WD",
          "WD",
          "WD",
          "WD",
          "WD",
          "WD",
          "WD",
          "WD",
          "WD",
          "WD",
          "WD",
          "WD",
          "WD",
          "WD",
          "WD",
          "WD",
          "WD",
          "WN",
          "WN",
          "WN",
          "WN",
          "WN",
          "WN",
          "WN",
          "WN",
          "WN",
          "WN",
          "WN",
          "WN",
          "WN",
          "WN",
          "WN",
          "WN",
          "WN",
          "WN",
          "WN",
          "WN",
          "WN",
          "WN",
          "WN",
          "WN",
          "WN",
          "WN",
          "WN",
          "ID",
          "ID",
          "ID",
          "ID",
          "ID",
          "ID",
          "ID",
          "ID",
          "ID",
          "ID",
          "ID",
          "ID",
          "ID",
          "ID",
          "ID",
          "ID",
          "ID",
          "ID",
          "ID",
          "ID",
          "ID",
          "ID",
          "ID",
          "ID",
          "ID",
          "ID",
          "ID",
          "IN",
          "IN",
          "IN",
          "IN",
          "IN",
          "IN",
          "IN",
          "IN",
          "IN",
          "IN",
          "IN",
          "IN",
          "IN",
          "IN",
          "IN",
          "IN",
          "IN",
          "IN",
          "IN",
          "IN",
          "IN",
          "IN",
          "IN",
          "IN",
          "IN",
          "IN",
          "IN",
          "SD",
          "SD",
          "SD",
          "SD",
          "SD",
          "SD",
          "SD",
          "SD",
          "SD",
          "SD",
          "SD",
          "SD",
          "SD",
          "SD",
          "SD",
          "SD",
          "SD",
          "SD",
          "SD",
          "SD",
          "SD",
          "SD",
          "SD",
          "SD",
          "SD",
          "SD",
          "SD",
          "SN",
          "SN",
          "SN",
          "SN",
          "SN",
          "SN",
          "SN",
          "SN",
          "SN",
          "SN",
          "SN",
          "SN",
          "SN",
          "SN",
          "SN",
          "SN",
          "SN",
          "SN",
          "SN",
          "SN",
          "SN",
          "SN",
          "SN",
          "SN",
          "SN",
          "SN",
          "SN",
          "WD",
          "WD",
          "WD",
          "WD",
          "WD",
          "WD",
          "WD",
          "WD",
          "WD",
          "WD",
          "WD",
          "WD",
          "WD",
          "WD",
          "WD",
          "WD",
          "WD",
          "WD",
          "WD",
          "WD",
          "WD",
          "WD",
          "WD",
          "WD",
          "WD",
          "WD",
          "WD",
          "WN",
          "WN",
          "WN",
          "WN",
          "WN",
          "WN",
          "WN",
          "WN",
          "WN",
          "WN",
          "WN",
          "WN",
          "WN",
          "WN",
          "WN",
          "WN",
          "WN",
          "WN",
          "WN",
          "WN",
          "WN",
          "WN",
          "WN",
          "WN",
          "WN",
          "WN",
          "WN",
          "ID",
          "ID",
          "ID",
          "ID",
          "ID",
          "ID",
          "ID",
          "ID",
          "ID",
          "ID",
          "ID",
          "ID",
          "ID",
          "ID",
          "ID",
          "ID",
          "ID",
          "ID",
          "ID",
          "ID",
          "ID",
          "ID",
          "ID",
          "ID",
          "ID",
          "ID",
          "ID",
          "IN",
          "IN",
          "IN",
          "IN",
          "IN",
          "IN",
          "IN",
          "IN",
          "IN",
          "IN",
          "IN",
          "IN",
          "IN",
          "IN",
          "IN",
          "IN",
          "IN",
          "IN",
          "IN",
          "IN",
          "IN",
          "IN",
          "IN",
          "IN",
          "IN",
          "IN",
          "IN",
          "SD",
          "SD",
          "SD",
          "SD",
          "SD",
          "SD",
          "SD",
          "SD",
          "SD",
          "SD",
          "SD",
          "SD",
          "SD",
          "SD",
          "SD",
          "SD",
          "SD",
          "SD",
          "SD",
          "SD",
          "SD",
          "SD",
          "SD",
          "SD",
          "SD",
          "SD",
          "SD",
          "SN",
          "SN",
          "SN",
          "SN",
          "SN",
          "SN",
          "SN",
          "SN",
          "SN",
          "SN",
          "SN",
          "SN",
          "SN",
          "SN",
          "SN",
          "SN",
          "SN",
          "SN",
          "SN",
          "SN",
          "SN",
          "SN",
          "SN",
          "SN",
          "SN",
          "SN",
          "SN",
          "WD",
          "WD",
          "WD",
          "WD",
          "WD",
          "WD",
          "WD",
          "WD",
          "WD",
          "WD",
          "WD",
          "WD",
          "WD",
          "WD",
          "WD",
          "WD",
          "WD",
          "WD",
          "WD",
          "WD",
          "WD",
          "WD",
          "WD",
          "WD",
          "WD",
          "WD",
          "WD",
          "WN",
          "WN",
          "WN",
          "WN",
          "WN",
          "WN",
          "WN",
          "WN",
          "WN",
          "WN",
          "WN",
          "WN",
          "WN",
          "WN",
          "WN",
          "WN",
          "WN",
          "WN",
          "WN",
          "WN",
          "WN",
          "WN",
          "WN",
          "WN",
          "WN",
          "WN",
          "WN",
          "ID",
          "ID",
          "ID",
          "ID",
          "ID",
          "ID",
          "ID",
          "ID",
          "ID",
          "ID",
          "ID",
          "ID",
          "ID",
          "ID",
          "ID",
          "ID",
          "ID",
          "ID",
          "ID",
          "ID",
          "ID",
          "ID",
          "ID",
          "ID",
          "ID",
          "ID",
          "ID",
          "IN",
          "IN",
          "IN",
          "IN",
          "IN",
          "IN",
          "IN",
          "IN",
          "IN",
          "IN",
          "IN",
          "IN",
          "IN",
          "IN",
          "IN",
          "IN",
          "IN",
          "IN",
          "IN",
          "IN",
          "IN",
          "IN",
          "IN",
          "IN",
          "IN",
          "IN",
          "IN",
          "SD",
          "SD",
          "SD",
          "SD",
          "SD",
          "SD",
          "SD",
          "SD",
          "SD",
          "SD",
          "SD",
          "SD",
          "SD",
          "SD",
          "SD",
          "SD",
          "SD",
          "SD",
          "SD",
          "SD",
          "SD",
          "SD",
          "SD",
          "SD",
          "SD",
          "SD",
          "SD",
          "SN",
          "SN",
          "SN",
          "SN",
          "SN",
          "SN",
          "SN",
          "SN",
          "SN",
          "SN",
          "SN",
          "SN",
          "SN",
          "SN",
          "SN",
          "SN",
          "SN",
          "SN",
          "SN",
          "SN",
          "SN",
          "SN",
          "SN",
          "SN",
          "SN",
          "SN",
          "SN",
          "WD",
          "WD",
          "WD",
          "WD",
          "WD",
          "WD",
          "WD",
          "WD",
          "WD",
          "WD",
          "WD",
          "WD",
          "WD",
          "WD",
          "WD",
          "WD",
          "WD",
          "WD",
          "WD",
          "WD",
          "WD",
          "WD",
          "WD",
          "WD",
          "WD",
          "WD",
          "WD",
          "WN",
          "WN",
          "WN",
          "WN",
          "WN",
          "WN",
          "WN",
          "WN",
          "WN",
          "WN",
          "WN",
          "WN",
          "WN",
          "WN",
          "WN",
          "WN",
          "WN",
          "WN",
          "WN",
          "WN",
          "WN",
          "WN",
          "WN",
          "WN",
          "WN",
          "WN",
          "WN",
          "ID",
          "ID",
          "ID",
          "ID",
          "ID",
          "ID",
          "ID",
          "ID",
          "ID",
          "ID",
          "ID",
          "ID",
          "ID",
          "ID",
          "ID",
          "ID",
          "ID",
          "ID",
          "ID",
          "ID",
          "ID",
          "ID",
          "ID",
          "ID",
          "ID",
          "ID",
          "ID",
          "IN",
          "IN",
          "IN",
          "IN",
          "IN",
          "IN",
          "IN",
          "IN",
          "IN",
          "IN",
          "IN",
          "IN",
          "IN",
          "IN",
          "IN",
          "IN",
          "IN",
          "IN",
          "IN",
          "IN",
          "IN",
          "IN",
          "IN",
          "IN",
          "IN",
          "IN",
          "IN",
          "SD",
          "SD",
          "SD",
          "SD",
          "SD",
          "SD",
          "SD",
          "SD",
          "SD",
          "SD",
          "SD",
          "SD",
          "SD",
          "SD",
          "SD",
          "SD",
          "SD",
          "SD",
          "SD",
          "SD",
          "SD",
          "SD",
          "SD",
          "SD",
          "SD",
          "SD",
          "SD",
          "SN",
          "SN",
          "SN",
          "SN",
          "SN",
          "SN",
          "SN",
          "SN",
          "SN",
          "SN",
          "SN",
          "SN",
          "SN",
          "SN",
          "SN",
          "SN",
          "SN",
          "SN",
          "SN",
          "SN",
          "SN",
          "SN",
          "SN",
          "SN",
          "SN",
          "SN",
          "SN",
          "WD",
          "WD",
          "WD",
          "WD",
          "WD",
          "WD",
          "WD",
          "WD",
          "WD",
          "WD",
          "WD",
          "WD",
          "WD",
          "WD",
          "WD",
          "WD",
          "WD",
          "WD",
          "WD",
          "WD",
          "WD",
          "WD",
          "WD",
          "WD",
          "WD",
          "WD",
          "WD",
          "WN",
          "WN",
          "WN",
          "WN",
          "WN",
          "WN",
          "WN",
          "WN",
          "WN",
          "WN",
          "WN",
          "WN",
          "WN",
          "WN",
          "WN",
          "WN",
          "WN",
          "WN",
          "WN",
          "WN",
          "WN",
          "WN",
          "WN",
          "WN",
          "WN",
          "WN",
          "WN",
          "ID",
          "ID",
          "ID",
          "ID",
          "ID",
          "ID",
          "ID",
          "ID",
          "ID",
          "ID",
          "ID",
          "ID",
          "ID",
          "ID",
          "ID",
          "ID",
          "ID",
          "ID",
          "ID",
          "ID",
          "ID",
          "ID",
          "ID",
          "ID",
          "ID",
          "ID",
          "ID",
          "IN",
          "IN",
          "IN",
          "IN",
          "IN",
          "IN",
          "IN",
          "IN",
          "IN",
          "IN",
          "IN",
          "IN",
          "IN",
          "IN",
          "IN",
          "IN",
          "IN",
          "IN",
          "IN",
          "IN",
          "IN",
          "IN",
          "IN",
          "IN",
          "IN",
          "IN",
          "IN",
          "SD",
          "SD",
          "SD",
          "SD",
          "SD",
          "SD",
          "SD",
          "SD",
          "SD",
          "SD",
          "SD",
          "SD",
          "SD",
          "SD",
          "SD",
          "SD",
          "SD",
          "SD",
          "SD",
          "SD",
          "SD",
          "SD",
          "SD",
          "SD",
          "SD",
          "SD",
          "SD",
          "SN",
          "SN",
          "SN",
          "SN",
          "SN",
          "SN",
          "SN",
          "SN",
          "SN",
          "SN",
          "SN",
          "SN",
          "SN",
          "SN",
          "SN",
          "SN",
          "SN",
          "SN",
          "SN",
          "SN",
          "SN",
          "SN",
          "SN",
          "SN",
          "SN",
          "SN",
          "SN",
          "WD",
          "WD",
          "WD",
          "WD",
          "WD",
          "WD",
          "WD",
          "WD",
          "WD",
          "WD",
          "WD",
          "WD",
          "WD",
          "WD",
          "WD",
          "WD",
          "WD",
          "WD",
          "WD",
          "WD",
          "WD",
          "WD",
          "WD",
          "WD",
          "WD",
          "WD",
          "WD",
          "WN",
          "WN",
          "WN",
          "WN",
          "WN",
          "WN",
          "WN",
          "WN",
          "WN",
          "WN",
          "WN",
          "WN",
          "WN",
          "WN",
          "WN",
          "WN",
          "WN",
          "WN",
          "WN",
          "WN",
          "WN",
          "WN",
          "WN",
          "WN",
          "WN",
          "WN",
          "WN",
          "ID",
          "ID",
          "ID",
          "ID",
          "ID",
          "ID",
          "ID",
          "ID",
          "ID",
          "ID",
          "ID",
          "ID",
          "ID",
          "ID",
          "ID",
          "ID",
          "ID",
          "ID",
          "ID",
          "ID",
          "ID",
          "ID",
          "ID",
          "ID",
          "ID",
          "ID",
          "ID",
          "IN",
          "IN",
          "IN",
          "IN",
          "IN",
          "IN",
          "IN",
          "IN",
          "IN",
          "IN",
          "IN",
          "IN",
          "IN",
          "IN",
          "IN",
          "IN",
          "IN",
          "IN",
          "IN",
          "IN",
          "IN",
          "IN",
          "IN",
          "IN",
          "IN",
          "IN",
          "IN",
          "SD",
          "SD",
          "SD",
          "SD",
          "SD",
          "SD",
          "SD",
          "SD",
          "SD",
          "SD",
          "SD",
          "SD",
          "SD",
          "SD",
          "SD",
          "SD",
          "SD",
          "SD",
          "SD",
          "SD",
          "SD",
          "SD",
          "SD",
          "SD",
          "SD",
          "SD",
          "SD",
          "SN",
          "SN",
          "SN",
          "SN",
          "SN",
          "SN",
          "SN",
          "SN",
          "SN",
          "SN",
          "SN",
          "SN",
          "SN",
          "SN",
          "SN",
          "SN",
          "SN",
          "SN",
          "SN",
          "SN",
          "SN",
          "SN",
          "SN",
          "SN",
          "SN",
          "SN",
          "SN",
          "WD",
          "WD",
          "WD",
          "WD",
          "WD",
          "WD",
          "WD",
          "WD",
          "WD",
          "WD",
          "WD",
          "WD",
          "WD",
          "WD",
          "WD",
          "WD",
          "WD",
          "WD",
          "WD",
          "WD",
          "WD",
          "WD",
          "WD",
          "WD",
          "WD",
          "WD",
          "WD",
          "WN",
          "WN",
          "WN",
          "WN",
          "WN",
          "WN",
          "WN",
          "WN",
          "WN",
          "WN",
          "WN",
          "WN",
          "WN",
          "WN",
          "WN",
          "WN",
          "WN",
          "WN",
          "WN",
          "WN",
          "WN",
          "WN",
          "WN",
          "WN",
          "WN",
          "WN",
          "WN"
         ],
         "categoryorder": "array",
         "domain": [
          0,
          1
         ],
         "title": {
          "text": "TIMESLICE"
         }
        },
        "yaxis": {
         "anchor": "x",
         "domain": [
          0,
          1
         ],
         "title": {
          "text": "Values"
         }
        }
       }
      }
     },
     "metadata": {},
     "output_type": "display_data"
    }
   ],
   "source": [
    "color_map = {\n",
    "    'CTMG': 'gray',\n",
    "    'CTOP': 'gray',\n",
    "    'CTEG': 'gray',\n",
    "    'CTAG': 'gray',\n",
    "    'CTCM': 'gray',\n",
    "    'CTDO': 'gray',\n",
    "    'CTLR': 'gray',\n",
    "    'CTAM': 'gray',\n",
    "    'CTNUE': 'gray',\n",
    "    'PV': 'yellow',\n",
    "    'EOLICA': 'blue',\n",
    "}\n",
    "\n",
    "data['TIMESLICE'] = data['TIMESLICE'].astype(str)\n",
    "# Create a stacked bar chart using Plotly\n",
    "fig = px.bar(data, x='TIMESLICE', y='value', color='TECHNOLOGY', animation_frame='YEAR',\n",
    "             labels={'value': 'Values'}, height=600,\n",
    "             category_orders={'TIMESLICE': data['TIMESLICE'], 'YEAR': data['YEAR']},\n",
    "             color_discrete_map=color_map)\n",
    "\n",
    "fig.update_layout(updatemenus=[dict(type='buttons', showactive=False, buttons=[dict(args=[None, dict(frame=dict(duration=500, redraw=True), fromcurrent=True)])])])\n",
    "\n",
    "# Show the interactive plot\n",
    "fig.show()"
   ]
  },
  {
   "cell_type": "code",
   "execution_count": null,
   "id": "7fbc089c",
   "metadata": {},
   "outputs": [],
   "source": []
  }
 ],
 "metadata": {
  "kernelspec": {
   "display_name": "Python 3 (ipykernel)",
   "language": "python",
   "name": "python3"
  },
  "language_info": {
   "codemirror_mode": {
    "name": "ipython",
    "version": 3
   },
   "file_extension": ".py",
   "mimetype": "text/x-python",
   "name": "python",
   "nbconvert_exporter": "python",
   "pygments_lexer": "ipython3",
   "version": "3.11.4"
  }
 },
 "nbformat": 4,
 "nbformat_minor": 5
}
